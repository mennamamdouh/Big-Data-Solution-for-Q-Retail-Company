{
 "cells": [
  {
   "cell_type": "code",
   "execution_count": 1,
   "id": "d93cd0c0-31c1-424c-aa74-d0f25f6de9b5",
   "metadata": {},
   "outputs": [],
   "source": [
    "from pyspark.sql.types import *\n",
    "from pyspark.sql import SparkSession"
   ]
  },
  {
   "cell_type": "code",
   "execution_count": 2,
   "id": "7aa527fd-c762-4516-9dcd-e335bf5b8a81",
   "metadata": {},
   "outputs": [],
   "source": [
    "spark = SparkSession\\\n",
    "    .builder\\\n",
    "    .master(\"local[4]\")\\\n",
    "    .appName(\"Streaming SQL\")\\\n",
    "    .config(\"spark.eventLog.logBlockUpdates.enabled\", True)\\\n",
    "    .getOrCreate()\n",
    "\n",
    "sc = spark.sparkContext"
   ]
  },
  {
   "cell_type": "code",
   "execution_count": 3,
   "id": "c579a5f3-59d9-4388-83cb-093b0725ab48",
   "metadata": {},
   "outputs": [],
   "source": [
    "df = spark.read.parquet(\"/stream/*\")"
   ]
  },
  {
   "cell_type": "code",
   "execution_count": 4,
   "id": "bd002f58-1a84-4d4c-8548-503717d730fd",
   "metadata": {},
   "outputs": [
    {
     "name": "stdout",
     "output_type": "stream",
     "text": [
      "+-------------------+----------+---------+-------------------+-------------------------+--------+-----------+-------------+--------------------+-----------------------+\n",
      "|eventType          |customerId|productId|timestamp          |metadata                 |quantity|totalAmount|paymentMethod|recommendedProductId|algorithm              |\n",
      "+-------------------+----------+---------+-------------------+-------------------------+--------+-----------+-------------+--------------------+-----------------------+\n",
      "|addToCart          |35107     |4271     |2024-07-06T17:34:40|{null, null}             |4       |null       |null         |null                |null                   |\n",
      "|recommendationClick|44729     |1504     |2024-07-06T17:34:43|{null, null}             |null    |null       |null         |2655                |content_based          |\n",
      "|recommendationClick|12662     |8457     |2024-07-06T17:34:44|{null, null}             |null    |null       |null         |1786                |collaborative_filtering|\n",
      "|productView        |96005     |9578     |2024-07-06T17:34:46|{Books, Direct}          |null    |null       |null         |null                |null                   |\n",
      "|recommendationClick|23152     |4703     |2024-07-06T17:34:51|{null, null}             |null    |null       |null         |6925                |collaborative_filtering|\n",
      "|productView        |94622     |9402     |2024-07-06T17:34:52|{Books, Direct}          |null    |null       |null         |null                |null                   |\n",
      "|purchase           |34676     |8056     |2024-07-06T17:36:55|{null, null}             |5       |416.42     |Credit Card  |null                |null                   |\n",
      "|purchase           |52738     |4336     |2024-07-06T17:36:57|{null, null}             |3       |246.65     |PayPal       |null                |null                   |\n",
      "|productView        |30464     |3852     |2024-07-06T17:36:58|{Electronics, Search}    |null    |null       |null         |null                |null                   |\n",
      "|addToCart          |47572     |2910     |2024-07-06T17:36:58|{null, null}             |3       |null       |null         |null                |null                   |\n",
      "|recommendationClick|73685     |7231     |2024-07-06T17:37:00|{null, null}             |null    |null       |null         |7704                |content_based          |\n",
      "|addToCart          |94816     |4639     |2024-07-06T17:37:02|{null, null}             |2       |null       |null         |null                |null                   |\n",
      "|recommendationClick|80770     |6485     |2024-07-06T17:37:04|{null, null}             |null    |null       |null         |4690                |content_based          |\n",
      "|addToCart          |17424     |5104     |2024-07-06T17:37:06|{null, null}             |3       |null       |null         |null                |null                   |\n",
      "|recommendationClick|15580     |8977     |2024-07-06T17:37:08|{null, null}             |null    |null       |null         |3517                |collaborative_filtering|\n",
      "|productView        |91062     |5456     |2024-07-06T17:37:08|{Books, Advertisement}   |null    |null       |null         |null                |null                   |\n",
      "|productView        |11584     |8311     |2024-07-06T17:37:09|{Clothing, Direct}       |null    |null       |null         |null                |null                   |\n",
      "|productView        |56473     |2075     |2024-07-06T17:37:16|{Books, Direct}          |null    |null       |null         |null                |null                   |\n",
      "|productView        |60499     |7292     |2024-07-06T17:41:55|{Clothing, Advertisement}|null    |null       |null         |null                |null                   |\n",
      "|purchase           |53029     |3298     |2024-07-06T17:41:57|{null, null}             |2       |264.74     |Credit Card  |null                |null                   |\n",
      "+-------------------+----------+---------+-------------------+-------------------------+--------+-----------+-------------+--------------------+-----------------------+\n",
      "only showing top 20 rows\n",
      "\n"
     ]
    }
   ],
   "source": [
    "df.show(truncate=False)"
   ]
  },
  {
   "cell_type": "code",
   "execution_count": 5,
   "id": "7f9734ae-561b-4546-8c17-d6df8fb2d86e",
   "metadata": {},
   "outputs": [],
   "source": [
    "df.registerTempTable(\"stream_data\")"
   ]
  },
  {
   "cell_type": "code",
   "execution_count": 6,
   "id": "a08c9be0-91a9-489e-b41c-0956278971f4",
   "metadata": {},
   "outputs": [
    {
     "name": "stdout",
     "output_type": "stream",
     "text": [
      "+-------------------+----------------+\n",
      "|          eventType|event_ooccurance|\n",
      "+-------------------+----------------+\n",
      "|          addToCart|             376|\n",
      "|           purchase|             365|\n",
      "|recommendationClick|             362|\n",
      "|        productView|             354|\n",
      "+-------------------+----------------+\n",
      "\n"
     ]
    }
   ],
   "source": [
    "# how often every event occur ?\n",
    "spark.sql(\"\"\"\n",
    "SELECT eventType, count(*) as event_ooccurance \n",
    "FROM stream_data\n",
    "GROUP BY 1\n",
    "ORDER BY 2 DESC\n",
    "\"\"\").show()"
   ]
  },
  {
   "cell_type": "code",
   "execution_count": 7,
   "id": "bb61213f-1ad7-407d-bb38-f447ead1d35b",
   "metadata": {},
   "outputs": [
    {
     "name": "stdout",
     "output_type": "stream",
     "text": [
      "+-------------+-----------------+\n",
      "|paymentMethod|method_ooccurance|\n",
      "+-------------+-----------------+\n",
      "|   Debit Card|              131|\n",
      "|       PayPal|              121|\n",
      "|  Credit Card|              113|\n",
      "+-------------+-----------------+\n",
      "\n"
     ]
    }
   ],
   "source": [
    "# what is most payment method used ?\n",
    "spark.sql(\"\"\"\n",
    "SELECT paymentMethod, count(*) as method_ooccurance \n",
    "FROM stream_data\n",
    "where paymentMethod is not null\n",
    "GROUP BY 1\n",
    "ORDER BY 2 DESC\n",
    "\"\"\").show()"
   ]
  },
  {
   "cell_type": "code",
   "execution_count": 8,
   "id": "f94df275-2df5-437f-ad35-89c133979440",
   "metadata": {},
   "outputs": [
    {
     "name": "stdout",
     "output_type": "stream",
     "text": [
      "+-------------+-------------------+\n",
      "|paymentMethod|method_total_amount|\n",
      "+-------------+-------------------+\n",
      "|   Debit Card|           33731.37|\n",
      "|       PayPal|           31757.23|\n",
      "|  Credit Card|            30137.9|\n",
      "+-------------+-------------------+\n",
      "\n"
     ]
    }
   ],
   "source": [
    "# what is the highest payment method in total Amount\n",
    "spark.sql(\"\"\"\n",
    "SELECT paymentMethod, round(sum(totalamount),2) as method_total_amount \n",
    "FROM stream_data\n",
    "where paymentMethod is not null\n",
    "GROUP BY 1\n",
    "ORDER BY 2 DESC\n",
    "\"\"\").show()"
   ]
  },
  {
   "cell_type": "code",
   "execution_count": 9,
   "id": "4478eb7d-a94f-46ce-aa46-517a05b98c4f",
   "metadata": {},
   "outputs": [
    {
     "name": "stdout",
     "output_type": "stream",
     "text": [
      "+----------+------+\n",
      "|customerId| spent|\n",
      "+----------+------+\n",
      "|     10006|497.79|\n",
      "|     77589|495.21|\n",
      "|     75980|492.53|\n",
      "|     80009|489.45|\n",
      "|     46932| 488.9|\n",
      "+----------+------+\n",
      "\n"
     ]
    }
   ],
   "source": [
    "# top 5 customer spending\n",
    "spark.sql(\"\"\"\n",
    "SELECT customerId, sum(totalAmount) as spent \n",
    "FROM stream_data\n",
    "GROUP BY 1\n",
    "ORDER BY 2 DESC\n",
    "limit 5\n",
    "\"\"\").show()"
   ]
  },
  {
   "cell_type": "code",
   "execution_count": 10,
   "id": "92770d18-cc30-4086-9eed-e8a68deb055c",
   "metadata": {},
   "outputs": [
    {
     "name": "stdout",
     "output_type": "stream",
     "text": [
      "+---------+-----------+\n",
      "|productId|total_spend|\n",
      "+---------+-----------+\n",
      "|     1149|     564.95|\n",
      "|     2020|     497.79|\n",
      "|     3152|     495.21|\n",
      "|     9392|     492.53|\n",
      "|     7187|     489.45|\n",
      "+---------+-----------+\n",
      "\n"
     ]
    }
   ],
   "source": [
    "# top 5 products in total Amount\n",
    "spark.sql(\"\"\"\n",
    "SELECT productId, sum(totalAmount) as total_spend \n",
    "FROM stream_data\n",
    "GROUP BY 1\n",
    "ORDER BY 2 DESC\n",
    "limit 5\n",
    "\"\"\").show()"
   ]
  },
  {
   "cell_type": "code",
   "execution_count": 11,
   "id": "2981072f-bd75-4cf7-8487-8fb25a5e2bcf",
   "metadata": {},
   "outputs": [
    {
     "name": "stdout",
     "output_type": "stream",
     "text": [
      "+---------+--------+---------+\n",
      "|productId|purchase|addToCart|\n",
      "+---------+--------+---------+\n",
      "|     6380|       1|        2|\n",
      "|     6806|       1|        1|\n",
      "|     9133|       1|        1|\n",
      "|     3952|       1|        1|\n",
      "|     1315|       1|        1|\n",
      "|     3748|       1|        1|\n",
      "|     1921|       1|        1|\n",
      "|     7235|       1|        1|\n",
      "|     2234|       1|        1|\n",
      "|     3815|       1|        1|\n",
      "|     6836|       1|        1|\n",
      "|     3275|       1|        1|\n",
      "|     7118|       1|        1|\n",
      "|     1150|       1|        1|\n",
      "|     7546|       1|        1|\n",
      "|     6665|       1|        1|\n",
      "+---------+--------+---------+\n",
      "\n"
     ]
    }
   ],
   "source": [
    "# compare the addToCart events with Purchase events\n",
    "result = spark.sql(\"\"\"\n",
    "SELECT distinct s.productId,  \n",
    "       purchase, \n",
    "       addToCart\n",
    "FROM (SELECT  productId, \n",
    "       COUNT(*) OVER (PARTITION BY productId) AS purchase\n",
    "    FROM stream_data\n",
    "    WHERE eventType = 'purchase'\n",
    ") AS s \n",
    "JOIN (\n",
    "    SELECT  productId, \n",
    "       COUNT(*) OVER (PARTITION BY productId) AS addToCart\n",
    "    FROM stream_data\n",
    "    WHERE eventType = 'addToCart'\n",
    "    \n",
    ") AS p \n",
    "ON s.productId = p.productId\n",
    "order by addtocart desc\n",
    "\"\"\").show()"
   ]
  },
  {
   "cell_type": "code",
   "execution_count": 12,
   "id": "2abb424c-3047-4e50-ac47-314c3743c8c6",
   "metadata": {},
   "outputs": [
    {
     "name": "stdout",
     "output_type": "stream",
     "text": [
      "+------------+\n",
      "|total_income|\n",
      "+------------+\n",
      "|     95626.5|\n",
      "+------------+\n",
      "\n"
     ]
    }
   ],
   "source": [
    "# total income from purchases\n",
    "spark.sql(\"\"\"\n",
    "SELECT round(sum(totalAmount),2) as total_income \n",
    "FROM stream_data\n",
    "where eventType = 'purchase'\n",
    "\"\"\").show()"
   ]
  },
  {
   "cell_type": "code",
   "execution_count": 13,
   "id": "f716b89f-071b-4ec8-98f9-12b4be40f083",
   "metadata": {},
   "outputs": [
    {
     "name": "stdout",
     "output_type": "stream",
     "text": [
      "+--------------+--------------+\n",
      "|      category|category_count|\n",
      "+--------------+--------------+\n",
      "|         Books|           102|\n",
      "|      Clothing|            89|\n",
      "|Home & Kitchen|            85|\n",
      "|   Electronics|            78|\n",
      "+--------------+--------------+\n",
      "\n"
     ]
    }
   ],
   "source": [
    "# cmparing products categories \n",
    "spark.sql(\"\"\"\n",
    "SELECT metadata.category, count(*) as category_count\n",
    "FROM stream_data\n",
    "where metadata.source is not null\n",
    "group by 1\n",
    "order by 2 desc\n",
    "\"\"\").show()"
   ]
  },
  {
   "cell_type": "code",
   "execution_count": 14,
   "id": "2e46bb24-89f5-4c31-ba4a-c0a7bf0d7ee7",
   "metadata": {},
   "outputs": [
    {
     "name": "stdout",
     "output_type": "stream",
     "text": [
      "+-------------+------------+\n",
      "|       source|source_count|\n",
      "+-------------+------------+\n",
      "|       Direct|         123|\n",
      "|Advertisement|         121|\n",
      "|       Search|         110|\n",
      "+-------------+------------+\n",
      "\n"
     ]
    }
   ],
   "source": [
    "# comparing products sources\n",
    "spark.sql(\"\"\"\n",
    "SELECT metadata.source, count(*) as source_count\n",
    "FROM stream_data\n",
    "where metadata.source is not null\n",
    "group by 1\n",
    "order by 2 desc\n",
    "\"\"\").show()"
   ]
  },
  {
   "cell_type": "code",
   "execution_count": 16,
   "id": "d0a2bcb1-a1b4-4f83-aecb-f175e8aa1119",
   "metadata": {},
   "outputs": [],
   "source": [
    "spark.stop()"
   ]
  }
 ],
 "metadata": {
  "kernelspec": {
   "display_name": "Pyspark 3",
   "language": "python",
   "name": "pyspark3"
  },
  "language_info": {
   "codemirror_mode": {
    "name": "ipython",
    "version": 3
   },
   "file_extension": ".py",
   "mimetype": "text/x-python",
   "name": "python",
   "nbconvert_exporter": "python",
   "pygments_lexer": "ipython3",
   "version": "3.6.9"
  }
 },
 "nbformat": 4,
 "nbformat_minor": 5
}
