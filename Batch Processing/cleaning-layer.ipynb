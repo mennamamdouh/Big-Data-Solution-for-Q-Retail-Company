{
 "cells": [
  {
   "cell_type": "markdown",
   "id": "22a48cad-137c-480b-b89d-2f44837a06e8",
   "metadata": {
    "papermill": {
     "duration": 0.063029,
     "end_time": "2024-07-08T00:50:04.092633",
     "exception": false,
     "start_time": "2024-07-08T00:50:04.029604",
     "status": "completed"
    },
    "tags": []
   },
   "source": [
    "# Environment Preparation\n",
    "---"
   ]
  },
  {
   "cell_type": "markdown",
   "id": "91c3565d-9a05-4ad1-a57e-bf496756f111",
   "metadata": {
    "papermill": {
     "duration": 0.056928,
     "end_time": "2024-07-08T00:50:04.207564",
     "exception": false,
     "start_time": "2024-07-08T00:50:04.150636",
     "status": "completed"
    },
    "tags": []
   },
   "source": [
    "### Importing the required libraries"
   ]
  },
  {
   "cell_type": "code",
   "execution_count": 1,
   "id": "3f91b161-bf38-431b-b2e7-9ef99ee868b4",
   "metadata": {
    "execution": {
     "iopub.execute_input": "2024-07-08T00:50:04.332588Z",
     "iopub.status.busy": "2024-07-08T00:50:04.331896Z",
     "iopub.status.idle": "2024-07-08T00:50:04.725023Z",
     "shell.execute_reply": "2024-07-08T00:50:04.724346Z"
    },
    "papermill": {
     "duration": 0.461808,
     "end_time": "2024-07-08T00:50:04.725206",
     "exception": false,
     "start_time": "2024-07-08T00:50:04.263398",
     "status": "completed"
    },
    "tags": []
   },
   "outputs": [],
   "source": [
    "import re, os\n",
    "from pyspark.sql.types import *\n",
    "import pyspark.sql.functions as sf\n",
    "from pyspark.sql import SparkSession\n",
    "import logging\n",
    "from datetime import date, datetime"
   ]
  },
  {
   "cell_type": "markdown",
   "id": "76d5d535-5864-4baa-a6ed-e06ebd426038",
   "metadata": {
    "papermill": {
     "duration": 0.055671,
     "end_time": "2024-07-08T00:50:04.839349",
     "exception": false,
     "start_time": "2024-07-08T00:50:04.783678",
     "status": "completed"
    },
    "tags": []
   },
   "source": [
    "### Setup the loggers"
   ]
  },
  {
   "cell_type": "code",
   "execution_count": 2,
   "id": "cd3f540a-5ca6-4077-9cfc-7159161b1ed8",
   "metadata": {
    "execution": {
     "iopub.execute_input": "2024-07-08T00:50:04.956318Z",
     "iopub.status.busy": "2024-07-08T00:50:04.955620Z",
     "iopub.status.idle": "2024-07-08T00:50:04.959170Z",
     "shell.execute_reply": "2024-07-08T00:50:04.958506Z"
    },
    "papermill": {
     "duration": 0.064084,
     "end_time": "2024-07-08T00:50:04.959342",
     "exception": false,
     "start_time": "2024-07-08T00:50:04.895258",
     "status": "completed"
    },
    "tags": []
   },
   "outputs": [],
   "source": [
    "# Separate pyspark loggers\n",
    "pyspark_log = logging.getLogger('pyspark').setLevel(logging.ERROR)\n",
    "py4j_logger = logging.getLogger(\"py4j\").setLevel(logging.ERROR)"
   ]
  },
  {
   "cell_type": "code",
   "execution_count": 3,
   "id": "1062e462-0181-48f7-9905-3a9d9188fba1",
   "metadata": {
    "execution": {
     "iopub.execute_input": "2024-07-08T00:50:05.080348Z",
     "iopub.status.busy": "2024-07-08T00:50:05.079685Z",
     "iopub.status.idle": "2024-07-08T00:50:05.084418Z",
     "shell.execute_reply": "2024-07-08T00:50:05.084954Z"
    },
    "papermill": {
     "duration": 0.069421,
     "end_time": "2024-07-08T00:50:05.085104",
     "exception": false,
     "start_time": "2024-07-08T00:50:05.015683",
     "status": "completed"
    },
    "tags": []
   },
   "outputs": [],
   "source": [
    "# First logger for logging the spark job\n",
    "spark_logger = logging.getLogger('SparkJobs')\n",
    "today_date = date.today().isoformat()\n",
    "logger_file_name = f'Logs/SparkLogs/SparkJobsLogs-{today_date}.log'\n",
    "fh1 = logging.FileHandler(logger_file_name)\n",
    "fh1.setLevel(logging.DEBUG)\n",
    "fh1.setFormatter(logging.Formatter('%(asctime)s - %(message)s', datefmt='%d-%b-%y %H:%M:%S'))\n",
    "spark_logger.addHandler(fh1)"
   ]
  },
  {
   "cell_type": "code",
   "execution_count": 4,
   "id": "ac290a3f-0f05-440c-abb0-9622fedc5cc9",
   "metadata": {
    "execution": {
     "iopub.execute_input": "2024-07-08T00:50:05.203296Z",
     "iopub.status.busy": "2024-07-08T00:50:05.202576Z",
     "iopub.status.idle": "2024-07-08T00:50:05.211085Z",
     "shell.execute_reply": "2024-07-08T00:50:05.211519Z"
    },
    "papermill": {
     "duration": 0.07059,
     "end_time": "2024-07-08T00:50:05.211666",
     "exception": false,
     "start_time": "2024-07-08T00:50:05.141076",
     "status": "completed"
    },
    "tags": []
   },
   "outputs": [],
   "source": [
    "# Second logger for reporting some information about the files\n",
    "data_logger = logging.getLogger('DataLogs')\n",
    "current_time = datetime.now()\n",
    "if not os.path.exists(f'Logs/DataLogs/{today_date}'):\n",
    "    os.makedirs(f'Logs/DataLogs/{today_date}')\n",
    "data_logs_file_name = f'Logs/DataLogs/{today_date}/DataInfo-H-{current_time.hour}.log'\n",
    "fh2 = logging.FileHandler(data_logs_file_name)\n",
    "fh2.setLevel(logging.DEBUG)\n",
    "fh2.setFormatter(logging.Formatter('%(message)s'))\n",
    "data_logger.addHandler(fh2)"
   ]
  },
  {
   "cell_type": "markdown",
   "id": "c9d0f207-d710-4d2f-9f51-ba0683166466",
   "metadata": {
    "papermill": {
     "duration": 0.057202,
     "end_time": "2024-07-08T00:50:05.325526",
     "exception": false,
     "start_time": "2024-07-08T00:50:05.268324",
     "status": "completed"
    },
    "tags": []
   },
   "source": [
    "### Start Spark Session"
   ]
  },
  {
   "cell_type": "code",
   "execution_count": 5,
   "id": "d87a3ff2-3681-435a-a14f-7813eee62e78",
   "metadata": {
    "execution": {
     "iopub.execute_input": "2024-07-08T00:50:05.444510Z",
     "iopub.status.busy": "2024-07-08T00:50:05.443880Z",
     "iopub.status.idle": "2024-07-08T00:50:29.651855Z",
     "shell.execute_reply": "2024-07-08T00:50:29.650986Z"
    },
    "papermill": {
     "duration": 24.269583,
     "end_time": "2024-07-08T00:50:29.652027",
     "exception": false,
     "start_time": "2024-07-08T00:50:05.382444",
     "status": "completed"
    },
    "tags": []
   },
   "outputs": [],
   "source": [
    "spark_logger.info('Starting Spark Session ...')\n",
    "spark = SparkSession\\\n",
    "    .builder\\\n",
    "    .master(\"local[4]\")\\\n",
    "    .appName(\"CleaningData\")\\\n",
    "    .config(\"spark.eventLog.logBlockUpdates.enabled\", True)\\\n",
    "    .getOrCreate()\n",
    "\n",
    "sc = spark.sparkContext\n",
    "spark_logger.info('Spark Session Started')"
   ]
  },
  {
   "cell_type": "markdown",
   "id": "89dbb0ff-72cf-41ce-9ee4-86ee31160d11",
   "metadata": {
    "papermill": {
     "duration": 0.059694,
     "end_time": "2024-07-08T00:50:29.806762",
     "exception": false,
     "start_time": "2024-07-08T00:50:29.747068",
     "status": "completed"
    },
    "tags": []
   },
   "source": [
    "---"
   ]
  },
  {
   "cell_type": "markdown",
   "id": "967adfe8-3cfe-4d4f-ab27-e09ebdbb963d",
   "metadata": {
    "papermill": {
     "duration": 0.062605,
     "end_time": "2024-07-08T00:50:29.929181",
     "exception": false,
     "start_time": "2024-07-08T00:50:29.866576",
     "status": "completed"
    },
    "tags": []
   },
   "source": [
    "# General Purpose Functions for Cleaning\n",
    "---"
   ]
  },
  {
   "cell_type": "markdown",
   "id": "b66f819b-606e-4376-ab9a-8ba8ffc8487a",
   "metadata": {
    "papermill": {
     "duration": 0.058933,
     "end_time": "2024-07-08T00:50:30.051001",
     "exception": false,
     "start_time": "2024-07-08T00:50:29.992068",
     "status": "completed"
    },
    "tags": []
   },
   "source": [
    "### Trimming String Columns"
   ]
  },
  {
   "cell_type": "code",
   "execution_count": 6,
   "id": "f8e58fb3-97c7-4c78-b517-0dfc43163bc0",
   "metadata": {
    "execution": {
     "iopub.execute_input": "2024-07-08T00:50:30.177074Z",
     "iopub.status.busy": "2024-07-08T00:50:30.176373Z",
     "iopub.status.idle": "2024-07-08T00:50:30.188519Z",
     "shell.execute_reply": "2024-07-08T00:50:30.187707Z"
    },
    "papermill": {
     "duration": 0.079407,
     "end_time": "2024-07-08T00:50:30.188682",
     "exception": false,
     "start_time": "2024-07-08T00:50:30.109275",
     "status": "completed"
    },
    "tags": []
   },
   "outputs": [],
   "source": [
    "# This function extracts the string columns and trims them, then returns the dataframe after trimming its string columns\n",
    "def trim_columns(dataframe):\n",
    "    columns = [column for column, dtype in dataframe.dtypes if dtype.startswith('string')]\n",
    "    for column in columns:\n",
    "        dataframe = dataframe.withColumn(column, sf.trim(sf.col(column)))\n",
    "    return dataframe"
   ]
  },
  {
   "cell_type": "markdown",
   "id": "9c2cef21-297a-4ec0-a479-459166b6d95f",
   "metadata": {
    "papermill": {
     "duration": 0.056352,
     "end_time": "2024-07-08T00:50:30.301771",
     "exception": false,
     "start_time": "2024-07-08T00:50:30.245419",
     "status": "completed"
    },
    "tags": []
   },
   "source": [
    "### Information about the dataframe"
   ]
  },
  {
   "cell_type": "code",
   "execution_count": 7,
   "id": "6098a41f-66c0-4921-a172-5e99c63d2ab6",
   "metadata": {
    "execution": {
     "iopub.execute_input": "2024-07-08T00:50:30.453060Z",
     "iopub.status.busy": "2024-07-08T00:50:30.452332Z",
     "iopub.status.idle": "2024-07-08T00:50:30.456113Z",
     "shell.execute_reply": "2024-07-08T00:50:30.455466Z"
    },
    "papermill": {
     "duration": 0.067889,
     "end_time": "2024-07-08T00:50:30.456228",
     "exception": false,
     "start_time": "2024-07-08T00:50:30.388339",
     "status": "completed"
    },
    "tags": []
   },
   "outputs": [],
   "source": [
    "# This function takes a dataframe and a list of columns to check if there's duplicates or not,\n",
    "# then returns the number of records of this dataframe and if there're duplicates according to the passed columns\n",
    "def get_number_of_records(dataframe, duplicate_columns):\n",
    "    number_of_records = dataframe.count()\n",
    "    number_of_duplicates = number_of_records - dataframe.dropDuplicates(duplicate_columns).count()\n",
    "    return [number_of_records, number_of_duplicates]"
   ]
  },
  {
   "cell_type": "markdown",
   "id": "055470e4-0739-4c33-b4b1-5e2630dbd8ef",
   "metadata": {
    "papermill": {
     "duration": 0.057716,
     "end_time": "2024-07-08T00:50:30.573989",
     "exception": false,
     "start_time": "2024-07-08T00:50:30.516273",
     "status": "completed"
    },
    "tags": []
   },
   "source": [
    "### Information about the dataframe's columns"
   ]
  },
  {
   "cell_type": "code",
   "execution_count": 8,
   "id": "fdab36ae-6fc0-47be-9908-be227ad0f0fc",
   "metadata": {
    "execution": {
     "iopub.execute_input": "2024-07-08T00:50:30.692211Z",
     "iopub.status.busy": "2024-07-08T00:50:30.691468Z",
     "iopub.status.idle": "2024-07-08T00:50:30.694541Z",
     "shell.execute_reply": "2024-07-08T00:50:30.694022Z"
    },
    "papermill": {
     "duration": 0.06313,
     "end_time": "2024-07-08T00:50:30.694693",
     "exception": false,
     "start_time": "2024-07-08T00:50:30.631563",
     "status": "completed"
    },
    "tags": []
   },
   "outputs": [],
   "source": [
    "# This function takes a dataframe which contains only one column, and returns its datatype, number of unique values, number of actual values, \n",
    "def get_columns_info(dataframe):\n",
    "    return dataframe.dtypes"
   ]
  },
  {
   "cell_type": "markdown",
   "id": "022deac9-7e9b-411b-98c4-16a82c98c69a",
   "metadata": {
    "papermill": {
     "duration": 0.058486,
     "end_time": "2024-07-08T00:50:30.811328",
     "exception": false,
     "start_time": "2024-07-08T00:50:30.752842",
     "status": "completed"
    },
    "tags": []
   },
   "source": [
    "---"
   ]
  },
  {
   "cell_type": "markdown",
   "id": "b3657195-4f5e-495b-b0c6-5bf8631919e1",
   "metadata": {
    "papermill": {
     "duration": 0.055971,
     "end_time": "2024-07-08T00:50:30.927435",
     "exception": false,
     "start_time": "2024-07-08T00:50:30.871464",
     "status": "completed"
    },
    "tags": []
   },
   "source": [
    "# Files Pre-Processing"
   ]
  },
  {
   "cell_type": "code",
   "execution_count": 9,
   "id": "d27436ba-f0b7-4b0e-be3a-529312dac683",
   "metadata": {
    "execution": {
     "iopub.execute_input": "2024-07-08T00:50:31.049393Z",
     "iopub.status.busy": "2024-07-08T00:50:31.048462Z",
     "iopub.status.idle": "2024-07-08T00:50:31.051949Z",
     "shell.execute_reply": "2024-07-08T00:50:31.051072Z"
    },
    "papermill": {
     "duration": 0.067222,
     "end_time": "2024-07-08T00:50:31.052102",
     "exception": false,
     "start_time": "2024-07-08T00:50:30.984880",
     "status": "completed"
    },
    "tags": []
   },
   "outputs": [],
   "source": [
    "spark_logger.info(f'Batch in Hour: {current_time.hour}')"
   ]
  },
  {
   "cell_type": "code",
   "execution_count": 10,
   "id": "77c015da-e23e-431c-8492-c43183a0e825",
   "metadata": {
    "execution": {
     "iopub.execute_input": "2024-07-08T00:50:31.170227Z",
     "iopub.status.busy": "2024-07-08T00:50:31.169636Z",
     "iopub.status.idle": "2024-07-08T00:50:31.173207Z",
     "shell.execute_reply": "2024-07-08T00:50:31.172616Z"
    },
    "papermill": {
     "duration": 0.064009,
     "end_time": "2024-07-08T00:50:31.173329",
     "exception": false,
     "start_time": "2024-07-08T00:50:31.109320",
     "status": "completed"
    },
    "tags": []
   },
   "outputs": [],
   "source": [
    "spark_logger.info('Starting reading files...\\n')"
   ]
  },
  {
   "cell_type": "code",
   "execution_count": 11,
   "id": "57db0fbd-2e9f-4ac3-8c0b-2dd75859e78f",
   "metadata": {
    "execution": {
     "iopub.execute_input": "2024-07-08T00:50:31.293125Z",
     "iopub.status.busy": "2024-07-08T00:50:31.292447Z",
     "iopub.status.idle": "2024-07-08T00:50:31.296131Z",
     "shell.execute_reply": "2024-07-08T00:50:31.295641Z"
    },
    "papermill": {
     "duration": 0.065432,
     "end_time": "2024-07-08T00:50:31.296262",
     "exception": false,
     "start_time": "2024-07-08T00:50:31.230830",
     "status": "completed"
    },
    "tags": []
   },
   "outputs": [],
   "source": [
    "data_logger.info('Hi .. Here\\'s some information about our batch !\\n')"
   ]
  },
  {
   "cell_type": "code",
   "execution_count": 12,
   "id": "b27bffa7-6147-4725-bcfd-858bff465e0a",
   "metadata": {
    "execution": {
     "iopub.execute_input": "2024-07-08T00:50:31.418478Z",
     "iopub.status.busy": "2024-07-08T00:50:31.417632Z",
     "iopub.status.idle": "2024-07-08T00:50:31.420691Z",
     "shell.execute_reply": "2024-07-08T00:50:31.421245Z"
    },
    "papermill": {
     "duration": 0.067451,
     "end_time": "2024-07-08T00:50:31.421427",
     "exception": false,
     "start_time": "2024-07-08T00:50:31.353976",
     "status": "completed"
    },
    "tags": []
   },
   "outputs": [],
   "source": [
    "# Define the directory of the files, depending on the date and batch's hour\n",
    "files_directory_path = f'/user/itversity/q-retail-company/bronze/{today_date}/hour-{current_time.hour}'\n",
    "\n",
    "# Define the sliver layer directory\n",
    "silver_layer_directory_path = f'/user/itversity/q-retail-company/silver/{today_date}/hour-{current_time.hour}'"
   ]
  },
  {
   "cell_type": "markdown",
   "id": "59dad7cf-8ae1-4e5b-92f4-a6aefdaa4b21",
   "metadata": {
    "papermill": {
     "duration": 0.057494,
     "end_time": "2024-07-08T00:50:31.536954",
     "exception": false,
     "start_time": "2024-07-08T00:50:31.479460",
     "status": "completed"
    },
    "tags": []
   },
   "source": [
    "## Branches Files Processing\n",
    "---"
   ]
  },
  {
   "cell_type": "code",
   "execution_count": 13,
   "id": "244fa7f4-dfa5-4d2e-9cd5-7fc35d959417",
   "metadata": {
    "execution": {
     "iopub.execute_input": "2024-07-08T00:50:31.657511Z",
     "iopub.status.busy": "2024-07-08T00:50:31.656824Z",
     "iopub.status.idle": "2024-07-08T00:50:31.660159Z",
     "shell.execute_reply": "2024-07-08T00:50:31.660876Z"
    },
    "papermill": {
     "duration": 0.065924,
     "end_time": "2024-07-08T00:50:31.661098",
     "exception": false,
     "start_time": "2024-07-08T00:50:31.595174",
     "status": "completed"
    },
    "tags": []
   },
   "outputs": [],
   "source": [
    "spark_logger.info('Processing Branches File...')"
   ]
  },
  {
   "cell_type": "code",
   "execution_count": 14,
   "id": "a2e3c74f-1d4a-4ad6-afa1-18739416eaa2",
   "metadata": {
    "execution": {
     "iopub.execute_input": "2024-07-08T00:50:31.782043Z",
     "iopub.status.busy": "2024-07-08T00:50:31.781383Z",
     "iopub.status.idle": "2024-07-08T00:50:31.784925Z",
     "shell.execute_reply": "2024-07-08T00:50:31.784347Z"
    },
    "papermill": {
     "duration": 0.066502,
     "end_time": "2024-07-08T00:50:31.785062",
     "exception": false,
     "start_time": "2024-07-08T00:50:31.718560",
     "status": "completed"
    },
    "tags": []
   },
   "outputs": [],
   "source": [
    "data_logger.info('Branches File:\\n-------------')"
   ]
  },
  {
   "cell_type": "markdown",
   "id": "0c339f2d-3a87-4ae9-aa8d-8f7103700f57",
   "metadata": {
    "papermill": {
     "duration": 0.057887,
     "end_time": "2024-07-08T00:50:31.902007",
     "exception": false,
     "start_time": "2024-07-08T00:50:31.844120",
     "status": "completed"
    },
    "tags": []
   },
   "source": [
    "### Schema Handling"
   ]
  },
  {
   "cell_type": "code",
   "execution_count": 15,
   "id": "3765e0bf-2d96-4a46-a8a0-679ec62c7a7a",
   "metadata": {
    "execution": {
     "iopub.execute_input": "2024-07-08T00:50:32.025119Z",
     "iopub.status.busy": "2024-07-08T00:50:32.024158Z",
     "iopub.status.idle": "2024-07-08T00:50:32.027265Z",
     "shell.execute_reply": "2024-07-08T00:50:32.026734Z"
    },
    "papermill": {
     "duration": 0.067334,
     "end_time": "2024-07-08T00:50:32.027400",
     "exception": false,
     "start_time": "2024-07-08T00:50:31.960066",
     "status": "completed"
    },
    "tags": []
   },
   "outputs": [],
   "source": [
    "BranchesSchema = StructType([\n",
    "    StructField(\"branch_id\", IntegerType(), nullable=False),\n",
    "    StructField(\"location\", StringType(), nullable=False),\n",
    "    StructField(\"establish_date\", DateType(), nullable=False),\n",
    "    StructField(\"class\", StringType(), nullable=False)\n",
    "])"
   ]
  },
  {
   "cell_type": "code",
   "execution_count": 16,
   "id": "34dc21a1-db51-406d-afd4-6c319f684159",
   "metadata": {
    "execution": {
     "iopub.execute_input": "2024-07-08T00:50:32.147559Z",
     "iopub.status.busy": "2024-07-08T00:50:32.146967Z",
     "iopub.status.idle": "2024-07-08T00:50:32.149844Z",
     "shell.execute_reply": "2024-07-08T00:50:32.150313Z"
    },
    "papermill": {
     "duration": 0.064853,
     "end_time": "2024-07-08T00:50:32.150463",
     "exception": false,
     "start_time": "2024-07-08T00:50:32.085610",
     "status": "completed"
    },
    "tags": []
   },
   "outputs": [],
   "source": [
    "spark_logger.info('DONE : Schema Handling')"
   ]
  },
  {
   "cell_type": "markdown",
   "id": "18a6df24-fd31-436a-82b4-425d209d8d2b",
   "metadata": {
    "papermill": {
     "duration": 0.056907,
     "end_time": "2024-07-08T00:50:32.265226",
     "exception": false,
     "start_time": "2024-07-08T00:50:32.208319",
     "status": "completed"
    },
    "tags": []
   },
   "source": [
    "### Reading the file"
   ]
  },
  {
   "cell_type": "code",
   "execution_count": 17,
   "id": "b7e3ebc7-3738-4e17-a16b-d97b43f0572d",
   "metadata": {
    "execution": {
     "iopub.execute_input": "2024-07-08T00:50:32.388614Z",
     "iopub.status.busy": "2024-07-08T00:50:32.387725Z",
     "iopub.status.idle": "2024-07-08T00:50:35.727126Z",
     "shell.execute_reply": "2024-07-08T00:50:35.726659Z"
    },
    "papermill": {
     "duration": 3.404223,
     "end_time": "2024-07-08T00:50:35.727240",
     "exception": false,
     "start_time": "2024-07-08T00:50:32.323017",
     "status": "completed"
    },
    "tags": []
   },
   "outputs": [
    {
     "name": "stdout",
     "output_type": "stream",
     "text": [
      "+---------+-----------+--------------+-----+\n",
      "|branch_id|   location|establish_date|class|\n",
      "+---------+-----------+--------------+-----+\n",
      "|        1|   New York|    2017-01-15|    A|\n",
      "|        2|Los Angeles|    2016-07-28|    B|\n",
      "|        3|    Chicago|    2015-03-10|    A|\n",
      "|        4|    Houston|    2016-11-05|    D|\n",
      "|        5|    Phoenix|    2017-09-20|    C|\n",
      "+---------+-----------+--------------+-----+\n",
      "\n"
     ]
    }
   ],
   "source": [
    "branches = spark.read.csv(fr'{files_directory_path}/branches_*', header=True, schema=BranchesSchema)\n",
    "branches.show(5)"
   ]
  },
  {
   "cell_type": "code",
   "execution_count": 18,
   "id": "f8235e5d-54cc-419a-bb73-3d3046364c7e",
   "metadata": {
    "execution": {
     "iopub.execute_input": "2024-07-08T00:50:35.851480Z",
     "iopub.status.busy": "2024-07-08T00:50:35.850835Z",
     "iopub.status.idle": "2024-07-08T00:50:37.502649Z",
     "shell.execute_reply": "2024-07-08T00:50:37.503541Z"
    },
    "papermill": {
     "duration": 1.717266,
     "end_time": "2024-07-08T00:50:37.503790",
     "exception": false,
     "start_time": "2024-07-08T00:50:35.786524",
     "status": "completed"
    },
    "tags": []
   },
   "outputs": [],
   "source": [
    "branches_info = get_number_of_records(branches, ['location', 'establish_date', 'class'])\n",
    "number_of_records = branches_info[0]\n",
    "number_of_duplicates = branches_info[1]\n",
    "data_logger.info(f'Number of records = {number_of_records}\\nNumber of duplicates = {number_of_duplicates}\\n')"
   ]
  },
  {
   "cell_type": "code",
   "execution_count": 19,
   "id": "55a03f0e-40a2-4030-b89a-f23cee369a33",
   "metadata": {
    "execution": {
     "iopub.execute_input": "2024-07-08T00:50:37.673893Z",
     "iopub.status.busy": "2024-07-08T00:50:37.672949Z",
     "iopub.status.idle": "2024-07-08T00:50:40.392810Z",
     "shell.execute_reply": "2024-07-08T00:50:40.393379Z"
    },
    "papermill": {
     "duration": 2.793161,
     "end_time": "2024-07-08T00:50:40.393530",
     "exception": false,
     "start_time": "2024-07-08T00:50:37.600369",
     "status": "completed"
    },
    "tags": []
   },
   "outputs": [],
   "source": [
    "data_logger.info('Columns:')\n",
    "counter = 1\n",
    "for column, dtype in get_columns_info(branches):\n",
    "    number_of_unique_values = branches.select(f'{column}').distinct().count()\n",
    "    data_logger.info(f'Column {counter}: {column} - Data Type: {dtype} - Number of Unique Values: {number_of_unique_values}')\n",
    "    counter += 1\n",
    "    \n",
    "data_logger.info('\\n')"
   ]
  },
  {
   "cell_type": "code",
   "execution_count": 20,
   "id": "96d6070e-ebe0-4955-a4f8-fdca7a5276e0",
   "metadata": {
    "execution": {
     "iopub.execute_input": "2024-07-08T00:50:40.522657Z",
     "iopub.status.busy": "2024-07-08T00:50:40.522050Z",
     "iopub.status.idle": "2024-07-08T00:50:40.526315Z",
     "shell.execute_reply": "2024-07-08T00:50:40.525601Z"
    },
    "papermill": {
     "duration": 0.069912,
     "end_time": "2024-07-08T00:50:40.526510",
     "exception": false,
     "start_time": "2024-07-08T00:50:40.456598",
     "status": "completed"
    },
    "tags": []
   },
   "outputs": [],
   "source": [
    "spark_logger.info('DONE : Reading Branches File')"
   ]
  },
  {
   "cell_type": "markdown",
   "id": "e917f162-bb1d-49a2-ae39-bc54cefc3ca7",
   "metadata": {
    "papermill": {
     "duration": 0.057368,
     "end_time": "2024-07-08T00:50:40.647786",
     "exception": false,
     "start_time": "2024-07-08T00:50:40.590418",
     "status": "completed"
    },
    "tags": []
   },
   "source": [
    "### Cleaning Process"
   ]
  },
  {
   "cell_type": "code",
   "execution_count": 21,
   "id": "40636365-ed52-4020-ac3f-e2891224213d",
   "metadata": {
    "execution": {
     "iopub.execute_input": "2024-07-08T00:50:40.771242Z",
     "iopub.status.busy": "2024-07-08T00:50:40.770314Z",
     "iopub.status.idle": "2024-07-08T00:50:40.878791Z",
     "shell.execute_reply": "2024-07-08T00:50:40.879256Z"
    },
    "papermill": {
     "duration": 0.172704,
     "end_time": "2024-07-08T00:50:40.879404",
     "exception": false,
     "start_time": "2024-07-08T00:50:40.706700",
     "status": "completed"
    },
    "tags": []
   },
   "outputs": [
    {
     "name": "stdout",
     "output_type": "stream",
     "text": [
      "+---------+-----------+--------------+-----+\n",
      "|branch_id|   location|establish_date|class|\n",
      "+---------+-----------+--------------+-----+\n",
      "|        1|   New York|    2017-01-15|    A|\n",
      "|        2|Los Angeles|    2016-07-28|    B|\n",
      "|        3|    Chicago|    2015-03-10|    A|\n",
      "|        4|    Houston|    2016-11-05|    D|\n",
      "|        5|    Phoenix|    2017-09-20|    C|\n",
      "+---------+-----------+--------------+-----+\n",
      "\n"
     ]
    }
   ],
   "source": [
    "# Trim Branches data (for String columns only)\n",
    "branches_cleaned = trim_columns(branches)\n",
    "branches_cleaned.show(5)"
   ]
  },
  {
   "cell_type": "code",
   "execution_count": 22,
   "id": "e61bb3b6-5363-462a-a64e-fd03f600f69a",
   "metadata": {
    "execution": {
     "iopub.execute_input": "2024-07-08T00:50:41.012225Z",
     "iopub.status.busy": "2024-07-08T00:50:41.011572Z",
     "iopub.status.idle": "2024-07-08T00:50:41.015742Z",
     "shell.execute_reply": "2024-07-08T00:50:41.015100Z"
    },
    "papermill": {
     "duration": 0.070463,
     "end_time": "2024-07-08T00:50:41.015872",
     "exception": false,
     "start_time": "2024-07-08T00:50:40.945409",
     "status": "completed"
    },
    "tags": []
   },
   "outputs": [],
   "source": [
    "spark_logger.info('DONE : Trmming String Columns')"
   ]
  },
  {
   "cell_type": "code",
   "execution_count": 23,
   "id": "d8437524-7bf1-4d86-b870-efaf2cec8252",
   "metadata": {
    "execution": {
     "iopub.execute_input": "2024-07-08T00:50:41.145799Z",
     "iopub.status.busy": "2024-07-08T00:50:41.145164Z",
     "iopub.status.idle": "2024-07-08T00:50:41.147998Z",
     "shell.execute_reply": "2024-07-08T00:50:41.148497Z"
    },
    "papermill": {
     "duration": 0.07105,
     "end_time": "2024-07-08T00:50:41.148663",
     "exception": false,
     "start_time": "2024-07-08T00:50:41.077613",
     "status": "completed"
    },
    "tags": []
   },
   "outputs": [],
   "source": [
    "# Check for duplicates\n",
    "if number_of_duplicates > 0:\n",
    "    branches_cleaned = branches_cleaned.dropDuplicates(['location', 'establish_date', 'class'])"
   ]
  },
  {
   "cell_type": "code",
   "execution_count": 24,
   "id": "de4998f6-daad-4827-9a7c-fdd1a10e91c0",
   "metadata": {
    "execution": {
     "iopub.execute_input": "2024-07-08T00:50:41.277468Z",
     "iopub.status.busy": "2024-07-08T00:50:41.276503Z",
     "iopub.status.idle": "2024-07-08T00:50:41.279719Z",
     "shell.execute_reply": "2024-07-08T00:50:41.279090Z"
    },
    "papermill": {
     "duration": 0.06711,
     "end_time": "2024-07-08T00:50:41.279847",
     "exception": false,
     "start_time": "2024-07-08T00:50:41.212737",
     "status": "completed"
    },
    "tags": []
   },
   "outputs": [],
   "source": [
    "spark_logger.info('DONE : Checking for Duplicates')"
   ]
  },
  {
   "cell_type": "markdown",
   "id": "04bc3fb0-7fac-4185-8334-d92c1c0e3b49",
   "metadata": {
    "papermill": {
     "duration": 0.062354,
     "end_time": "2024-07-08T00:50:41.402804",
     "exception": false,
     "start_time": "2024-07-08T00:50:41.340450",
     "status": "completed"
    },
    "tags": []
   },
   "source": [
    "### Writing to HDFS"
   ]
  },
  {
   "cell_type": "code",
   "execution_count": 25,
   "id": "f4d0b054-c0de-442c-8d15-94f00f2e4038",
   "metadata": {
    "execution": {
     "iopub.execute_input": "2024-07-08T00:50:41.531332Z",
     "iopub.status.busy": "2024-07-08T00:50:41.530412Z",
     "iopub.status.idle": "2024-07-08T00:50:41.891712Z",
     "shell.execute_reply": "2024-07-08T00:50:41.891088Z"
    },
    "papermill": {
     "duration": 0.428008,
     "end_time": "2024-07-08T00:50:41.891864",
     "exception": false,
     "start_time": "2024-07-08T00:50:41.463856",
     "status": "completed"
    },
    "tags": []
   },
   "outputs": [],
   "source": [
    "branches_cleaned.coalesce(1).write.mode('overwrite').option('header','true').csv(f'{silver_layer_directory_path}/branches_cleaned.csv')"
   ]
  },
  {
   "cell_type": "code",
   "execution_count": 26,
   "id": "b49d5f9f-0c56-4a43-8f96-e32a11ae759d",
   "metadata": {
    "execution": {
     "iopub.execute_input": "2024-07-08T00:50:42.023167Z",
     "iopub.status.busy": "2024-07-08T00:50:42.022423Z",
     "iopub.status.idle": "2024-07-08T00:50:42.027132Z",
     "shell.execute_reply": "2024-07-08T00:50:42.026459Z"
    },
    "papermill": {
     "duration": 0.070601,
     "end_time": "2024-07-08T00:50:42.027254",
     "exception": false,
     "start_time": "2024-07-08T00:50:41.956653",
     "status": "completed"
    },
    "tags": []
   },
   "outputs": [],
   "source": [
    "spark_logger.info('DONE : Writing to HDFS\\n')"
   ]
  },
  {
   "cell_type": "markdown",
   "id": "4825554d-a298-4be9-bd17-1fca9115d7f7",
   "metadata": {
    "papermill": {
     "duration": 0.059392,
     "end_time": "2024-07-08T00:50:42.148385",
     "exception": false,
     "start_time": "2024-07-08T00:50:42.088993",
     "status": "completed"
    },
    "tags": []
   },
   "source": [
    "---"
   ]
  },
  {
   "cell_type": "markdown",
   "id": "2a58ec9b-f2a4-491c-b3a8-94d2ed3ac574",
   "metadata": {
    "papermill": {
     "duration": 0.058817,
     "end_time": "2024-07-08T00:50:42.269515",
     "exception": false,
     "start_time": "2024-07-08T00:50:42.210698",
     "status": "completed"
    },
    "tags": []
   },
   "source": [
    "## Sales Agents Files Processing\n",
    "---"
   ]
  },
  {
   "cell_type": "code",
   "execution_count": 27,
   "id": "52a4c661-b380-4577-8234-7ee254d6c4f1",
   "metadata": {
    "execution": {
     "iopub.execute_input": "2024-07-08T00:50:42.403328Z",
     "iopub.status.busy": "2024-07-08T00:50:42.402704Z",
     "iopub.status.idle": "2024-07-08T00:50:42.406376Z",
     "shell.execute_reply": "2024-07-08T00:50:42.405837Z"
    },
    "papermill": {
     "duration": 0.072859,
     "end_time": "2024-07-08T00:50:42.406510",
     "exception": false,
     "start_time": "2024-07-08T00:50:42.333651",
     "status": "completed"
    },
    "tags": []
   },
   "outputs": [],
   "source": [
    "spark_logger.info('Processing Sales Agents File...')"
   ]
  },
  {
   "cell_type": "code",
   "execution_count": 28,
   "id": "e99a1351-b9bc-4ed8-b796-8eb0089671dd",
   "metadata": {
    "execution": {
     "iopub.execute_input": "2024-07-08T00:50:42.532056Z",
     "iopub.status.busy": "2024-07-08T00:50:42.531269Z",
     "iopub.status.idle": "2024-07-08T00:50:42.536655Z",
     "shell.execute_reply": "2024-07-08T00:50:42.535883Z"
    },
    "papermill": {
     "duration": 0.069293,
     "end_time": "2024-07-08T00:50:42.536838",
     "exception": false,
     "start_time": "2024-07-08T00:50:42.467545",
     "status": "completed"
    },
    "tags": []
   },
   "outputs": [],
   "source": [
    "data_logger.info('Sales Agents File:\\n-------------')"
   ]
  },
  {
   "cell_type": "markdown",
   "id": "1805f41d-db32-428b-8399-76c9059f2b80",
   "metadata": {
    "papermill": {
     "duration": 0.060636,
     "end_time": "2024-07-08T00:50:42.660190",
     "exception": false,
     "start_time": "2024-07-08T00:50:42.599554",
     "status": "completed"
    },
    "tags": []
   },
   "source": [
    "### Schema Handling"
   ]
  },
  {
   "cell_type": "code",
   "execution_count": 29,
   "id": "906c1991-a531-4249-aa62-243f89650fd5",
   "metadata": {
    "execution": {
     "iopub.execute_input": "2024-07-08T00:50:42.787568Z",
     "iopub.status.busy": "2024-07-08T00:50:42.786752Z",
     "iopub.status.idle": "2024-07-08T00:50:42.790063Z",
     "shell.execute_reply": "2024-07-08T00:50:42.790542Z"
    },
    "papermill": {
     "duration": 0.069813,
     "end_time": "2024-07-08T00:50:42.790736",
     "exception": false,
     "start_time": "2024-07-08T00:50:42.720923",
     "status": "completed"
    },
    "tags": []
   },
   "outputs": [],
   "source": [
    "SalesAgentsSchema = StructType([\n",
    "    StructField(\"sales_person_id\", IntegerType(), nullable=False),\n",
    "    StructField(\"name\", StringType(), nullable=False),\n",
    "    StructField(\"hire_date\", DateType(), nullable=False)\n",
    "])"
   ]
  },
  {
   "cell_type": "code",
   "execution_count": 30,
   "id": "8f59df5b-24fa-4193-a655-c2b64124bf7f",
   "metadata": {
    "execution": {
     "iopub.execute_input": "2024-07-08T00:50:42.919987Z",
     "iopub.status.busy": "2024-07-08T00:50:42.919363Z",
     "iopub.status.idle": "2024-07-08T00:50:42.923655Z",
     "shell.execute_reply": "2024-07-08T00:50:42.923148Z"
    },
    "papermill": {
     "duration": 0.069857,
     "end_time": "2024-07-08T00:50:42.923814",
     "exception": false,
     "start_time": "2024-07-08T00:50:42.853957",
     "status": "completed"
    },
    "tags": []
   },
   "outputs": [],
   "source": [
    "spark_logger.info('DONE : Schema Handling')"
   ]
  },
  {
   "cell_type": "markdown",
   "id": "14a02586-68bd-4c0a-bd84-d60e04e8cf2e",
   "metadata": {
    "papermill": {
     "duration": 0.065566,
     "end_time": "2024-07-08T00:50:43.049694",
     "exception": false,
     "start_time": "2024-07-08T00:50:42.984128",
     "status": "completed"
    },
    "tags": []
   },
   "source": [
    "### Reading the file"
   ]
  },
  {
   "cell_type": "code",
   "execution_count": 31,
   "id": "88d6d731-89c3-43be-af49-d849038e0be1",
   "metadata": {
    "execution": {
     "iopub.execute_input": "2024-07-08T00:50:43.185173Z",
     "iopub.status.busy": "2024-07-08T00:50:43.182520Z",
     "iopub.status.idle": "2024-07-08T00:50:43.310686Z",
     "shell.execute_reply": "2024-07-08T00:50:43.310108Z"
    },
    "papermill": {
     "duration": 0.194448,
     "end_time": "2024-07-08T00:50:43.310823",
     "exception": false,
     "start_time": "2024-07-08T00:50:43.116375",
     "status": "completed"
    },
    "tags": []
   },
   "outputs": [
    {
     "name": "stdout",
     "output_type": "stream",
     "text": [
      "+---------------+---------------+----------+\n",
      "|sales_person_id|           name| hire_date|\n",
      "+---------------+---------------+----------+\n",
      "|              1|       John Doe|2020-06-03|\n",
      "|              2|     Jane Smith|2018-05-13|\n",
      "|              3|Michael Johnson|2021-10-03|\n",
      "|              4|    Emily Brown|2020-10-25|\n",
      "|              5|   David Wilson|2021-04-08|\n",
      "+---------------+---------------+----------+\n",
      "only showing top 5 rows\n",
      "\n"
     ]
    }
   ],
   "source": [
    "salesAgents = spark.read.csv(fr'{files_directory_path}/sales_agents_*', header=True, schema=SalesAgentsSchema)\n",
    "salesAgents.show(5)"
   ]
  },
  {
   "cell_type": "code",
   "execution_count": 32,
   "id": "69115faa-17f2-4ca7-b0d0-66e253c2922d",
   "metadata": {
    "execution": {
     "iopub.execute_input": "2024-07-08T00:50:43.443161Z",
     "iopub.status.busy": "2024-07-08T00:50:43.442156Z",
     "iopub.status.idle": "2024-07-08T00:50:44.064181Z",
     "shell.execute_reply": "2024-07-08T00:50:44.063641Z"
    },
    "papermill": {
     "duration": 0.688694,
     "end_time": "2024-07-08T00:50:44.064308",
     "exception": false,
     "start_time": "2024-07-08T00:50:43.375614",
     "status": "completed"
    },
    "tags": []
   },
   "outputs": [],
   "source": [
    "salesAgents_info = get_number_of_records(salesAgents, ['name', 'hire_date'])\n",
    "number_of_records = salesAgents_info[0]\n",
    "number_of_duplicates = salesAgents_info[1]\n",
    "data_logger.info(f'Number of records = {number_of_records}\\nNumber of duplicates = {number_of_duplicates}\\n')"
   ]
  },
  {
   "cell_type": "code",
   "execution_count": 33,
   "id": "69a2400c-2b92-4e6a-96b1-e8ee31afccd6",
   "metadata": {
    "execution": {
     "iopub.execute_input": "2024-07-08T00:50:44.203217Z",
     "iopub.status.busy": "2024-07-08T00:50:44.202480Z",
     "iopub.status.idle": "2024-07-08T00:50:45.639908Z",
     "shell.execute_reply": "2024-07-08T00:50:45.639310Z"
    },
    "papermill": {
     "duration": 1.50882,
     "end_time": "2024-07-08T00:50:45.640029",
     "exception": false,
     "start_time": "2024-07-08T00:50:44.131209",
     "status": "completed"
    },
    "tags": []
   },
   "outputs": [],
   "source": [
    "data_logger.info('Columns:')\n",
    "counter = 1\n",
    "for column, dtype in get_columns_info(salesAgents):\n",
    "    number_of_unique_values = salesAgents.select(f'{column}').distinct().count()\n",
    "    data_logger.info(f'Column {counter}: {column} - Data Type: {dtype} - Number of Unique Values: {number_of_unique_values}')\n",
    "    counter += 1\n",
    "    \n",
    "data_logger.info('\\n')"
   ]
  },
  {
   "cell_type": "code",
   "execution_count": 34,
   "id": "08689376-6504-4d6e-87b8-3af70544fbd0",
   "metadata": {
    "execution": {
     "iopub.execute_input": "2024-07-08T00:50:45.782599Z",
     "iopub.status.busy": "2024-07-08T00:50:45.781757Z",
     "iopub.status.idle": "2024-07-08T00:50:45.784409Z",
     "shell.execute_reply": "2024-07-08T00:50:45.785091Z"
    },
    "papermill": {
     "duration": 0.074609,
     "end_time": "2024-07-08T00:50:45.785269",
     "exception": false,
     "start_time": "2024-07-08T00:50:45.710660",
     "status": "completed"
    },
    "tags": []
   },
   "outputs": [],
   "source": [
    "spark_logger.info('DONE : Reading Sales Agents File')"
   ]
  },
  {
   "cell_type": "markdown",
   "id": "b27c4718-8130-41cf-920d-164d4b346fd2",
   "metadata": {
    "papermill": {
     "duration": 0.064438,
     "end_time": "2024-07-08T00:50:45.917545",
     "exception": false,
     "start_time": "2024-07-08T00:50:45.853107",
     "status": "completed"
    },
    "tags": []
   },
   "source": [
    "### Cleaning Process"
   ]
  },
  {
   "cell_type": "code",
   "execution_count": 35,
   "id": "4888f65f-aaaa-4d11-8bea-08099d2a1dd7",
   "metadata": {
    "execution": {
     "iopub.execute_input": "2024-07-08T00:50:46.050834Z",
     "iopub.status.busy": "2024-07-08T00:50:46.050190Z",
     "iopub.status.idle": "2024-07-08T00:50:46.121309Z",
     "shell.execute_reply": "2024-07-08T00:50:46.120773Z"
    },
    "papermill": {
     "duration": 0.140055,
     "end_time": "2024-07-08T00:50:46.121420",
     "exception": false,
     "start_time": "2024-07-08T00:50:45.981365",
     "status": "completed"
    },
    "tags": []
   },
   "outputs": [
    {
     "name": "stdout",
     "output_type": "stream",
     "text": [
      "+---------------+---------------+----------+\n",
      "|sales_person_id|           name| hire_date|\n",
      "+---------------+---------------+----------+\n",
      "|              1|       John Doe|2020-06-03|\n",
      "|              2|     Jane Smith|2018-05-13|\n",
      "|              3|Michael Johnson|2021-10-03|\n",
      "|              4|    Emily Brown|2020-10-25|\n",
      "|              5|   David Wilson|2021-04-08|\n",
      "+---------------+---------------+----------+\n",
      "only showing top 5 rows\n",
      "\n"
     ]
    }
   ],
   "source": [
    "# Trim Sales Agents data (for String columns only)\n",
    "salesAgents_cleaned = trim_columns(salesAgents)\n",
    "salesAgents_cleaned.show(5)"
   ]
  },
  {
   "cell_type": "code",
   "execution_count": 36,
   "id": "572a7d42-c92c-4d7f-843c-62999ea8bea2",
   "metadata": {
    "execution": {
     "iopub.execute_input": "2024-07-08T00:50:46.255190Z",
     "iopub.status.busy": "2024-07-08T00:50:46.254583Z",
     "iopub.status.idle": "2024-07-08T00:50:46.258620Z",
     "shell.execute_reply": "2024-07-08T00:50:46.258044Z"
    },
    "papermill": {
     "duration": 0.071277,
     "end_time": "2024-07-08T00:50:46.258771",
     "exception": false,
     "start_time": "2024-07-08T00:50:46.187494",
     "status": "completed"
    },
    "tags": []
   },
   "outputs": [],
   "source": [
    "spark_logger.info('DONE : Trmming String Columns')"
   ]
  },
  {
   "cell_type": "code",
   "execution_count": 37,
   "id": "656e0275-9c2a-4bbe-9285-97b23d979ddf",
   "metadata": {
    "execution": {
     "iopub.execute_input": "2024-07-08T00:50:46.391671Z",
     "iopub.status.busy": "2024-07-08T00:50:46.390549Z",
     "iopub.status.idle": "2024-07-08T00:50:46.912334Z",
     "shell.execute_reply": "2024-07-08T00:50:46.911734Z"
    },
    "papermill": {
     "duration": 0.588812,
     "end_time": "2024-07-08T00:50:46.912460",
     "exception": false,
     "start_time": "2024-07-08T00:50:46.323648",
     "status": "completed"
    },
    "tags": []
   },
   "outputs": [],
   "source": [
    "# Check for duplicates\n",
    "if salesAgents_cleaned.count() > salesAgents_cleaned.dropDuplicates(['name', 'hire_date']).count():\n",
    "    salesAgents_cleaned = salesAgents_cleaned.dropDuplicates(['name', 'hire_date'])"
   ]
  },
  {
   "cell_type": "code",
   "execution_count": 38,
   "id": "ab1416ed-911d-4ec2-af7d-6dbef526a33d",
   "metadata": {
    "execution": {
     "iopub.execute_input": "2024-07-08T00:50:47.063649Z",
     "iopub.status.busy": "2024-07-08T00:50:47.062945Z",
     "iopub.status.idle": "2024-07-08T00:50:47.066087Z",
     "shell.execute_reply": "2024-07-08T00:50:47.066564Z"
    },
    "papermill": {
     "duration": 0.074182,
     "end_time": "2024-07-08T00:50:47.066719",
     "exception": false,
     "start_time": "2024-07-08T00:50:46.992537",
     "status": "completed"
    },
    "tags": []
   },
   "outputs": [],
   "source": [
    "spark_logger.info('DONE : Checking for Duplicates')"
   ]
  },
  {
   "cell_type": "markdown",
   "id": "733713b2-609d-48a4-bde2-2eb16fc8915b",
   "metadata": {
    "papermill": {
     "duration": 0.061849,
     "end_time": "2024-07-08T00:50:47.191037",
     "exception": false,
     "start_time": "2024-07-08T00:50:47.129188",
     "status": "completed"
    },
    "tags": []
   },
   "source": [
    "### Writing to HDFS"
   ]
  },
  {
   "cell_type": "code",
   "execution_count": 39,
   "id": "f420e2ea-76ed-4867-9d6f-1a4baa5e1d5f",
   "metadata": {
    "execution": {
     "iopub.execute_input": "2024-07-08T00:50:47.323864Z",
     "iopub.status.busy": "2024-07-08T00:50:47.323114Z",
     "iopub.status.idle": "2024-07-08T00:50:47.469957Z",
     "shell.execute_reply": "2024-07-08T00:50:47.469478Z"
    },
    "papermill": {
     "duration": 0.215508,
     "end_time": "2024-07-08T00:50:47.470132",
     "exception": false,
     "start_time": "2024-07-08T00:50:47.254624",
     "status": "completed"
    },
    "tags": []
   },
   "outputs": [],
   "source": [
    "salesAgents_cleaned.coalesce(1).write.mode('overwrite').option('header','true').csv(f'{silver_layer_directory_path}/salesAgents_cleaned.csv')"
   ]
  },
  {
   "cell_type": "code",
   "execution_count": 40,
   "id": "6f8b4c20-e973-47f0-89e8-81ae72162b28",
   "metadata": {
    "execution": {
     "iopub.execute_input": "2024-07-08T00:50:47.602528Z",
     "iopub.status.busy": "2024-07-08T00:50:47.601818Z",
     "iopub.status.idle": "2024-07-08T00:50:47.605244Z",
     "shell.execute_reply": "2024-07-08T00:50:47.605854Z"
    },
    "papermill": {
     "duration": 0.072459,
     "end_time": "2024-07-08T00:50:47.605995",
     "exception": false,
     "start_time": "2024-07-08T00:50:47.533536",
     "status": "completed"
    },
    "tags": []
   },
   "outputs": [],
   "source": [
    "spark_logger.info('DONE : Writing to HDFS\\n')"
   ]
  },
  {
   "cell_type": "markdown",
   "id": "ab3cb090-1717-4627-bb6b-560d6d17ffbe",
   "metadata": {
    "papermill": {
     "duration": 0.064848,
     "end_time": "2024-07-08T00:50:47.734757",
     "exception": false,
     "start_time": "2024-07-08T00:50:47.669909",
     "status": "completed"
    },
    "tags": []
   },
   "source": [
    "---"
   ]
  },
  {
   "cell_type": "markdown",
   "id": "23569ac4-68a5-471c-bd57-bd91e5e6ab35",
   "metadata": {
    "papermill": {
     "duration": 0.064108,
     "end_time": "2024-07-08T00:50:47.868365",
     "exception": false,
     "start_time": "2024-07-08T00:50:47.804257",
     "status": "completed"
    },
    "tags": []
   },
   "source": [
    "## Transactions Files Processing\n",
    "---"
   ]
  },
  {
   "cell_type": "code",
   "execution_count": 41,
   "id": "ef884973-a432-4a3e-93ce-2bfabe74ee40",
   "metadata": {
    "execution": {
     "iopub.execute_input": "2024-07-08T00:50:48.009773Z",
     "iopub.status.busy": "2024-07-08T00:50:48.009062Z",
     "iopub.status.idle": "2024-07-08T00:50:48.013107Z",
     "shell.execute_reply": "2024-07-08T00:50:48.012443Z"
    },
    "papermill": {
     "duration": 0.076887,
     "end_time": "2024-07-08T00:50:48.013221",
     "exception": false,
     "start_time": "2024-07-08T00:50:47.936334",
     "status": "completed"
    },
    "tags": []
   },
   "outputs": [],
   "source": [
    "spark_logger.info('Processing Transactions File...')"
   ]
  },
  {
   "cell_type": "code",
   "execution_count": 42,
   "id": "484545ed-5139-4613-bba6-f0d661187b1d",
   "metadata": {
    "execution": {
     "iopub.execute_input": "2024-07-08T00:50:48.145791Z",
     "iopub.status.busy": "2024-07-08T00:50:48.145194Z",
     "iopub.status.idle": "2024-07-08T00:50:48.147812Z",
     "shell.execute_reply": "2024-07-08T00:50:48.148256Z"
    },
    "papermill": {
     "duration": 0.071322,
     "end_time": "2024-07-08T00:50:48.148427",
     "exception": false,
     "start_time": "2024-07-08T00:50:48.077105",
     "status": "completed"
    },
    "tags": []
   },
   "outputs": [],
   "source": [
    "data_logger.info('Transactions File:\\n-------------')"
   ]
  },
  {
   "cell_type": "markdown",
   "id": "cc5f2db3-9e32-4641-bcf9-eb7aebe70ede",
   "metadata": {
    "papermill": {
     "duration": 0.061558,
     "end_time": "2024-07-08T00:50:48.276447",
     "exception": false,
     "start_time": "2024-07-08T00:50:48.214889",
     "status": "completed"
    },
    "tags": []
   },
   "source": [
    "### Schema Handling"
   ]
  },
  {
   "cell_type": "code",
   "execution_count": 43,
   "id": "7b6161b6-192e-44af-a927-c5cbd874096e",
   "metadata": {
    "execution": {
     "iopub.execute_input": "2024-07-08T00:50:48.409697Z",
     "iopub.status.busy": "2024-07-08T00:50:48.408695Z",
     "iopub.status.idle": "2024-07-08T00:50:48.426796Z",
     "shell.execute_reply": "2024-07-08T00:50:48.426182Z"
    },
    "papermill": {
     "duration": 0.087001,
     "end_time": "2024-07-08T00:50:48.426926",
     "exception": false,
     "start_time": "2024-07-08T00:50:48.339925",
     "status": "completed"
    },
    "tags": []
   },
   "outputs": [],
   "source": [
    "TransactionsSchema = StructType([\n",
    "    StructField(\"transaction_date\", DateType(), nullable=False),\n",
    "    StructField(\"transaction_id\", StringType(), nullable=False),\n",
    "    StructField(\"customer_id\", IntegerType(), nullable=False),\n",
    "    StructField(\"customer_fname\", StringType(), nullable=False),\n",
    "    StructField(\"customer_lname\", StringType(), nullable=False),\n",
    "    StructField(\"customer_email\", StringType(), nullable=False),\n",
    "    StructField(\"sales_agent_id\", IntegerType(), nullable=False),\n",
    "    StructField(\"branch_id\", IntegerType(), nullable=False),\n",
    "    StructField(\"product_id\", IntegerType(), nullable=False),\n",
    "    StructField(\"product_name\", StringType(), nullable=False),\n",
    "    StructField(\"product_category\", StringType(), nullable=False),\n",
    "    StructField(\"offer_1\", BooleanType(), nullable=True),\n",
    "    StructField(\"offer_2\", BooleanType(), nullable=True),\n",
    "    StructField(\"offer_3\", BooleanType(), nullable=True),\n",
    "    StructField(\"offer_4\", BooleanType(), nullable=True),\n",
    "    StructField(\"offer_5\", BooleanType(), nullable=True),\n",
    "    StructField(\"units\", IntegerType(), nullable=False),\n",
    "    StructField(\"unit_price\", FloatType(), nullable=False),\n",
    "    StructField(\"is_online\", StringType(), nullable=False),\n",
    "    StructField(\"payment_method\", StringType(), nullable=False),\n",
    "    StructField(\"shipping_address\", StringType(), nullable=True)\n",
    "])"
   ]
  },
  {
   "cell_type": "code",
   "execution_count": 44,
   "id": "d5ef8f57-7e16-4e36-9ce8-ae9470bfc5be",
   "metadata": {
    "execution": {
     "iopub.execute_input": "2024-07-08T00:50:48.561418Z",
     "iopub.status.busy": "2024-07-08T00:50:48.560395Z",
     "iopub.status.idle": "2024-07-08T00:50:48.564297Z",
     "shell.execute_reply": "2024-07-08T00:50:48.563774Z"
    },
    "papermill": {
     "duration": 0.072977,
     "end_time": "2024-07-08T00:50:48.564443",
     "exception": false,
     "start_time": "2024-07-08T00:50:48.491466",
     "status": "completed"
    },
    "tags": []
   },
   "outputs": [],
   "source": [
    "spark_logger.info('DONE : Schema Handling')"
   ]
  },
  {
   "cell_type": "markdown",
   "id": "7f05e48d-f27c-4850-ad28-2dd468b6f08a",
   "metadata": {
    "papermill": {
     "duration": 0.06318,
     "end_time": "2024-07-08T00:50:48.692654",
     "exception": false,
     "start_time": "2024-07-08T00:50:48.629474",
     "status": "completed"
    },
    "tags": []
   },
   "source": [
    "### Reading the file"
   ]
  },
  {
   "cell_type": "code",
   "execution_count": 45,
   "id": "efe7fc58-2b87-45a5-9768-f63a5dfec175",
   "metadata": {
    "execution": {
     "iopub.execute_input": "2024-07-08T00:50:48.834799Z",
     "iopub.status.busy": "2024-07-08T00:50:48.833822Z",
     "iopub.status.idle": "2024-07-08T00:50:48.995690Z",
     "shell.execute_reply": "2024-07-08T00:50:48.996156Z"
    },
    "papermill": {
     "duration": 0.236538,
     "end_time": "2024-07-08T00:50:48.996291",
     "exception": false,
     "start_time": "2024-07-08T00:50:48.759753",
     "status": "completed"
    },
    "tags": []
   },
   "outputs": [
    {
     "name": "stdout",
     "output_type": "stream",
     "text": [
      "+----------------+----------------+-----------+--------------+--------------+--------------------+--------------+---------+----------+---------------+----------------+-------+-------+-------+-------+-------+-----+----------+---------+--------------+----------------+\n",
      "|transaction_date|  transaction_id|customer_id|customer_fname|customer_lname|      customer_email|sales_agent_id|branch_id|product_id|   product_name|product_category|offer_1|offer_2|offer_3|offer_4|offer_5|units|unit_price|is_online|payment_method|shipping_address|\n",
      "+----------------+----------------+-----------+--------------+--------------+--------------------+--------------+---------+----------+---------------+----------------+-------+-------+-------+-------+-------+-----+----------+---------+--------------+----------------+\n",
      "|      2023-05-20|trx-152546429674|      85469|     Alexander|         Brown|alexander.brown@g...|             1|        2|        22|   Coffee Maker|      Appliances|   null|   null|   null|   null|   null|   10|     79.99|       no|          Cash|            null|\n",
      "|      2022-10-25|trx-291375327542|      85512|       William|         Brown|william.brown@gma...|             3|        1|        24|        Blender|      Appliances|   null|   null|   null|   true|   null|    5|     49.99|       no|          Cash|            null|\n",
      "|      2022-02-05|trx-312507679871|      85484|          John|      Williams|john.williams@gma...|            10|        3|         4|     Headphones|     Electronics|   null|   null|   null|   null|   null|    1|     99.99|       no|   Credit Card|            null|\n",
      "|      2023-10-20|trx-193384855491|      85528|     Alexander|        Miller|alexander.miller@...|             7|        2|        25|Washing Machine|      Appliances|   null|   null|   null|   null|   null|    8|    499.99|       no|          Cash|            null|\n",
      "|      2022-11-17|trx-831626097654|      85500|          John|         Brown|john.brown@hotmai...|             5|        1|        14|         Camera|     Electronics|   null|   null|   true|   null|   null|   10|    399.99|       no|          Cash|            null|\n",
      "+----------------+----------------+-----------+--------------+--------------+--------------------+--------------+---------+----------+---------------+----------------+-------+-------+-------+-------+-------+-----+----------+---------+--------------+----------------+\n",
      "only showing top 5 rows\n",
      "\n"
     ]
    }
   ],
   "source": [
    "transactions = spark.read.csv(fr'{files_directory_path}/sales_transactions_*', header=True, schema=TransactionsSchema)\n",
    "transactions.show(5)"
   ]
  },
  {
   "cell_type": "code",
   "execution_count": 46,
   "id": "352b4ea3-f735-498a-a0af-456bbb9f8942",
   "metadata": {
    "execution": {
     "iopub.execute_input": "2024-07-08T00:50:49.144446Z",
     "iopub.status.busy": "2024-07-08T00:50:49.143563Z",
     "iopub.status.idle": "2024-07-08T00:50:50.075430Z",
     "shell.execute_reply": "2024-07-08T00:50:50.074476Z"
    },
    "papermill": {
     "duration": 1.007209,
     "end_time": "2024-07-08T00:50:50.075618",
     "exception": false,
     "start_time": "2024-07-08T00:50:49.068409",
     "status": "completed"
    },
    "tags": []
   },
   "outputs": [],
   "source": [
    "transactions_info = get_number_of_records(transactions, ['transaction_date', 'transaction_id'])\n",
    "number_of_records = transactions_info[0]\n",
    "number_of_duplicates = transactions_info[1]\n",
    "data_logger.info(f'Number of records = {number_of_records}\\nNumber of duplicates = {number_of_duplicates}\\n')"
   ]
  },
  {
   "cell_type": "code",
   "execution_count": 47,
   "id": "54f4fc9b-6617-4f99-877a-3fdec95b4612",
   "metadata": {
    "execution": {
     "iopub.execute_input": "2024-07-08T00:50:50.239591Z",
     "iopub.status.busy": "2024-07-08T00:50:50.238973Z",
     "iopub.status.idle": "2024-07-08T00:50:58.855272Z",
     "shell.execute_reply": "2024-07-08T00:50:58.854680Z"
    },
    "papermill": {
     "duration": 8.701532,
     "end_time": "2024-07-08T00:50:58.855393",
     "exception": false,
     "start_time": "2024-07-08T00:50:50.153861",
     "status": "completed"
    },
    "tags": []
   },
   "outputs": [],
   "source": [
    "data_logger.info('Columns:')\n",
    "counter = 1\n",
    "for column, dtype in get_columns_info(transactions):\n",
    "    number_of_unique_values = transactions.select(f'{column}').distinct().count()\n",
    "    data_logger.info(f'Column {counter}: {column} - Data Type: {dtype} - Number of Unique Values: {number_of_unique_values}')\n",
    "    counter += 1\n",
    "    \n",
    "data_logger.info('\\n')"
   ]
  },
  {
   "cell_type": "code",
   "execution_count": 48,
   "id": "4c9907df-d28a-41bd-8e15-c765b2443ddb",
   "metadata": {
    "execution": {
     "iopub.execute_input": "2024-07-08T00:50:59.007006Z",
     "iopub.status.busy": "2024-07-08T00:50:59.006365Z",
     "iopub.status.idle": "2024-07-08T00:50:59.010158Z",
     "shell.execute_reply": "2024-07-08T00:50:59.009456Z"
    },
    "papermill": {
     "duration": 0.079184,
     "end_time": "2024-07-08T00:50:59.010323",
     "exception": false,
     "start_time": "2024-07-08T00:50:58.931139",
     "status": "completed"
    },
    "tags": []
   },
   "outputs": [],
   "source": [
    "spark_logger.info('DONE : Reading Transactions File')"
   ]
  },
  {
   "cell_type": "markdown",
   "id": "fd7b2b09-9e3f-4a1d-ab8f-f3f809b66c12",
   "metadata": {
    "papermill": {
     "duration": 0.068695,
     "end_time": "2024-07-08T00:50:59.151779",
     "exception": false,
     "start_time": "2024-07-08T00:50:59.083084",
     "status": "completed"
    },
    "tags": []
   },
   "source": [
    "### Cleaning Process"
   ]
  },
  {
   "cell_type": "code",
   "execution_count": 49,
   "id": "71ffa378-65bf-4648-8734-593aa6e5fc5e",
   "metadata": {
    "execution": {
     "iopub.execute_input": "2024-07-08T00:50:59.285919Z",
     "iopub.status.busy": "2024-07-08T00:50:59.285183Z",
     "iopub.status.idle": "2024-07-08T00:50:59.480450Z",
     "shell.execute_reply": "2024-07-08T00:50:59.481139Z"
    },
    "papermill": {
     "duration": 0.265289,
     "end_time": "2024-07-08T00:50:59.481339",
     "exception": false,
     "start_time": "2024-07-08T00:50:59.216050",
     "status": "completed"
    },
    "tags": []
   },
   "outputs": [
    {
     "name": "stdout",
     "output_type": "stream",
     "text": [
      "+----------------+----------------+-----------+--------------+--------------+-----------------------------+--------------+---------+----------+---------------+----------------+-------+-------+-------+-------+-------+-----+----------+---------+--------------+----------------+\n",
      "|transaction_date|transaction_id  |customer_id|customer_fname|customer_lname|customer_email               |sales_agent_id|branch_id|product_id|product_name   |product_category|offer_1|offer_2|offer_3|offer_4|offer_5|units|unit_price|is_online|payment_method|shipping_address|\n",
      "+----------------+----------------+-----------+--------------+--------------+-----------------------------+--------------+---------+----------+---------------+----------------+-------+-------+-------+-------+-------+-----+----------+---------+--------------+----------------+\n",
      "|2023-05-20      |trx-152546429674|85469      |Alexander     |Brown         |alexander.brown@gmail.com\"\"  |1             |2        |22        |Coffee Maker   |Appliances      |null   |null   |null   |null   |null   |10   |79.99     |no       |Cash          |null            |\n",
      "|2022-10-25      |trx-291375327542|85512      |William       |Brown         |william.brown@gmail.com;     |3             |1        |24        |Blender        |Appliances      |null   |null   |null   |true   |null   |5    |49.99     |no       |Cash          |null            |\n",
      "|2022-02-05      |trx-312507679871|85484      |John          |Williams      |john.williams@gmail.com*     |10            |3        |4         |Headphones     |Electronics     |null   |null   |null   |null   |null   |1    |99.99     |no       |Credit Card   |null            |\n",
      "|2023-10-20      |trx-193384855491|85528      |Alexander     |Miller        |alexander.miller@yahoo.com#4r|7             |2        |25        |Washing Machine|Appliances      |null   |null   |null   |null   |null   |8    |499.99    |no       |Cash          |null            |\n",
      "|2022-11-17      |trx-831626097654|85500      |John          |Brown         |john.brown@hotmail.com;      |5             |1        |14        |Camera         |Electronics     |null   |null   |true   |null   |null   |10   |399.99    |no       |Cash          |null            |\n",
      "+----------------+----------------+-----------+--------------+--------------+-----------------------------+--------------+---------+----------+---------------+----------------+-------+-------+-------+-------+-------+-----+----------+---------+--------------+----------------+\n",
      "only showing top 5 rows\n",
      "\n"
     ]
    }
   ],
   "source": [
    "# Trim Transactions data (for String columns only)\n",
    "transactions_cleaned = trim_columns(transactions)\n",
    "transactions_cleaned.show(5, truncate=False)"
   ]
  },
  {
   "cell_type": "code",
   "execution_count": 50,
   "id": "480c3d62-418a-4663-b3ff-f058c3a6c5d0",
   "metadata": {
    "execution": {
     "iopub.execute_input": "2024-07-08T00:50:59.647664Z",
     "iopub.status.busy": "2024-07-08T00:50:59.647060Z",
     "iopub.status.idle": "2024-07-08T00:50:59.651273Z",
     "shell.execute_reply": "2024-07-08T00:50:59.650717Z"
    },
    "papermill": {
     "duration": 0.087661,
     "end_time": "2024-07-08T00:50:59.651415",
     "exception": false,
     "start_time": "2024-07-08T00:50:59.563754",
     "status": "completed"
    },
    "tags": []
   },
   "outputs": [],
   "source": [
    "spark_logger.info('DONE : Trmming String Columns')"
   ]
  },
  {
   "cell_type": "code",
   "execution_count": 51,
   "id": "023a3630-90af-47af-a9a0-9f47eeccca16",
   "metadata": {
    "execution": {
     "iopub.execute_input": "2024-07-08T00:50:59.802627Z",
     "iopub.status.busy": "2024-07-08T00:50:59.801945Z",
     "iopub.status.idle": "2024-07-08T00:51:00.200712Z",
     "shell.execute_reply": "2024-07-08T00:51:00.200009Z"
    },
    "papermill": {
     "duration": 0.47271,
     "end_time": "2024-07-08T00:51:00.200848",
     "exception": false,
     "start_time": "2024-07-08T00:50:59.728138",
     "status": "completed"
    },
    "tags": []
   },
   "outputs": [
    {
     "name": "stdout",
     "output_type": "stream",
     "text": [
      "+----------------+----------------+-----------+--------------+--------------+--------------------------+--------------+---------+----------+---------------+----------------+-------+-------+-------+-------+-------+-----+----------+---------+--------------+----------------+\n",
      "|transaction_date|transaction_id  |customer_id|customer_fname|customer_lname|customer_email            |sales_agent_id|branch_id|product_id|product_name   |product_category|offer_1|offer_2|offer_3|offer_4|offer_5|units|unit_price|is_online|payment_method|shipping_address|\n",
      "+----------------+----------------+-----------+--------------+--------------+--------------------------+--------------+---------+----------+---------------+----------------+-------+-------+-------+-------+-------+-----+----------+---------+--------------+----------------+\n",
      "|2023-05-20      |trx-152546429674|85469      |Alexander     |Brown         |alexander.brown@gmail.com |1             |2        |22        |Coffee Maker   |Appliances      |null   |null   |null   |null   |null   |10   |79.99     |no       |Cash          |null            |\n",
      "|2022-10-25      |trx-291375327542|85512      |William       |Brown         |william.brown@gmail.com   |3             |1        |24        |Blender        |Appliances      |null   |null   |null   |true   |null   |5    |49.99     |no       |Cash          |null            |\n",
      "|2022-02-05      |trx-312507679871|85484      |John          |Williams      |john.williams@gmail.com   |10            |3        |4         |Headphones     |Electronics     |null   |null   |null   |null   |null   |1    |99.99     |no       |Credit Card   |null            |\n",
      "|2023-10-20      |trx-193384855491|85528      |Alexander     |Miller        |alexander.miller@yahoo.com|7             |2        |25        |Washing Machine|Appliances      |null   |null   |null   |null   |null   |8    |499.99    |no       |Cash          |null            |\n",
      "|2022-11-17      |trx-831626097654|85500      |John          |Brown         |john.brown@hotmail.com    |5             |1        |14        |Camera         |Electronics     |null   |null   |true   |null   |null   |10   |399.99    |no       |Cash          |null            |\n",
      "+----------------+----------------+-----------+--------------+--------------+--------------------------+--------------+---------+----------+---------------+----------------+-------+-------+-------+-------+-------+-----+----------+---------+--------------+----------------+\n",
      "only showing top 5 rows\n",
      "\n"
     ]
    }
   ],
   "source": [
    "# Clean the customer_email column\n",
    "transactions_cleaned = transactions_cleaned.withColumn('customer_email', sf.expr(\"substring(customer_email, 1, locate('.com', customer_email) + 3)\"))\n",
    "transactions_cleaned.show(5, truncate=False)"
   ]
  },
  {
   "cell_type": "code",
   "execution_count": 52,
   "id": "3fba2945-4e18-4001-b6f5-2e4e2a435004",
   "metadata": {
    "execution": {
     "iopub.execute_input": "2024-07-08T00:51:00.398657Z",
     "iopub.status.busy": "2024-07-08T00:51:00.397812Z",
     "iopub.status.idle": "2024-07-08T00:51:00.401756Z",
     "shell.execute_reply": "2024-07-08T00:51:00.401107Z"
    },
    "papermill": {
     "duration": 0.100905,
     "end_time": "2024-07-08T00:51:00.401908",
     "exception": false,
     "start_time": "2024-07-08T00:51:00.301003",
     "status": "completed"
    },
    "tags": []
   },
   "outputs": [],
   "source": [
    "spark_logger.info('DONE : Cleaning \"customer_email\" Column')"
   ]
  },
  {
   "cell_type": "code",
   "execution_count": 53,
   "id": "0582cfbc-e717-4e8f-8538-e2a0c8348401",
   "metadata": {
    "execution": {
     "iopub.execute_input": "2024-07-08T00:51:00.566215Z",
     "iopub.status.busy": "2024-07-08T00:51:00.565198Z",
     "iopub.status.idle": "2024-07-08T00:51:00.992898Z",
     "shell.execute_reply": "2024-07-08T00:51:00.993333Z"
    },
    "papermill": {
     "duration": 0.50503,
     "end_time": "2024-07-08T00:51:00.993470",
     "exception": false,
     "start_time": "2024-07-08T00:51:00.488440",
     "status": "completed"
    },
    "tags": []
   },
   "outputs": [],
   "source": [
    "# Check for duplicates\n",
    "if transactions_cleaned.count() > transactions_cleaned.dropDuplicates(['transaction_date', 'transaction_id']).count():\n",
    "    transactions_cleaned = transactions_cleaned.dropDuplicates(['transaction_date', 'transaction_id'])"
   ]
  },
  {
   "cell_type": "code",
   "execution_count": 54,
   "id": "e7a90cde-5e39-49dc-a91b-c286051b48d4",
   "metadata": {
    "execution": {
     "iopub.execute_input": "2024-07-08T00:51:01.146867Z",
     "iopub.status.busy": "2024-07-08T00:51:01.146274Z",
     "iopub.status.idle": "2024-07-08T00:51:01.149380Z",
     "shell.execute_reply": "2024-07-08T00:51:01.149895Z"
    },
    "papermill": {
     "duration": 0.080117,
     "end_time": "2024-07-08T00:51:01.150083",
     "exception": false,
     "start_time": "2024-07-08T00:51:01.069966",
     "status": "completed"
    },
    "tags": []
   },
   "outputs": [],
   "source": [
    "spark_logger.info('DONE : Checking for Duplicates')"
   ]
  },
  {
   "cell_type": "markdown",
   "id": "28ffbe4c-f324-4a5b-b686-ef2d1d7c5142",
   "metadata": {
    "papermill": {
     "duration": 0.067028,
     "end_time": "2024-07-08T00:51:01.291705",
     "exception": false,
     "start_time": "2024-07-08T00:51:01.224677",
     "status": "completed"
    },
    "tags": []
   },
   "source": [
    "### Writing to HDFS"
   ]
  },
  {
   "cell_type": "code",
   "execution_count": 55,
   "id": "697ed3f8-f9cc-410e-a3d6-9532235866af",
   "metadata": {
    "execution": {
     "iopub.execute_input": "2024-07-08T00:51:01.440303Z",
     "iopub.status.busy": "2024-07-08T00:51:01.439309Z",
     "iopub.status.idle": "2024-07-08T00:51:01.714482Z",
     "shell.execute_reply": "2024-07-08T00:51:01.715065Z"
    },
    "papermill": {
     "duration": 0.350542,
     "end_time": "2024-07-08T00:51:01.715207",
     "exception": false,
     "start_time": "2024-07-08T00:51:01.364665",
     "status": "completed"
    },
    "tags": []
   },
   "outputs": [],
   "source": [
    "transactions_cleaned.coalesce(1).write.mode('overwrite').option('header','true').csv(f'{silver_layer_directory_path}/transactions_cleaned.csv')"
   ]
  },
  {
   "cell_type": "code",
   "execution_count": 56,
   "id": "7f98cc77-11f2-4b81-a57d-0969dbb956d0",
   "metadata": {
    "execution": {
     "iopub.execute_input": "2024-07-08T00:51:01.876144Z",
     "iopub.status.busy": "2024-07-08T00:51:01.875447Z",
     "iopub.status.idle": "2024-07-08T00:51:01.880571Z",
     "shell.execute_reply": "2024-07-08T00:51:01.879691Z"
    },
    "papermill": {
     "duration": 0.082246,
     "end_time": "2024-07-08T00:51:01.880738",
     "exception": false,
     "start_time": "2024-07-08T00:51:01.798492",
     "status": "completed"
    },
    "tags": []
   },
   "outputs": [],
   "source": [
    "spark_logger.info('DONE : Writing to HDFS\\n')"
   ]
  },
  {
   "cell_type": "markdown",
   "id": "76567710-4231-496f-9c49-2a9970fe6a85",
   "metadata": {
    "papermill": {
     "duration": 0.077677,
     "end_time": "2024-07-08T00:51:02.042416",
     "exception": false,
     "start_time": "2024-07-08T00:51:01.964739",
     "status": "completed"
    },
    "tags": []
   },
   "source": [
    "---"
   ]
  },
  {
   "cell_type": "markdown",
   "id": "3d68620b-6a2e-4d93-85be-55216c00c411",
   "metadata": {
    "papermill": {
     "duration": 0.069606,
     "end_time": "2024-07-08T00:51:02.187347",
     "exception": false,
     "start_time": "2024-07-08T00:51:02.117741",
     "status": "completed"
    },
    "tags": []
   },
   "source": [
    "## Stop Spark context"
   ]
  },
  {
   "cell_type": "code",
   "execution_count": 57,
   "id": "4755a436-d9be-4033-8bee-80cbb12916fd",
   "metadata": {
    "execution": {
     "iopub.execute_input": "2024-07-08T00:51:02.333002Z",
     "iopub.status.busy": "2024-07-08T00:51:02.331987Z",
     "iopub.status.idle": "2024-07-08T00:51:02.968820Z",
     "shell.execute_reply": "2024-07-08T00:51:02.966467Z"
    },
    "papermill": {
     "duration": 0.709395,
     "end_time": "2024-07-08T00:51:02.969131",
     "exception": false,
     "start_time": "2024-07-08T00:51:02.259736",
     "status": "completed"
    },
    "tags": []
   },
   "outputs": [],
   "source": [
    "spark.stop()"
   ]
  },
  {
   "cell_type": "code",
   "execution_count": 58,
   "id": "b991403b-2090-4b7e-8a52-c993401997d2",
   "metadata": {
    "execution": {
     "iopub.execute_input": "2024-07-08T00:51:03.121803Z",
     "iopub.status.busy": "2024-07-08T00:51:03.121115Z",
     "iopub.status.idle": "2024-07-08T00:51:03.124163Z",
     "shell.execute_reply": "2024-07-08T00:51:03.124667Z"
    },
    "papermill": {
     "duration": 0.076569,
     "end_time": "2024-07-08T00:51:03.124912",
     "exception": false,
     "start_time": "2024-07-08T00:51:03.048343",
     "status": "completed"
    },
    "tags": []
   },
   "outputs": [],
   "source": [
    "spark_logger.info('Spark Session Stopped\\n--------------------------------------------------------------------------------------------------------------------')"
   ]
  },
  {
   "cell_type": "markdown",
   "id": "e94c290f-ab46-40a3-84d2-c55881c78191",
   "metadata": {
    "papermill": {
     "duration": 0.067804,
     "end_time": "2024-07-08T00:51:03.266590",
     "exception": false,
     "start_time": "2024-07-08T00:51:03.198786",
     "status": "completed"
    },
    "tags": []
   },
   "source": [
    "---"
   ]
  }
 ],
 "metadata": {
  "kernelspec": {
   "display_name": "Pyspark 2",
   "language": "python",
   "name": "pyspark2"
  },
  "language_info": {
   "codemirror_mode": {
    "name": "ipython",
    "version": 3
   },
   "file_extension": ".py",
   "mimetype": "text/x-python",
   "name": "python",
   "nbconvert_exporter": "python",
   "pygments_lexer": "ipython3",
   "version": "3.6.9"
  },
  "papermill": {
   "default_parameters": {},
   "duration": 61.142466,
   "end_time": "2024-07-08T00:51:03.763103",
   "environment_variables": {},
   "exception": null,
   "input_path": "cleaning-layer.ipynb",
   "output_path": "cleaning-layer.ipynb",
   "parameters": {},
   "start_time": "2024-07-08T00:50:02.620637",
   "version": "2.3.4"
  }
 },
 "nbformat": 4,
 "nbformat_minor": 5
}
