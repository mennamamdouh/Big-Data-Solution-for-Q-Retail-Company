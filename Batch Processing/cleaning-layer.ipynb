{
 "cells": [
  {
   "cell_type": "markdown",
   "id": "22a48cad-137c-480b-b89d-2f44837a06e8",
   "metadata": {
    "papermill": {
     "duration": 0.279879,
     "end_time": "2024-07-09T16:57:07.925264",
     "exception": false,
     "start_time": "2024-07-09T16:57:07.645385",
     "status": "completed"
    },
    "tags": []
   },
   "source": [
    "# Environment Preparation\n",
    "---"
   ]
  },
  {
   "cell_type": "markdown",
   "id": "91c3565d-9a05-4ad1-a57e-bf496756f111",
   "metadata": {
    "papermill": {
     "duration": 0.13031,
     "end_time": "2024-07-09T16:57:08.192840",
     "exception": false,
     "start_time": "2024-07-09T16:57:08.062530",
     "status": "completed"
    },
    "tags": []
   },
   "source": [
    "### Importing the required libraries"
   ]
  },
  {
   "cell_type": "code",
   "execution_count": 1,
   "id": "3f91b161-bf38-431b-b2e7-9ef99ee868b4",
   "metadata": {
    "execution": {
     "iopub.execute_input": "2024-07-09T16:57:08.500656Z",
     "iopub.status.busy": "2024-07-09T16:57:08.495096Z",
     "iopub.status.idle": "2024-07-09T16:57:09.411807Z",
     "shell.execute_reply": "2024-07-09T16:57:09.409337Z"
    },
    "papermill": {
     "duration": 1.086132,
     "end_time": "2024-07-09T16:57:09.412251",
     "exception": false,
     "start_time": "2024-07-09T16:57:08.326119",
     "status": "completed"
    },
    "tags": []
   },
   "outputs": [],
   "source": [
    "import re, os\n",
    "from pyspark.sql.types import *\n",
    "import pyspark.sql.functions as sf\n",
    "from pyspark.sql import SparkSession\n",
    "import logging\n",
    "from datetime import date, datetime"
   ]
  },
  {
   "cell_type": "markdown",
   "id": "76d5d535-5864-4baa-a6ed-e06ebd426038",
   "metadata": {
    "papermill": {
     "duration": 0.169403,
     "end_time": "2024-07-09T16:57:09.808206",
     "exception": false,
     "start_time": "2024-07-09T16:57:09.638803",
     "status": "completed"
    },
    "tags": []
   },
   "source": [
    "### Setup the loggers"
   ]
  },
  {
   "cell_type": "code",
   "execution_count": 2,
   "id": "cd3f540a-5ca6-4077-9cfc-7159161b1ed8",
   "metadata": {
    "execution": {
     "iopub.execute_input": "2024-07-09T16:57:10.250022Z",
     "iopub.status.busy": "2024-07-09T16:57:10.247994Z",
     "iopub.status.idle": "2024-07-09T16:57:10.256490Z",
     "shell.execute_reply": "2024-07-09T16:57:10.254955Z"
    },
    "papermill": {
     "duration": 0.239427,
     "end_time": "2024-07-09T16:57:10.256781",
     "exception": false,
     "start_time": "2024-07-09T16:57:10.017354",
     "status": "completed"
    },
    "tags": []
   },
   "outputs": [],
   "source": [
    "# Separate pyspark loggers\n",
    "pyspark_log = logging.getLogger('pyspark').setLevel(logging.ERROR)\n",
    "py4j_logger = logging.getLogger(\"py4j\").setLevel(logging.ERROR)"
   ]
  },
  {
   "cell_type": "code",
   "execution_count": 3,
   "id": "1062e462-0181-48f7-9905-3a9d9188fba1",
   "metadata": {
    "execution": {
     "iopub.execute_input": "2024-07-09T16:57:10.599597Z",
     "iopub.status.busy": "2024-07-09T16:57:10.597344Z",
     "iopub.status.idle": "2024-07-09T16:57:10.609352Z",
     "shell.execute_reply": "2024-07-09T16:57:10.610559Z"
    },
    "papermill": {
     "duration": 0.179001,
     "end_time": "2024-07-09T16:57:10.610874",
     "exception": false,
     "start_time": "2024-07-09T16:57:10.431873",
     "status": "completed"
    },
    "tags": []
   },
   "outputs": [],
   "source": [
    "# First logger for logging the spark job\n",
    "spark_logger = logging.getLogger('SparkJobs')\n",
    "spark_logger.setLevel(logging.DEBUG)\n",
    "today_date = date.today().isoformat()\n",
    "logger_file_name = f'Logs/SparkLogs/SparkJobsLogs-{today_date}.log'\n",
    "fh1 = logging.FileHandler(logger_file_name)\n",
    "fh1.setLevel(logging.DEBUG)\n",
    "fh1.setFormatter(logging.Formatter('%(asctime)s - %(message)s', datefmt='%d-%b-%y %H:%M:%S'))\n",
    "spark_logger.addHandler(fh1)"
   ]
  },
  {
   "cell_type": "code",
   "execution_count": 4,
   "id": "ac290a3f-0f05-440c-abb0-9622fedc5cc9",
   "metadata": {
    "execution": {
     "iopub.execute_input": "2024-07-09T16:57:10.934225Z",
     "iopub.status.busy": "2024-07-09T16:57:10.932473Z",
     "iopub.status.idle": "2024-07-09T16:57:10.944642Z",
     "shell.execute_reply": "2024-07-09T16:57:10.945786Z"
    },
    "papermill": {
     "duration": 0.172529,
     "end_time": "2024-07-09T16:57:10.946099",
     "exception": false,
     "start_time": "2024-07-09T16:57:10.773570",
     "status": "completed"
    },
    "tags": []
   },
   "outputs": [],
   "source": [
    "# Second logger for reporting some information about the files\n",
    "data_logger = logging.getLogger('DataLogs')\n",
    "current_time = datetime.now()\n",
    "data_logger.setLevel(logging.DEBUG)\n",
    "if not os.path.exists(f'Logs/DataLogs/{today_date}'):\n",
    "    os.makedirs(f'Logs/DataLogs/{today_date}')\n",
    "data_logs_file_name = f'Logs/DataLogs/{today_date}/DataInfo-H-{current_time.hour}.log'\n",
    "fh2 = logging.FileHandler(data_logs_file_name)\n",
    "fh2.setLevel(logging.DEBUG)\n",
    "fh2.setFormatter(logging.Formatter('%(message)s'))\n",
    "data_logger.addHandler(fh2)"
   ]
  },
  {
   "cell_type": "markdown",
   "id": "c9d0f207-d710-4d2f-9f51-ba0683166466",
   "metadata": {
    "papermill": {
     "duration": 0.162892,
     "end_time": "2024-07-09T16:57:11.276260",
     "exception": false,
     "start_time": "2024-07-09T16:57:11.113368",
     "status": "completed"
    },
    "tags": []
   },
   "source": [
    "### Start Spark Session"
   ]
  },
  {
   "cell_type": "code",
   "execution_count": 5,
   "id": "d87a3ff2-3681-435a-a14f-7813eee62e78",
   "metadata": {
    "execution": {
     "iopub.execute_input": "2024-07-09T16:57:11.613549Z",
     "iopub.status.busy": "2024-07-09T16:57:11.611882Z",
     "iopub.status.idle": "2024-07-09T16:57:24.747560Z",
     "shell.execute_reply": "2024-07-09T16:57:24.750229Z"
    },
    "papermill": {
     "duration": 13.315649,
     "end_time": "2024-07-09T16:57:24.751297",
     "exception": false,
     "start_time": "2024-07-09T16:57:11.435648",
     "status": "completed"
    },
    "tags": []
   },
   "outputs": [],
   "source": [
    "spark_logger.info('Starting Spark Session ...')\n",
    "spark = SparkSession\\\n",
    "    .builder\\\n",
    "    .master(\"local[4]\")\\\n",
    "    .appName(\"CleaningData\")\\\n",
    "    .config(\"spark.eventLog.logBlockUpdates.enabled\", True)\\\n",
    "    .getOrCreate()\n",
    "\n",
    "sc = spark.sparkContext\n",
    "spark_logger.info('Spark Session Started')"
   ]
  },
  {
   "cell_type": "markdown",
   "id": "89dbb0ff-72cf-41ce-9ee4-86ee31160d11",
   "metadata": {
    "papermill": {
     "duration": 0.168026,
     "end_time": "2024-07-09T16:57:25.144193",
     "exception": false,
     "start_time": "2024-07-09T16:57:24.976167",
     "status": "completed"
    },
    "tags": []
   },
   "source": [
    "---"
   ]
  },
  {
   "cell_type": "markdown",
   "id": "967adfe8-3cfe-4d4f-ab27-e09ebdbb963d",
   "metadata": {
    "papermill": {
     "duration": 0.140457,
     "end_time": "2024-07-09T16:57:25.444489",
     "exception": false,
     "start_time": "2024-07-09T16:57:25.304032",
     "status": "completed"
    },
    "tags": []
   },
   "source": [
    "# General Purpose Functions for Cleaning\n",
    "---"
   ]
  },
  {
   "cell_type": "markdown",
   "id": "b66f819b-606e-4376-ab9a-8ba8ffc8487a",
   "metadata": {
    "papermill": {
     "duration": 0.156357,
     "end_time": "2024-07-09T16:57:25.769561",
     "exception": false,
     "start_time": "2024-07-09T16:57:25.613204",
     "status": "completed"
    },
    "tags": []
   },
   "source": [
    "### Trimming String Columns"
   ]
  },
  {
   "cell_type": "code",
   "execution_count": 6,
   "id": "f8e58fb3-97c7-4c78-b517-0dfc43163bc0",
   "metadata": {
    "execution": {
     "iopub.execute_input": "2024-07-09T16:57:26.089181Z",
     "iopub.status.busy": "2024-07-09T16:57:26.088026Z",
     "iopub.status.idle": "2024-07-09T16:57:26.094403Z",
     "shell.execute_reply": "2024-07-09T16:57:26.093123Z"
    },
    "papermill": {
     "duration": 0.159952,
     "end_time": "2024-07-09T16:57:26.094615",
     "exception": false,
     "start_time": "2024-07-09T16:57:25.934663",
     "status": "completed"
    },
    "tags": []
   },
   "outputs": [],
   "source": [
    "# This function extracts the string columns and trims them, then returns the dataframe after trimming its string columns\n",
    "def trim_columns(dataframe):\n",
    "    columns = [column for column, dtype in dataframe.dtypes if dtype.startswith('string')]\n",
    "    for column in columns:\n",
    "        dataframe = dataframe.withColumn(column, sf.trim(sf.col(column)))\n",
    "    return dataframe"
   ]
  },
  {
   "cell_type": "markdown",
   "id": "9c2cef21-297a-4ec0-a479-459166b6d95f",
   "metadata": {
    "papermill": {
     "duration": 0.172462,
     "end_time": "2024-07-09T16:57:26.463433",
     "exception": false,
     "start_time": "2024-07-09T16:57:26.290971",
     "status": "completed"
    },
    "tags": []
   },
   "source": [
    "### Information about the dataframe"
   ]
  },
  {
   "cell_type": "code",
   "execution_count": 7,
   "id": "6098a41f-66c0-4921-a172-5e99c63d2ab6",
   "metadata": {
    "execution": {
     "iopub.execute_input": "2024-07-09T16:57:26.831787Z",
     "iopub.status.busy": "2024-07-09T16:57:26.829671Z",
     "iopub.status.idle": "2024-07-09T16:57:26.836210Z",
     "shell.execute_reply": "2024-07-09T16:57:26.837626Z"
    },
    "papermill": {
     "duration": 0.186768,
     "end_time": "2024-07-09T16:57:26.837958",
     "exception": false,
     "start_time": "2024-07-09T16:57:26.651190",
     "status": "completed"
    },
    "tags": []
   },
   "outputs": [],
   "source": [
    "# This function takes a dataframe and a list of columns to check if there's duplicates or not,\n",
    "# then returns the number of records of this dataframe and if there're duplicates according to the passed columns\n",
    "def get_number_of_records(dataframe, duplicate_columns):\n",
    "    number_of_records = dataframe.count()\n",
    "    number_of_duplicates = number_of_records - dataframe.dropDuplicates(duplicate_columns).count()\n",
    "    return [number_of_records, number_of_duplicates]"
   ]
  },
  {
   "cell_type": "markdown",
   "id": "055470e4-0739-4c33-b4b1-5e2630dbd8ef",
   "metadata": {
    "papermill": {
     "duration": 0.147272,
     "end_time": "2024-07-09T16:57:27.107156",
     "exception": false,
     "start_time": "2024-07-09T16:57:26.959884",
     "status": "completed"
    },
    "tags": []
   },
   "source": [
    "### Information about the dataframe's columns"
   ]
  },
  {
   "cell_type": "code",
   "execution_count": 8,
   "id": "fdab36ae-6fc0-47be-9908-be227ad0f0fc",
   "metadata": {
    "execution": {
     "iopub.execute_input": "2024-07-09T16:57:27.453564Z",
     "iopub.status.busy": "2024-07-09T16:57:27.451418Z",
     "iopub.status.idle": "2024-07-09T16:57:27.458784Z",
     "shell.execute_reply": "2024-07-09T16:57:27.457343Z"
    },
    "papermill": {
     "duration": 0.180602,
     "end_time": "2024-07-09T16:57:27.459058",
     "exception": false,
     "start_time": "2024-07-09T16:57:27.278456",
     "status": "completed"
    },
    "tags": []
   },
   "outputs": [],
   "source": [
    "# This function takes a dataframe which contains only one column, and returns its datatype, number of unique values, number of actual values, \n",
    "def get_columns_info(dataframe):\n",
    "    return dataframe.dtypes"
   ]
  },
  {
   "cell_type": "markdown",
   "id": "022deac9-7e9b-411b-98c4-16a82c98c69a",
   "metadata": {
    "papermill": {
     "duration": 0.169495,
     "end_time": "2024-07-09T16:57:27.792763",
     "exception": false,
     "start_time": "2024-07-09T16:57:27.623268",
     "status": "completed"
    },
    "tags": []
   },
   "source": [
    "---"
   ]
  },
  {
   "cell_type": "markdown",
   "id": "b3657195-4f5e-495b-b0c6-5bf8631919e1",
   "metadata": {
    "papermill": {
     "duration": 0.15316,
     "end_time": "2024-07-09T16:57:28.104289",
     "exception": false,
     "start_time": "2024-07-09T16:57:27.951129",
     "status": "completed"
    },
    "tags": []
   },
   "source": [
    "# Files Pre-Processing"
   ]
  },
  {
   "cell_type": "code",
   "execution_count": 9,
   "id": "d27436ba-f0b7-4b0e-be3a-529312dac683",
   "metadata": {
    "execution": {
     "iopub.execute_input": "2024-07-09T16:57:28.436766Z",
     "iopub.status.busy": "2024-07-09T16:57:28.435206Z",
     "iopub.status.idle": "2024-07-09T16:57:28.442654Z",
     "shell.execute_reply": "2024-07-09T16:57:28.441415Z"
    },
    "papermill": {
     "duration": 0.169909,
     "end_time": "2024-07-09T16:57:28.443087",
     "exception": false,
     "start_time": "2024-07-09T16:57:28.273178",
     "status": "completed"
    },
    "tags": []
   },
   "outputs": [],
   "source": [
    "spark_logger.info(f'Batch in Hour: {current_time.hour}')"
   ]
  },
  {
   "cell_type": "code",
   "execution_count": 10,
   "id": "77c015da-e23e-431c-8492-c43183a0e825",
   "metadata": {
    "execution": {
     "iopub.execute_input": "2024-07-09T16:57:28.771594Z",
     "iopub.status.busy": "2024-07-09T16:57:28.770078Z",
     "iopub.status.idle": "2024-07-09T16:57:28.779069Z",
     "shell.execute_reply": "2024-07-09T16:57:28.777818Z"
    },
    "papermill": {
     "duration": 0.186022,
     "end_time": "2024-07-09T16:57:28.779422",
     "exception": false,
     "start_time": "2024-07-09T16:57:28.593400",
     "status": "completed"
    },
    "tags": []
   },
   "outputs": [],
   "source": [
    "spark_logger.info('Starting reading files...\\n')"
   ]
  },
  {
   "cell_type": "code",
   "execution_count": 11,
   "id": "57db0fbd-2e9f-4ac3-8c0b-2dd75859e78f",
   "metadata": {
    "execution": {
     "iopub.execute_input": "2024-07-09T16:57:29.135643Z",
     "iopub.status.busy": "2024-07-09T16:57:29.134126Z",
     "iopub.status.idle": "2024-07-09T16:57:29.142369Z",
     "shell.execute_reply": "2024-07-09T16:57:29.140763Z"
    },
    "papermill": {
     "duration": 0.201851,
     "end_time": "2024-07-09T16:57:29.142651",
     "exception": false,
     "start_time": "2024-07-09T16:57:28.940800",
     "status": "completed"
    },
    "tags": []
   },
   "outputs": [],
   "source": [
    "data_logger.info('Hi .. Here\\'s some information about our batch !\\n')"
   ]
  },
  {
   "cell_type": "code",
   "execution_count": 12,
   "id": "b27bffa7-6147-4725-bcfd-858bff465e0a",
   "metadata": {
    "execution": {
     "iopub.execute_input": "2024-07-09T16:57:29.461995Z",
     "iopub.status.busy": "2024-07-09T16:57:29.460422Z",
     "iopub.status.idle": "2024-07-09T16:57:29.467299Z",
     "shell.execute_reply": "2024-07-09T16:57:29.465895Z"
    },
    "papermill": {
     "duration": 0.155882,
     "end_time": "2024-07-09T16:57:29.467637",
     "exception": false,
     "start_time": "2024-07-09T16:57:29.311755",
     "status": "completed"
    },
    "tags": []
   },
   "outputs": [],
   "source": [
    "# Define the directory of the files, depending on the date and batch's hour\n",
    "files_directory_path = f'/user/itversity/q-retail-company/bronze/{today_date}/hour-{current_time.hour}'\n",
    "\n",
    "# Define the sliver layer directory\n",
    "silver_layer_directory_path = f'/user/itversity/q-retail-company/silver/{today_date}/hour-{current_time.hour}'"
   ]
  },
  {
   "cell_type": "markdown",
   "id": "59dad7cf-8ae1-4e5b-92f4-a6aefdaa4b21",
   "metadata": {
    "papermill": {
     "duration": 0.152617,
     "end_time": "2024-07-09T16:57:29.789376",
     "exception": false,
     "start_time": "2024-07-09T16:57:29.636759",
     "status": "completed"
    },
    "tags": []
   },
   "source": [
    "## Branches Files Processing\n",
    "---"
   ]
  },
  {
   "cell_type": "code",
   "execution_count": 13,
   "id": "244fa7f4-dfa5-4d2e-9cd5-7fc35d959417",
   "metadata": {
    "execution": {
     "iopub.execute_input": "2024-07-09T16:57:30.154580Z",
     "iopub.status.busy": "2024-07-09T16:57:30.152155Z",
     "iopub.status.idle": "2024-07-09T16:57:30.162716Z",
     "shell.execute_reply": "2024-07-09T16:57:30.165708Z"
    },
    "papermill": {
     "duration": 0.212461,
     "end_time": "2024-07-09T16:57:30.166336",
     "exception": false,
     "start_time": "2024-07-09T16:57:29.953875",
     "status": "completed"
    },
    "tags": []
   },
   "outputs": [],
   "source": [
    "spark_logger.info('Processing Branches File...')"
   ]
  },
  {
   "cell_type": "code",
   "execution_count": 14,
   "id": "a2e3c74f-1d4a-4ad6-afa1-18739416eaa2",
   "metadata": {
    "execution": {
     "iopub.execute_input": "2024-07-09T16:57:30.622165Z",
     "iopub.status.busy": "2024-07-09T16:57:30.620370Z",
     "iopub.status.idle": "2024-07-09T16:57:30.628369Z",
     "shell.execute_reply": "2024-07-09T16:57:30.626558Z"
    },
    "papermill": {
     "duration": 0.204681,
     "end_time": "2024-07-09T16:57:30.629162",
     "exception": false,
     "start_time": "2024-07-09T16:57:30.424481",
     "status": "completed"
    },
    "tags": []
   },
   "outputs": [],
   "source": [
    "data_logger.info('Branches File:\\n-------------')"
   ]
  },
  {
   "cell_type": "markdown",
   "id": "0c339f2d-3a87-4ae9-aa8d-8f7103700f57",
   "metadata": {
    "papermill": {
     "duration": 0.167977,
     "end_time": "2024-07-09T16:57:30.941736",
     "exception": false,
     "start_time": "2024-07-09T16:57:30.773759",
     "status": "completed"
    },
    "tags": []
   },
   "source": [
    "### Schema Handling"
   ]
  },
  {
   "cell_type": "code",
   "execution_count": 15,
   "id": "3765e0bf-2d96-4a46-a8a0-679ec62c7a7a",
   "metadata": {
    "execution": {
     "iopub.execute_input": "2024-07-09T16:57:31.281297Z",
     "iopub.status.busy": "2024-07-09T16:57:31.278729Z",
     "iopub.status.idle": "2024-07-09T16:57:31.286518Z",
     "shell.execute_reply": "2024-07-09T16:57:31.287707Z"
    },
    "papermill": {
     "duration": 0.189239,
     "end_time": "2024-07-09T16:57:31.288032",
     "exception": false,
     "start_time": "2024-07-09T16:57:31.098793",
     "status": "completed"
    },
    "tags": []
   },
   "outputs": [],
   "source": [
    "BranchesSchema = StructType([\n",
    "    StructField(\"branch_id\", IntegerType(), nullable=False),\n",
    "    StructField(\"location\", StringType(), nullable=False),\n",
    "    StructField(\"establish_date\", DateType(), nullable=False),\n",
    "    StructField(\"class\", StringType(), nullable=False)\n",
    "])"
   ]
  },
  {
   "cell_type": "code",
   "execution_count": 16,
   "id": "34dc21a1-db51-406d-afd4-6c319f684159",
   "metadata": {
    "execution": {
     "iopub.execute_input": "2024-07-09T16:57:31.643279Z",
     "iopub.status.busy": "2024-07-09T16:57:31.641477Z",
     "iopub.status.idle": "2024-07-09T16:57:31.650888Z",
     "shell.execute_reply": "2024-07-09T16:57:31.652404Z"
    },
    "papermill": {
     "duration": 0.198336,
     "end_time": "2024-07-09T16:57:31.652930",
     "exception": false,
     "start_time": "2024-07-09T16:57:31.454594",
     "status": "completed"
    },
    "tags": []
   },
   "outputs": [],
   "source": [
    "spark_logger.info('DONE : Schema Handling')"
   ]
  },
  {
   "cell_type": "markdown",
   "id": "18a6df24-fd31-436a-82b4-425d209d8d2b",
   "metadata": {
    "papermill": {
     "duration": 0.163336,
     "end_time": "2024-07-09T16:57:31.988755",
     "exception": false,
     "start_time": "2024-07-09T16:57:31.825419",
     "status": "completed"
    },
    "tags": []
   },
   "source": [
    "### Reading the file"
   ]
  },
  {
   "cell_type": "code",
   "execution_count": 17,
   "id": "b7e3ebc7-3738-4e17-a16b-d97b43f0572d",
   "metadata": {
    "execution": {
     "iopub.execute_input": "2024-07-09T16:57:32.309994Z",
     "iopub.status.busy": "2024-07-09T16:57:32.307826Z",
     "iopub.status.idle": "2024-07-09T16:57:40.263478Z",
     "shell.execute_reply": "2024-07-09T16:57:40.264739Z"
    },
    "papermill": {
     "duration": 8.124697,
     "end_time": "2024-07-09T16:57:40.265024",
     "exception": false,
     "start_time": "2024-07-09T16:57:32.140327",
     "status": "completed"
    },
    "tags": []
   },
   "outputs": [
    {
     "name": "stdout",
     "output_type": "stream",
     "text": [
      "+---------+-----------+--------------+-----+\n",
      "|branch_id|   location|establish_date|class|\n",
      "+---------+-----------+--------------+-----+\n",
      "|        1|   New York|    2017-01-15|    A|\n",
      "|        2|Los Angeles|    2016-07-28|    B|\n",
      "|        3|    Chicago|    2015-03-10|    A|\n",
      "|        4|    Houston|    2016-11-05|    D|\n",
      "|        5|    Phoenix|    2017-09-20|    C|\n",
      "+---------+-----------+--------------+-----+\n",
      "only showing top 5 rows\n",
      "\n"
     ]
    }
   ],
   "source": [
    "branches = spark.read.csv(fr'{files_directory_path}/branches_*', header=True, schema=BranchesSchema)\n",
    "branches.show(5)"
   ]
  },
  {
   "cell_type": "code",
   "execution_count": 18,
   "id": "f8235e5d-54cc-419a-bb73-3d3046364c7e",
   "metadata": {
    "execution": {
     "iopub.execute_input": "2024-07-09T16:57:40.595474Z",
     "iopub.status.busy": "2024-07-09T16:57:40.593287Z",
     "iopub.status.idle": "2024-07-09T16:57:43.315421Z",
     "shell.execute_reply": "2024-07-09T16:57:43.314198Z"
    },
    "papermill": {
     "duration": 2.887246,
     "end_time": "2024-07-09T16:57:43.315701",
     "exception": false,
     "start_time": "2024-07-09T16:57:40.428455",
     "status": "completed"
    },
    "tags": []
   },
   "outputs": [],
   "source": [
    "branches_info = get_number_of_records(branches, ['location', 'establish_date', 'class'])\n",
    "number_of_records = branches_info[0]\n",
    "number_of_duplicates = branches_info[1]\n",
    "data_logger.info(f'Number of records = {number_of_records}\\nNumber of duplicates = {number_of_duplicates}\\n')"
   ]
  },
  {
   "cell_type": "code",
   "execution_count": 19,
   "id": "55a03f0e-40a2-4030-b89a-f23cee369a33",
   "metadata": {
    "execution": {
     "iopub.execute_input": "2024-07-09T16:57:43.619847Z",
     "iopub.status.busy": "2024-07-09T16:57:43.618100Z",
     "iopub.status.idle": "2024-07-09T16:57:47.621175Z",
     "shell.execute_reply": "2024-07-09T16:57:47.619715Z"
    },
    "papermill": {
     "duration": 4.15682,
     "end_time": "2024-07-09T16:57:47.621452",
     "exception": false,
     "start_time": "2024-07-09T16:57:43.464632",
     "status": "completed"
    },
    "tags": []
   },
   "outputs": [],
   "source": [
    "data_logger.info('Columns:')\n",
    "counter = 1\n",
    "for column, dtype in get_columns_info(branches):\n",
    "    number_of_unique_values = branches.select(f'{column}').distinct().count()\n",
    "    data_logger.info(f'Column {counter}: {column} - Data Type: {dtype} - Number of Unique Values: {number_of_unique_values}')\n",
    "    counter += 1\n",
    "    \n",
    "data_logger.info('\\n')"
   ]
  },
  {
   "cell_type": "code",
   "execution_count": 20,
   "id": "96d6070e-ebe0-4955-a4f8-fdca7a5276e0",
   "metadata": {
    "execution": {
     "iopub.execute_input": "2024-07-09T16:57:47.927534Z",
     "iopub.status.busy": "2024-07-09T16:57:47.924490Z",
     "iopub.status.idle": "2024-07-09T16:57:47.935215Z",
     "shell.execute_reply": "2024-07-09T16:57:47.936936Z"
    },
    "papermill": {
     "duration": 0.17334,
     "end_time": "2024-07-09T16:57:47.937461",
     "exception": false,
     "start_time": "2024-07-09T16:57:47.764121",
     "status": "completed"
    },
    "tags": []
   },
   "outputs": [],
   "source": [
    "spark_logger.info('DONE : Reading Branches File')"
   ]
  },
  {
   "cell_type": "markdown",
   "id": "e917f162-bb1d-49a2-ae39-bc54cefc3ca7",
   "metadata": {
    "papermill": {
     "duration": 0.196689,
     "end_time": "2024-07-09T16:57:48.370633",
     "exception": false,
     "start_time": "2024-07-09T16:57:48.173944",
     "status": "completed"
    },
    "tags": []
   },
   "source": [
    "### Cleaning Process"
   ]
  },
  {
   "cell_type": "code",
   "execution_count": 21,
   "id": "40636365-ed52-4020-ac3f-e2891224213d",
   "metadata": {
    "execution": {
     "iopub.execute_input": "2024-07-09T16:57:48.730951Z",
     "iopub.status.busy": "2024-07-09T16:57:48.729011Z",
     "iopub.status.idle": "2024-07-09T16:57:48.980856Z",
     "shell.execute_reply": "2024-07-09T16:57:48.979992Z"
    },
    "papermill": {
     "duration": 0.442112,
     "end_time": "2024-07-09T16:57:48.981040",
     "exception": false,
     "start_time": "2024-07-09T16:57:48.538928",
     "status": "completed"
    },
    "tags": []
   },
   "outputs": [
    {
     "name": "stdout",
     "output_type": "stream",
     "text": [
      "+---------+-----------+--------------+-----+\n",
      "|branch_id|   location|establish_date|class|\n",
      "+---------+-----------+--------------+-----+\n",
      "|        1|   New York|    2017-01-15|    A|\n",
      "|        2|Los Angeles|    2016-07-28|    B|\n",
      "|        3|    Chicago|    2015-03-10|    A|\n",
      "|        4|    Houston|    2016-11-05|    D|\n",
      "|        5|    Phoenix|    2017-09-20|    C|\n",
      "+---------+-----------+--------------+-----+\n",
      "only showing top 5 rows\n",
      "\n"
     ]
    }
   ],
   "source": [
    "# Trim Branches data (for String columns only)\n",
    "branches_cleaned = trim_columns(branches)\n",
    "branches_cleaned.show(5)"
   ]
  },
  {
   "cell_type": "code",
   "execution_count": 22,
   "id": "e61bb3b6-5363-462a-a64e-fd03f600f69a",
   "metadata": {
    "execution": {
     "iopub.execute_input": "2024-07-09T16:57:49.438219Z",
     "iopub.status.busy": "2024-07-09T16:57:49.435847Z",
     "iopub.status.idle": "2024-07-09T16:57:49.446095Z",
     "shell.execute_reply": "2024-07-09T16:57:49.443939Z"
    },
    "papermill": {
     "duration": 0.282083,
     "end_time": "2024-07-09T16:57:49.446534",
     "exception": false,
     "start_time": "2024-07-09T16:57:49.164451",
     "status": "completed"
    },
    "tags": []
   },
   "outputs": [],
   "source": [
    "spark_logger.info('DONE : Trmming String Columns')"
   ]
  },
  {
   "cell_type": "code",
   "execution_count": 23,
   "id": "d8437524-7bf1-4d86-b870-efaf2cec8252",
   "metadata": {
    "execution": {
     "iopub.execute_input": "2024-07-09T16:57:49.810944Z",
     "iopub.status.busy": "2024-07-09T16:57:49.808650Z",
     "iopub.status.idle": "2024-07-09T16:57:49.818092Z",
     "shell.execute_reply": "2024-07-09T16:57:49.819451Z"
    },
    "papermill": {
     "duration": 0.204349,
     "end_time": "2024-07-09T16:57:49.819934",
     "exception": false,
     "start_time": "2024-07-09T16:57:49.615585",
     "status": "completed"
    },
    "tags": []
   },
   "outputs": [],
   "source": [
    "# Check for duplicates\n",
    "if number_of_duplicates > 0:\n",
    "    branches_cleaned = branches_cleaned.dropDuplicates(['location', 'establish_date', 'class'])"
   ]
  },
  {
   "cell_type": "code",
   "execution_count": 24,
   "id": "de4998f6-daad-4827-9a7c-fdd1a10e91c0",
   "metadata": {
    "execution": {
     "iopub.execute_input": "2024-07-09T16:57:50.169988Z",
     "iopub.status.busy": "2024-07-09T16:57:50.167340Z",
     "iopub.status.idle": "2024-07-09T16:57:50.179116Z",
     "shell.execute_reply": "2024-07-09T16:57:50.177689Z"
    },
    "papermill": {
     "duration": 0.188661,
     "end_time": "2024-07-09T16:57:50.179458",
     "exception": false,
     "start_time": "2024-07-09T16:57:49.990797",
     "status": "completed"
    },
    "tags": []
   },
   "outputs": [],
   "source": [
    "spark_logger.info('DONE : Checking for Duplicates')"
   ]
  },
  {
   "cell_type": "markdown",
   "id": "04bc3fb0-7fac-4185-8334-d92c1c0e3b49",
   "metadata": {
    "papermill": {
     "duration": 0.116726,
     "end_time": "2024-07-09T16:57:50.500069",
     "exception": false,
     "start_time": "2024-07-09T16:57:50.383343",
     "status": "completed"
    },
    "tags": []
   },
   "source": [
    "### Writing to HDFS"
   ]
  },
  {
   "cell_type": "code",
   "execution_count": 25,
   "id": "f4d0b054-c0de-442c-8d15-94f00f2e4038",
   "metadata": {
    "execution": {
     "iopub.execute_input": "2024-07-09T16:57:50.801565Z",
     "iopub.status.busy": "2024-07-09T16:57:50.799172Z",
     "iopub.status.idle": "2024-07-09T16:57:52.008437Z",
     "shell.execute_reply": "2024-07-09T16:57:52.005508Z"
    },
    "papermill": {
     "duration": 1.374552,
     "end_time": "2024-07-09T16:57:52.009175",
     "exception": false,
     "start_time": "2024-07-09T16:57:50.634623",
     "status": "completed"
    },
    "tags": []
   },
   "outputs": [],
   "source": [
    "branches_cleaned.coalesce(1).write.mode('overwrite').option('header','true').csv(f'{silver_layer_directory_path}/branches_cleaned.csv')"
   ]
  },
  {
   "cell_type": "code",
   "execution_count": 26,
   "id": "b49d5f9f-0c56-4a43-8f96-e32a11ae759d",
   "metadata": {
    "execution": {
     "iopub.execute_input": "2024-07-09T16:57:52.438883Z",
     "iopub.status.busy": "2024-07-09T16:57:52.437457Z",
     "iopub.status.idle": "2024-07-09T16:57:52.444589Z",
     "shell.execute_reply": "2024-07-09T16:57:52.446617Z"
    },
    "papermill": {
     "duration": 0.199789,
     "end_time": "2024-07-09T16:57:52.447009",
     "exception": false,
     "start_time": "2024-07-09T16:57:52.247220",
     "status": "completed"
    },
    "tags": []
   },
   "outputs": [],
   "source": [
    "spark_logger.info('DONE : Writing to HDFS\\n')"
   ]
  },
  {
   "cell_type": "markdown",
   "id": "4825554d-a298-4be9-bd17-1fca9115d7f7",
   "metadata": {
    "papermill": {
     "duration": 0.169305,
     "end_time": "2024-07-09T16:57:52.783578",
     "exception": false,
     "start_time": "2024-07-09T16:57:52.614273",
     "status": "completed"
    },
    "tags": []
   },
   "source": [
    "---"
   ]
  },
  {
   "cell_type": "markdown",
   "id": "2a58ec9b-f2a4-491c-b3a8-94d2ed3ac574",
   "metadata": {
    "papermill": {
     "duration": 0.124553,
     "end_time": "2024-07-09T16:57:53.074718",
     "exception": false,
     "start_time": "2024-07-09T16:57:52.950165",
     "status": "completed"
    },
    "tags": []
   },
   "source": [
    "## Sales Agents Files Processing\n",
    "---"
   ]
  },
  {
   "cell_type": "code",
   "execution_count": 27,
   "id": "52a4c661-b380-4577-8234-7ee254d6c4f1",
   "metadata": {
    "execution": {
     "iopub.execute_input": "2024-07-09T16:57:53.430537Z",
     "iopub.status.busy": "2024-07-09T16:57:53.429106Z",
     "iopub.status.idle": "2024-07-09T16:57:53.437521Z",
     "shell.execute_reply": "2024-07-09T16:57:53.435985Z"
    },
    "papermill": {
     "duration": 0.207381,
     "end_time": "2024-07-09T16:57:53.437790",
     "exception": false,
     "start_time": "2024-07-09T16:57:53.230409",
     "status": "completed"
    },
    "tags": []
   },
   "outputs": [],
   "source": [
    "spark_logger.info('Processing Sales Agents File...')"
   ]
  },
  {
   "cell_type": "code",
   "execution_count": 28,
   "id": "e99a1351-b9bc-4ed8-b796-8eb0089671dd",
   "metadata": {
    "execution": {
     "iopub.execute_input": "2024-07-09T16:57:53.820259Z",
     "iopub.status.busy": "2024-07-09T16:57:53.818365Z",
     "iopub.status.idle": "2024-07-09T16:57:53.830890Z",
     "shell.execute_reply": "2024-07-09T16:57:53.829122Z"
    },
    "papermill": {
     "duration": 0.227771,
     "end_time": "2024-07-09T16:57:53.831233",
     "exception": false,
     "start_time": "2024-07-09T16:57:53.603462",
     "status": "completed"
    },
    "tags": []
   },
   "outputs": [],
   "source": [
    "data_logger.info('Sales Agents File:\\n-------------')"
   ]
  },
  {
   "cell_type": "markdown",
   "id": "1805f41d-db32-428b-8399-76c9059f2b80",
   "metadata": {
    "papermill": {
     "duration": 0.175902,
     "end_time": "2024-07-09T16:57:54.209326",
     "exception": false,
     "start_time": "2024-07-09T16:57:54.033424",
     "status": "completed"
    },
    "tags": []
   },
   "source": [
    "### Schema Handling"
   ]
  },
  {
   "cell_type": "code",
   "execution_count": 29,
   "id": "906c1991-a531-4249-aa62-243f89650fd5",
   "metadata": {
    "execution": {
     "iopub.execute_input": "2024-07-09T16:57:54.558586Z",
     "iopub.status.busy": "2024-07-09T16:57:54.557214Z",
     "iopub.status.idle": "2024-07-09T16:57:54.586798Z",
     "shell.execute_reply": "2024-07-09T16:57:54.585501Z"
    },
    "papermill": {
     "duration": 0.172717,
     "end_time": "2024-07-09T16:57:54.587068",
     "exception": false,
     "start_time": "2024-07-09T16:57:54.414351",
     "status": "completed"
    },
    "tags": []
   },
   "outputs": [],
   "source": [
    "SalesAgentsSchema = StructType([\n",
    "    StructField(\"sales_person_id\", IntegerType(), nullable=False),\n",
    "    StructField(\"name\", StringType(), nullable=False),\n",
    "    StructField(\"hire_date\", DateType(), nullable=False)\n",
    "])"
   ]
  },
  {
   "cell_type": "code",
   "execution_count": 30,
   "id": "8f59df5b-24fa-4193-a655-c2b64124bf7f",
   "metadata": {
    "execution": {
     "iopub.execute_input": "2024-07-09T16:57:54.939739Z",
     "iopub.status.busy": "2024-07-09T16:57:54.938305Z",
     "iopub.status.idle": "2024-07-09T16:57:54.946518Z",
     "shell.execute_reply": "2024-07-09T16:57:54.945055Z"
    },
    "papermill": {
     "duration": 0.19079,
     "end_time": "2024-07-09T16:57:54.946833",
     "exception": false,
     "start_time": "2024-07-09T16:57:54.756043",
     "status": "completed"
    },
    "tags": []
   },
   "outputs": [],
   "source": [
    "spark_logger.info('DONE : Schema Handling')"
   ]
  },
  {
   "cell_type": "markdown",
   "id": "14a02586-68bd-4c0a-bd84-d60e04e8cf2e",
   "metadata": {
    "papermill": {
     "duration": 0.160375,
     "end_time": "2024-07-09T16:57:55.284420",
     "exception": false,
     "start_time": "2024-07-09T16:57:55.124045",
     "status": "completed"
    },
    "tags": []
   },
   "source": [
    "### Reading the file"
   ]
  },
  {
   "cell_type": "code",
   "execution_count": 31,
   "id": "88d6d731-89c3-43be-af49-d849038e0be1",
   "metadata": {
    "execution": {
     "iopub.execute_input": "2024-07-09T16:57:55.695855Z",
     "iopub.status.busy": "2024-07-09T16:57:55.692065Z",
     "iopub.status.idle": "2024-07-09T16:57:55.981466Z",
     "shell.execute_reply": "2024-07-09T16:57:55.980277Z"
    },
    "papermill": {
     "duration": 0.511542,
     "end_time": "2024-07-09T16:57:55.981691",
     "exception": false,
     "start_time": "2024-07-09T16:57:55.470149",
     "status": "completed"
    },
    "tags": []
   },
   "outputs": [
    {
     "name": "stdout",
     "output_type": "stream",
     "text": [
      "+---------------+---------------+----------+\n",
      "|sales_person_id|           name| hire_date|\n",
      "+---------------+---------------+----------+\n",
      "|              1|       John Doe|2020-09-10|\n",
      "|              2|     Jane Smith|2018-12-19|\n",
      "|              3|Michael Johnson|2019-04-08|\n",
      "|              4|    Emily Brown|2020-07-25|\n",
      "|              5|   David Wilson|2019-03-19|\n",
      "+---------------+---------------+----------+\n",
      "only showing top 5 rows\n",
      "\n"
     ]
    }
   ],
   "source": [
    "salesAgents = spark.read.csv(fr'{files_directory_path}/sales_agents_*', header=True, schema=SalesAgentsSchema)\n",
    "salesAgents.show(5)"
   ]
  },
  {
   "cell_type": "code",
   "execution_count": 32,
   "id": "69115faa-17f2-4ca7-b0d0-66e253c2922d",
   "metadata": {
    "execution": {
     "iopub.execute_input": "2024-07-09T16:57:56.303251Z",
     "iopub.status.busy": "2024-07-09T16:57:56.301116Z",
     "iopub.status.idle": "2024-07-09T16:57:57.414849Z",
     "shell.execute_reply": "2024-07-09T16:57:57.416375Z"
    },
    "papermill": {
     "duration": 1.291698,
     "end_time": "2024-07-09T16:57:57.416752",
     "exception": false,
     "start_time": "2024-07-09T16:57:56.125054",
     "status": "completed"
    },
    "tags": []
   },
   "outputs": [],
   "source": [
    "salesAgents_info = get_number_of_records(salesAgents, ['name', 'hire_date'])\n",
    "number_of_records = salesAgents_info[0]\n",
    "number_of_duplicates = salesAgents_info[1]\n",
    "data_logger.info(f'Number of records = {number_of_records}\\nNumber of duplicates = {number_of_duplicates}\\n')"
   ]
  },
  {
   "cell_type": "code",
   "execution_count": 33,
   "id": "69a2400c-2b92-4e6a-96b1-e8ee31afccd6",
   "metadata": {
    "execution": {
     "iopub.execute_input": "2024-07-09T16:57:57.775237Z",
     "iopub.status.busy": "2024-07-09T16:57:57.773501Z",
     "iopub.status.idle": "2024-07-09T16:58:00.952221Z",
     "shell.execute_reply": "2024-07-09T16:58:00.953194Z"
    },
    "papermill": {
     "duration": 3.393978,
     "end_time": "2024-07-09T16:58:00.953486",
     "exception": false,
     "start_time": "2024-07-09T16:57:57.559508",
     "status": "completed"
    },
    "tags": []
   },
   "outputs": [],
   "source": [
    "data_logger.info('Columns:')\n",
    "counter = 1\n",
    "for column, dtype in get_columns_info(salesAgents):\n",
    "    number_of_unique_values = salesAgents.select(f'{column}').distinct().count()\n",
    "    data_logger.info(f'Column {counter}: {column} - Data Type: {dtype} - Number of Unique Values: {number_of_unique_values}')\n",
    "    counter += 1\n",
    "    \n",
    "data_logger.info('\\n')"
   ]
  },
  {
   "cell_type": "code",
   "execution_count": 34,
   "id": "08689376-6504-4d6e-87b8-3af70544fbd0",
   "metadata": {
    "execution": {
     "iopub.execute_input": "2024-07-09T16:58:01.400577Z",
     "iopub.status.busy": "2024-07-09T16:58:01.397870Z",
     "iopub.status.idle": "2024-07-09T16:58:01.425884Z",
     "shell.execute_reply": "2024-07-09T16:58:01.420914Z"
    },
    "papermill": {
     "duration": 0.247962,
     "end_time": "2024-07-09T16:58:01.427053",
     "exception": false,
     "start_time": "2024-07-09T16:58:01.179091",
     "status": "completed"
    },
    "tags": []
   },
   "outputs": [],
   "source": [
    "spark_logger.info('DONE : Reading Sales Agents File')"
   ]
  },
  {
   "cell_type": "markdown",
   "id": "b27c4718-8130-41cf-920d-164d4b346fd2",
   "metadata": {
    "papermill": {
     "duration": 0.315602,
     "end_time": "2024-07-09T16:58:02.041276",
     "exception": false,
     "start_time": "2024-07-09T16:58:01.725674",
     "status": "completed"
    },
    "tags": []
   },
   "source": [
    "### Cleaning Process"
   ]
  },
  {
   "cell_type": "code",
   "execution_count": 35,
   "id": "4888f65f-aaaa-4d11-8bea-08099d2a1dd7",
   "metadata": {
    "execution": {
     "iopub.execute_input": "2024-07-09T16:58:02.617635Z",
     "iopub.status.busy": "2024-07-09T16:58:02.609779Z",
     "iopub.status.idle": "2024-07-09T16:58:02.941404Z",
     "shell.execute_reply": "2024-07-09T16:58:02.938449Z"
    },
    "papermill": {
     "duration": 0.622702,
     "end_time": "2024-07-09T16:58:02.941909",
     "exception": false,
     "start_time": "2024-07-09T16:58:02.319207",
     "status": "completed"
    },
    "tags": []
   },
   "outputs": [
    {
     "name": "stdout",
     "output_type": "stream",
     "text": [
      "+---------------+---------------+----------+\n",
      "|sales_person_id|           name| hire_date|\n",
      "+---------------+---------------+----------+\n",
      "|              1|       John Doe|2020-09-10|\n",
      "|              2|     Jane Smith|2018-12-19|\n",
      "|              3|Michael Johnson|2019-04-08|\n",
      "|              4|    Emily Brown|2020-07-25|\n",
      "|              5|   David Wilson|2019-03-19|\n",
      "+---------------+---------------+----------+\n",
      "only showing top 5 rows\n",
      "\n"
     ]
    }
   ],
   "source": [
    "# Trim Sales Agents data (for String columns only)\n",
    "salesAgents_cleaned = trim_columns(salesAgents)\n",
    "salesAgents_cleaned.show(5)"
   ]
  },
  {
   "cell_type": "code",
   "execution_count": 36,
   "id": "572a7d42-c92c-4d7f-843c-62999ea8bea2",
   "metadata": {
    "execution": {
     "iopub.execute_input": "2024-07-09T16:58:03.495083Z",
     "iopub.status.busy": "2024-07-09T16:58:03.483774Z",
     "iopub.status.idle": "2024-07-09T16:58:03.507997Z",
     "shell.execute_reply": "2024-07-09T16:58:03.504986Z"
    },
    "papermill": {
     "duration": 0.266724,
     "end_time": "2024-07-09T16:58:03.508486",
     "exception": false,
     "start_time": "2024-07-09T16:58:03.241762",
     "status": "completed"
    },
    "tags": []
   },
   "outputs": [],
   "source": [
    "spark_logger.info('DONE : Trmming String Columns')"
   ]
  },
  {
   "cell_type": "code",
   "execution_count": 37,
   "id": "656e0275-9c2a-4bbe-9285-97b23d979ddf",
   "metadata": {
    "execution": {
     "iopub.execute_input": "2024-07-09T16:58:03.880216Z",
     "iopub.status.busy": "2024-07-09T16:58:03.878133Z",
     "iopub.status.idle": "2024-07-09T16:58:04.726316Z",
     "shell.execute_reply": "2024-07-09T16:58:04.725445Z"
    },
    "papermill": {
     "duration": 1.02943,
     "end_time": "2024-07-09T16:58:04.726530",
     "exception": false,
     "start_time": "2024-07-09T16:58:03.697100",
     "status": "completed"
    },
    "tags": []
   },
   "outputs": [],
   "source": [
    "# Check for duplicates\n",
    "if salesAgents_cleaned.count() > salesAgents_cleaned.dropDuplicates(['name', 'hire_date']).count():\n",
    "    salesAgents_cleaned = salesAgents_cleaned.dropDuplicates(['name', 'hire_date'])"
   ]
  },
  {
   "cell_type": "code",
   "execution_count": 38,
   "id": "ab1416ed-911d-4ec2-af7d-6dbef526a33d",
   "metadata": {
    "execution": {
     "iopub.execute_input": "2024-07-09T16:58:05.095598Z",
     "iopub.status.busy": "2024-07-09T16:58:05.093886Z",
     "iopub.status.idle": "2024-07-09T16:58:05.101693Z",
     "shell.execute_reply": "2024-07-09T16:58:05.100524Z"
    },
    "papermill": {
     "duration": 0.186989,
     "end_time": "2024-07-09T16:58:05.102042",
     "exception": false,
     "start_time": "2024-07-09T16:58:04.915053",
     "status": "completed"
    },
    "tags": []
   },
   "outputs": [],
   "source": [
    "spark_logger.info('DONE : Checking for Duplicates')"
   ]
  },
  {
   "cell_type": "markdown",
   "id": "733713b2-609d-48a4-bde2-2eb16fc8915b",
   "metadata": {
    "papermill": {
     "duration": 0.152186,
     "end_time": "2024-07-09T16:58:05.421641",
     "exception": false,
     "start_time": "2024-07-09T16:58:05.269455",
     "status": "completed"
    },
    "tags": []
   },
   "source": [
    "### Writing to HDFS"
   ]
  },
  {
   "cell_type": "code",
   "execution_count": 39,
   "id": "f420e2ea-76ed-4867-9d6f-1a4baa5e1d5f",
   "metadata": {
    "execution": {
     "iopub.execute_input": "2024-07-09T16:58:05.724903Z",
     "iopub.status.busy": "2024-07-09T16:58:05.722728Z",
     "iopub.status.idle": "2024-07-09T16:58:06.018100Z",
     "shell.execute_reply": "2024-07-09T16:58:06.017033Z"
    },
    "papermill": {
     "duration": 0.469668,
     "end_time": "2024-07-09T16:58:06.018352",
     "exception": false,
     "start_time": "2024-07-09T16:58:05.548684",
     "status": "completed"
    },
    "tags": []
   },
   "outputs": [],
   "source": [
    "salesAgents_cleaned.coalesce(1).write.mode('overwrite').option('header','true').csv(f'{silver_layer_directory_path}/salesAgents_cleaned.csv')"
   ]
  },
  {
   "cell_type": "code",
   "execution_count": 40,
   "id": "6f8b4c20-e973-47f0-89e8-81ae72162b28",
   "metadata": {
    "execution": {
     "iopub.execute_input": "2024-07-09T16:58:06.369659Z",
     "iopub.status.busy": "2024-07-09T16:58:06.367915Z",
     "iopub.status.idle": "2024-07-09T16:58:06.376182Z",
     "shell.execute_reply": "2024-07-09T16:58:06.374685Z"
    },
    "papermill": {
     "duration": 0.18859,
     "end_time": "2024-07-09T16:58:06.376472",
     "exception": false,
     "start_time": "2024-07-09T16:58:06.187882",
     "status": "completed"
    },
    "tags": []
   },
   "outputs": [],
   "source": [
    "spark_logger.info('DONE : Writing to HDFS\\n')"
   ]
  },
  {
   "cell_type": "markdown",
   "id": "ab3cb090-1717-4627-bb6b-560d6d17ffbe",
   "metadata": {
    "papermill": {
     "duration": 0.348924,
     "end_time": "2024-07-09T16:58:06.882350",
     "exception": false,
     "start_time": "2024-07-09T16:58:06.533426",
     "status": "completed"
    },
    "tags": []
   },
   "source": [
    "---"
   ]
  },
  {
   "cell_type": "markdown",
   "id": "23569ac4-68a5-471c-bd57-bd91e5e6ab35",
   "metadata": {
    "papermill": {
     "duration": 0.223889,
     "end_time": "2024-07-09T16:58:07.461384",
     "exception": false,
     "start_time": "2024-07-09T16:58:07.237495",
     "status": "completed"
    },
    "tags": []
   },
   "source": [
    "## Transactions Files Processing\n",
    "---"
   ]
  },
  {
   "cell_type": "code",
   "execution_count": 41,
   "id": "ef884973-a432-4a3e-93ce-2bfabe74ee40",
   "metadata": {
    "execution": {
     "iopub.execute_input": "2024-07-09T16:58:07.824465Z",
     "iopub.status.busy": "2024-07-09T16:58:07.822933Z",
     "iopub.status.idle": "2024-07-09T16:58:07.829831Z",
     "shell.execute_reply": "2024-07-09T16:58:07.830897Z"
    },
    "papermill": {
     "duration": 0.189893,
     "end_time": "2024-07-09T16:58:07.831317",
     "exception": false,
     "start_time": "2024-07-09T16:58:07.641424",
     "status": "completed"
    },
    "tags": []
   },
   "outputs": [],
   "source": [
    "spark_logger.info('Processing Transactions File...')"
   ]
  },
  {
   "cell_type": "code",
   "execution_count": 42,
   "id": "484545ed-5139-4613-bba6-f0d661187b1d",
   "metadata": {
    "execution": {
     "iopub.execute_input": "2024-07-09T16:58:08.183510Z",
     "iopub.status.busy": "2024-07-09T16:58:08.182144Z",
     "iopub.status.idle": "2024-07-09T16:58:08.190300Z",
     "shell.execute_reply": "2024-07-09T16:58:08.189239Z"
    },
    "papermill": {
     "duration": 0.220354,
     "end_time": "2024-07-09T16:58:08.190551",
     "exception": false,
     "start_time": "2024-07-09T16:58:07.970197",
     "status": "completed"
    },
    "tags": []
   },
   "outputs": [],
   "source": [
    "data_logger.info('Transactions File:\\n-------------')"
   ]
  },
  {
   "cell_type": "markdown",
   "id": "cc5f2db3-9e32-4641-bcf9-eb7aebe70ede",
   "metadata": {
    "papermill": {
     "duration": 0.246027,
     "end_time": "2024-07-09T16:58:08.605119",
     "exception": false,
     "start_time": "2024-07-09T16:58:08.359092",
     "status": "completed"
    },
    "tags": []
   },
   "source": [
    "### Schema Handling"
   ]
  },
  {
   "cell_type": "code",
   "execution_count": 43,
   "id": "7b6161b6-192e-44af-a927-c5cbd874096e",
   "metadata": {
    "execution": {
     "iopub.execute_input": "2024-07-09T16:58:09.152712Z",
     "iopub.status.busy": "2024-07-09T16:58:09.151416Z",
     "iopub.status.idle": "2024-07-09T16:58:09.197467Z",
     "shell.execute_reply": "2024-07-09T16:58:09.195810Z"
    },
    "papermill": {
     "duration": 0.281544,
     "end_time": "2024-07-09T16:58:09.197742",
     "exception": false,
     "start_time": "2024-07-09T16:58:08.916198",
     "status": "completed"
    },
    "tags": []
   },
   "outputs": [],
   "source": [
    "TransactionsSchema = StructType([\n",
    "    StructField(\"transaction_date\", DateType(), nullable=False),\n",
    "    StructField(\"transaction_id\", StringType(), nullable=False),\n",
    "    StructField(\"customer_id\", IntegerType(), nullable=False),\n",
    "    StructField(\"customer_fname\", StringType(), nullable=False),\n",
    "    StructField(\"customer_lname\", StringType(), nullable=False),\n",
    "    StructField(\"customer_email\", StringType(), nullable=False),\n",
    "    StructField(\"sales_agent_id\", IntegerType(), nullable=False),\n",
    "    StructField(\"branch_id\", IntegerType(), nullable=False),\n",
    "    StructField(\"product_id\", IntegerType(), nullable=False),\n",
    "    StructField(\"product_name\", StringType(), nullable=False),\n",
    "    StructField(\"product_category\", StringType(), nullable=False),\n",
    "    StructField(\"offer_1\", BooleanType(), nullable=True),\n",
    "    StructField(\"offer_2\", BooleanType(), nullable=True),\n",
    "    StructField(\"offer_3\", BooleanType(), nullable=True),\n",
    "    StructField(\"offer_4\", BooleanType(), nullable=True),\n",
    "    StructField(\"offer_5\", BooleanType(), nullable=True),\n",
    "    StructField(\"units\", IntegerType(), nullable=False),\n",
    "    StructField(\"unit_price\", FloatType(), nullable=False),\n",
    "    StructField(\"is_online\", StringType(), nullable=False),\n",
    "    StructField(\"payment_method\", StringType(), nullable=False),\n",
    "    StructField(\"shipping_address\", StringType(), nullable=True)\n",
    "])"
   ]
  },
  {
   "cell_type": "code",
   "execution_count": 44,
   "id": "d5ef8f57-7e16-4e36-9ce8-ae9470bfc5be",
   "metadata": {
    "execution": {
     "iopub.execute_input": "2024-07-09T16:58:09.586584Z",
     "iopub.status.busy": "2024-07-09T16:58:09.583051Z",
     "iopub.status.idle": "2024-07-09T16:58:09.595496Z",
     "shell.execute_reply": "2024-07-09T16:58:09.592491Z"
    },
    "papermill": {
     "duration": 0.252542,
     "end_time": "2024-07-09T16:58:09.596075",
     "exception": false,
     "start_time": "2024-07-09T16:58:09.343533",
     "status": "completed"
    },
    "tags": []
   },
   "outputs": [],
   "source": [
    "spark_logger.info('DONE : Schema Handling')"
   ]
  },
  {
   "cell_type": "markdown",
   "id": "7f05e48d-f27c-4850-ad28-2dd468b6f08a",
   "metadata": {
    "papermill": {
     "duration": 0.128992,
     "end_time": "2024-07-09T16:58:09.906782",
     "exception": false,
     "start_time": "2024-07-09T16:58:09.777790",
     "status": "completed"
    },
    "tags": []
   },
   "source": [
    "### Reading the file"
   ]
  },
  {
   "cell_type": "code",
   "execution_count": 45,
   "id": "efe7fc58-2b87-45a5-9768-f63a5dfec175",
   "metadata": {
    "execution": {
     "iopub.execute_input": "2024-07-09T16:58:10.225677Z",
     "iopub.status.busy": "2024-07-09T16:58:10.224472Z",
     "iopub.status.idle": "2024-07-09T16:58:10.537760Z",
     "shell.execute_reply": "2024-07-09T16:58:10.536755Z"
    },
    "papermill": {
     "duration": 0.469486,
     "end_time": "2024-07-09T16:58:10.537985",
     "exception": false,
     "start_time": "2024-07-09T16:58:10.068499",
     "status": "completed"
    },
    "tags": []
   },
   "outputs": [
    {
     "name": "stdout",
     "output_type": "stream",
     "text": [
      "+----------------+----------------+-----------+--------------+--------------+--------------------+--------------+---------+----------+-----------------+----------------+-------+-------+-------+-------+-------+-----+----------+---------+--------------+----------------+\n",
      "|transaction_date|  transaction_id|customer_id|customer_fname|customer_lname|      customer_email|sales_agent_id|branch_id|product_id|     product_name|product_category|offer_1|offer_2|offer_3|offer_4|offer_5|units|unit_price|is_online|payment_method|shipping_address|\n",
      "+----------------+----------------+-----------+--------------+--------------+--------------------+--------------+---------+----------+-----------------+----------------+-------+-------+-------+-------+-------+-----+----------+---------+--------------+----------------+\n",
      "|      2022-12-13|trx-675189967400|      85552|         James|         Smith|james.smith@hotma...|             8|        3|        20|            Heels|        Footwear|   null|   null|   true|   null|   null|   10|     59.99|       no|   Credit Card|            null|\n",
      "|      2023-02-22|trx-854274530672|      85514|          John|         Davis|john.davis@gmail....|             7|        5|        25|  Washing Machine|      Appliances|   true|   null|   null|   null|   null|    2|    499.99|       no|          Cash|            null|\n",
      "|      2022-08-11|trx-133048404295|      85464|        Sophia|         Brown|sophia.brown@hotm...|             8|        5|        29|Hair Straightener|      Appliances|   null|   null|   null|   null|   null|    4|     39.99|       no|   Credit Card|            null|\n",
      "|      2023-07-08|trx-945140296146|      85545|       Michael|         Davis|michael.davis@hot...|             7|        1|         1|           Laptop|     Electronics|   null|   null|   null|   true|   null|    4|    999.99|       no|   Credit Card|            null|\n",
      "|      2023-01-07|trx-309013678277|      85558|        Sophia|        Taylor|sophia.taylor@gma...|            10|        3|        22|     Coffee Maker|      Appliances|   null|   true|   null|   null|   null|    6|     79.99|       no|          Cash|            null|\n",
      "+----------------+----------------+-----------+--------------+--------------+--------------------+--------------+---------+----------+-----------------+----------------+-------+-------+-------+-------+-------+-----+----------+---------+--------------+----------------+\n",
      "only showing top 5 rows\n",
      "\n"
     ]
    }
   ],
   "source": [
    "transactions = spark.read.csv(fr'{files_directory_path}/sales_transactions_*', header=True, schema=TransactionsSchema)\n",
    "transactions.show(5)"
   ]
  },
  {
   "cell_type": "code",
   "execution_count": 46,
   "id": "352b4ea3-f735-498a-a0af-456bbb9f8942",
   "metadata": {
    "execution": {
     "iopub.execute_input": "2024-07-09T16:58:10.893598Z",
     "iopub.status.busy": "2024-07-09T16:58:10.891123Z",
     "iopub.status.idle": "2024-07-09T16:58:12.302657Z",
     "shell.execute_reply": "2024-07-09T16:58:12.301578Z"
    },
    "papermill": {
     "duration": 1.604631,
     "end_time": "2024-07-09T16:58:12.302896",
     "exception": false,
     "start_time": "2024-07-09T16:58:10.698265",
     "status": "completed"
    },
    "tags": []
   },
   "outputs": [],
   "source": [
    "transactions_info = get_number_of_records(transactions, ['transaction_date', 'transaction_id'])\n",
    "number_of_records = transactions_info[0]\n",
    "number_of_duplicates = transactions_info[1]\n",
    "data_logger.info(f'Number of records = {number_of_records}\\nNumber of duplicates = {number_of_duplicates}\\n')"
   ]
  },
  {
   "cell_type": "code",
   "execution_count": 47,
   "id": "54f4fc9b-6617-4f99-877a-3fdec95b4612",
   "metadata": {
    "execution": {
     "iopub.execute_input": "2024-07-09T16:58:12.682977Z",
     "iopub.status.busy": "2024-07-09T16:58:12.679679Z",
     "iopub.status.idle": "2024-07-09T16:58:26.765471Z",
     "shell.execute_reply": "2024-07-09T16:58:26.764140Z"
    },
    "papermill": {
     "duration": 14.336891,
     "end_time": "2024-07-09T16:58:26.765774",
     "exception": false,
     "start_time": "2024-07-09T16:58:12.428883",
     "status": "completed"
    },
    "tags": []
   },
   "outputs": [],
   "source": [
    "data_logger.info('Columns:')\n",
    "counter = 1\n",
    "for column, dtype in get_columns_info(transactions):\n",
    "    number_of_unique_values = transactions.select(f'{column}').distinct().count()\n",
    "    data_logger.info(f'Column {counter}: {column} - Data Type: {dtype} - Number of Unique Values: {number_of_unique_values}')\n",
    "    counter += 1\n",
    "    \n",
    "data_logger.info('\\n')"
   ]
  },
  {
   "cell_type": "code",
   "execution_count": 48,
   "id": "4c9907df-d28a-41bd-8e15-c765b2443ddb",
   "metadata": {
    "execution": {
     "iopub.execute_input": "2024-07-09T16:58:27.148070Z",
     "iopub.status.busy": "2024-07-09T16:58:27.145778Z",
     "iopub.status.idle": "2024-07-09T16:58:27.152849Z",
     "shell.execute_reply": "2024-07-09T16:58:27.154102Z"
    },
    "papermill": {
     "duration": 0.260845,
     "end_time": "2024-07-09T16:58:27.154568",
     "exception": false,
     "start_time": "2024-07-09T16:58:26.893723",
     "status": "completed"
    },
    "tags": []
   },
   "outputs": [],
   "source": [
    "spark_logger.info('DONE : Reading Transactions File')"
   ]
  },
  {
   "cell_type": "markdown",
   "id": "fd7b2b09-9e3f-4a1d-ab8f-f3f809b66c12",
   "metadata": {
    "papermill": {
     "duration": 0.161744,
     "end_time": "2024-07-09T16:58:27.461512",
     "exception": false,
     "start_time": "2024-07-09T16:58:27.299768",
     "status": "completed"
    },
    "tags": []
   },
   "source": [
    "### Cleaning Process"
   ]
  },
  {
   "cell_type": "code",
   "execution_count": 49,
   "id": "71ffa378-65bf-4648-8734-593aa6e5fc5e",
   "metadata": {
    "execution": {
     "iopub.execute_input": "2024-07-09T16:58:27.837505Z",
     "iopub.status.busy": "2024-07-09T16:58:27.835951Z",
     "iopub.status.idle": "2024-07-09T16:58:28.207656Z",
     "shell.execute_reply": "2024-07-09T16:58:28.206289Z"
    },
    "papermill": {
     "duration": 0.548331,
     "end_time": "2024-07-09T16:58:28.207912",
     "exception": false,
     "start_time": "2024-07-09T16:58:27.659581",
     "status": "completed"
    },
    "tags": []
   },
   "outputs": [
    {
     "name": "stdout",
     "output_type": "stream",
     "text": [
      "+----------------+----------------+-----------+--------------+--------------+--------------------------+--------------+---------+----------+-----------------+----------------+-------+-------+-------+-------+-------+-----+----------+---------+--------------+----------------+\n",
      "|transaction_date|transaction_id  |customer_id|customer_fname|customer_lname|customer_email            |sales_agent_id|branch_id|product_id|product_name     |product_category|offer_1|offer_2|offer_3|offer_4|offer_5|units|unit_price|is_online|payment_method|shipping_address|\n",
      "+----------------+----------------+-----------+--------------+--------------+--------------------------+--------------+---------+----------+-----------------+----------------+-------+-------+-------+-------+-------+-----+----------+---------+--------------+----------------+\n",
      "|2022-12-13      |trx-675189967400|85552      |James         |Smith         |james.smith@hotmail.com^  |8             |3        |20        |Heels            |Footwear        |null   |null   |true   |null   |null   |10   |59.99     |no       |Credit Card   |null            |\n",
      "|2023-02-22      |trx-854274530672|85514      |John          |Davis         |john.davis@gmail.com\\     |7             |5        |25        |Washing Machine  |Appliances      |true   |null   |null   |null   |null   |2    |499.99    |no       |Cash          |null            |\n",
      "|2022-08-11      |trx-133048404295|85464      |Sophia        |Brown         |sophia.brown@hotmail.com\\ |8             |5        |29        |Hair Straightener|Appliances      |null   |null   |null   |null   |null   |4    |39.99     |no       |Credit Card   |null            |\n",
      "|2023-07-08      |trx-945140296146|85545      |Michael       |Davis         |michael.davis@hotmail.com<|7             |1        |1         |Laptop           |Electronics     |null   |null   |null   |true   |null   |4    |999.99    |no       |Credit Card   |null            |\n",
      "|2023-01-07      |trx-309013678277|85558      |Sophia        |Taylor        |sophia.taylor@gmail.com'  |10            |3        |22        |Coffee Maker     |Appliances      |null   |true   |null   |null   |null   |6    |79.99     |no       |Cash          |null            |\n",
      "+----------------+----------------+-----------+--------------+--------------+--------------------------+--------------+---------+----------+-----------------+----------------+-------+-------+-------+-------+-------+-----+----------+---------+--------------+----------------+\n",
      "only showing top 5 rows\n",
      "\n"
     ]
    }
   ],
   "source": [
    "# Trim Transactions data (for String columns only)\n",
    "transactions_cleaned = trim_columns(transactions)\n",
    "transactions_cleaned.show(5, truncate=False)"
   ]
  },
  {
   "cell_type": "code",
   "execution_count": 50,
   "id": "480c3d62-418a-4663-b3ff-f058c3a6c5d0",
   "metadata": {
    "execution": {
     "iopub.execute_input": "2024-07-09T16:58:28.502891Z",
     "iopub.status.busy": "2024-07-09T16:58:28.500870Z",
     "iopub.status.idle": "2024-07-09T16:58:28.507509Z",
     "shell.execute_reply": "2024-07-09T16:58:28.506134Z"
    },
    "papermill": {
     "duration": 0.135963,
     "end_time": "2024-07-09T16:58:28.507772",
     "exception": false,
     "start_time": "2024-07-09T16:58:28.371809",
     "status": "completed"
    },
    "tags": []
   },
   "outputs": [],
   "source": [
    "spark_logger.info('DONE : Trmming String Columns')"
   ]
  },
  {
   "cell_type": "code",
   "execution_count": 51,
   "id": "023a3630-90af-47af-a9a0-9f47eeccca16",
   "metadata": {
    "execution": {
     "iopub.execute_input": "2024-07-09T16:58:28.809241Z",
     "iopub.status.busy": "2024-07-09T16:58:28.807231Z",
     "iopub.status.idle": "2024-07-09T16:58:29.667528Z",
     "shell.execute_reply": "2024-07-09T16:58:29.668732Z"
    },
    "papermill": {
     "duration": 1.037499,
     "end_time": "2024-07-09T16:58:29.669004",
     "exception": false,
     "start_time": "2024-07-09T16:58:28.631505",
     "status": "completed"
    },
    "tags": []
   },
   "outputs": [
    {
     "name": "stdout",
     "output_type": "stream",
     "text": [
      "+----------------+----------------+-----------+--------------+--------------+-------------------------+--------------+---------+----------+-----------------+----------------+-------+-------+-------+-------+-------+-----+----------+---------+--------------+----------------+\n",
      "|transaction_date|transaction_id  |customer_id|customer_fname|customer_lname|customer_email           |sales_agent_id|branch_id|product_id|product_name     |product_category|offer_1|offer_2|offer_3|offer_4|offer_5|units|unit_price|is_online|payment_method|shipping_address|\n",
      "+----------------+----------------+-----------+--------------+--------------+-------------------------+--------------+---------+----------+-----------------+----------------+-------+-------+-------+-------+-------+-----+----------+---------+--------------+----------------+\n",
      "|2022-12-13      |trx-675189967400|85552      |James         |Smith         |james.smith@hotmail.com  |8             |3        |20        |Heels            |Footwear        |null   |null   |true   |null   |null   |10   |59.99     |no       |Credit Card   |null            |\n",
      "|2023-02-22      |trx-854274530672|85514      |John          |Davis         |john.davis@gmail.com     |7             |5        |25        |Washing Machine  |Appliances      |true   |null   |null   |null   |null   |2    |499.99    |no       |Cash          |null            |\n",
      "|2022-08-11      |trx-133048404295|85464      |Sophia        |Brown         |sophia.brown@hotmail.com |8             |5        |29        |Hair Straightener|Appliances      |null   |null   |null   |null   |null   |4    |39.99     |no       |Credit Card   |null            |\n",
      "|2023-07-08      |trx-945140296146|85545      |Michael       |Davis         |michael.davis@hotmail.com|7             |1        |1         |Laptop           |Electronics     |null   |null   |null   |true   |null   |4    |999.99    |no       |Credit Card   |null            |\n",
      "|2023-01-07      |trx-309013678277|85558      |Sophia        |Taylor        |sophia.taylor@gmail.com  |10            |3        |22        |Coffee Maker     |Appliances      |null   |true   |null   |null   |null   |6    |79.99     |no       |Cash          |null            |\n",
      "+----------------+----------------+-----------+--------------+--------------+-------------------------+--------------+---------+----------+-----------------+----------------+-------+-------+-------+-------+-------+-----+----------+---------+--------------+----------------+\n",
      "only showing top 5 rows\n",
      "\n"
     ]
    }
   ],
   "source": [
    "# Clean the customer_email column\n",
    "transactions_cleaned = transactions_cleaned.withColumn('customer_email', sf.expr(\"substring(customer_email, 1, locate('.com', customer_email) + 3)\"))\n",
    "transactions_cleaned.show(5, truncate=False)"
   ]
  },
  {
   "cell_type": "code",
   "execution_count": 52,
   "id": "3fba2945-4e18-4001-b6f5-2e4e2a435004",
   "metadata": {
    "execution": {
     "iopub.execute_input": "2024-07-09T16:58:29.977908Z",
     "iopub.status.busy": "2024-07-09T16:58:29.976300Z",
     "iopub.status.idle": "2024-07-09T16:58:29.984133Z",
     "shell.execute_reply": "2024-07-09T16:58:29.983015Z"
    },
    "papermill": {
     "duration": 0.157817,
     "end_time": "2024-07-09T16:58:29.984359",
     "exception": false,
     "start_time": "2024-07-09T16:58:29.826542",
     "status": "completed"
    },
    "tags": []
   },
   "outputs": [],
   "source": [
    "spark_logger.info('DONE : Cleaning \"customer_email\" Column')"
   ]
  },
  {
   "cell_type": "code",
   "execution_count": 53,
   "id": "0582cfbc-e717-4e8f-8538-e2a0c8348401",
   "metadata": {
    "execution": {
     "iopub.execute_input": "2024-07-09T16:58:30.272384Z",
     "iopub.status.busy": "2024-07-09T16:58:30.270751Z",
     "iopub.status.idle": "2024-07-09T16:58:31.092679Z",
     "shell.execute_reply": "2024-07-09T16:58:31.091812Z"
    },
    "papermill": {
     "duration": 0.970002,
     "end_time": "2024-07-09T16:58:31.092867",
     "exception": false,
     "start_time": "2024-07-09T16:58:30.122865",
     "status": "completed"
    },
    "tags": []
   },
   "outputs": [],
   "source": [
    "# Check for duplicates\n",
    "if transactions_cleaned.count() > transactions_cleaned.dropDuplicates(['transaction_date', 'transaction_id']).count():\n",
    "    transactions_cleaned = transactions_cleaned.dropDuplicates(['transaction_date', 'transaction_id'])"
   ]
  },
  {
   "cell_type": "code",
   "execution_count": 54,
   "id": "e7a90cde-5e39-49dc-a91b-c286051b48d4",
   "metadata": {
    "execution": {
     "iopub.execute_input": "2024-07-09T16:58:31.511445Z",
     "iopub.status.busy": "2024-07-09T16:58:31.508759Z",
     "iopub.status.idle": "2024-07-09T16:58:31.516191Z",
     "shell.execute_reply": "2024-07-09T16:58:31.514641Z"
    },
    "papermill": {
     "duration": 0.208089,
     "end_time": "2024-07-09T16:58:31.516536",
     "exception": false,
     "start_time": "2024-07-09T16:58:31.308447",
     "status": "completed"
    },
    "tags": []
   },
   "outputs": [],
   "source": [
    "spark_logger.info('DONE : Checking for Duplicates')"
   ]
  },
  {
   "cell_type": "markdown",
   "id": "28ffbe4c-f324-4a5b-b686-ef2d1d7c5142",
   "metadata": {
    "papermill": {
     "duration": 0.168015,
     "end_time": "2024-07-09T16:58:31.804068",
     "exception": false,
     "start_time": "2024-07-09T16:58:31.636053",
     "status": "completed"
    },
    "tags": []
   },
   "source": [
    "### Writing to HDFS"
   ]
  },
  {
   "cell_type": "code",
   "execution_count": 55,
   "id": "697ed3f8-f9cc-410e-a3d6-9532235866af",
   "metadata": {
    "execution": {
     "iopub.execute_input": "2024-07-09T16:58:32.200332Z",
     "iopub.status.busy": "2024-07-09T16:58:32.198691Z",
     "iopub.status.idle": "2024-07-09T16:58:33.268955Z",
     "shell.execute_reply": "2024-07-09T16:58:33.265240Z"
    },
    "papermill": {
     "duration": 1.281767,
     "end_time": "2024-07-09T16:58:33.269563",
     "exception": false,
     "start_time": "2024-07-09T16:58:31.987796",
     "status": "completed"
    },
    "tags": []
   },
   "outputs": [],
   "source": [
    "transactions_cleaned.coalesce(1).write.mode('overwrite').option('header','true').csv(f'{silver_layer_directory_path}/transactions_cleaned.csv')"
   ]
  },
  {
   "cell_type": "code",
   "execution_count": 56,
   "id": "7f98cc77-11f2-4b81-a57d-0969dbb956d0",
   "metadata": {
    "execution": {
     "iopub.execute_input": "2024-07-09T16:58:33.675404Z",
     "iopub.status.busy": "2024-07-09T16:58:33.673451Z",
     "iopub.status.idle": "2024-07-09T16:58:33.681573Z",
     "shell.execute_reply": "2024-07-09T16:58:33.683170Z"
    },
    "papermill": {
     "duration": 0.194608,
     "end_time": "2024-07-09T16:58:33.683575",
     "exception": false,
     "start_time": "2024-07-09T16:58:33.488967",
     "status": "completed"
    },
    "tags": []
   },
   "outputs": [],
   "source": [
    "spark_logger.info('DONE : Writing to HDFS\\n')"
   ]
  },
  {
   "cell_type": "markdown",
   "id": "76567710-4231-496f-9c49-2a9970fe6a85",
   "metadata": {
    "papermill": {
     "duration": 0.18499,
     "end_time": "2024-07-09T16:58:34.087443",
     "exception": false,
     "start_time": "2024-07-09T16:58:33.902453",
     "status": "completed"
    },
    "tags": []
   },
   "source": [
    "---"
   ]
  },
  {
   "cell_type": "markdown",
   "id": "3d68620b-6a2e-4d93-85be-55216c00c411",
   "metadata": {
    "papermill": {
     "duration": 0.190612,
     "end_time": "2024-07-09T16:58:34.499594",
     "exception": false,
     "start_time": "2024-07-09T16:58:34.308982",
     "status": "completed"
    },
    "tags": []
   },
   "source": [
    "## Stop Spark context"
   ]
  },
  {
   "cell_type": "code",
   "execution_count": 57,
   "id": "4755a436-d9be-4033-8bee-80cbb12916fd",
   "metadata": {
    "execution": {
     "iopub.execute_input": "2024-07-09T16:58:34.866189Z",
     "iopub.status.busy": "2024-07-09T16:58:34.864442Z",
     "iopub.status.idle": "2024-07-09T16:58:35.803341Z",
     "shell.execute_reply": "2024-07-09T16:58:35.800619Z"
    },
    "papermill": {
     "duration": 1.131055,
     "end_time": "2024-07-09T16:58:35.803784",
     "exception": false,
     "start_time": "2024-07-09T16:58:34.672729",
     "status": "completed"
    },
    "tags": []
   },
   "outputs": [],
   "source": [
    "spark.stop()"
   ]
  },
  {
   "cell_type": "code",
   "execution_count": 58,
   "id": "b991403b-2090-4b7e-8a52-c993401997d2",
   "metadata": {
    "execution": {
     "iopub.execute_input": "2024-07-09T16:58:36.157702Z",
     "iopub.status.busy": "2024-07-09T16:58:36.156286Z",
     "iopub.status.idle": "2024-07-09T16:58:36.163950Z",
     "shell.execute_reply": "2024-07-09T16:58:36.162203Z"
    },
    "papermill": {
     "duration": 0.18563,
     "end_time": "2024-07-09T16:58:36.164249",
     "exception": false,
     "start_time": "2024-07-09T16:58:35.978619",
     "status": "completed"
    },
    "tags": []
   },
   "outputs": [],
   "source": [
    "spark_logger.info('Spark Session Stopped\\n--------------------------------------------------------------------------------------------------------------------')"
   ]
  },
  {
   "cell_type": "markdown",
   "id": "e94c290f-ab46-40a3-84d2-c55881c78191",
   "metadata": {
    "papermill": {
     "duration": 0.156619,
     "end_time": "2024-07-09T16:58:36.485965",
     "exception": false,
     "start_time": "2024-07-09T16:58:36.329346",
     "status": "completed"
    },
    "tags": []
   },
   "source": [
    "---"
   ]
  }
 ],
 "metadata": {
  "kernelspec": {
   "display_name": "Pyspark 2",
   "language": "python",
   "name": "pyspark2"
  },
  "language_info": {
   "codemirror_mode": {
    "name": "ipython",
    "version": 3
   },
   "file_extension": ".py",
   "mimetype": "text/x-python",
   "name": "python",
   "nbconvert_exporter": "python",
   "pygments_lexer": "ipython3",
   "version": "3.6.9"
  },
  "papermill": {
   "default_parameters": {},
   "duration": 93.107091,
   "end_time": "2024-07-09T16:58:37.301510",
   "environment_variables": {},
   "exception": null,
   "input_path": "cleaning-layer.ipynb",
   "output_path": "cleaning-layer.ipynb",
   "parameters": {},
   "start_time": "2024-07-09T16:57:04.194419",
   "version": "2.3.4"
  }
 },
 "nbformat": 4,
 "nbformat_minor": 5
}