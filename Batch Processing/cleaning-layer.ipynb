{
 "cells": [
  {
   "cell_type": "markdown",
   "id": "22a48cad-137c-480b-b89d-2f44837a06e8",
   "metadata": {
    "papermill": {
     "duration": 0.070894,
     "end_time": "2024-07-12T10:30:19.102387",
     "exception": false,
     "start_time": "2024-07-12T10:30:19.031493",
     "status": "completed"
    },
    "tags": []
   },
   "source": [
    "# Environment Preparation\n",
    "---"
   ]
  },
  {
   "cell_type": "markdown",
   "id": "91c3565d-9a05-4ad1-a57e-bf496756f111",
   "metadata": {
    "papermill": {
     "duration": 0.064112,
     "end_time": "2024-07-12T10:30:19.236917",
     "exception": false,
     "start_time": "2024-07-12T10:30:19.172805",
     "status": "completed"
    },
    "tags": []
   },
   "source": [
    "### Importing the required libraries"
   ]
  },
  {
   "cell_type": "code",
   "execution_count": 1,
   "id": "3f91b161-bf38-431b-b2e7-9ef99ee868b4",
   "metadata": {
    "execution": {
     "iopub.execute_input": "2024-07-12T10:30:19.374878Z",
     "iopub.status.busy": "2024-07-12T10:30:19.371121Z",
     "iopub.status.idle": "2024-07-12T10:30:19.710237Z",
     "shell.execute_reply": "2024-07-12T10:30:19.709637Z"
    },
    "papermill": {
     "duration": 0.410044,
     "end_time": "2024-07-12T10:30:19.710365",
     "exception": false,
     "start_time": "2024-07-12T10:30:19.300321",
     "status": "completed"
    },
    "tags": []
   },
   "outputs": [],
   "source": [
    "import re, os\n",
    "from pyspark.sql.types import *\n",
    "import pyspark.sql.functions as sf\n",
    "from pyspark.sql import SparkSession\n",
    "import logging\n",
    "from datetime import date, datetime"
   ]
  },
  {
   "cell_type": "markdown",
   "id": "76d5d535-5864-4baa-a6ed-e06ebd426038",
   "metadata": {
    "papermill": {
     "duration": 0.071622,
     "end_time": "2024-07-12T10:30:19.869953",
     "exception": false,
     "start_time": "2024-07-12T10:30:19.798331",
     "status": "completed"
    },
    "tags": []
   },
   "source": [
    "### Setup the loggers"
   ]
  },
  {
   "cell_type": "code",
   "execution_count": 2,
   "id": "cd3f540a-5ca6-4077-9cfc-7159161b1ed8",
   "metadata": {
    "execution": {
     "iopub.execute_input": "2024-07-12T10:30:20.008742Z",
     "iopub.status.busy": "2024-07-12T10:30:20.008124Z",
     "iopub.status.idle": "2024-07-12T10:30:20.011112Z",
     "shell.execute_reply": "2024-07-12T10:30:20.011812Z"
    },
    "papermill": {
     "duration": 0.075518,
     "end_time": "2024-07-12T10:30:20.012001",
     "exception": false,
     "start_time": "2024-07-12T10:30:19.936483",
     "status": "completed"
    },
    "tags": []
   },
   "outputs": [],
   "source": [
    "# Separate pyspark loggers\n",
    "pyspark_log = logging.getLogger('pyspark').setLevel(logging.ERROR)\n",
    "py4j_logger = logging.getLogger(\"py4j\").setLevel(logging.ERROR)"
   ]
  },
  {
   "cell_type": "code",
   "execution_count": 3,
   "id": "1062e462-0181-48f7-9905-3a9d9188fba1",
   "metadata": {
    "execution": {
     "iopub.execute_input": "2024-07-12T10:30:20.147458Z",
     "iopub.status.busy": "2024-07-12T10:30:20.146807Z",
     "iopub.status.idle": "2024-07-12T10:30:20.154437Z",
     "shell.execute_reply": "2024-07-12T10:30:20.153930Z"
    },
    "papermill": {
     "duration": 0.078914,
     "end_time": "2024-07-12T10:30:20.154546",
     "exception": false,
     "start_time": "2024-07-12T10:30:20.075632",
     "status": "completed"
    },
    "tags": []
   },
   "outputs": [],
   "source": [
    "# First logger for logging the spark job\n",
    "spark_logger = logging.getLogger('SparkJobs')\n",
    "spark_logger.setLevel(logging.DEBUG)\n",
    "today_date = date.today().isoformat()\n",
    "logger_file_name = f'Logs/SparkLogs/SparkJobsLogs-{today_date}.log'\n",
    "fh1 = logging.FileHandler(logger_file_name)\n",
    "fh1.setLevel(logging.DEBUG)\n",
    "fh1.setFormatter(logging.Formatter('%(asctime)s - %(message)s', datefmt='%d-%b-%y %H:%M:%S'))\n",
    "spark_logger.addHandler(fh1)"
   ]
  },
  {
   "cell_type": "code",
   "execution_count": 4,
   "id": "ac290a3f-0f05-440c-abb0-9622fedc5cc9",
   "metadata": {
    "execution": {
     "iopub.execute_input": "2024-07-12T10:30:20.286413Z",
     "iopub.status.busy": "2024-07-12T10:30:20.285806Z",
     "iopub.status.idle": "2024-07-12T10:30:20.294019Z",
     "shell.execute_reply": "2024-07-12T10:30:20.293499Z"
    },
    "papermill": {
     "duration": 0.076356,
     "end_time": "2024-07-12T10:30:20.294180",
     "exception": false,
     "start_time": "2024-07-12T10:30:20.217824",
     "status": "completed"
    },
    "tags": []
   },
   "outputs": [],
   "source": [
    "# Second logger for reporting some information about the files\n",
    "data_logger = logging.getLogger('DataLogs')\n",
    "current_time = datetime.now()\n",
    "data_logger.setLevel(logging.DEBUG)\n",
    "if not os.path.exists(f'Logs/DataLogs/{today_date}'):\n",
    "    os.makedirs(f'Logs/DataLogs/{today_date}')\n",
    "data_logs_file_name = f'Logs/DataLogs/{today_date}/DataInfo-H-{current_time.hour}.log'\n",
    "fh2 = logging.FileHandler(data_logs_file_name)\n",
    "fh2.setLevel(logging.DEBUG)\n",
    "fh2.setFormatter(logging.Formatter('%(message)s'))\n",
    "data_logger.addHandler(fh2)"
   ]
  },
  {
   "cell_type": "markdown",
   "id": "c9d0f207-d710-4d2f-9f51-ba0683166466",
   "metadata": {
    "papermill": {
     "duration": 0.064302,
     "end_time": "2024-07-12T10:30:20.422882",
     "exception": false,
     "start_time": "2024-07-12T10:30:20.358580",
     "status": "completed"
    },
    "tags": []
   },
   "source": [
    "### Start Spark Session"
   ]
  },
  {
   "cell_type": "code",
   "execution_count": 5,
   "id": "d87a3ff2-3681-435a-a14f-7813eee62e78",
   "metadata": {
    "execution": {
     "iopub.execute_input": "2024-07-12T10:30:20.576772Z",
     "iopub.status.busy": "2024-07-12T10:30:20.576026Z",
     "iopub.status.idle": "2024-07-12T10:30:27.163961Z",
     "shell.execute_reply": "2024-07-12T10:30:27.164449Z"
    },
    "papermill": {
     "duration": 6.662449,
     "end_time": "2024-07-12T10:30:27.164611",
     "exception": false,
     "start_time": "2024-07-12T10:30:20.502162",
     "status": "completed"
    },
    "tags": []
   },
   "outputs": [],
   "source": [
    "spark_logger.info('Starting Spark Session ...')\n",
    "spark = SparkSession\\\n",
    "    .builder\\\n",
    "    .master(\"local[4]\")\\\n",
    "    .appName(\"CleaningData\")\\\n",
    "    .config(\"spark.eventLog.logBlockUpdates.enabled\", True)\\\n",
    "    .getOrCreate()\n",
    "\n",
    "sc = spark.sparkContext\n",
    "spark_logger.info('Spark Session Started')"
   ]
  },
  {
   "cell_type": "markdown",
   "id": "89dbb0ff-72cf-41ce-9ee4-86ee31160d11",
   "metadata": {
    "papermill": {
     "duration": 0.069371,
     "end_time": "2024-07-12T10:30:27.299393",
     "exception": false,
     "start_time": "2024-07-12T10:30:27.230022",
     "status": "completed"
    },
    "tags": []
   },
   "source": [
    "---"
   ]
  },
  {
   "cell_type": "markdown",
   "id": "967adfe8-3cfe-4d4f-ab27-e09ebdbb963d",
   "metadata": {
    "papermill": {
     "duration": 0.063198,
     "end_time": "2024-07-12T10:30:27.428969",
     "exception": false,
     "start_time": "2024-07-12T10:30:27.365771",
     "status": "completed"
    },
    "tags": []
   },
   "source": [
    "# General Purpose Functions for Cleaning\n",
    "---"
   ]
  },
  {
   "cell_type": "markdown",
   "id": "b66f819b-606e-4376-ab9a-8ba8ffc8487a",
   "metadata": {
    "papermill": {
     "duration": 0.067761,
     "end_time": "2024-07-12T10:30:27.559334",
     "exception": false,
     "start_time": "2024-07-12T10:30:27.491573",
     "status": "completed"
    },
    "tags": []
   },
   "source": [
    "### Trimming String Columns"
   ]
  },
  {
   "cell_type": "code",
   "execution_count": 6,
   "id": "f8e58fb3-97c7-4c78-b517-0dfc43163bc0",
   "metadata": {
    "execution": {
     "iopub.execute_input": "2024-07-12T10:30:27.790129Z",
     "iopub.status.busy": "2024-07-12T10:30:27.788975Z",
     "iopub.status.idle": "2024-07-12T10:30:27.794366Z",
     "shell.execute_reply": "2024-07-12T10:30:27.795156Z"
    },
    "papermill": {
     "duration": 0.146181,
     "end_time": "2024-07-12T10:30:27.795375",
     "exception": false,
     "start_time": "2024-07-12T10:30:27.649194",
     "status": "completed"
    },
    "tags": []
   },
   "outputs": [],
   "source": [
    "# This function extracts the string columns and trims them, then returns the dataframe after trimming its string columns\n",
    "def trim_columns(dataframe):\n",
    "    columns = [column for column, dtype in dataframe.dtypes if dtype.startswith('string')]\n",
    "    for column in columns:\n",
    "        dataframe = dataframe.withColumn(column, sf.trim(sf.col(column)))\n",
    "    return dataframe"
   ]
  },
  {
   "cell_type": "markdown",
   "id": "9c2cef21-297a-4ec0-a479-459166b6d95f",
   "metadata": {
    "papermill": {
     "duration": 0.099899,
     "end_time": "2024-07-12T10:30:28.082703",
     "exception": false,
     "start_time": "2024-07-12T10:30:27.982804",
     "status": "completed"
    },
    "tags": []
   },
   "source": [
    "### Information about the dataframe"
   ]
  },
  {
   "cell_type": "code",
   "execution_count": 7,
   "id": "6098a41f-66c0-4921-a172-5e99c63d2ab6",
   "metadata": {
    "execution": {
     "iopub.execute_input": "2024-07-12T10:30:28.238471Z",
     "iopub.status.busy": "2024-07-12T10:30:28.237585Z",
     "iopub.status.idle": "2024-07-12T10:30:28.241125Z",
     "shell.execute_reply": "2024-07-12T10:30:28.241815Z"
    },
    "papermill": {
     "duration": 0.086469,
     "end_time": "2024-07-12T10:30:28.242006",
     "exception": false,
     "start_time": "2024-07-12T10:30:28.155537",
     "status": "completed"
    },
    "tags": []
   },
   "outputs": [],
   "source": [
    "# This function takes a dataframe and a list of columns to check if there's duplicates or not,\n",
    "# then returns the number of records of this dataframe and if there're duplicates according to the passed columns\n",
    "def get_number_of_records(dataframe, duplicate_columns):\n",
    "    number_of_records = dataframe.count()\n",
    "    number_of_duplicates = number_of_records - dataframe.dropDuplicates(duplicate_columns).count()\n",
    "    return [number_of_records, number_of_duplicates]"
   ]
  },
  {
   "cell_type": "markdown",
   "id": "055470e4-0739-4c33-b4b1-5e2630dbd8ef",
   "metadata": {
    "papermill": {
     "duration": 0.088218,
     "end_time": "2024-07-12T10:30:28.413976",
     "exception": false,
     "start_time": "2024-07-12T10:30:28.325758",
     "status": "completed"
    },
    "tags": []
   },
   "source": [
    "### Information about the dataframe's columns"
   ]
  },
  {
   "cell_type": "code",
   "execution_count": 8,
   "id": "fdab36ae-6fc0-47be-9908-be227ad0f0fc",
   "metadata": {
    "execution": {
     "iopub.execute_input": "2024-07-12T10:30:28.617369Z",
     "iopub.status.busy": "2024-07-12T10:30:28.616157Z",
     "iopub.status.idle": "2024-07-12T10:30:28.620190Z",
     "shell.execute_reply": "2024-07-12T10:30:28.621139Z"
    },
    "papermill": {
     "duration": 0.103961,
     "end_time": "2024-07-12T10:30:28.621333",
     "exception": false,
     "start_time": "2024-07-12T10:30:28.517372",
     "status": "completed"
    },
    "tags": []
   },
   "outputs": [],
   "source": [
    "# This function takes a dataframe which contains only one column, and returns its datatype, number of unique values, number of actual values, \n",
    "def get_columns_info(dataframe):\n",
    "    return dataframe.dtypes"
   ]
  },
  {
   "cell_type": "markdown",
   "id": "022deac9-7e9b-411b-98c4-16a82c98c69a",
   "metadata": {
    "papermill": {
     "duration": 0.079001,
     "end_time": "2024-07-12T10:30:28.778477",
     "exception": false,
     "start_time": "2024-07-12T10:30:28.699476",
     "status": "completed"
    },
    "tags": []
   },
   "source": [
    "---"
   ]
  },
  {
   "cell_type": "markdown",
   "id": "b3657195-4f5e-495b-b0c6-5bf8631919e1",
   "metadata": {
    "papermill": {
     "duration": 0.067635,
     "end_time": "2024-07-12T10:30:28.921422",
     "exception": false,
     "start_time": "2024-07-12T10:30:28.853787",
     "status": "completed"
    },
    "tags": []
   },
   "source": [
    "# Files Pre-Processing"
   ]
  },
  {
   "cell_type": "code",
   "execution_count": 9,
   "id": "d27436ba-f0b7-4b0e-be3a-529312dac683",
   "metadata": {
    "execution": {
     "iopub.execute_input": "2024-07-12T10:30:29.079904Z",
     "iopub.status.busy": "2024-07-12T10:30:29.078976Z",
     "iopub.status.idle": "2024-07-12T10:30:29.083796Z",
     "shell.execute_reply": "2024-07-12T10:30:29.083222Z"
    },
    "papermill": {
     "duration": 0.083005,
     "end_time": "2024-07-12T10:30:29.083946",
     "exception": false,
     "start_time": "2024-07-12T10:30:29.000941",
     "status": "completed"
    },
    "tags": []
   },
   "outputs": [],
   "source": [
    "spark_logger.info(f'Batch in Hour: {current_time.hour}')"
   ]
  },
  {
   "cell_type": "code",
   "execution_count": 10,
   "id": "77c015da-e23e-431c-8492-c43183a0e825",
   "metadata": {
    "execution": {
     "iopub.execute_input": "2024-07-12T10:30:29.270812Z",
     "iopub.status.busy": "2024-07-12T10:30:29.269965Z",
     "iopub.status.idle": "2024-07-12T10:30:29.274860Z",
     "shell.execute_reply": "2024-07-12T10:30:29.274173Z"
    },
    "papermill": {
     "duration": 0.097369,
     "end_time": "2024-07-12T10:30:29.275007",
     "exception": false,
     "start_time": "2024-07-12T10:30:29.177638",
     "status": "completed"
    },
    "tags": []
   },
   "outputs": [],
   "source": [
    "spark_logger.info('Starting reading files...\\n')"
   ]
  },
  {
   "cell_type": "code",
   "execution_count": 11,
   "id": "57db0fbd-2e9f-4ac3-8c0b-2dd75859e78f",
   "metadata": {
    "execution": {
     "iopub.execute_input": "2024-07-12T10:30:29.474785Z",
     "iopub.status.busy": "2024-07-12T10:30:29.473584Z",
     "iopub.status.idle": "2024-07-12T10:30:29.482114Z",
     "shell.execute_reply": "2024-07-12T10:30:29.480946Z"
    },
    "papermill": {
     "duration": 0.126112,
     "end_time": "2024-07-12T10:30:29.482403",
     "exception": false,
     "start_time": "2024-07-12T10:30:29.356291",
     "status": "completed"
    },
    "tags": []
   },
   "outputs": [],
   "source": [
    "data_logger.info('Hi .. Here\\'s some information about our batch !\\n')"
   ]
  },
  {
   "cell_type": "code",
   "execution_count": 12,
   "id": "b27bffa7-6147-4725-bcfd-858bff465e0a",
   "metadata": {
    "execution": {
     "iopub.execute_input": "2024-07-12T10:30:29.660408Z",
     "iopub.status.busy": "2024-07-12T10:30:29.659263Z",
     "iopub.status.idle": "2024-07-12T10:30:29.664940Z",
     "shell.execute_reply": "2024-07-12T10:30:29.663916Z"
    },
    "papermill": {
     "duration": 0.088731,
     "end_time": "2024-07-12T10:30:29.665194",
     "exception": false,
     "start_time": "2024-07-12T10:30:29.576463",
     "status": "completed"
    },
    "tags": []
   },
   "outputs": [],
   "source": [
    "# Define the directory of the files, depending on the date and batch's hour\n",
    "files_directory_path = f'/user/itversity/q-retail-company/bronze/{today_date}/hour-{current_time.hour}'\n",
    "\n",
    "# Define the sliver layer directory\n",
    "silver_layer_directory_path = f'/user/itversity/q-retail-company/silver/{today_date}/hour-{current_time.hour}'"
   ]
  },
  {
   "cell_type": "markdown",
   "id": "59dad7cf-8ae1-4e5b-92f4-a6aefdaa4b21",
   "metadata": {
    "papermill": {
     "duration": 0.097257,
     "end_time": "2024-07-12T10:30:29.860084",
     "exception": false,
     "start_time": "2024-07-12T10:30:29.762827",
     "status": "completed"
    },
    "tags": []
   },
   "source": [
    "## Branches Files Processing\n",
    "---"
   ]
  },
  {
   "cell_type": "code",
   "execution_count": 13,
   "id": "244fa7f4-dfa5-4d2e-9cd5-7fc35d959417",
   "metadata": {
    "execution": {
     "iopub.execute_input": "2024-07-12T10:30:30.050841Z",
     "iopub.status.busy": "2024-07-12T10:30:30.049656Z",
     "iopub.status.idle": "2024-07-12T10:30:30.053362Z",
     "shell.execute_reply": "2024-07-12T10:30:30.054162Z"
    },
    "papermill": {
     "duration": 0.10764,
     "end_time": "2024-07-12T10:30:30.054367",
     "exception": false,
     "start_time": "2024-07-12T10:30:29.946727",
     "status": "completed"
    },
    "tags": []
   },
   "outputs": [],
   "source": [
    "spark_logger.info('Processing Branches File...')"
   ]
  },
  {
   "cell_type": "code",
   "execution_count": 14,
   "id": "a2e3c74f-1d4a-4ad6-afa1-18739416eaa2",
   "metadata": {
    "execution": {
     "iopub.execute_input": "2024-07-12T10:30:30.292242Z",
     "iopub.status.busy": "2024-07-12T10:30:30.290192Z",
     "iopub.status.idle": "2024-07-12T10:30:30.299584Z",
     "shell.execute_reply": "2024-07-12T10:30:30.296181Z"
    },
    "papermill": {
     "duration": 0.141321,
     "end_time": "2024-07-12T10:30:30.299969",
     "exception": false,
     "start_time": "2024-07-12T10:30:30.158648",
     "status": "completed"
    },
    "tags": []
   },
   "outputs": [],
   "source": [
    "data_logger.info('Branches File:\\n-------------')"
   ]
  },
  {
   "cell_type": "markdown",
   "id": "0c339f2d-3a87-4ae9-aa8d-8f7103700f57",
   "metadata": {
    "papermill": {
     "duration": 0.079793,
     "end_time": "2024-07-12T10:30:30.472842",
     "exception": false,
     "start_time": "2024-07-12T10:30:30.393049",
     "status": "completed"
    },
    "tags": []
   },
   "source": [
    "### Schema Handling"
   ]
  },
  {
   "cell_type": "code",
   "execution_count": 15,
   "id": "3765e0bf-2d96-4a46-a8a0-679ec62c7a7a",
   "metadata": {
    "execution": {
     "iopub.execute_input": "2024-07-12T10:30:30.675332Z",
     "iopub.status.busy": "2024-07-12T10:30:30.674292Z",
     "iopub.status.idle": "2024-07-12T10:30:30.679126Z",
     "shell.execute_reply": "2024-07-12T10:30:30.678192Z"
    },
    "papermill": {
     "duration": 0.106309,
     "end_time": "2024-07-12T10:30:30.679393",
     "exception": false,
     "start_time": "2024-07-12T10:30:30.573084",
     "status": "completed"
    },
    "tags": []
   },
   "outputs": [],
   "source": [
    "BranchesSchema = StructType([\n",
    "    StructField(\"branch_id\", IntegerType(), nullable=False),\n",
    "    StructField(\"branch_location\", StringType(), nullable=False),\n",
    "    StructField(\"branch_establish_date\", DateType(), nullable=False),\n",
    "    StructField(\"branch_class\", StringType(), nullable=False)\n",
    "])"
   ]
  },
  {
   "cell_type": "code",
   "execution_count": 16,
   "id": "34dc21a1-db51-406d-afd4-6c319f684159",
   "metadata": {
    "execution": {
     "iopub.execute_input": "2024-07-12T10:30:30.865371Z",
     "iopub.status.busy": "2024-07-12T10:30:30.864768Z",
     "iopub.status.idle": "2024-07-12T10:30:30.868341Z",
     "shell.execute_reply": "2024-07-12T10:30:30.867690Z"
    },
    "papermill": {
     "duration": 0.088716,
     "end_time": "2024-07-12T10:30:30.868466",
     "exception": false,
     "start_time": "2024-07-12T10:30:30.779750",
     "status": "completed"
    },
    "tags": []
   },
   "outputs": [],
   "source": [
    "spark_logger.info('DONE : Schema Handling')"
   ]
  },
  {
   "cell_type": "markdown",
   "id": "18a6df24-fd31-436a-82b4-425d209d8d2b",
   "metadata": {
    "papermill": {
     "duration": 0.081764,
     "end_time": "2024-07-12T10:30:31.029408",
     "exception": false,
     "start_time": "2024-07-12T10:30:30.947644",
     "status": "completed"
    },
    "tags": []
   },
   "source": [
    "### Reading the file"
   ]
  },
  {
   "cell_type": "code",
   "execution_count": 17,
   "id": "b7e3ebc7-3738-4e17-a16b-d97b43f0572d",
   "metadata": {
    "execution": {
     "iopub.execute_input": "2024-07-12T10:30:31.178172Z",
     "iopub.status.busy": "2024-07-12T10:30:31.177570Z",
     "iopub.status.idle": "2024-07-12T10:30:34.530101Z",
     "shell.execute_reply": "2024-07-12T10:30:34.530669Z"
    },
    "papermill": {
     "duration": 3.429774,
     "end_time": "2024-07-12T10:30:34.530827",
     "exception": false,
     "start_time": "2024-07-12T10:30:31.101053",
     "status": "completed"
    },
    "tags": []
   },
   "outputs": [
    {
     "name": "stdout",
     "output_type": "stream",
     "text": [
      "+---------+---------------+---------------------+------------+\n",
      "|branch_id|branch_location|branch_establish_date|branch_class|\n",
      "+---------+---------------+---------------------+------------+\n",
      "|        1|       New York|           2017-01-15|           A|\n",
      "|        2|    Los Angeles|           2016-07-28|           B|\n",
      "|        3|        Chicago|           2015-03-10|           A|\n",
      "|        4|        Houston|           2016-11-05|           D|\n",
      "|        5|        Phoenix|           2017-09-20|           C|\n",
      "+---------+---------------+---------------------+------------+\n",
      "only showing top 5 rows\n",
      "\n"
     ]
    }
   ],
   "source": [
    "branches = spark.read.csv(fr'{files_directory_path}/branches_*', header=True, schema=BranchesSchema)\n",
    "branches.show(5)"
   ]
  },
  {
   "cell_type": "code",
   "execution_count": 18,
   "id": "f8235e5d-54cc-419a-bb73-3d3046364c7e",
   "metadata": {
    "execution": {
     "iopub.execute_input": "2024-07-12T10:30:34.676315Z",
     "iopub.status.busy": "2024-07-12T10:30:34.675375Z",
     "iopub.status.idle": "2024-07-12T10:30:37.103134Z",
     "shell.execute_reply": "2024-07-12T10:30:37.102485Z"
    },
    "papermill": {
     "duration": 2.50057,
     "end_time": "2024-07-12T10:30:37.103288",
     "exception": false,
     "start_time": "2024-07-12T10:30:34.602718",
     "status": "completed"
    },
    "tags": []
   },
   "outputs": [],
   "source": [
    "branches_info = get_number_of_records(branches, ['branch_location', 'branch_establish_date', 'branch_class'])\n",
    "number_of_records = branches_info[0]\n",
    "number_of_duplicates = branches_info[1]\n",
    "data_logger.info(f'Number of records = {number_of_records}\\nNumber of duplicates = {number_of_duplicates}\\n')"
   ]
  },
  {
   "cell_type": "code",
   "execution_count": 19,
   "id": "55a03f0e-40a2-4030-b89a-f23cee369a33",
   "metadata": {
    "execution": {
     "iopub.execute_input": "2024-07-12T10:30:37.310308Z",
     "iopub.status.busy": "2024-07-12T10:30:37.309434Z",
     "iopub.status.idle": "2024-07-12T10:30:41.269301Z",
     "shell.execute_reply": "2024-07-12T10:30:41.268443Z"
    },
    "papermill": {
     "duration": 4.061683,
     "end_time": "2024-07-12T10:30:41.269525",
     "exception": false,
     "start_time": "2024-07-12T10:30:37.207842",
     "status": "completed"
    },
    "tags": []
   },
   "outputs": [],
   "source": [
    "data_logger.info('Columns:')\n",
    "counter = 1\n",
    "for column, dtype in get_columns_info(branches):\n",
    "    number_of_unique_values = branches.select(f'{column}').distinct().count()\n",
    "    data_logger.info(f'Column {counter}: {column} - Data Type: {dtype} - Number of Unique Values: {number_of_unique_values}')\n",
    "    counter += 1\n",
    "    \n",
    "data_logger.info('\\n')"
   ]
  },
  {
   "cell_type": "code",
   "execution_count": 20,
   "id": "96d6070e-ebe0-4955-a4f8-fdca7a5276e0",
   "metadata": {
    "execution": {
     "iopub.execute_input": "2024-07-12T10:30:41.448627Z",
     "iopub.status.busy": "2024-07-12T10:30:41.447891Z",
     "iopub.status.idle": "2024-07-12T10:30:41.451569Z",
     "shell.execute_reply": "2024-07-12T10:30:41.450996Z"
    },
    "papermill": {
     "duration": 0.0957,
     "end_time": "2024-07-12T10:30:41.451712",
     "exception": false,
     "start_time": "2024-07-12T10:30:41.356012",
     "status": "completed"
    },
    "tags": []
   },
   "outputs": [],
   "source": [
    "spark_logger.info('DONE : Reading Branches File')"
   ]
  },
  {
   "cell_type": "markdown",
   "id": "e917f162-bb1d-49a2-ae39-bc54cefc3ca7",
   "metadata": {
    "papermill": {
     "duration": 0.080153,
     "end_time": "2024-07-12T10:30:41.610047",
     "exception": false,
     "start_time": "2024-07-12T10:30:41.529894",
     "status": "completed"
    },
    "tags": []
   },
   "source": [
    "### Cleaning Process"
   ]
  },
  {
   "cell_type": "code",
   "execution_count": 21,
   "id": "40636365-ed52-4020-ac3f-e2891224213d",
   "metadata": {
    "execution": {
     "iopub.execute_input": "2024-07-12T10:30:41.759319Z",
     "iopub.status.busy": "2024-07-12T10:30:41.758426Z",
     "iopub.status.idle": "2024-07-12T10:30:41.919222Z",
     "shell.execute_reply": "2024-07-12T10:30:41.918697Z"
    },
    "papermill": {
     "duration": 0.236757,
     "end_time": "2024-07-12T10:30:41.919368",
     "exception": false,
     "start_time": "2024-07-12T10:30:41.682611",
     "status": "completed"
    },
    "tags": []
   },
   "outputs": [
    {
     "name": "stdout",
     "output_type": "stream",
     "text": [
      "+---------+---------------+---------------------+------------+\n",
      "|branch_id|branch_location|branch_establish_date|branch_class|\n",
      "+---------+---------------+---------------------+------------+\n",
      "|        1|       New York|           2017-01-15|           A|\n",
      "|        2|    Los Angeles|           2016-07-28|           B|\n",
      "|        3|        Chicago|           2015-03-10|           A|\n",
      "|        4|        Houston|           2016-11-05|           D|\n",
      "|        5|        Phoenix|           2017-09-20|           C|\n",
      "+---------+---------------+---------------------+------------+\n",
      "only showing top 5 rows\n",
      "\n"
     ]
    }
   ],
   "source": [
    "# Trim Branches data (for String columns only)\n",
    "branches_cleaned = trim_columns(branches)\n",
    "branches_cleaned.show(5)"
   ]
  },
  {
   "cell_type": "code",
   "execution_count": 22,
   "id": "e61bb3b6-5363-462a-a64e-fd03f600f69a",
   "metadata": {
    "execution": {
     "iopub.execute_input": "2024-07-12T10:30:42.070001Z",
     "iopub.status.busy": "2024-07-12T10:30:42.069380Z",
     "iopub.status.idle": "2024-07-12T10:30:42.072539Z",
     "shell.execute_reply": "2024-07-12T10:30:42.073163Z"
    },
    "papermill": {
     "duration": 0.078952,
     "end_time": "2024-07-12T10:30:42.073330",
     "exception": false,
     "start_time": "2024-07-12T10:30:41.994378",
     "status": "completed"
    },
    "tags": []
   },
   "outputs": [],
   "source": [
    "spark_logger.info('DONE : Trmming String Columns')"
   ]
  },
  {
   "cell_type": "code",
   "execution_count": 23,
   "id": "d8437524-7bf1-4d86-b870-efaf2cec8252",
   "metadata": {
    "execution": {
     "iopub.execute_input": "2024-07-12T10:30:42.224087Z",
     "iopub.status.busy": "2024-07-12T10:30:42.223480Z",
     "iopub.status.idle": "2024-07-12T10:30:42.231040Z",
     "shell.execute_reply": "2024-07-12T10:30:42.230580Z"
    },
    "papermill": {
     "duration": 0.084664,
     "end_time": "2024-07-12T10:30:42.231161",
     "exception": false,
     "start_time": "2024-07-12T10:30:42.146497",
     "status": "completed"
    },
    "tags": []
   },
   "outputs": [],
   "source": [
    "# Check for duplicates\n",
    "if number_of_duplicates > 0:\n",
    "    branches_cleaned = branches_cleaned.dropDuplicates(['branch_location', 'branch_establish_date', 'branch_class'])"
   ]
  },
  {
   "cell_type": "code",
   "execution_count": 24,
   "id": "de4998f6-daad-4827-9a7c-fdd1a10e91c0",
   "metadata": {
    "execution": {
     "iopub.execute_input": "2024-07-12T10:30:42.373134Z",
     "iopub.status.busy": "2024-07-12T10:30:42.372429Z",
     "iopub.status.idle": "2024-07-12T10:30:42.376170Z",
     "shell.execute_reply": "2024-07-12T10:30:42.376670Z"
    },
    "papermill": {
     "duration": 0.077962,
     "end_time": "2024-07-12T10:30:42.376799",
     "exception": false,
     "start_time": "2024-07-12T10:30:42.298837",
     "status": "completed"
    },
    "tags": []
   },
   "outputs": [],
   "source": [
    "spark_logger.info('DONE : Checking for Duplicates')"
   ]
  },
  {
   "cell_type": "markdown",
   "id": "04bc3fb0-7fac-4185-8334-d92c1c0e3b49",
   "metadata": {
    "papermill": {
     "duration": 0.069643,
     "end_time": "2024-07-12T10:30:42.514681",
     "exception": false,
     "start_time": "2024-07-12T10:30:42.445038",
     "status": "completed"
    },
    "tags": []
   },
   "source": [
    "### Writing to HDFS"
   ]
  },
  {
   "cell_type": "code",
   "execution_count": 25,
   "id": "f4d0b054-c0de-442c-8d15-94f00f2e4038",
   "metadata": {
    "execution": {
     "iopub.execute_input": "2024-07-12T10:30:42.745248Z",
     "iopub.status.busy": "2024-07-12T10:30:42.744492Z",
     "iopub.status.idle": "2024-07-12T10:30:44.361062Z",
     "shell.execute_reply": "2024-07-12T10:30:44.361608Z"
    },
    "papermill": {
     "duration": 1.763839,
     "end_time": "2024-07-12T10:30:44.361772",
     "exception": false,
     "start_time": "2024-07-12T10:30:42.597933",
     "status": "completed"
    },
    "tags": []
   },
   "outputs": [],
   "source": [
    "branches_cleaned.coalesce(1).write.mode('overwrite').parquet(f'{silver_layer_directory_path}/branches_cleaned.parquet')"
   ]
  },
  {
   "cell_type": "code",
   "execution_count": 26,
   "id": "b49d5f9f-0c56-4a43-8f96-e32a11ae759d",
   "metadata": {
    "execution": {
     "iopub.execute_input": "2024-07-12T10:30:44.520105Z",
     "iopub.status.busy": "2024-07-12T10:30:44.519397Z",
     "iopub.status.idle": "2024-07-12T10:30:44.523151Z",
     "shell.execute_reply": "2024-07-12T10:30:44.523611Z"
    },
    "papermill": {
     "duration": 0.083564,
     "end_time": "2024-07-12T10:30:44.523762",
     "exception": false,
     "start_time": "2024-07-12T10:30:44.440198",
     "status": "completed"
    },
    "tags": []
   },
   "outputs": [],
   "source": [
    "spark_logger.info('DONE : Writing to HDFS\\n')"
   ]
  },
  {
   "cell_type": "markdown",
   "id": "4825554d-a298-4be9-bd17-1fca9115d7f7",
   "metadata": {
    "papermill": {
     "duration": 0.07178,
     "end_time": "2024-07-12T10:30:44.673283",
     "exception": false,
     "start_time": "2024-07-12T10:30:44.601503",
     "status": "completed"
    },
    "tags": []
   },
   "source": [
    "---"
   ]
  },
  {
   "cell_type": "markdown",
   "id": "2a58ec9b-f2a4-491c-b3a8-94d2ed3ac574",
   "metadata": {
    "papermill": {
     "duration": 0.077501,
     "end_time": "2024-07-12T10:30:44.835023",
     "exception": false,
     "start_time": "2024-07-12T10:30:44.757522",
     "status": "completed"
    },
    "tags": []
   },
   "source": [
    "## Sales Agents Files Processing\n",
    "---"
   ]
  },
  {
   "cell_type": "code",
   "execution_count": 27,
   "id": "52a4c661-b380-4577-8234-7ee254d6c4f1",
   "metadata": {
    "execution": {
     "iopub.execute_input": "2024-07-12T10:30:45.001503Z",
     "iopub.status.busy": "2024-07-12T10:30:45.000516Z",
     "iopub.status.idle": "2024-07-12T10:30:45.004199Z",
     "shell.execute_reply": "2024-07-12T10:30:45.004707Z"
    },
    "papermill": {
     "duration": 0.09746,
     "end_time": "2024-07-12T10:30:45.004845",
     "exception": false,
     "start_time": "2024-07-12T10:30:44.907385",
     "status": "completed"
    },
    "tags": []
   },
   "outputs": [],
   "source": [
    "spark_logger.info('Processing Sales Agents File...')"
   ]
  },
  {
   "cell_type": "code",
   "execution_count": 28,
   "id": "e99a1351-b9bc-4ed8-b796-8eb0089671dd",
   "metadata": {
    "execution": {
     "iopub.execute_input": "2024-07-12T10:30:45.172781Z",
     "iopub.status.busy": "2024-07-12T10:30:45.158040Z",
     "iopub.status.idle": "2024-07-12T10:30:45.180170Z",
     "shell.execute_reply": "2024-07-12T10:30:45.179446Z"
    },
    "papermill": {
     "duration": 0.101141,
     "end_time": "2024-07-12T10:30:45.180300",
     "exception": false,
     "start_time": "2024-07-12T10:30:45.079159",
     "status": "completed"
    },
    "tags": []
   },
   "outputs": [],
   "source": [
    "data_logger.info('Sales Agents File:\\n-------------')"
   ]
  },
  {
   "cell_type": "markdown",
   "id": "1805f41d-db32-428b-8399-76c9059f2b80",
   "metadata": {
    "papermill": {
     "duration": 0.101278,
     "end_time": "2024-07-12T10:30:45.383256",
     "exception": false,
     "start_time": "2024-07-12T10:30:45.281978",
     "status": "completed"
    },
    "tags": []
   },
   "source": [
    "### Schema Handling"
   ]
  },
  {
   "cell_type": "code",
   "execution_count": 29,
   "id": "906c1991-a531-4249-aa62-243f89650fd5",
   "metadata": {
    "execution": {
     "iopub.execute_input": "2024-07-12T10:30:45.551132Z",
     "iopub.status.busy": "2024-07-12T10:30:45.550319Z",
     "iopub.status.idle": "2024-07-12T10:30:45.553235Z",
     "shell.execute_reply": "2024-07-12T10:30:45.553686Z"
    },
    "papermill": {
     "duration": 0.08143,
     "end_time": "2024-07-12T10:30:45.553836",
     "exception": false,
     "start_time": "2024-07-12T10:30:45.472406",
     "status": "completed"
    },
    "tags": []
   },
   "outputs": [],
   "source": [
    "SalesAgentsSchema = StructType([\n",
    "    StructField(\"agent_id\", IntegerType(), nullable=False),\n",
    "    StructField(\"agent_name\", StringType(), nullable=False),\n",
    "    StructField(\"agent_hire_date\", DateType(), nullable=False)\n",
    "])"
   ]
  },
  {
   "cell_type": "code",
   "execution_count": 30,
   "id": "8f59df5b-24fa-4193-a655-c2b64124bf7f",
   "metadata": {
    "execution": {
     "iopub.execute_input": "2024-07-12T10:30:45.699119Z",
     "iopub.status.busy": "2024-07-12T10:30:45.698153Z",
     "iopub.status.idle": "2024-07-12T10:30:45.701834Z",
     "shell.execute_reply": "2024-07-12T10:30:45.702519Z"
    },
    "papermill": {
     "duration": 0.079098,
     "end_time": "2024-07-12T10:30:45.702693",
     "exception": false,
     "start_time": "2024-07-12T10:30:45.623595",
     "status": "completed"
    },
    "tags": []
   },
   "outputs": [],
   "source": [
    "spark_logger.info('DONE : Schema Handling')"
   ]
  },
  {
   "cell_type": "markdown",
   "id": "14a02586-68bd-4c0a-bd84-d60e04e8cf2e",
   "metadata": {
    "papermill": {
     "duration": 0.074893,
     "end_time": "2024-07-12T10:30:45.850807",
     "exception": false,
     "start_time": "2024-07-12T10:30:45.775914",
     "status": "completed"
    },
    "tags": []
   },
   "source": [
    "### Reading the file"
   ]
  },
  {
   "cell_type": "code",
   "execution_count": 31,
   "id": "88d6d731-89c3-43be-af49-d849038e0be1",
   "metadata": {
    "execution": {
     "iopub.execute_input": "2024-07-12T10:30:46.009864Z",
     "iopub.status.busy": "2024-07-12T10:30:46.009137Z",
     "iopub.status.idle": "2024-07-12T10:30:46.132989Z",
     "shell.execute_reply": "2024-07-12T10:30:46.133429Z"
    },
    "papermill": {
     "duration": 0.208804,
     "end_time": "2024-07-12T10:30:46.133561",
     "exception": false,
     "start_time": "2024-07-12T10:30:45.924757",
     "status": "completed"
    },
    "tags": []
   },
   "outputs": [
    {
     "name": "stdout",
     "output_type": "stream",
     "text": [
      "+--------+---------------+---------------+\n",
      "|agent_id|     agent_name|agent_hire_date|\n",
      "+--------+---------------+---------------+\n",
      "|       1|       John Doe|     2020-06-03|\n",
      "|       2|     Jane Smith|     2018-05-13|\n",
      "|       3|Michael Johnson|     2021-10-03|\n",
      "|       4|    Emily Brown|     2020-10-25|\n",
      "|       5|   David Wilson|     2021-04-08|\n",
      "+--------+---------------+---------------+\n",
      "only showing top 5 rows\n",
      "\n"
     ]
    }
   ],
   "source": [
    "salesAgents = spark.read.csv(fr'{files_directory_path}/sales_agents_*', header=True, schema=SalesAgentsSchema)\n",
    "salesAgents.show(5)"
   ]
  },
  {
   "cell_type": "code",
   "execution_count": 32,
   "id": "69115faa-17f2-4ca7-b0d0-66e253c2922d",
   "metadata": {
    "execution": {
     "iopub.execute_input": "2024-07-12T10:30:46.296508Z",
     "iopub.status.busy": "2024-07-12T10:30:46.294946Z",
     "iopub.status.idle": "2024-07-12T10:30:47.254372Z",
     "shell.execute_reply": "2024-07-12T10:30:47.253818Z"
    },
    "papermill": {
     "duration": 1.039261,
     "end_time": "2024-07-12T10:30:47.254553",
     "exception": false,
     "start_time": "2024-07-12T10:30:46.215292",
     "status": "completed"
    },
    "tags": []
   },
   "outputs": [],
   "source": [
    "salesAgents_info = get_number_of_records(salesAgents, ['agent_name', 'agent_hire_date'])\n",
    "number_of_records = salesAgents_info[0]\n",
    "number_of_duplicates = salesAgents_info[1]\n",
    "data_logger.info(f'Number of records = {number_of_records}\\nNumber of duplicates = {number_of_duplicates}\\n')"
   ]
  },
  {
   "cell_type": "code",
   "execution_count": 33,
   "id": "69a2400c-2b92-4e6a-96b1-e8ee31afccd6",
   "metadata": {
    "execution": {
     "iopub.execute_input": "2024-07-12T10:30:47.416480Z",
     "iopub.status.busy": "2024-07-12T10:30:47.415605Z",
     "iopub.status.idle": "2024-07-12T10:30:49.395086Z",
     "shell.execute_reply": "2024-07-12T10:30:49.393982Z"
    },
    "papermill": {
     "duration": 2.066106,
     "end_time": "2024-07-12T10:30:49.395293",
     "exception": false,
     "start_time": "2024-07-12T10:30:47.329187",
     "status": "completed"
    },
    "tags": []
   },
   "outputs": [],
   "source": [
    "data_logger.info('Columns:')\n",
    "counter = 1\n",
    "for column, dtype in get_columns_info(salesAgents):\n",
    "    number_of_unique_values = salesAgents.select(f'{column}').distinct().count()\n",
    "    data_logger.info(f'Column {counter}: {column} - Data Type: {dtype} - Number of Unique Values: {number_of_unique_values}')\n",
    "    counter += 1\n",
    "    \n",
    "data_logger.info('\\n')"
   ]
  },
  {
   "cell_type": "code",
   "execution_count": 34,
   "id": "08689376-6504-4d6e-87b8-3af70544fbd0",
   "metadata": {
    "execution": {
     "iopub.execute_input": "2024-07-12T10:30:49.563339Z",
     "iopub.status.busy": "2024-07-12T10:30:49.562554Z",
     "iopub.status.idle": "2024-07-12T10:30:49.568107Z",
     "shell.execute_reply": "2024-07-12T10:30:49.567467Z"
    },
    "papermill": {
     "duration": 0.087389,
     "end_time": "2024-07-12T10:30:49.568269",
     "exception": false,
     "start_time": "2024-07-12T10:30:49.480880",
     "status": "completed"
    },
    "tags": []
   },
   "outputs": [],
   "source": [
    "spark_logger.info('DONE : Reading Sales Agents File')"
   ]
  },
  {
   "cell_type": "markdown",
   "id": "b27c4718-8130-41cf-920d-164d4b346fd2",
   "metadata": {
    "papermill": {
     "duration": 0.078585,
     "end_time": "2024-07-12T10:30:49.726549",
     "exception": false,
     "start_time": "2024-07-12T10:30:49.647964",
     "status": "completed"
    },
    "tags": []
   },
   "source": [
    "### Cleaning Process"
   ]
  },
  {
   "cell_type": "code",
   "execution_count": 35,
   "id": "4888f65f-aaaa-4d11-8bea-08099d2a1dd7",
   "metadata": {
    "execution": {
     "iopub.execute_input": "2024-07-12T10:30:49.898305Z",
     "iopub.status.busy": "2024-07-12T10:30:49.897367Z",
     "iopub.status.idle": "2024-07-12T10:30:50.010950Z",
     "shell.execute_reply": "2024-07-12T10:30:50.010218Z"
    },
    "papermill": {
     "duration": 0.19983,
     "end_time": "2024-07-12T10:30:50.011177",
     "exception": false,
     "start_time": "2024-07-12T10:30:49.811347",
     "status": "completed"
    },
    "tags": []
   },
   "outputs": [
    {
     "name": "stdout",
     "output_type": "stream",
     "text": [
      "+--------+---------------+---------------+\n",
      "|agent_id|     agent_name|agent_hire_date|\n",
      "+--------+---------------+---------------+\n",
      "|       1|       John Doe|     2020-06-03|\n",
      "|       2|     Jane Smith|     2018-05-13|\n",
      "|       3|Michael Johnson|     2021-10-03|\n",
      "|       4|    Emily Brown|     2020-10-25|\n",
      "|       5|   David Wilson|     2021-04-08|\n",
      "+--------+---------------+---------------+\n",
      "only showing top 5 rows\n",
      "\n"
     ]
    }
   ],
   "source": [
    "# Trim Sales Agents data (for String columns only)\n",
    "salesAgents_cleaned = trim_columns(salesAgents)\n",
    "salesAgents_cleaned.show(5)"
   ]
  },
  {
   "cell_type": "code",
   "execution_count": 36,
   "id": "572a7d42-c92c-4d7f-843c-62999ea8bea2",
   "metadata": {
    "execution": {
     "iopub.execute_input": "2024-07-12T10:30:50.169412Z",
     "iopub.status.busy": "2024-07-12T10:30:50.168674Z",
     "iopub.status.idle": "2024-07-12T10:30:50.172006Z",
     "shell.execute_reply": "2024-07-12T10:30:50.172572Z"
    },
    "papermill": {
     "duration": 0.083253,
     "end_time": "2024-07-12T10:30:50.172758",
     "exception": false,
     "start_time": "2024-07-12T10:30:50.089505",
     "status": "completed"
    },
    "tags": []
   },
   "outputs": [],
   "source": [
    "spark_logger.info('DONE : Trmming String Columns')"
   ]
  },
  {
   "cell_type": "code",
   "execution_count": 37,
   "id": "656e0275-9c2a-4bbe-9285-97b23d979ddf",
   "metadata": {
    "execution": {
     "iopub.execute_input": "2024-07-12T10:30:50.323784Z",
     "iopub.status.busy": "2024-07-12T10:30:50.322864Z",
     "iopub.status.idle": "2024-07-12T10:30:50.330698Z",
     "shell.execute_reply": "2024-07-12T10:30:50.330243Z"
    },
    "papermill": {
     "duration": 0.08348,
     "end_time": "2024-07-12T10:30:50.330814",
     "exception": false,
     "start_time": "2024-07-12T10:30:50.247334",
     "status": "completed"
    },
    "tags": []
   },
   "outputs": [],
   "source": [
    "# Check for duplicates\n",
    "if number_of_duplicates > 0:\n",
    "    salesAgents_cleaned = salesAgents_cleaned.dropDuplicates(['agent_name', 'agent_hire_date'])"
   ]
  },
  {
   "cell_type": "code",
   "execution_count": 38,
   "id": "ab1416ed-911d-4ec2-af7d-6dbef526a33d",
   "metadata": {
    "execution": {
     "iopub.execute_input": "2024-07-12T10:30:50.477781Z",
     "iopub.status.busy": "2024-07-12T10:30:50.477210Z",
     "iopub.status.idle": "2024-07-12T10:30:50.481342Z",
     "shell.execute_reply": "2024-07-12T10:30:50.480785Z"
    },
    "papermill": {
     "duration": 0.079959,
     "end_time": "2024-07-12T10:30:50.481484",
     "exception": false,
     "start_time": "2024-07-12T10:30:50.401525",
     "status": "completed"
    },
    "tags": []
   },
   "outputs": [],
   "source": [
    "spark_logger.info('DONE : Checking for Duplicates')"
   ]
  },
  {
   "cell_type": "markdown",
   "id": "733713b2-609d-48a4-bde2-2eb16fc8915b",
   "metadata": {
    "papermill": {
     "duration": 0.068735,
     "end_time": "2024-07-12T10:30:50.618907",
     "exception": false,
     "start_time": "2024-07-12T10:30:50.550172",
     "status": "completed"
    },
    "tags": []
   },
   "source": [
    "### Writing to HDFS"
   ]
  },
  {
   "cell_type": "code",
   "execution_count": 39,
   "id": "f420e2ea-76ed-4867-9d6f-1a4baa5e1d5f",
   "metadata": {
    "execution": {
     "iopub.execute_input": "2024-07-12T10:30:50.762700Z",
     "iopub.status.busy": "2024-07-12T10:30:50.761963Z",
     "iopub.status.idle": "2024-07-12T10:30:51.685052Z",
     "shell.execute_reply": "2024-07-12T10:30:51.685482Z"
    },
    "papermill": {
     "duration": 0.996613,
     "end_time": "2024-07-12T10:30:51.685655",
     "exception": false,
     "start_time": "2024-07-12T10:30:50.689042",
     "status": "completed"
    },
    "tags": []
   },
   "outputs": [],
   "source": [
    "salesAgents_cleaned.coalesce(1).write.mode('overwrite').parquet(f'{silver_layer_directory_path}/salesAgents_cleaned.parquet')"
   ]
  },
  {
   "cell_type": "code",
   "execution_count": 40,
   "id": "6f8b4c20-e973-47f0-89e8-81ae72162b28",
   "metadata": {
    "execution": {
     "iopub.execute_input": "2024-07-12T10:30:51.826486Z",
     "iopub.status.busy": "2024-07-12T10:30:51.825638Z",
     "iopub.status.idle": "2024-07-12T10:30:51.829224Z",
     "shell.execute_reply": "2024-07-12T10:30:51.829738Z"
    },
    "papermill": {
     "duration": 0.075799,
     "end_time": "2024-07-12T10:30:51.829882",
     "exception": false,
     "start_time": "2024-07-12T10:30:51.754083",
     "status": "completed"
    },
    "tags": []
   },
   "outputs": [],
   "source": [
    "spark_logger.info('DONE : Writing to HDFS\\n')"
   ]
  },
  {
   "cell_type": "markdown",
   "id": "ab3cb090-1717-4627-bb6b-560d6d17ffbe",
   "metadata": {
    "papermill": {
     "duration": 0.068436,
     "end_time": "2024-07-12T10:30:51.970640",
     "exception": false,
     "start_time": "2024-07-12T10:30:51.902204",
     "status": "completed"
    },
    "tags": []
   },
   "source": [
    "---"
   ]
  },
  {
   "cell_type": "markdown",
   "id": "23569ac4-68a5-471c-bd57-bd91e5e6ab35",
   "metadata": {
    "papermill": {
     "duration": 0.06803,
     "end_time": "2024-07-12T10:30:52.113745",
     "exception": false,
     "start_time": "2024-07-12T10:30:52.045715",
     "status": "completed"
    },
    "tags": []
   },
   "source": [
    "## Transactions Files Processing\n",
    "---"
   ]
  },
  {
   "cell_type": "code",
   "execution_count": 41,
   "id": "ef884973-a432-4a3e-93ce-2bfabe74ee40",
   "metadata": {
    "execution": {
     "iopub.execute_input": "2024-07-12T10:30:52.263627Z",
     "iopub.status.busy": "2024-07-12T10:30:52.262674Z",
     "iopub.status.idle": "2024-07-12T10:30:52.266855Z",
     "shell.execute_reply": "2024-07-12T10:30:52.266228Z"
    },
    "papermill": {
     "duration": 0.08244,
     "end_time": "2024-07-12T10:30:52.266977",
     "exception": false,
     "start_time": "2024-07-12T10:30:52.184537",
     "status": "completed"
    },
    "tags": []
   },
   "outputs": [],
   "source": [
    "spark_logger.info('Processing Transactions File...')"
   ]
  },
  {
   "cell_type": "code",
   "execution_count": 42,
   "id": "484545ed-5139-4613-bba6-f0d661187b1d",
   "metadata": {
    "execution": {
     "iopub.execute_input": "2024-07-12T10:30:52.406112Z",
     "iopub.status.busy": "2024-07-12T10:30:52.405171Z",
     "iopub.status.idle": "2024-07-12T10:30:52.408928Z",
     "shell.execute_reply": "2024-07-12T10:30:52.408271Z"
    },
    "papermill": {
     "duration": 0.076295,
     "end_time": "2024-07-12T10:30:52.409138",
     "exception": false,
     "start_time": "2024-07-12T10:30:52.332843",
     "status": "completed"
    },
    "tags": []
   },
   "outputs": [],
   "source": [
    "data_logger.info('Transactions File:\\n-------------')"
   ]
  },
  {
   "cell_type": "markdown",
   "id": "cc5f2db3-9e32-4641-bcf9-eb7aebe70ede",
   "metadata": {
    "papermill": {
     "duration": 0.077109,
     "end_time": "2024-07-12T10:30:52.551940",
     "exception": false,
     "start_time": "2024-07-12T10:30:52.474831",
     "status": "completed"
    },
    "tags": []
   },
   "source": [
    "### Schema Handling"
   ]
  },
  {
   "cell_type": "code",
   "execution_count": 43,
   "id": "7b6161b6-192e-44af-a927-c5cbd874096e",
   "metadata": {
    "execution": {
     "iopub.execute_input": "2024-07-12T10:30:52.797486Z",
     "iopub.status.busy": "2024-07-12T10:30:52.796855Z",
     "iopub.status.idle": "2024-07-12T10:30:52.815507Z",
     "shell.execute_reply": "2024-07-12T10:30:52.814934Z"
    },
    "papermill": {
     "duration": 0.1633,
     "end_time": "2024-07-12T10:30:52.815622",
     "exception": false,
     "start_time": "2024-07-12T10:30:52.652322",
     "status": "completed"
    },
    "tags": []
   },
   "outputs": [],
   "source": [
    "TransactionsSchema = StructType([\n",
    "    StructField(\"transaction_date\", DateType(), nullable=False),\n",
    "    StructField(\"transaction_id\", StringType(), nullable=False),\n",
    "    StructField(\"customer_id\", IntegerType(), nullable=False),\n",
    "    StructField(\"customer_fname\", StringType(), nullable=False),\n",
    "    StructField(\"customer_lname\", StringType(), nullable=False),\n",
    "    StructField(\"customer_email\", StringType(), nullable=False),\n",
    "    StructField(\"agent_id\", IntegerType(), nullable=False),\n",
    "    StructField(\"branch_id\", IntegerType(), nullable=False),\n",
    "    StructField(\"product_id\", IntegerType(), nullable=False),\n",
    "    StructField(\"product_name\", StringType(), nullable=False),\n",
    "    StructField(\"product_category\", StringType(), nullable=False),\n",
    "    StructField(\"offer_1\", BooleanType(), nullable=True),\n",
    "    StructField(\"offer_2\", BooleanType(), nullable=True),\n",
    "    StructField(\"offer_3\", BooleanType(), nullable=True),\n",
    "    StructField(\"offer_4\", BooleanType(), nullable=True),\n",
    "    StructField(\"offer_5\", BooleanType(), nullable=True),\n",
    "    StructField(\"units\", IntegerType(), nullable=False),\n",
    "    StructField(\"unit_price\", FloatType(), nullable=False),\n",
    "    StructField(\"is_online\", StringType(), nullable=False),\n",
    "    StructField(\"payment_method\", StringType(), nullable=False),\n",
    "    StructField(\"shipping_address\", StringType(), nullable=True)\n",
    "])"
   ]
  },
  {
   "cell_type": "code",
   "execution_count": 44,
   "id": "d5ef8f57-7e16-4e36-9ce8-ae9470bfc5be",
   "metadata": {
    "execution": {
     "iopub.execute_input": "2024-07-12T10:30:52.976868Z",
     "iopub.status.busy": "2024-07-12T10:30:52.976248Z",
     "iopub.status.idle": "2024-07-12T10:30:52.980393Z",
     "shell.execute_reply": "2024-07-12T10:30:52.979686Z"
    },
    "papermill": {
     "duration": 0.087415,
     "end_time": "2024-07-12T10:30:52.980533",
     "exception": false,
     "start_time": "2024-07-12T10:30:52.893118",
     "status": "completed"
    },
    "tags": []
   },
   "outputs": [],
   "source": [
    "spark_logger.info('DONE : Schema Handling')"
   ]
  },
  {
   "cell_type": "markdown",
   "id": "7f05e48d-f27c-4850-ad28-2dd468b6f08a",
   "metadata": {
    "papermill": {
     "duration": 0.083729,
     "end_time": "2024-07-12T10:30:53.131264",
     "exception": false,
     "start_time": "2024-07-12T10:30:53.047535",
     "status": "completed"
    },
    "tags": []
   },
   "source": [
    "### Reading the file"
   ]
  },
  {
   "cell_type": "code",
   "execution_count": 45,
   "id": "efe7fc58-2b87-45a5-9768-f63a5dfec175",
   "metadata": {
    "execution": {
     "iopub.execute_input": "2024-07-12T10:30:53.298064Z",
     "iopub.status.busy": "2024-07-12T10:30:53.297394Z",
     "iopub.status.idle": "2024-07-12T10:30:53.555240Z",
     "shell.execute_reply": "2024-07-12T10:30:53.554370Z"
    },
    "papermill": {
     "duration": 0.334817,
     "end_time": "2024-07-12T10:30:53.555390",
     "exception": false,
     "start_time": "2024-07-12T10:30:53.220573",
     "status": "completed"
    },
    "tags": []
   },
   "outputs": [
    {
     "name": "stdout",
     "output_type": "stream",
     "text": [
      "+----------------+----------------+-----------+--------------+--------------+--------------------+--------+---------+----------+------------+----------------+-------+-------+-------+-------+-------+-----+----------+---------+--------------+----------------+\n",
      "|transaction_date|  transaction_id|customer_id|customer_fname|customer_lname|      customer_email|agent_id|branch_id|product_id|product_name|product_category|offer_1|offer_2|offer_3|offer_4|offer_5|units|unit_price|is_online|payment_method|shipping_address|\n",
      "+----------------+----------------+-----------+--------------+--------------+--------------------+--------+---------+----------+------------+----------------+-------+-------+-------+-------+-------+-----+----------+---------+--------------+----------------+\n",
      "|      2023-10-25|trx-072037549384|      85550|          Emma|        Wilson|emma.wilson@outlo...|       2|        3|         3|      Tablet|     Electronics|   null|   null|   null|   null|   null|    7|    299.99|       no|          Cash|            null|\n",
      "|      2022-05-08|trx-125208155197|      85512|        Olivia|        Miller|olivia.miller@out...|       9|        5|        11|          TV|     Electronics|   null|   null|   null|   null|   null|    3|    899.99|       no|   Credit Card|            null|\n",
      "|      2023-05-03|trx-667682345565|      85512|        Olivia|        Miller|olivia.miller@out...|       7|        2|        10|     Sandals|        Footwear|   null|   null|   null|   true|   null|    3|     39.99|       no|   Credit Card|            null|\n",
      "|      2022-01-09|trx-706068352444|      85526|        Sophia|         Smith|sophia.smith@hotm...|       2|        4|         2|  Smartphone|     Electronics|   null|   null|   null|   null|   true|    7|    699.99|       no|   Credit Card|            null|\n",
      "|      2022-12-10|trx-040134528974|      85535|       Michael|         Davis|michael.davis@out...|       9|        3|        16|       Skirt|        Clothing|   null|   null|   null|   true|   null|    7|     39.99|       no|          Cash|            null|\n",
      "+----------------+----------------+-----------+--------------+--------------+--------------------+--------+---------+----------+------------+----------------+-------+-------+-------+-------+-------+-----+----------+---------+--------------+----------------+\n",
      "only showing top 5 rows\n",
      "\n"
     ]
    }
   ],
   "source": [
    "transactions = spark.read.csv(fr'{files_directory_path}/sales_transactions_*', header=True, schema=TransactionsSchema)\n",
    "transactions.show(5)"
   ]
  },
  {
   "cell_type": "code",
   "execution_count": 46,
   "id": "352b4ea3-f735-498a-a0af-456bbb9f8942",
   "metadata": {
    "execution": {
     "iopub.execute_input": "2024-07-12T10:30:53.760744Z",
     "iopub.status.busy": "2024-07-12T10:30:53.759642Z",
     "iopub.status.idle": "2024-07-12T10:30:54.976450Z",
     "shell.execute_reply": "2024-07-12T10:30:54.977142Z"
    },
    "papermill": {
     "duration": 1.317134,
     "end_time": "2024-07-12T10:30:54.977334",
     "exception": false,
     "start_time": "2024-07-12T10:30:53.660200",
     "status": "completed"
    },
    "tags": []
   },
   "outputs": [],
   "source": [
    "transactions_info = get_number_of_records(transactions, ['transaction_date', 'transaction_id'])\n",
    "number_of_records = transactions_info[0]\n",
    "number_of_duplicates = transactions_info[1]\n",
    "data_logger.info(f'Number of records = {number_of_records}\\nNumber of duplicates = {number_of_duplicates}\\n')"
   ]
  },
  {
   "cell_type": "code",
   "execution_count": 47,
   "id": "54f4fc9b-6617-4f99-877a-3fdec95b4612",
   "metadata": {
    "execution": {
     "iopub.execute_input": "2024-07-12T10:30:55.189344Z",
     "iopub.status.busy": "2024-07-12T10:30:55.188553Z",
     "iopub.status.idle": "2024-07-12T10:31:08.040233Z",
     "shell.execute_reply": "2024-07-12T10:31:08.039541Z"
    },
    "papermill": {
     "duration": 12.961212,
     "end_time": "2024-07-12T10:31:08.040405",
     "exception": false,
     "start_time": "2024-07-12T10:30:55.079193",
     "status": "completed"
    },
    "tags": []
   },
   "outputs": [],
   "source": [
    "data_logger.info('Columns:')\n",
    "counter = 1\n",
    "for column, dtype in get_columns_info(transactions):\n",
    "    number_of_unique_values = transactions.select(f'{column}').distinct().count()\n",
    "    data_logger.info(f'Column {counter}: {column} - Data Type: {dtype} - Number of Unique Values: {number_of_unique_values}')\n",
    "    counter += 1\n",
    "    \n",
    "data_logger.info('\\n')"
   ]
  },
  {
   "cell_type": "code",
   "execution_count": 48,
   "id": "4c9907df-d28a-41bd-8e15-c765b2443ddb",
   "metadata": {
    "execution": {
     "iopub.execute_input": "2024-07-12T10:31:08.208147Z",
     "iopub.status.busy": "2024-07-12T10:31:08.207267Z",
     "iopub.status.idle": "2024-07-12T10:31:08.211720Z",
     "shell.execute_reply": "2024-07-12T10:31:08.210798Z"
    },
    "papermill": {
     "duration": 0.083795,
     "end_time": "2024-07-12T10:31:08.211940",
     "exception": false,
     "start_time": "2024-07-12T10:31:08.128145",
     "status": "completed"
    },
    "tags": []
   },
   "outputs": [],
   "source": [
    "spark_logger.info('DONE : Reading Transactions File')"
   ]
  },
  {
   "cell_type": "markdown",
   "id": "fd7b2b09-9e3f-4a1d-ab8f-f3f809b66c12",
   "metadata": {
    "papermill": {
     "duration": 0.07053,
     "end_time": "2024-07-12T10:31:08.361190",
     "exception": false,
     "start_time": "2024-07-12T10:31:08.290660",
     "status": "completed"
    },
    "tags": []
   },
   "source": [
    "### Cleaning Process"
   ]
  },
  {
   "cell_type": "code",
   "execution_count": 49,
   "id": "71ffa378-65bf-4648-8734-593aa6e5fc5e",
   "metadata": {
    "execution": {
     "iopub.execute_input": "2024-07-12T10:31:08.511261Z",
     "iopub.status.busy": "2024-07-12T10:31:08.510578Z",
     "iopub.status.idle": "2024-07-12T10:31:08.675774Z",
     "shell.execute_reply": "2024-07-12T10:31:08.676192Z"
    },
    "papermill": {
     "duration": 0.242047,
     "end_time": "2024-07-12T10:31:08.676319",
     "exception": false,
     "start_time": "2024-07-12T10:31:08.434272",
     "status": "completed"
    },
    "tags": []
   },
   "outputs": [
    {
     "name": "stdout",
     "output_type": "stream",
     "text": [
      "+----------------+----------------+-----------+--------------+--------------+---------------------------+--------+---------+----------+------------+----------------+-------+-------+-------+-------+-------+-----+----------+---------+--------------+----------------+\n",
      "|transaction_date|transaction_id  |customer_id|customer_fname|customer_lname|customer_email             |agent_id|branch_id|product_id|product_name|product_category|offer_1|offer_2|offer_3|offer_4|offer_5|units|unit_price|is_online|payment_method|shipping_address|\n",
      "+----------------+----------------+-----------+--------------+--------------+---------------------------+--------+---------+----------+------------+----------------+-------+-------+-------+-------+-------+-----+----------+---------+--------------+----------------+\n",
      "|2023-10-25      |trx-072037549384|85550      |Emma          |Wilson        |emma.wilson@outlook.com)x  |2       |3        |3         |Tablet      |Electronics     |null   |null   |null   |null   |null   |7    |299.99    |no       |Cash          |null            |\n",
      "|2022-05-08      |trx-125208155197|85512      |Olivia        |Miller        |olivia.miller@outlook.com| |9       |5        |11        |TV          |Electronics     |null   |null   |null   |null   |null   |3    |899.99    |no       |Credit Card   |null            |\n",
      "|2023-05-03      |trx-667682345565|85512      |Olivia        |Miller        |olivia.miller@outlook.com]x|7       |2        |10        |Sandals     |Footwear        |null   |null   |null   |true   |null   |3    |39.99     |no       |Credit Card   |null            |\n",
      "|2022-01-09      |trx-706068352444|85526      |Sophia        |Smith         |sophia.smith@hotmail.com^  |2       |4        |2         |Smartphone  |Electronics     |null   |null   |null   |null   |true   |7    |699.99    |no       |Credit Card   |null            |\n",
      "|2022-12-10      |trx-040134528974|85535      |Michael       |Davis         |michael.davis@outlook.com& |9       |3        |16        |Skirt       |Clothing        |null   |null   |null   |true   |null   |7    |39.99     |no       |Cash          |null            |\n",
      "+----------------+----------------+-----------+--------------+--------------+---------------------------+--------+---------+----------+------------+----------------+-------+-------+-------+-------+-------+-----+----------+---------+--------------+----------------+\n",
      "only showing top 5 rows\n",
      "\n"
     ]
    }
   ],
   "source": [
    "# Trim Transactions data (for String columns only)\n",
    "transactions_cleaned = trim_columns(transactions)\n",
    "transactions_cleaned.show(5, truncate=False)"
   ]
  },
  {
   "cell_type": "code",
   "execution_count": 50,
   "id": "480c3d62-418a-4663-b3ff-f058c3a6c5d0",
   "metadata": {
    "execution": {
     "iopub.execute_input": "2024-07-12T10:31:08.842487Z",
     "iopub.status.busy": "2024-07-12T10:31:08.841526Z",
     "iopub.status.idle": "2024-07-12T10:31:08.845983Z",
     "shell.execute_reply": "2024-07-12T10:31:08.845270Z"
    },
    "papermill": {
     "duration": 0.08891,
     "end_time": "2024-07-12T10:31:08.846126",
     "exception": false,
     "start_time": "2024-07-12T10:31:08.757216",
     "status": "completed"
    },
    "tags": []
   },
   "outputs": [],
   "source": [
    "spark_logger.info('DONE : Trmming String Columns')"
   ]
  },
  {
   "cell_type": "code",
   "execution_count": 51,
   "id": "023a3630-90af-47af-a9a0-9f47eeccca16",
   "metadata": {
    "execution": {
     "iopub.execute_input": "2024-07-12T10:31:09.013679Z",
     "iopub.status.busy": "2024-07-12T10:31:09.012737Z",
     "iopub.status.idle": "2024-07-12T10:31:09.416899Z",
     "shell.execute_reply": "2024-07-12T10:31:09.417644Z"
    },
    "papermill": {
     "duration": 0.492018,
     "end_time": "2024-07-12T10:31:09.417896",
     "exception": false,
     "start_time": "2024-07-12T10:31:08.925878",
     "status": "completed"
    },
    "tags": []
   },
   "outputs": [
    {
     "name": "stdout",
     "output_type": "stream",
     "text": [
      "+----------------+----------------+-----------+--------------+--------------+-------------------------+--------+---------+----------+------------+----------------+-------+-------+-------+-------+-------+-----+----------+---------+--------------+----------------+\n",
      "|transaction_date|transaction_id  |customer_id|customer_fname|customer_lname|customer_email           |agent_id|branch_id|product_id|product_name|product_category|offer_1|offer_2|offer_3|offer_4|offer_5|units|unit_price|is_online|payment_method|shipping_address|\n",
      "+----------------+----------------+-----------+--------------+--------------+-------------------------+--------+---------+----------+------------+----------------+-------+-------+-------+-------+-------+-----+----------+---------+--------------+----------------+\n",
      "|2023-10-25      |trx-072037549384|85550      |Emma          |Wilson        |emma.wilson@outlook.com  |2       |3        |3         |Tablet      |Electronics     |null   |null   |null   |null   |null   |7    |299.99    |no       |Cash          |null            |\n",
      "|2022-05-08      |trx-125208155197|85512      |Olivia        |Miller        |olivia.miller@outlook.com|9       |5        |11        |TV          |Electronics     |null   |null   |null   |null   |null   |3    |899.99    |no       |Credit Card   |null            |\n",
      "|2023-05-03      |trx-667682345565|85512      |Olivia        |Miller        |olivia.miller@outlook.com|7       |2        |10        |Sandals     |Footwear        |null   |null   |null   |true   |null   |3    |39.99     |no       |Credit Card   |null            |\n",
      "|2022-01-09      |trx-706068352444|85526      |Sophia        |Smith         |sophia.smith@hotmail.com |2       |4        |2         |Smartphone  |Electronics     |null   |null   |null   |null   |true   |7    |699.99    |no       |Credit Card   |null            |\n",
      "|2022-12-10      |trx-040134528974|85535      |Michael       |Davis         |michael.davis@outlook.com|9       |3        |16        |Skirt       |Clothing        |null   |null   |null   |true   |null   |7    |39.99     |no       |Cash          |null            |\n",
      "+----------------+----------------+-----------+--------------+--------------+-------------------------+--------+---------+----------+------------+----------------+-------+-------+-------+-------+-------+-----+----------+---------+--------------+----------------+\n",
      "only showing top 5 rows\n",
      "\n"
     ]
    }
   ],
   "source": [
    "# Clean the customer_email column\n",
    "transactions_cleaned = transactions_cleaned.withColumn('customer_email', sf.expr(\"substring(customer_email, 1, locate('.com', customer_email) + 3)\"))\n",
    "transactions_cleaned.show(5, truncate=False)"
   ]
  },
  {
   "cell_type": "code",
   "execution_count": 52,
   "id": "3fba2945-4e18-4001-b6f5-2e4e2a435004",
   "metadata": {
    "execution": {
     "iopub.execute_input": "2024-07-12T10:31:09.609971Z",
     "iopub.status.busy": "2024-07-12T10:31:09.609209Z",
     "iopub.status.idle": "2024-07-12T10:31:09.612607Z",
     "shell.execute_reply": "2024-07-12T10:31:09.613300Z"
    },
    "papermill": {
     "duration": 0.095066,
     "end_time": "2024-07-12T10:31:09.613486",
     "exception": false,
     "start_time": "2024-07-12T10:31:09.518420",
     "status": "completed"
    },
    "tags": []
   },
   "outputs": [],
   "source": [
    "spark_logger.info('DONE : Cleaning \"customer_email\" Column')"
   ]
  },
  {
   "cell_type": "code",
   "execution_count": 53,
   "id": "0582cfbc-e717-4e8f-8538-e2a0c8348401",
   "metadata": {
    "execution": {
     "iopub.execute_input": "2024-07-12T10:31:09.772076Z",
     "iopub.status.busy": "2024-07-12T10:31:09.771403Z",
     "iopub.status.idle": "2024-07-12T10:31:09.774111Z",
     "shell.execute_reply": "2024-07-12T10:31:09.774585Z"
    },
    "papermill": {
     "duration": 0.082076,
     "end_time": "2024-07-12T10:31:09.774715",
     "exception": false,
     "start_time": "2024-07-12T10:31:09.692639",
     "status": "completed"
    },
    "tags": []
   },
   "outputs": [],
   "source": [
    "# Check for duplicates\n",
    "if number_of_duplicates > 0:\n",
    "    transactions_cleaned = transactions_cleaned.dropDuplicates(['transaction_date', 'transaction_id'])"
   ]
  },
  {
   "cell_type": "code",
   "execution_count": 54,
   "id": "e7a90cde-5e39-49dc-a91b-c286051b48d4",
   "metadata": {
    "execution": {
     "iopub.execute_input": "2024-07-12T10:31:09.933664Z",
     "iopub.status.busy": "2024-07-12T10:31:09.932855Z",
     "iopub.status.idle": "2024-07-12T10:31:09.936546Z",
     "shell.execute_reply": "2024-07-12T10:31:09.935854Z"
    },
    "papermill": {
     "duration": 0.084155,
     "end_time": "2024-07-12T10:31:09.936752",
     "exception": false,
     "start_time": "2024-07-12T10:31:09.852597",
     "status": "completed"
    },
    "tags": []
   },
   "outputs": [],
   "source": [
    "spark_logger.info('DONE : Checking for Duplicates')"
   ]
  },
  {
   "cell_type": "markdown",
   "id": "28ffbe4c-f324-4a5b-b686-ef2d1d7c5142",
   "metadata": {
    "papermill": {
     "duration": 0.071887,
     "end_time": "2024-07-12T10:31:10.092329",
     "exception": false,
     "start_time": "2024-07-12T10:31:10.020442",
     "status": "completed"
    },
    "tags": []
   },
   "source": [
    "### Writing to HDFS"
   ]
  },
  {
   "cell_type": "code",
   "execution_count": 55,
   "id": "697ed3f8-f9cc-410e-a3d6-9532235866af",
   "metadata": {
    "execution": {
     "iopub.execute_input": "2024-07-12T10:31:10.250293Z",
     "iopub.status.busy": "2024-07-12T10:31:10.249419Z",
     "iopub.status.idle": "2024-07-12T10:31:11.123810Z",
     "shell.execute_reply": "2024-07-12T10:31:11.123343Z"
    },
    "papermill": {
     "duration": 0.952463,
     "end_time": "2024-07-12T10:31:11.123927",
     "exception": false,
     "start_time": "2024-07-12T10:31:10.171464",
     "status": "completed"
    },
    "tags": []
   },
   "outputs": [],
   "source": [
    "transactions_cleaned.coalesce(1).write.mode('overwrite').parquet(f'{silver_layer_directory_path}/transactions_cleaned.parquet')"
   ]
  },
  {
   "cell_type": "code",
   "execution_count": 56,
   "id": "7f98cc77-11f2-4b81-a57d-0969dbb956d0",
   "metadata": {
    "execution": {
     "iopub.execute_input": "2024-07-12T10:31:11.266251Z",
     "iopub.status.busy": "2024-07-12T10:31:11.265504Z",
     "iopub.status.idle": "2024-07-12T10:31:11.269228Z",
     "shell.execute_reply": "2024-07-12T10:31:11.269695Z"
    },
    "papermill": {
     "duration": 0.077811,
     "end_time": "2024-07-12T10:31:11.269847",
     "exception": false,
     "start_time": "2024-07-12T10:31:11.192036",
     "status": "completed"
    },
    "tags": []
   },
   "outputs": [],
   "source": [
    "spark_logger.info('DONE : Writing to HDFS\\n')"
   ]
  },
  {
   "cell_type": "markdown",
   "id": "76567710-4231-496f-9c49-2a9970fe6a85",
   "metadata": {
    "papermill": {
     "duration": 0.07205,
     "end_time": "2024-07-12T10:31:11.412140",
     "exception": false,
     "start_time": "2024-07-12T10:31:11.340090",
     "status": "completed"
    },
    "tags": []
   },
   "source": [
    "---"
   ]
  },
  {
   "cell_type": "markdown",
   "id": "3d68620b-6a2e-4d93-85be-55216c00c411",
   "metadata": {
    "papermill": {
     "duration": 0.073999,
     "end_time": "2024-07-12T10:31:11.563070",
     "exception": false,
     "start_time": "2024-07-12T10:31:11.489071",
     "status": "completed"
    },
    "tags": []
   },
   "source": [
    "## Stop Spark context"
   ]
  },
  {
   "cell_type": "code",
   "execution_count": 57,
   "id": "4755a436-d9be-4033-8bee-80cbb12916fd",
   "metadata": {
    "execution": {
     "iopub.execute_input": "2024-07-12T10:31:11.713937Z",
     "iopub.status.busy": "2024-07-12T10:31:11.713257Z",
     "iopub.status.idle": "2024-07-12T10:31:12.771804Z",
     "shell.execute_reply": "2024-07-12T10:31:12.772457Z"
    },
    "papermill": {
     "duration": 1.138824,
     "end_time": "2024-07-12T10:31:12.772628",
     "exception": false,
     "start_time": "2024-07-12T10:31:11.633804",
     "status": "completed"
    },
    "tags": []
   },
   "outputs": [],
   "source": [
    "spark.stop()"
   ]
  },
  {
   "cell_type": "code",
   "execution_count": 58,
   "id": "b991403b-2090-4b7e-8a52-c993401997d2",
   "metadata": {
    "execution": {
     "iopub.execute_input": "2024-07-12T10:31:12.944676Z",
     "iopub.status.busy": "2024-07-12T10:31:12.943880Z",
     "iopub.status.idle": "2024-07-12T10:31:12.947514Z",
     "shell.execute_reply": "2024-07-12T10:31:12.946924Z"
    },
    "papermill": {
     "duration": 0.092161,
     "end_time": "2024-07-12T10:31:12.947630",
     "exception": false,
     "start_time": "2024-07-12T10:31:12.855469",
     "status": "completed"
    },
    "tags": []
   },
   "outputs": [],
   "source": [
    "spark_logger.info('Spark Session Stopped\\n--------------------------------------------------------------------------------------------------------------------')"
   ]
  },
  {
   "cell_type": "markdown",
   "id": "e94c290f-ab46-40a3-84d2-c55881c78191",
   "metadata": {
    "papermill": {
     "duration": 0.080838,
     "end_time": "2024-07-12T10:31:13.105258",
     "exception": false,
     "start_time": "2024-07-12T10:31:13.024420",
     "status": "completed"
    },
    "tags": []
   },
   "source": [
    "---"
   ]
  }
 ],
 "metadata": {
  "kernelspec": {
   "display_name": "Pyspark 2",
   "language": "python",
   "name": "pyspark2"
  },
  "language_info": {
   "codemirror_mode": {
    "name": "ipython",
    "version": 3
   },
   "file_extension": ".py",
   "mimetype": "text/x-python",
   "name": "python",
   "nbconvert_exporter": "python",
   "pygments_lexer": "ipython3",
   "version": "3.6.9"
  },
  "papermill": {
   "default_parameters": {},
   "duration": 55.769215,
   "end_time": "2024-07-12T10:31:13.601921",
   "environment_variables": {},
   "exception": null,
   "input_path": "cleaning-layer.ipynb",
   "output_path": "cleaning-layer.ipynb",
   "parameters": {},
   "start_time": "2024-07-12T10:30:17.832706",
   "version": "2.3.4"
  }
 },
 "nbformat": 4,
 "nbformat_minor": 5
}