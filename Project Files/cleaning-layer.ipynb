{
 "cells": [
  {
   "cell_type": "markdown",
   "id": "22a48cad-137c-480b-b89d-2f44837a06e8",
   "metadata": {
    "papermill": {
     "duration": 0.095833,
     "end_time": "2024-07-10T07:50:21.377343",
     "exception": false,
     "start_time": "2024-07-10T07:50:21.281510",
     "status": "completed"
    },
    "tags": []
   },
   "source": [
    "# Environment Preparation\n",
    "---"
   ]
  },
  {
   "cell_type": "markdown",
   "id": "91c3565d-9a05-4ad1-a57e-bf496756f111",
   "metadata": {
    "papermill": {
     "duration": 0.064242,
     "end_time": "2024-07-10T07:50:21.508738",
     "exception": false,
     "start_time": "2024-07-10T07:50:21.444496",
     "status": "completed"
    },
    "tags": []
   },
   "source": [
    "### Importing the required libraries"
   ]
  },
  {
   "cell_type": "code",
   "execution_count": 1,
   "id": "3f91b161-bf38-431b-b2e7-9ef99ee868b4",
   "metadata": {
    "execution": {
     "iopub.execute_input": "2024-07-10T07:50:21.662874Z",
     "iopub.status.busy": "2024-07-10T07:50:21.662134Z",
     "iopub.status.idle": "2024-07-10T07:50:22.006434Z",
     "shell.execute_reply": "2024-07-10T07:50:22.005806Z"
    },
    "papermill": {
     "duration": 0.428176,
     "end_time": "2024-07-10T07:50:22.006622",
     "exception": false,
     "start_time": "2024-07-10T07:50:21.578446",
     "status": "completed"
    },
    "tags": []
   },
   "outputs": [],
   "source": [
    "import re, os\n",
    "from pyspark.sql.types import *\n",
    "import pyspark.sql.functions as sf\n",
    "from pyspark.sql import SparkSession\n",
    "import logging\n",
    "from datetime import date, datetime"
   ]
  },
  {
   "cell_type": "markdown",
   "id": "76d5d535-5864-4baa-a6ed-e06ebd426038",
   "metadata": {
    "papermill": {
     "duration": 0.065604,
     "end_time": "2024-07-10T07:50:22.135735",
     "exception": false,
     "start_time": "2024-07-10T07:50:22.070131",
     "status": "completed"
    },
    "tags": []
   },
   "source": [
    "### Setup the loggers"
   ]
  },
  {
   "cell_type": "code",
   "execution_count": 2,
   "id": "cd3f540a-5ca6-4077-9cfc-7159161b1ed8",
   "metadata": {
    "execution": {
     "iopub.execute_input": "2024-07-10T07:50:22.270908Z",
     "iopub.status.busy": "2024-07-10T07:50:22.270198Z",
     "iopub.status.idle": "2024-07-10T07:50:22.273303Z",
     "shell.execute_reply": "2024-07-10T07:50:22.273759Z"
    },
    "papermill": {
     "duration": 0.071094,
     "end_time": "2024-07-10T07:50:22.273900",
     "exception": false,
     "start_time": "2024-07-10T07:50:22.202806",
     "status": "completed"
    },
    "tags": []
   },
   "outputs": [],
   "source": [
    "# Separate pyspark loggers\n",
    "pyspark_log = logging.getLogger('pyspark').setLevel(logging.ERROR)\n",
    "py4j_logger = logging.getLogger(\"py4j\").setLevel(logging.ERROR)"
   ]
  },
  {
   "cell_type": "code",
   "execution_count": 3,
   "id": "1062e462-0181-48f7-9905-3a9d9188fba1",
   "metadata": {
    "execution": {
     "iopub.execute_input": "2024-07-10T07:50:22.413602Z",
     "iopub.status.busy": "2024-07-10T07:50:22.412895Z",
     "iopub.status.idle": "2024-07-10T07:50:22.419035Z",
     "shell.execute_reply": "2024-07-10T07:50:22.419463Z"
    },
    "papermill": {
     "duration": 0.079446,
     "end_time": "2024-07-10T07:50:22.419587",
     "exception": false,
     "start_time": "2024-07-10T07:50:22.340141",
     "status": "completed"
    },
    "tags": []
   },
   "outputs": [],
   "source": [
    "# First logger for logging the spark job\n",
    "spark_logger = logging.getLogger('SparkJobs')\n",
    "spark_logger.setLevel(logging.DEBUG)\n",
    "today_date = date.today().isoformat()\n",
    "logger_file_name = f'Logs/SparkLogs/SparkJobsLogs-{today_date}.log'\n",
    "fh1 = logging.FileHandler(logger_file_name)\n",
    "fh1.setLevel(logging.DEBUG)\n",
    "fh1.setFormatter(logging.Formatter('%(asctime)s - %(message)s', datefmt='%d-%b-%y %H:%M:%S'))\n",
    "spark_logger.addHandler(fh1)"
   ]
  },
  {
   "cell_type": "code",
   "execution_count": 4,
   "id": "ac290a3f-0f05-440c-abb0-9622fedc5cc9",
   "metadata": {
    "execution": {
     "iopub.execute_input": "2024-07-10T07:50:22.560952Z",
     "iopub.status.busy": "2024-07-10T07:50:22.560178Z",
     "iopub.status.idle": "2024-07-10T07:50:22.568929Z",
     "shell.execute_reply": "2024-07-10T07:50:22.568352Z"
    },
    "papermill": {
     "duration": 0.078336,
     "end_time": "2024-07-10T07:50:22.569037",
     "exception": false,
     "start_time": "2024-07-10T07:50:22.490701",
     "status": "completed"
    },
    "tags": []
   },
   "outputs": [],
   "source": [
    "# Second logger for reporting some information about the files\n",
    "data_logger = logging.getLogger('DataLogs')\n",
    "current_time = datetime.now()\n",
    "data_logger.setLevel(logging.DEBUG)\n",
    "if not os.path.exists(f'Logs/DataLogs/{today_date}'):\n",
    "    os.makedirs(f'Logs/DataLogs/{today_date}')\n",
    "data_logs_file_name = f'Logs/DataLogs/{today_date}/DataInfo-H-{current_time.hour}.log'\n",
    "fh2 = logging.FileHandler(data_logs_file_name)\n",
    "fh2.setLevel(logging.DEBUG)\n",
    "fh2.setFormatter(logging.Formatter('%(message)s'))\n",
    "data_logger.addHandler(fh2)"
   ]
  },
  {
   "cell_type": "markdown",
   "id": "c9d0f207-d710-4d2f-9f51-ba0683166466",
   "metadata": {
    "papermill": {
     "duration": 0.063549,
     "end_time": "2024-07-10T07:50:22.696742",
     "exception": false,
     "start_time": "2024-07-10T07:50:22.633193",
     "status": "completed"
    },
    "tags": []
   },
   "source": [
    "### Start Spark Session"
   ]
  },
  {
   "cell_type": "code",
   "execution_count": 5,
   "id": "d87a3ff2-3681-435a-a14f-7813eee62e78",
   "metadata": {
    "execution": {
     "iopub.execute_input": "2024-07-10T07:50:22.829551Z",
     "iopub.status.busy": "2024-07-10T07:50:22.828648Z",
     "iopub.status.idle": "2024-07-10T07:50:28.725154Z",
     "shell.execute_reply": "2024-07-10T07:50:28.724525Z"
    },
    "papermill": {
     "duration": 5.965146,
     "end_time": "2024-07-10T07:50:28.725296",
     "exception": false,
     "start_time": "2024-07-10T07:50:22.760150",
     "status": "completed"
    },
    "tags": []
   },
   "outputs": [],
   "source": [
    "spark_logger.info('Starting Spark Session ...')\n",
    "spark = SparkSession\\\n",
    "    .builder\\\n",
    "    .master(\"local[4]\")\\\n",
    "    .appName(\"CleaningData\")\\\n",
    "    .config(\"spark.eventLog.logBlockUpdates.enabled\", True)\\\n",
    "    .getOrCreate()\n",
    "\n",
    "sc = spark.sparkContext\n",
    "spark_logger.info('Spark Session Started')"
   ]
  },
  {
   "cell_type": "markdown",
   "id": "89dbb0ff-72cf-41ce-9ee4-86ee31160d11",
   "metadata": {
    "papermill": {
     "duration": 0.074917,
     "end_time": "2024-07-10T07:50:28.865318",
     "exception": false,
     "start_time": "2024-07-10T07:50:28.790401",
     "status": "completed"
    },
    "tags": []
   },
   "source": [
    "---"
   ]
  },
  {
   "cell_type": "markdown",
   "id": "967adfe8-3cfe-4d4f-ab27-e09ebdbb963d",
   "metadata": {
    "papermill": {
     "duration": 0.118699,
     "end_time": "2024-07-10T07:50:29.099324",
     "exception": false,
     "start_time": "2024-07-10T07:50:28.980625",
     "status": "completed"
    },
    "tags": []
   },
   "source": [
    "# General Purpose Functions for Cleaning\n",
    "---"
   ]
  },
  {
   "cell_type": "markdown",
   "id": "b66f819b-606e-4376-ab9a-8ba8ffc8487a",
   "metadata": {
    "papermill": {
     "duration": 0.075957,
     "end_time": "2024-07-10T07:50:29.264314",
     "exception": false,
     "start_time": "2024-07-10T07:50:29.188357",
     "status": "completed"
    },
    "tags": []
   },
   "source": [
    "### Trimming String Columns"
   ]
  },
  {
   "cell_type": "code",
   "execution_count": 6,
   "id": "f8e58fb3-97c7-4c78-b517-0dfc43163bc0",
   "metadata": {
    "execution": {
     "iopub.execute_input": "2024-07-10T07:50:29.468426Z",
     "iopub.status.busy": "2024-07-10T07:50:29.467792Z",
     "iopub.status.idle": "2024-07-10T07:50:29.471160Z",
     "shell.execute_reply": "2024-07-10T07:50:29.471696Z"
    },
    "papermill": {
     "duration": 0.116035,
     "end_time": "2024-07-10T07:50:29.471848",
     "exception": false,
     "start_time": "2024-07-10T07:50:29.355813",
     "status": "completed"
    },
    "tags": []
   },
   "outputs": [],
   "source": [
    "# This function extracts the string columns and trims them, then returns the dataframe after trimming its string columns\n",
    "def trim_columns(dataframe):\n",
    "    columns = [column for column, dtype in dataframe.dtypes if dtype.startswith('string')]\n",
    "    for column in columns:\n",
    "        dataframe = dataframe.withColumn(column, sf.trim(sf.col(column)))\n",
    "    return dataframe"
   ]
  },
  {
   "cell_type": "markdown",
   "id": "9c2cef21-297a-4ec0-a479-459166b6d95f",
   "metadata": {
    "papermill": {
     "duration": 0.067263,
     "end_time": "2024-07-10T07:50:29.630320",
     "exception": false,
     "start_time": "2024-07-10T07:50:29.563057",
     "status": "completed"
    },
    "tags": []
   },
   "source": [
    "### Information about the dataframe"
   ]
  },
  {
   "cell_type": "code",
   "execution_count": 7,
   "id": "6098a41f-66c0-4921-a172-5e99c63d2ab6",
   "metadata": {
    "execution": {
     "iopub.execute_input": "2024-07-10T07:50:29.829938Z",
     "iopub.status.busy": "2024-07-10T07:50:29.829290Z",
     "iopub.status.idle": "2024-07-10T07:50:29.832438Z",
     "shell.execute_reply": "2024-07-10T07:50:29.831986Z"
    },
    "papermill": {
     "duration": 0.1005,
     "end_time": "2024-07-10T07:50:29.832582",
     "exception": false,
     "start_time": "2024-07-10T07:50:29.732082",
     "status": "completed"
    },
    "tags": []
   },
   "outputs": [],
   "source": [
    "# This function takes a dataframe and a list of columns to check if there's duplicates or not,\n",
    "# then returns the number of records of this dataframe and if there're duplicates according to the passed columns\n",
    "def get_number_of_records(dataframe, duplicate_columns):\n",
    "    number_of_records = dataframe.count()\n",
    "    number_of_duplicates = number_of_records - dataframe.dropDuplicates(duplicate_columns).count()\n",
    "    return [number_of_records, number_of_duplicates]"
   ]
  },
  {
   "cell_type": "markdown",
   "id": "055470e4-0739-4c33-b4b1-5e2630dbd8ef",
   "metadata": {
    "papermill": {
     "duration": 0.075756,
     "end_time": "2024-07-10T07:50:29.990155",
     "exception": false,
     "start_time": "2024-07-10T07:50:29.914399",
     "status": "completed"
    },
    "tags": []
   },
   "source": [
    "### Information about the dataframe's columns"
   ]
  },
  {
   "cell_type": "code",
   "execution_count": 8,
   "id": "fdab36ae-6fc0-47be-9908-be227ad0f0fc",
   "metadata": {
    "execution": {
     "iopub.execute_input": "2024-07-10T07:50:30.176578Z",
     "iopub.status.busy": "2024-07-10T07:50:30.175357Z",
     "iopub.status.idle": "2024-07-10T07:50:30.181283Z",
     "shell.execute_reply": "2024-07-10T07:50:30.180216Z"
    },
    "papermill": {
     "duration": 0.106387,
     "end_time": "2024-07-10T07:50:30.181553",
     "exception": false,
     "start_time": "2024-07-10T07:50:30.075166",
     "status": "completed"
    },
    "tags": []
   },
   "outputs": [],
   "source": [
    "# This function takes a dataframe which contains only one column, and returns its datatype, number of unique values, number of actual values, \n",
    "def get_columns_info(dataframe):\n",
    "    return dataframe.dtypes"
   ]
  },
  {
   "cell_type": "markdown",
   "id": "022deac9-7e9b-411b-98c4-16a82c98c69a",
   "metadata": {
    "papermill": {
     "duration": 0.144481,
     "end_time": "2024-07-10T07:50:30.416126",
     "exception": false,
     "start_time": "2024-07-10T07:50:30.271645",
     "status": "completed"
    },
    "tags": []
   },
   "source": [
    "---"
   ]
  },
  {
   "cell_type": "markdown",
   "id": "b3657195-4f5e-495b-b0c6-5bf8631919e1",
   "metadata": {
    "papermill": {
     "duration": 0.06849,
     "end_time": "2024-07-10T07:50:30.578508",
     "exception": false,
     "start_time": "2024-07-10T07:50:30.510018",
     "status": "completed"
    },
    "tags": []
   },
   "source": [
    "# Files Pre-Processing"
   ]
  },
  {
   "cell_type": "code",
   "execution_count": 9,
   "id": "d27436ba-f0b7-4b0e-be3a-529312dac683",
   "metadata": {
    "execution": {
     "iopub.execute_input": "2024-07-10T07:50:30.713580Z",
     "iopub.status.busy": "2024-07-10T07:50:30.712988Z",
     "iopub.status.idle": "2024-07-10T07:50:30.716248Z",
     "shell.execute_reply": "2024-07-10T07:50:30.716679Z"
    },
    "papermill": {
     "duration": 0.072894,
     "end_time": "2024-07-10T07:50:30.716812",
     "exception": false,
     "start_time": "2024-07-10T07:50:30.643918",
     "status": "completed"
    },
    "tags": []
   },
   "outputs": [],
   "source": [
    "spark_logger.info(f'Batch in Hour: {current_time.hour}')"
   ]
  },
  {
   "cell_type": "code",
   "execution_count": 10,
   "id": "77c015da-e23e-431c-8492-c43183a0e825",
   "metadata": {
    "execution": {
     "iopub.execute_input": "2024-07-10T07:50:30.871318Z",
     "iopub.status.busy": "2024-07-10T07:50:30.870562Z",
     "iopub.status.idle": "2024-07-10T07:50:30.875750Z",
     "shell.execute_reply": "2024-07-10T07:50:30.874615Z"
    },
    "papermill": {
     "duration": 0.082501,
     "end_time": "2024-07-10T07:50:30.875968",
     "exception": false,
     "start_time": "2024-07-10T07:50:30.793467",
     "status": "completed"
    },
    "tags": []
   },
   "outputs": [],
   "source": [
    "spark_logger.info('Starting reading files...\\n')"
   ]
  },
  {
   "cell_type": "code",
   "execution_count": 11,
   "id": "57db0fbd-2e9f-4ac3-8c0b-2dd75859e78f",
   "metadata": {
    "execution": {
     "iopub.execute_input": "2024-07-10T07:50:31.019011Z",
     "iopub.status.busy": "2024-07-10T07:50:31.018387Z",
     "iopub.status.idle": "2024-07-10T07:50:31.022776Z",
     "shell.execute_reply": "2024-07-10T07:50:31.023269Z"
    },
    "papermill": {
     "duration": 0.074536,
     "end_time": "2024-07-10T07:50:31.023422",
     "exception": false,
     "start_time": "2024-07-10T07:50:30.948886",
     "status": "completed"
    },
    "tags": []
   },
   "outputs": [],
   "source": [
    "data_logger.info('Hi .. Here\\'s some information about our batch !\\n')"
   ]
  },
  {
   "cell_type": "code",
   "execution_count": 12,
   "id": "b27bffa7-6147-4725-bcfd-858bff465e0a",
   "metadata": {
    "execution": {
     "iopub.execute_input": "2024-07-10T07:50:31.158224Z",
     "iopub.status.busy": "2024-07-10T07:50:31.157521Z",
     "iopub.status.idle": "2024-07-10T07:50:31.161442Z",
     "shell.execute_reply": "2024-07-10T07:50:31.160881Z"
    },
    "papermill": {
     "duration": 0.072865,
     "end_time": "2024-07-10T07:50:31.161655",
     "exception": false,
     "start_time": "2024-07-10T07:50:31.088790",
     "status": "completed"
    },
    "tags": []
   },
   "outputs": [],
   "source": [
    "# Define the directory of the files, depending on the date and batch's hour\n",
    "files_directory_path = f'/user/itversity/q-retail-company/bronze/{today_date}/hour-{current_time.hour}'\n",
    "\n",
    "# Define the sliver layer directory\n",
    "silver_layer_directory_path = f'/user/itversity/q-retail-company/silver/{today_date}/hour-{current_time.hour}'"
   ]
  },
  {
   "cell_type": "markdown",
   "id": "59dad7cf-8ae1-4e5b-92f4-a6aefdaa4b21",
   "metadata": {
    "papermill": {
     "duration": 0.076074,
     "end_time": "2024-07-10T07:50:31.319250",
     "exception": false,
     "start_time": "2024-07-10T07:50:31.243176",
     "status": "completed"
    },
    "tags": []
   },
   "source": [
    "## Branches Files Processing\n",
    "---"
   ]
  },
  {
   "cell_type": "code",
   "execution_count": 13,
   "id": "244fa7f4-dfa5-4d2e-9cd5-7fc35d959417",
   "metadata": {
    "execution": {
     "iopub.execute_input": "2024-07-10T07:50:31.459594Z",
     "iopub.status.busy": "2024-07-10T07:50:31.458955Z",
     "iopub.status.idle": "2024-07-10T07:50:31.462467Z",
     "shell.execute_reply": "2024-07-10T07:50:31.462911Z"
    },
    "papermill": {
     "duration": 0.07509,
     "end_time": "2024-07-10T07:50:31.463131",
     "exception": false,
     "start_time": "2024-07-10T07:50:31.388041",
     "status": "completed"
    },
    "tags": []
   },
   "outputs": [],
   "source": [
    "spark_logger.info('Processing Branches File...')"
   ]
  },
  {
   "cell_type": "code",
   "execution_count": 14,
   "id": "a2e3c74f-1d4a-4ad6-afa1-18739416eaa2",
   "metadata": {
    "execution": {
     "iopub.execute_input": "2024-07-10T07:50:31.603224Z",
     "iopub.status.busy": "2024-07-10T07:50:31.602587Z",
     "iopub.status.idle": "2024-07-10T07:50:31.606130Z",
     "shell.execute_reply": "2024-07-10T07:50:31.606646Z"
    },
    "papermill": {
     "duration": 0.076181,
     "end_time": "2024-07-10T07:50:31.606830",
     "exception": false,
     "start_time": "2024-07-10T07:50:31.530649",
     "status": "completed"
    },
    "tags": []
   },
   "outputs": [],
   "source": [
    "data_logger.info('Branches File:\\n-------------')"
   ]
  },
  {
   "cell_type": "markdown",
   "id": "0c339f2d-3a87-4ae9-aa8d-8f7103700f57",
   "metadata": {
    "papermill": {
     "duration": 0.06456,
     "end_time": "2024-07-10T07:50:31.738732",
     "exception": false,
     "start_time": "2024-07-10T07:50:31.674172",
     "status": "completed"
    },
    "tags": []
   },
   "source": [
    "### Schema Handling"
   ]
  },
  {
   "cell_type": "code",
   "execution_count": 15,
   "id": "3765e0bf-2d96-4a46-a8a0-679ec62c7a7a",
   "metadata": {
    "execution": {
     "iopub.execute_input": "2024-07-10T07:50:31.874492Z",
     "iopub.status.busy": "2024-07-10T07:50:31.873832Z",
     "iopub.status.idle": "2024-07-10T07:50:31.876487Z",
     "shell.execute_reply": "2024-07-10T07:50:31.876961Z"
    },
    "papermill": {
     "duration": 0.075596,
     "end_time": "2024-07-10T07:50:31.877121",
     "exception": false,
     "start_time": "2024-07-10T07:50:31.801525",
     "status": "completed"
    },
    "tags": []
   },
   "outputs": [],
   "source": [
    "BranchesSchema = StructType([\n",
    "    StructField(\"branch_id\", IntegerType(), nullable=False),\n",
    "    StructField(\"location\", StringType(), nullable=False),\n",
    "    StructField(\"establish_date\", DateType(), nullable=False),\n",
    "    StructField(\"class\", StringType(), nullable=False)\n",
    "])"
   ]
  },
  {
   "cell_type": "code",
   "execution_count": 16,
   "id": "34dc21a1-db51-406d-afd4-6c319f684159",
   "metadata": {
    "execution": {
     "iopub.execute_input": "2024-07-10T07:50:32.013219Z",
     "iopub.status.busy": "2024-07-10T07:50:32.012322Z",
     "iopub.status.idle": "2024-07-10T07:50:32.015871Z",
     "shell.execute_reply": "2024-07-10T07:50:32.016645Z"
    },
    "papermill": {
     "duration": 0.073774,
     "end_time": "2024-07-10T07:50:32.016815",
     "exception": false,
     "start_time": "2024-07-10T07:50:31.943041",
     "status": "completed"
    },
    "tags": []
   },
   "outputs": [],
   "source": [
    "spark_logger.info('DONE : Schema Handling')"
   ]
  },
  {
   "cell_type": "markdown",
   "id": "18a6df24-fd31-436a-82b4-425d209d8d2b",
   "metadata": {
    "papermill": {
     "duration": 0.067684,
     "end_time": "2024-07-10T07:50:32.150902",
     "exception": false,
     "start_time": "2024-07-10T07:50:32.083218",
     "status": "completed"
    },
    "tags": []
   },
   "source": [
    "### Reading the file"
   ]
  },
  {
   "cell_type": "code",
   "execution_count": 17,
   "id": "b7e3ebc7-3738-4e17-a16b-d97b43f0572d",
   "metadata": {
    "execution": {
     "iopub.execute_input": "2024-07-10T07:50:32.305050Z",
     "iopub.status.busy": "2024-07-10T07:50:32.304260Z",
     "iopub.status.idle": "2024-07-10T07:50:35.525778Z",
     "shell.execute_reply": "2024-07-10T07:50:35.526973Z"
    },
    "papermill": {
     "duration": 3.3056,
     "end_time": "2024-07-10T07:50:35.527384",
     "exception": false,
     "start_time": "2024-07-10T07:50:32.221784",
     "status": "completed"
    },
    "tags": []
   },
   "outputs": [
    {
     "name": "stdout",
     "output_type": "stream",
     "text": [
      "+---------+-----------+--------------+-----+\n",
      "|branch_id|   location|establish_date|class|\n",
      "+---------+-----------+--------------+-----+\n",
      "|        1|   New York|    2017-01-15|    A|\n",
      "|        2|Los Angeles|    2016-07-28|    B|\n",
      "|        3|    Chicago|    2015-03-10|    A|\n",
      "|        4|    Houston|    2016-11-05|    D|\n",
      "|        5|    Phoenix|    2017-09-20|    C|\n",
      "+---------+-----------+--------------+-----+\n",
      "\n"
     ]
    }
   ],
   "source": [
    "branches = spark.read.csv(fr'{files_directory_path}/branches_*', header=True, schema=BranchesSchema)\n",
    "branches.show(5)"
   ]
  },
  {
   "cell_type": "code",
   "execution_count": 18,
   "id": "f8235e5d-54cc-419a-bb73-3d3046364c7e",
   "metadata": {
    "execution": {
     "iopub.execute_input": "2024-07-10T07:50:35.673986Z",
     "iopub.status.busy": "2024-07-10T07:50:35.672985Z",
     "iopub.status.idle": "2024-07-10T07:50:38.111323Z",
     "shell.execute_reply": "2024-07-10T07:50:38.112668Z"
    },
    "papermill": {
     "duration": 2.512603,
     "end_time": "2024-07-10T07:50:38.113053",
     "exception": false,
     "start_time": "2024-07-10T07:50:35.600450",
     "status": "completed"
    },
    "tags": []
   },
   "outputs": [],
   "source": [
    "branches_info = get_number_of_records(branches, ['location', 'establish_date', 'class'])\n",
    "number_of_records = branches_info[0]\n",
    "number_of_duplicates = branches_info[1]\n",
    "data_logger.info(f'Number of records = {number_of_records}\\nNumber of duplicates = {number_of_duplicates}\\n')"
   ]
  },
  {
   "cell_type": "code",
   "execution_count": 19,
   "id": "55a03f0e-40a2-4030-b89a-f23cee369a33",
   "metadata": {
    "execution": {
     "iopub.execute_input": "2024-07-10T07:50:38.311253Z",
     "iopub.status.busy": "2024-07-10T07:50:38.307927Z",
     "iopub.status.idle": "2024-07-10T07:50:41.695407Z",
     "shell.execute_reply": "2024-07-10T07:50:41.694465Z"
    },
    "papermill": {
     "duration": 3.491191,
     "end_time": "2024-07-10T07:50:41.695644",
     "exception": false,
     "start_time": "2024-07-10T07:50:38.204453",
     "status": "completed"
    },
    "tags": []
   },
   "outputs": [],
   "source": [
    "data_logger.info('Columns:')\n",
    "counter = 1\n",
    "for column, dtype in get_columns_info(branches):\n",
    "    number_of_unique_values = branches.select(f'{column}').distinct().count()\n",
    "    data_logger.info(f'Column {counter}: {column} - Data Type: {dtype} - Number of Unique Values: {number_of_unique_values}')\n",
    "    counter += 1\n",
    "    \n",
    "data_logger.info('\\n')"
   ]
  },
  {
   "cell_type": "code",
   "execution_count": 20,
   "id": "96d6070e-ebe0-4955-a4f8-fdca7a5276e0",
   "metadata": {
    "execution": {
     "iopub.execute_input": "2024-07-10T07:50:41.848068Z",
     "iopub.status.busy": "2024-07-10T07:50:41.847459Z",
     "iopub.status.idle": "2024-07-10T07:50:41.851269Z",
     "shell.execute_reply": "2024-07-10T07:50:41.850727Z"
    },
    "papermill": {
     "duration": 0.077031,
     "end_time": "2024-07-10T07:50:41.851392",
     "exception": false,
     "start_time": "2024-07-10T07:50:41.774361",
     "status": "completed"
    },
    "tags": []
   },
   "outputs": [],
   "source": [
    "spark_logger.info('DONE : Reading Branches File')"
   ]
  },
  {
   "cell_type": "markdown",
   "id": "e917f162-bb1d-49a2-ae39-bc54cefc3ca7",
   "metadata": {
    "papermill": {
     "duration": 0.065174,
     "end_time": "2024-07-10T07:50:41.983808",
     "exception": false,
     "start_time": "2024-07-10T07:50:41.918634",
     "status": "completed"
    },
    "tags": []
   },
   "source": [
    "### Cleaning Process"
   ]
  },
  {
   "cell_type": "code",
   "execution_count": 21,
   "id": "40636365-ed52-4020-ac3f-e2891224213d",
   "metadata": {
    "execution": {
     "iopub.execute_input": "2024-07-10T07:50:42.127017Z",
     "iopub.status.busy": "2024-07-10T07:50:42.126168Z",
     "iopub.status.idle": "2024-07-10T07:50:42.237259Z",
     "shell.execute_reply": "2024-07-10T07:50:42.236519Z"
    },
    "papermill": {
     "duration": 0.184354,
     "end_time": "2024-07-10T07:50:42.237430",
     "exception": false,
     "start_time": "2024-07-10T07:50:42.053076",
     "status": "completed"
    },
    "tags": []
   },
   "outputs": [
    {
     "name": "stdout",
     "output_type": "stream",
     "text": [
      "+---------+-----------+--------------+-----+\n",
      "|branch_id|   location|establish_date|class|\n",
      "+---------+-----------+--------------+-----+\n",
      "|        1|   New York|    2017-01-15|    A|\n",
      "|        2|Los Angeles|    2016-07-28|    B|\n",
      "|        3|    Chicago|    2015-03-10|    A|\n",
      "|        4|    Houston|    2016-11-05|    D|\n",
      "|        5|    Phoenix|    2017-09-20|    C|\n",
      "+---------+-----------+--------------+-----+\n",
      "\n"
     ]
    }
   ],
   "source": [
    "# Trim Branches data (for String columns only)\n",
    "branches_cleaned = trim_columns(branches)\n",
    "branches_cleaned.show(5)"
   ]
  },
  {
   "cell_type": "code",
   "execution_count": 22,
   "id": "e61bb3b6-5363-462a-a64e-fd03f600f69a",
   "metadata": {
    "execution": {
     "iopub.execute_input": "2024-07-10T07:50:42.415854Z",
     "iopub.status.busy": "2024-07-10T07:50:42.415151Z",
     "iopub.status.idle": "2024-07-10T07:50:42.420884Z",
     "shell.execute_reply": "2024-07-10T07:50:42.421478Z"
    },
    "papermill": {
     "duration": 0.100245,
     "end_time": "2024-07-10T07:50:42.421649",
     "exception": false,
     "start_time": "2024-07-10T07:50:42.321404",
     "status": "completed"
    },
    "tags": []
   },
   "outputs": [],
   "source": [
    "spark_logger.info('DONE : Trmming String Columns')"
   ]
  },
  {
   "cell_type": "code",
   "execution_count": 23,
   "id": "d8437524-7bf1-4d86-b870-efaf2cec8252",
   "metadata": {
    "execution": {
     "iopub.execute_input": "2024-07-10T07:50:42.587515Z",
     "iopub.status.busy": "2024-07-10T07:50:42.586848Z",
     "iopub.status.idle": "2024-07-10T07:50:42.590589Z",
     "shell.execute_reply": "2024-07-10T07:50:42.593854Z"
    },
    "papermill": {
     "duration": 0.089368,
     "end_time": "2024-07-10T07:50:42.594150",
     "exception": false,
     "start_time": "2024-07-10T07:50:42.504782",
     "status": "completed"
    },
    "tags": []
   },
   "outputs": [],
   "source": [
    "# Check for duplicates\n",
    "if number_of_duplicates > 0:\n",
    "    branches_cleaned = branches_cleaned.dropDuplicates(['location', 'establish_date', 'class'])"
   ]
  },
  {
   "cell_type": "code",
   "execution_count": 24,
   "id": "de4998f6-daad-4827-9a7c-fdd1a10e91c0",
   "metadata": {
    "execution": {
     "iopub.execute_input": "2024-07-10T07:50:42.752731Z",
     "iopub.status.busy": "2024-07-10T07:50:42.751994Z",
     "iopub.status.idle": "2024-07-10T07:50:42.755430Z",
     "shell.execute_reply": "2024-07-10T07:50:42.755986Z"
    },
    "papermill": {
     "duration": 0.085504,
     "end_time": "2024-07-10T07:50:42.756136",
     "exception": false,
     "start_time": "2024-07-10T07:50:42.670632",
     "status": "completed"
    },
    "tags": []
   },
   "outputs": [],
   "source": [
    "spark_logger.info('DONE : Checking for Duplicates')"
   ]
  },
  {
   "cell_type": "markdown",
   "id": "04bc3fb0-7fac-4185-8334-d92c1c0e3b49",
   "metadata": {
    "papermill": {
     "duration": 0.082677,
     "end_time": "2024-07-10T07:50:42.917200",
     "exception": false,
     "start_time": "2024-07-10T07:50:42.834523",
     "status": "completed"
    },
    "tags": []
   },
   "source": [
    "### Writing to HDFS"
   ]
  },
  {
   "cell_type": "code",
   "execution_count": 25,
   "id": "f4d0b054-c0de-442c-8d15-94f00f2e4038",
   "metadata": {
    "execution": {
     "iopub.execute_input": "2024-07-10T07:50:43.084719Z",
     "iopub.status.busy": "2024-07-10T07:50:43.083875Z",
     "iopub.status.idle": "2024-07-10T07:50:43.596090Z",
     "shell.execute_reply": "2024-07-10T07:50:43.596556Z"
    },
    "papermill": {
     "duration": 0.602073,
     "end_time": "2024-07-10T07:50:43.596712",
     "exception": false,
     "start_time": "2024-07-10T07:50:42.994639",
     "status": "completed"
    },
    "tags": []
   },
   "outputs": [],
   "source": [
    "branches_cleaned.coalesce(1).write.mode('overwrite').option('header','true').csv(f'{silver_layer_directory_path}/branches_cleaned.csv')"
   ]
  },
  {
   "cell_type": "code",
   "execution_count": 26,
   "id": "b49d5f9f-0c56-4a43-8f96-e32a11ae759d",
   "metadata": {
    "execution": {
     "iopub.execute_input": "2024-07-10T07:50:43.752746Z",
     "iopub.status.busy": "2024-07-10T07:50:43.751797Z",
     "iopub.status.idle": "2024-07-10T07:50:43.757168Z",
     "shell.execute_reply": "2024-07-10T07:50:43.756394Z"
    },
    "papermill": {
     "duration": 0.085173,
     "end_time": "2024-07-10T07:50:43.757348",
     "exception": false,
     "start_time": "2024-07-10T07:50:43.672175",
     "status": "completed"
    },
    "tags": []
   },
   "outputs": [],
   "source": [
    "spark_logger.info('DONE : Writing to HDFS\\n')"
   ]
  },
  {
   "cell_type": "markdown",
   "id": "4825554d-a298-4be9-bd17-1fca9115d7f7",
   "metadata": {
    "papermill": {
     "duration": 0.071445,
     "end_time": "2024-07-10T07:50:43.896145",
     "exception": false,
     "start_time": "2024-07-10T07:50:43.824700",
     "status": "completed"
    },
    "tags": []
   },
   "source": [
    "---"
   ]
  },
  {
   "cell_type": "markdown",
   "id": "2a58ec9b-f2a4-491c-b3a8-94d2ed3ac574",
   "metadata": {
    "papermill": {
     "duration": 0.068346,
     "end_time": "2024-07-10T07:50:44.032020",
     "exception": false,
     "start_time": "2024-07-10T07:50:43.963674",
     "status": "completed"
    },
    "tags": []
   },
   "source": [
    "## Sales Agents Files Processing\n",
    "---"
   ]
  },
  {
   "cell_type": "code",
   "execution_count": 27,
   "id": "52a4c661-b380-4577-8234-7ee254d6c4f1",
   "metadata": {
    "execution": {
     "iopub.execute_input": "2024-07-10T07:50:44.183055Z",
     "iopub.status.busy": "2024-07-10T07:50:44.182123Z",
     "iopub.status.idle": "2024-07-10T07:50:44.186873Z",
     "shell.execute_reply": "2024-07-10T07:50:44.187860Z"
    },
    "papermill": {
     "duration": 0.086101,
     "end_time": "2024-07-10T07:50:44.188139",
     "exception": false,
     "start_time": "2024-07-10T07:50:44.102038",
     "status": "completed"
    },
    "tags": []
   },
   "outputs": [],
   "source": [
    "spark_logger.info('Processing Sales Agents File...')"
   ]
  },
  {
   "cell_type": "code",
   "execution_count": 28,
   "id": "e99a1351-b9bc-4ed8-b796-8eb0089671dd",
   "metadata": {
    "execution": {
     "iopub.execute_input": "2024-07-10T07:50:44.361062Z",
     "iopub.status.busy": "2024-07-10T07:50:44.359864Z",
     "iopub.status.idle": "2024-07-10T07:50:44.365045Z",
     "shell.execute_reply": "2024-07-10T07:50:44.364169Z"
    },
    "papermill": {
     "duration": 0.093618,
     "end_time": "2024-07-10T07:50:44.365225",
     "exception": false,
     "start_time": "2024-07-10T07:50:44.271607",
     "status": "completed"
    },
    "tags": []
   },
   "outputs": [],
   "source": [
    "data_logger.info('Sales Agents File:\\n-------------')"
   ]
  },
  {
   "cell_type": "markdown",
   "id": "1805f41d-db32-428b-8399-76c9059f2b80",
   "metadata": {
    "papermill": {
     "duration": 0.07246,
     "end_time": "2024-07-10T07:50:44.532644",
     "exception": false,
     "start_time": "2024-07-10T07:50:44.460184",
     "status": "completed"
    },
    "tags": []
   },
   "source": [
    "### Schema Handling"
   ]
  },
  {
   "cell_type": "code",
   "execution_count": 29,
   "id": "906c1991-a531-4249-aa62-243f89650fd5",
   "metadata": {
    "execution": {
     "iopub.execute_input": "2024-07-10T07:50:44.692144Z",
     "iopub.status.busy": "2024-07-10T07:50:44.691310Z",
     "iopub.status.idle": "2024-07-10T07:50:44.706296Z",
     "shell.execute_reply": "2024-07-10T07:50:44.705647Z"
    },
    "papermill": {
     "duration": 0.092209,
     "end_time": "2024-07-10T07:50:44.706425",
     "exception": false,
     "start_time": "2024-07-10T07:50:44.614216",
     "status": "completed"
    },
    "tags": []
   },
   "outputs": [],
   "source": [
    "SalesAgentsSchema = StructType([\n",
    "    StructField(\"sales_person_id\", IntegerType(), nullable=False),\n",
    "    StructField(\"name\", StringType(), nullable=False),\n",
    "    StructField(\"hire_date\", DateType(), nullable=False)\n",
    "])"
   ]
  },
  {
   "cell_type": "code",
   "execution_count": 30,
   "id": "8f59df5b-24fa-4193-a655-c2b64124bf7f",
   "metadata": {
    "execution": {
     "iopub.execute_input": "2024-07-10T07:50:44.850263Z",
     "iopub.status.busy": "2024-07-10T07:50:44.849588Z",
     "iopub.status.idle": "2024-07-10T07:50:44.853796Z",
     "shell.execute_reply": "2024-07-10T07:50:44.853292Z"
    },
    "papermill": {
     "duration": 0.077193,
     "end_time": "2024-07-10T07:50:44.854016",
     "exception": false,
     "start_time": "2024-07-10T07:50:44.776823",
     "status": "completed"
    },
    "tags": []
   },
   "outputs": [],
   "source": [
    "spark_logger.info('DONE : Schema Handling')"
   ]
  },
  {
   "cell_type": "markdown",
   "id": "14a02586-68bd-4c0a-bd84-d60e04e8cf2e",
   "metadata": {
    "papermill": {
     "duration": 0.072631,
     "end_time": "2024-07-10T07:50:44.997203",
     "exception": false,
     "start_time": "2024-07-10T07:50:44.924572",
     "status": "completed"
    },
    "tags": []
   },
   "source": [
    "### Reading the file"
   ]
  },
  {
   "cell_type": "code",
   "execution_count": 31,
   "id": "88d6d731-89c3-43be-af49-d849038e0be1",
   "metadata": {
    "execution": {
     "iopub.execute_input": "2024-07-10T07:50:45.147249Z",
     "iopub.status.busy": "2024-07-10T07:50:45.146626Z",
     "iopub.status.idle": "2024-07-10T07:50:45.264848Z",
     "shell.execute_reply": "2024-07-10T07:50:45.265310Z"
    },
    "papermill": {
     "duration": 0.194271,
     "end_time": "2024-07-10T07:50:45.265451",
     "exception": false,
     "start_time": "2024-07-10T07:50:45.071180",
     "status": "completed"
    },
    "tags": []
   },
   "outputs": [
    {
     "name": "stdout",
     "output_type": "stream",
     "text": [
      "+---------------+---------------+----------+\n",
      "|sales_person_id|           name| hire_date|\n",
      "+---------------+---------------+----------+\n",
      "|              1|       John Doe|2020-06-03|\n",
      "|              2|     Jane Smith|2018-05-13|\n",
      "|              3|Michael Johnson|2021-10-03|\n",
      "|              4|    Emily Brown|2020-10-25|\n",
      "|              5|   David Wilson|2021-04-08|\n",
      "+---------------+---------------+----------+\n",
      "only showing top 5 rows\n",
      "\n"
     ]
    }
   ],
   "source": [
    "salesAgents = spark.read.csv(fr'{files_directory_path}/sales_agents_*', header=True, schema=SalesAgentsSchema)\n",
    "salesAgents.show(5)"
   ]
  },
  {
   "cell_type": "code",
   "execution_count": 32,
   "id": "69115faa-17f2-4ca7-b0d0-66e253c2922d",
   "metadata": {
    "execution": {
     "iopub.execute_input": "2024-07-10T07:50:45.422959Z",
     "iopub.status.busy": "2024-07-10T07:50:45.421791Z",
     "iopub.status.idle": "2024-07-10T07:50:46.083734Z",
     "shell.execute_reply": "2024-07-10T07:50:46.082667Z"
    },
    "papermill": {
     "duration": 0.746051,
     "end_time": "2024-07-10T07:50:46.083965",
     "exception": false,
     "start_time": "2024-07-10T07:50:45.337914",
     "status": "completed"
    },
    "tags": []
   },
   "outputs": [],
   "source": [
    "salesAgents_info = get_number_of_records(salesAgents, ['name', 'hire_date'])\n",
    "number_of_records = salesAgents_info[0]\n",
    "number_of_duplicates = salesAgents_info[1]\n",
    "data_logger.info(f'Number of records = {number_of_records}\\nNumber of duplicates = {number_of_duplicates}\\n')"
   ]
  },
  {
   "cell_type": "code",
   "execution_count": 33,
   "id": "69a2400c-2b92-4e6a-96b1-e8ee31afccd6",
   "metadata": {
    "execution": {
     "iopub.execute_input": "2024-07-10T07:50:46.258727Z",
     "iopub.status.busy": "2024-07-10T07:50:46.257385Z",
     "iopub.status.idle": "2024-07-10T07:50:48.412511Z",
     "shell.execute_reply": "2024-07-10T07:50:48.411930Z"
    },
    "papermill": {
     "duration": 2.242847,
     "end_time": "2024-07-10T07:50:48.412661",
     "exception": false,
     "start_time": "2024-07-10T07:50:46.169814",
     "status": "completed"
    },
    "tags": []
   },
   "outputs": [],
   "source": [
    "data_logger.info('Columns:')\n",
    "counter = 1\n",
    "for column, dtype in get_columns_info(salesAgents):\n",
    "    number_of_unique_values = salesAgents.select(f'{column}').distinct().count()\n",
    "    data_logger.info(f'Column {counter}: {column} - Data Type: {dtype} - Number of Unique Values: {number_of_unique_values}')\n",
    "    counter += 1\n",
    "    \n",
    "data_logger.info('\\n')"
   ]
  },
  {
   "cell_type": "code",
   "execution_count": 34,
   "id": "08689376-6504-4d6e-87b8-3af70544fbd0",
   "metadata": {
    "execution": {
     "iopub.execute_input": "2024-07-10T07:50:48.606694Z",
     "iopub.status.busy": "2024-07-10T07:50:48.606106Z",
     "iopub.status.idle": "2024-07-10T07:50:48.608850Z",
     "shell.execute_reply": "2024-07-10T07:50:48.609416Z"
    },
    "papermill": {
     "duration": 0.099426,
     "end_time": "2024-07-10T07:50:48.609559",
     "exception": false,
     "start_time": "2024-07-10T07:50:48.510133",
     "status": "completed"
    },
    "tags": []
   },
   "outputs": [],
   "source": [
    "spark_logger.info('DONE : Reading Sales Agents File')"
   ]
  },
  {
   "cell_type": "markdown",
   "id": "b27c4718-8130-41cf-920d-164d4b346fd2",
   "metadata": {
    "papermill": {
     "duration": 0.068339,
     "end_time": "2024-07-10T07:50:48.753031",
     "exception": false,
     "start_time": "2024-07-10T07:50:48.684692",
     "status": "completed"
    },
    "tags": []
   },
   "source": [
    "### Cleaning Process"
   ]
  },
  {
   "cell_type": "code",
   "execution_count": 35,
   "id": "4888f65f-aaaa-4d11-8bea-08099d2a1dd7",
   "metadata": {
    "execution": {
     "iopub.execute_input": "2024-07-10T07:50:48.898022Z",
     "iopub.status.busy": "2024-07-10T07:50:48.896678Z",
     "iopub.status.idle": "2024-07-10T07:50:48.985552Z",
     "shell.execute_reply": "2024-07-10T07:50:48.984967Z"
    },
    "papermill": {
     "duration": 0.159797,
     "end_time": "2024-07-10T07:50:48.985687",
     "exception": false,
     "start_time": "2024-07-10T07:50:48.825890",
     "status": "completed"
    },
    "tags": []
   },
   "outputs": [
    {
     "name": "stdout",
     "output_type": "stream",
     "text": [
      "+---------------+---------------+----------+\n",
      "|sales_person_id|           name| hire_date|\n",
      "+---------------+---------------+----------+\n",
      "|              1|       John Doe|2020-06-03|\n",
      "|              2|     Jane Smith|2018-05-13|\n",
      "|              3|Michael Johnson|2021-10-03|\n",
      "|              4|    Emily Brown|2020-10-25|\n",
      "|              5|   David Wilson|2021-04-08|\n",
      "+---------------+---------------+----------+\n",
      "only showing top 5 rows\n",
      "\n"
     ]
    }
   ],
   "source": [
    "# Trim Sales Agents data (for String columns only)\n",
    "salesAgents_cleaned = trim_columns(salesAgents)\n",
    "salesAgents_cleaned.show(5)"
   ]
  },
  {
   "cell_type": "code",
   "execution_count": 36,
   "id": "572a7d42-c92c-4d7f-843c-62999ea8bea2",
   "metadata": {
    "execution": {
     "iopub.execute_input": "2024-07-10T07:50:49.185417Z",
     "iopub.status.busy": "2024-07-10T07:50:49.184809Z",
     "iopub.status.idle": "2024-07-10T07:50:49.188114Z",
     "shell.execute_reply": "2024-07-10T07:50:49.188556Z"
    },
    "papermill": {
     "duration": 0.091618,
     "end_time": "2024-07-10T07:50:49.188926",
     "exception": false,
     "start_time": "2024-07-10T07:50:49.097308",
     "status": "completed"
    },
    "tags": []
   },
   "outputs": [],
   "source": [
    "spark_logger.info('DONE : Trmming String Columns')"
   ]
  },
  {
   "cell_type": "code",
   "execution_count": 37,
   "id": "656e0275-9c2a-4bbe-9285-97b23d979ddf",
   "metadata": {
    "execution": {
     "iopub.execute_input": "2024-07-10T07:50:49.397581Z",
     "iopub.status.busy": "2024-07-10T07:50:49.396356Z",
     "iopub.status.idle": "2024-07-10T07:50:50.074975Z",
     "shell.execute_reply": "2024-07-10T07:50:50.074449Z"
    },
    "papermill": {
     "duration": 0.801637,
     "end_time": "2024-07-10T07:50:50.075104",
     "exception": false,
     "start_time": "2024-07-10T07:50:49.273467",
     "status": "completed"
    },
    "tags": []
   },
   "outputs": [],
   "source": [
    "# Check for duplicates\n",
    "if salesAgents_cleaned.count() > salesAgents_cleaned.dropDuplicates(['name', 'hire_date']).count():\n",
    "    salesAgents_cleaned = salesAgents_cleaned.dropDuplicates(['name', 'hire_date'])"
   ]
  },
  {
   "cell_type": "code",
   "execution_count": 38,
   "id": "ab1416ed-911d-4ec2-af7d-6dbef526a33d",
   "metadata": {
    "execution": {
     "iopub.execute_input": "2024-07-10T07:50:50.226458Z",
     "iopub.status.busy": "2024-07-10T07:50:50.225627Z",
     "iopub.status.idle": "2024-07-10T07:50:50.229977Z",
     "shell.execute_reply": "2024-07-10T07:50:50.230602Z"
    },
    "papermill": {
     "duration": 0.081562,
     "end_time": "2024-07-10T07:50:50.230753",
     "exception": false,
     "start_time": "2024-07-10T07:50:50.149191",
     "status": "completed"
    },
    "tags": []
   },
   "outputs": [],
   "source": [
    "spark_logger.info('DONE : Checking for Duplicates')"
   ]
  },
  {
   "cell_type": "markdown",
   "id": "733713b2-609d-48a4-bde2-2eb16fc8915b",
   "metadata": {
    "papermill": {
     "duration": 0.071345,
     "end_time": "2024-07-10T07:50:50.372001",
     "exception": false,
     "start_time": "2024-07-10T07:50:50.300656",
     "status": "completed"
    },
    "tags": []
   },
   "source": [
    "### Writing to HDFS"
   ]
  },
  {
   "cell_type": "code",
   "execution_count": 39,
   "id": "f420e2ea-76ed-4867-9d6f-1a4baa5e1d5f",
   "metadata": {
    "execution": {
     "iopub.execute_input": "2024-07-10T07:50:50.517784Z",
     "iopub.status.busy": "2024-07-10T07:50:50.516789Z",
     "iopub.status.idle": "2024-07-10T07:50:50.650977Z",
     "shell.execute_reply": "2024-07-10T07:50:50.651443Z"
    },
    "papermill": {
     "duration": 0.209227,
     "end_time": "2024-07-10T07:50:50.651589",
     "exception": false,
     "start_time": "2024-07-10T07:50:50.442362",
     "status": "completed"
    },
    "tags": []
   },
   "outputs": [],
   "source": [
    "salesAgents_cleaned.coalesce(1).write.mode('overwrite').option('header','true').csv(f'{silver_layer_directory_path}/salesAgents_cleaned.csv')"
   ]
  },
  {
   "cell_type": "code",
   "execution_count": 40,
   "id": "6f8b4c20-e973-47f0-89e8-81ae72162b28",
   "metadata": {
    "execution": {
     "iopub.execute_input": "2024-07-10T07:50:50.802587Z",
     "iopub.status.busy": "2024-07-10T07:50:50.801673Z",
     "iopub.status.idle": "2024-07-10T07:50:50.806272Z",
     "shell.execute_reply": "2024-07-10T07:50:50.805803Z"
    },
    "papermill": {
     "duration": 0.081308,
     "end_time": "2024-07-10T07:50:50.806419",
     "exception": false,
     "start_time": "2024-07-10T07:50:50.725111",
     "status": "completed"
    },
    "tags": []
   },
   "outputs": [],
   "source": [
    "spark_logger.info('DONE : Writing to HDFS\\n')"
   ]
  },
  {
   "cell_type": "markdown",
   "id": "ab3cb090-1717-4627-bb6b-560d6d17ffbe",
   "metadata": {
    "papermill": {
     "duration": 0.067693,
     "end_time": "2024-07-10T07:50:50.942878",
     "exception": false,
     "start_time": "2024-07-10T07:50:50.875185",
     "status": "completed"
    },
    "tags": []
   },
   "source": [
    "---"
   ]
  },
  {
   "cell_type": "markdown",
   "id": "23569ac4-68a5-471c-bd57-bd91e5e6ab35",
   "metadata": {
    "papermill": {
     "duration": 0.07554,
     "end_time": "2024-07-10T07:50:51.088642",
     "exception": false,
     "start_time": "2024-07-10T07:50:51.013102",
     "status": "completed"
    },
    "tags": []
   },
   "source": [
    "## Transactions Files Processing\n",
    "---"
   ]
  },
  {
   "cell_type": "code",
   "execution_count": 41,
   "id": "ef884973-a432-4a3e-93ce-2bfabe74ee40",
   "metadata": {
    "execution": {
     "iopub.execute_input": "2024-07-10T07:50:51.249091Z",
     "iopub.status.busy": "2024-07-10T07:50:51.248461Z",
     "iopub.status.idle": "2024-07-10T07:50:51.252281Z",
     "shell.execute_reply": "2024-07-10T07:50:51.252737Z"
    },
    "papermill": {
     "duration": 0.084001,
     "end_time": "2024-07-10T07:50:51.252876",
     "exception": false,
     "start_time": "2024-07-10T07:50:51.168875",
     "status": "completed"
    },
    "tags": []
   },
   "outputs": [],
   "source": [
    "spark_logger.info('Processing Transactions File...')"
   ]
  },
  {
   "cell_type": "code",
   "execution_count": 42,
   "id": "484545ed-5139-4613-bba6-f0d661187b1d",
   "metadata": {
    "execution": {
     "iopub.execute_input": "2024-07-10T07:50:51.456580Z",
     "iopub.status.busy": "2024-07-10T07:50:51.454775Z",
     "iopub.status.idle": "2024-07-10T07:50:51.460904Z",
     "shell.execute_reply": "2024-07-10T07:50:51.461708Z"
    },
    "papermill": {
     "duration": 0.119201,
     "end_time": "2024-07-10T07:50:51.461885",
     "exception": false,
     "start_time": "2024-07-10T07:50:51.342684",
     "status": "completed"
    },
    "tags": []
   },
   "outputs": [],
   "source": [
    "data_logger.info('Transactions File:\\n-------------')"
   ]
  },
  {
   "cell_type": "markdown",
   "id": "cc5f2db3-9e32-4641-bcf9-eb7aebe70ede",
   "metadata": {
    "papermill": {
     "duration": 0.083164,
     "end_time": "2024-07-10T07:50:51.644291",
     "exception": false,
     "start_time": "2024-07-10T07:50:51.561127",
     "status": "completed"
    },
    "tags": []
   },
   "source": [
    "### Schema Handling"
   ]
  },
  {
   "cell_type": "code",
   "execution_count": 43,
   "id": "7b6161b6-192e-44af-a927-c5cbd874096e",
   "metadata": {
    "execution": {
     "iopub.execute_input": "2024-07-10T07:50:51.795514Z",
     "iopub.status.busy": "2024-07-10T07:50:51.794852Z",
     "iopub.status.idle": "2024-07-10T07:50:51.812459Z",
     "shell.execute_reply": "2024-07-10T07:50:51.811842Z"
    },
    "papermill": {
     "duration": 0.093587,
     "end_time": "2024-07-10T07:50:51.812632",
     "exception": false,
     "start_time": "2024-07-10T07:50:51.719045",
     "status": "completed"
    },
    "tags": []
   },
   "outputs": [],
   "source": [
    "TransactionsSchema = StructType([\n",
    "    StructField(\"transaction_date\", DateType(), nullable=False),\n",
    "    StructField(\"transaction_id\", StringType(), nullable=False),\n",
    "    StructField(\"customer_id\", IntegerType(), nullable=False),\n",
    "    StructField(\"customer_fname\", StringType(), nullable=False),\n",
    "    StructField(\"customer_lname\", StringType(), nullable=False),\n",
    "    StructField(\"customer_email\", StringType(), nullable=False),\n",
    "    StructField(\"sales_agent_id\", IntegerType(), nullable=False),\n",
    "    StructField(\"branch_id\", IntegerType(), nullable=False),\n",
    "    StructField(\"product_id\", IntegerType(), nullable=False),\n",
    "    StructField(\"product_name\", StringType(), nullable=False),\n",
    "    StructField(\"product_category\", StringType(), nullable=False),\n",
    "    StructField(\"offer_1\", BooleanType(), nullable=True),\n",
    "    StructField(\"offer_2\", BooleanType(), nullable=True),\n",
    "    StructField(\"offer_3\", BooleanType(), nullable=True),\n",
    "    StructField(\"offer_4\", BooleanType(), nullable=True),\n",
    "    StructField(\"offer_5\", BooleanType(), nullable=True),\n",
    "    StructField(\"units\", IntegerType(), nullable=False),\n",
    "    StructField(\"unit_price\", FloatType(), nullable=False),\n",
    "    StructField(\"is_online\", StringType(), nullable=False),\n",
    "    StructField(\"payment_method\", StringType(), nullable=False),\n",
    "    StructField(\"shipping_address\", StringType(), nullable=True)\n",
    "])"
   ]
  },
  {
   "cell_type": "code",
   "execution_count": 44,
   "id": "d5ef8f57-7e16-4e36-9ce8-ae9470bfc5be",
   "metadata": {
    "execution": {
     "iopub.execute_input": "2024-07-10T07:50:51.969605Z",
     "iopub.status.busy": "2024-07-10T07:50:51.968588Z",
     "iopub.status.idle": "2024-07-10T07:50:51.972832Z",
     "shell.execute_reply": "2024-07-10T07:50:51.973300Z"
    },
    "papermill": {
     "duration": 0.087327,
     "end_time": "2024-07-10T07:50:51.973459",
     "exception": false,
     "start_time": "2024-07-10T07:50:51.886132",
     "status": "completed"
    },
    "tags": []
   },
   "outputs": [],
   "source": [
    "spark_logger.info('DONE : Schema Handling')"
   ]
  },
  {
   "cell_type": "markdown",
   "id": "7f05e48d-f27c-4850-ad28-2dd468b6f08a",
   "metadata": {
    "papermill": {
     "duration": 0.067713,
     "end_time": "2024-07-10T07:50:52.109934",
     "exception": false,
     "start_time": "2024-07-10T07:50:52.042221",
     "status": "completed"
    },
    "tags": []
   },
   "source": [
    "### Reading the file"
   ]
  },
  {
   "cell_type": "code",
   "execution_count": 45,
   "id": "efe7fc58-2b87-45a5-9768-f63a5dfec175",
   "metadata": {
    "execution": {
     "iopub.execute_input": "2024-07-10T07:50:52.258298Z",
     "iopub.status.busy": "2024-07-10T07:50:52.257060Z",
     "iopub.status.idle": "2024-07-10T07:50:52.482549Z",
     "shell.execute_reply": "2024-07-10T07:50:52.481015Z"
    },
    "papermill": {
     "duration": 0.303916,
     "end_time": "2024-07-10T07:50:52.482858",
     "exception": false,
     "start_time": "2024-07-10T07:50:52.178942",
     "status": "completed"
    },
    "tags": []
   },
   "outputs": [
    {
     "name": "stdout",
     "output_type": "stream",
     "text": [
      "+----------------+----------------+-----------+--------------+--------------+--------------------+--------------+---------+----------+---------------+----------------+-------+-------+-------+-------+-------+-----+----------+---------+--------------+----------------+\n",
      "|transaction_date|  transaction_id|customer_id|customer_fname|customer_lname|      customer_email|sales_agent_id|branch_id|product_id|   product_name|product_category|offer_1|offer_2|offer_3|offer_4|offer_5|units|unit_price|is_online|payment_method|shipping_address|\n",
      "+----------------+----------------+-----------+--------------+--------------+--------------------+--------------+---------+----------+---------------+----------------+-------+-------+-------+-------+-------+-----+----------+---------+--------------+----------------+\n",
      "|      2023-05-20|trx-152546429674|      85469|     Alexander|         Brown|alexander.brown@g...|             1|        2|        22|   Coffee Maker|      Appliances|   null|   null|   null|   null|   null|   10|     79.99|       no|          Cash|            null|\n",
      "|      2022-10-25|trx-291375327542|      85512|       William|         Brown|william.brown@gma...|             3|        1|        24|        Blender|      Appliances|   null|   null|   null|   true|   null|    5|     49.99|       no|          Cash|            null|\n",
      "|      2022-02-05|trx-312507679871|      85484|          John|      Williams|john.williams@gma...|            10|        3|         4|     Headphones|     Electronics|   null|   null|   null|   null|   null|    1|     99.99|       no|   Credit Card|            null|\n",
      "|      2023-10-20|trx-193384855491|      85528|     Alexander|        Miller|alexander.miller@...|             7|        2|        25|Washing Machine|      Appliances|   null|   null|   null|   null|   null|    8|    499.99|       no|          Cash|            null|\n",
      "|      2022-11-17|trx-831626097654|      85500|          John|         Brown|john.brown@hotmai...|             5|        1|        14|         Camera|     Electronics|   null|   null|   true|   null|   null|   10|    399.99|       no|          Cash|            null|\n",
      "+----------------+----------------+-----------+--------------+--------------+--------------------+--------------+---------+----------+---------------+----------------+-------+-------+-------+-------+-------+-----+----------+---------+--------------+----------------+\n",
      "only showing top 5 rows\n",
      "\n"
     ]
    }
   ],
   "source": [
    "transactions = spark.read.csv(fr'{files_directory_path}/sales_transactions_*', header=True, schema=TransactionsSchema)\n",
    "transactions.show(5)"
   ]
  },
  {
   "cell_type": "code",
   "execution_count": 46,
   "id": "352b4ea3-f735-498a-a0af-456bbb9f8942",
   "metadata": {
    "execution": {
     "iopub.execute_input": "2024-07-10T07:50:52.688450Z",
     "iopub.status.busy": "2024-07-10T07:50:52.686900Z",
     "iopub.status.idle": "2024-07-10T07:50:53.584166Z",
     "shell.execute_reply": "2024-07-10T07:50:53.583518Z"
    },
    "papermill": {
     "duration": 1.008594,
     "end_time": "2024-07-10T07:50:53.584358",
     "exception": false,
     "start_time": "2024-07-10T07:50:52.575764",
     "status": "completed"
    },
    "tags": []
   },
   "outputs": [],
   "source": [
    "transactions_info = get_number_of_records(transactions, ['transaction_date', 'transaction_id'])\n",
    "number_of_records = transactions_info[0]\n",
    "number_of_duplicates = transactions_info[1]\n",
    "data_logger.info(f'Number of records = {number_of_records}\\nNumber of duplicates = {number_of_duplicates}\\n')"
   ]
  },
  {
   "cell_type": "code",
   "execution_count": 47,
   "id": "54f4fc9b-6617-4f99-877a-3fdec95b4612",
   "metadata": {
    "execution": {
     "iopub.execute_input": "2024-07-10T07:50:53.775992Z",
     "iopub.status.busy": "2024-07-10T07:50:53.775238Z",
     "iopub.status.idle": "2024-07-10T07:51:06.688302Z",
     "shell.execute_reply": "2024-07-10T07:51:06.687590Z"
    },
    "papermill": {
     "duration": 13.009058,
     "end_time": "2024-07-10T07:51:06.688452",
     "exception": false,
     "start_time": "2024-07-10T07:50:53.679394",
     "status": "completed"
    },
    "tags": []
   },
   "outputs": [],
   "source": [
    "data_logger.info('Columns:')\n",
    "counter = 1\n",
    "for column, dtype in get_columns_info(transactions):\n",
    "    number_of_unique_values = transactions.select(f'{column}').distinct().count()\n",
    "    data_logger.info(f'Column {counter}: {column} - Data Type: {dtype} - Number of Unique Values: {number_of_unique_values}')\n",
    "    counter += 1\n",
    "    \n",
    "data_logger.info('\\n')"
   ]
  },
  {
   "cell_type": "code",
   "execution_count": 48,
   "id": "4c9907df-d28a-41bd-8e15-c765b2443ddb",
   "metadata": {
    "execution": {
     "iopub.execute_input": "2024-07-10T07:51:06.888050Z",
     "iopub.status.busy": "2024-07-10T07:51:06.885120Z",
     "iopub.status.idle": "2024-07-10T07:51:06.891028Z",
     "shell.execute_reply": "2024-07-10T07:51:06.890405Z"
    },
    "papermill": {
     "duration": 0.109031,
     "end_time": "2024-07-10T07:51:06.891178",
     "exception": false,
     "start_time": "2024-07-10T07:51:06.782147",
     "status": "completed"
    },
    "tags": []
   },
   "outputs": [],
   "source": [
    "spark_logger.info('DONE : Reading Transactions File')"
   ]
  },
  {
   "cell_type": "markdown",
   "id": "fd7b2b09-9e3f-4a1d-ab8f-f3f809b66c12",
   "metadata": {
    "papermill": {
     "duration": 0.113037,
     "end_time": "2024-07-10T07:51:07.104375",
     "exception": false,
     "start_time": "2024-07-10T07:51:06.991338",
     "status": "completed"
    },
    "tags": []
   },
   "source": [
    "### Cleaning Process"
   ]
  },
  {
   "cell_type": "code",
   "execution_count": 49,
   "id": "71ffa378-65bf-4648-8734-593aa6e5fc5e",
   "metadata": {
    "execution": {
     "iopub.execute_input": "2024-07-10T07:51:07.281173Z",
     "iopub.status.busy": "2024-07-10T07:51:07.280500Z",
     "iopub.status.idle": "2024-07-10T07:51:07.461395Z",
     "shell.execute_reply": "2024-07-10T07:51:07.462155Z"
    },
    "papermill": {
     "duration": 0.263616,
     "end_time": "2024-07-10T07:51:07.462366",
     "exception": false,
     "start_time": "2024-07-10T07:51:07.198750",
     "status": "completed"
    },
    "tags": []
   },
   "outputs": [
    {
     "name": "stdout",
     "output_type": "stream",
     "text": [
      "+----------------+----------------+-----------+--------------+--------------+-----------------------------+--------------+---------+----------+---------------+----------------+-------+-------+-------+-------+-------+-----+----------+---------+--------------+----------------+\n",
      "|transaction_date|transaction_id  |customer_id|customer_fname|customer_lname|customer_email               |sales_agent_id|branch_id|product_id|product_name   |product_category|offer_1|offer_2|offer_3|offer_4|offer_5|units|unit_price|is_online|payment_method|shipping_address|\n",
      "+----------------+----------------+-----------+--------------+--------------+-----------------------------+--------------+---------+----------+---------------+----------------+-------+-------+-------+-------+-------+-----+----------+---------+--------------+----------------+\n",
      "|2023-05-20      |trx-152546429674|85469      |Alexander     |Brown         |alexander.brown@gmail.com\"\"  |1             |2        |22        |Coffee Maker   |Appliances      |null   |null   |null   |null   |null   |10   |79.99     |no       |Cash          |null            |\n",
      "|2022-10-25      |trx-291375327542|85512      |William       |Brown         |william.brown@gmail.com;     |3             |1        |24        |Blender        |Appliances      |null   |null   |null   |true   |null   |5    |49.99     |no       |Cash          |null            |\n",
      "|2022-02-05      |trx-312507679871|85484      |John          |Williams      |john.williams@gmail.com*     |10            |3        |4         |Headphones     |Electronics     |null   |null   |null   |null   |null   |1    |99.99     |no       |Credit Card   |null            |\n",
      "|2023-10-20      |trx-193384855491|85528      |Alexander     |Miller        |alexander.miller@yahoo.com#4r|7             |2        |25        |Washing Machine|Appliances      |null   |null   |null   |null   |null   |8    |499.99    |no       |Cash          |null            |\n",
      "|2022-11-17      |trx-831626097654|85500      |John          |Brown         |john.brown@hotmail.com;      |5             |1        |14        |Camera         |Electronics     |null   |null   |true   |null   |null   |10   |399.99    |no       |Cash          |null            |\n",
      "+----------------+----------------+-----------+--------------+--------------+-----------------------------+--------------+---------+----------+---------------+----------------+-------+-------+-------+-------+-------+-----+----------+---------+--------------+----------------+\n",
      "only showing top 5 rows\n",
      "\n"
     ]
    }
   ],
   "source": [
    "# Trim Transactions data (for String columns only)\n",
    "transactions_cleaned = trim_columns(transactions)\n",
    "transactions_cleaned.show(5, truncate=False)"
   ]
  },
  {
   "cell_type": "code",
   "execution_count": 50,
   "id": "480c3d62-418a-4663-b3ff-f058c3a6c5d0",
   "metadata": {
    "execution": {
     "iopub.execute_input": "2024-07-10T07:51:07.636800Z",
     "iopub.status.busy": "2024-07-10T07:51:07.636143Z",
     "iopub.status.idle": "2024-07-10T07:51:07.639840Z",
     "shell.execute_reply": "2024-07-10T07:51:07.640539Z"
    },
    "papermill": {
     "duration": 0.084313,
     "end_time": "2024-07-10T07:51:07.640726",
     "exception": false,
     "start_time": "2024-07-10T07:51:07.556413",
     "status": "completed"
    },
    "tags": []
   },
   "outputs": [],
   "source": [
    "spark_logger.info('DONE : Trmming String Columns')"
   ]
  },
  {
   "cell_type": "code",
   "execution_count": 51,
   "id": "023a3630-90af-47af-a9a0-9f47eeccca16",
   "metadata": {
    "execution": {
     "iopub.execute_input": "2024-07-10T07:51:07.809388Z",
     "iopub.status.busy": "2024-07-10T07:51:07.808363Z",
     "iopub.status.idle": "2024-07-10T07:51:08.210132Z",
     "shell.execute_reply": "2024-07-10T07:51:08.209548Z"
    },
    "papermill": {
     "duration": 0.484051,
     "end_time": "2024-07-10T07:51:08.210263",
     "exception": false,
     "start_time": "2024-07-10T07:51:07.726212",
     "status": "completed"
    },
    "tags": []
   },
   "outputs": [
    {
     "name": "stdout",
     "output_type": "stream",
     "text": [
      "+----------------+----------------+-----------+--------------+--------------+--------------------------+--------------+---------+----------+---------------+----------------+-------+-------+-------+-------+-------+-----+----------+---------+--------------+----------------+\n",
      "|transaction_date|transaction_id  |customer_id|customer_fname|customer_lname|customer_email            |sales_agent_id|branch_id|product_id|product_name   |product_category|offer_1|offer_2|offer_3|offer_4|offer_5|units|unit_price|is_online|payment_method|shipping_address|\n",
      "+----------------+----------------+-----------+--------------+--------------+--------------------------+--------------+---------+----------+---------------+----------------+-------+-------+-------+-------+-------+-----+----------+---------+--------------+----------------+\n",
      "|2023-05-20      |trx-152546429674|85469      |Alexander     |Brown         |alexander.brown@gmail.com |1             |2        |22        |Coffee Maker   |Appliances      |null   |null   |null   |null   |null   |10   |79.99     |no       |Cash          |null            |\n",
      "|2022-10-25      |trx-291375327542|85512      |William       |Brown         |william.brown@gmail.com   |3             |1        |24        |Blender        |Appliances      |null   |null   |null   |true   |null   |5    |49.99     |no       |Cash          |null            |\n",
      "|2022-02-05      |trx-312507679871|85484      |John          |Williams      |john.williams@gmail.com   |10            |3        |4         |Headphones     |Electronics     |null   |null   |null   |null   |null   |1    |99.99     |no       |Credit Card   |null            |\n",
      "|2023-10-20      |trx-193384855491|85528      |Alexander     |Miller        |alexander.miller@yahoo.com|7             |2        |25        |Washing Machine|Appliances      |null   |null   |null   |null   |null   |8    |499.99    |no       |Cash          |null            |\n",
      "|2022-11-17      |trx-831626097654|85500      |John          |Brown         |john.brown@hotmail.com    |5             |1        |14        |Camera         |Electronics     |null   |null   |true   |null   |null   |10   |399.99    |no       |Cash          |null            |\n",
      "+----------------+----------------+-----------+--------------+--------------+--------------------------+--------------+---------+----------+---------------+----------------+-------+-------+-------+-------+-------+-----+----------+---------+--------------+----------------+\n",
      "only showing top 5 rows\n",
      "\n"
     ]
    }
   ],
   "source": [
    "# Clean the customer_email column\n",
    "transactions_cleaned = transactions_cleaned.withColumn('customer_email', sf.expr(\"substring(customer_email, 1, locate('.com', customer_email) + 3)\"))\n",
    "transactions_cleaned.show(5, truncate=False)"
   ]
  },
  {
   "cell_type": "code",
   "execution_count": 52,
   "id": "3fba2945-4e18-4001-b6f5-2e4e2a435004",
   "metadata": {
    "execution": {
     "iopub.execute_input": "2024-07-10T07:51:08.388944Z",
     "iopub.status.busy": "2024-07-10T07:51:08.387987Z",
     "iopub.status.idle": "2024-07-10T07:51:08.392524Z",
     "shell.execute_reply": "2024-07-10T07:51:08.393478Z"
    },
    "papermill": {
     "duration": 0.099429,
     "end_time": "2024-07-10T07:51:08.393893",
     "exception": false,
     "start_time": "2024-07-10T07:51:08.294464",
     "status": "completed"
    },
    "tags": []
   },
   "outputs": [],
   "source": [
    "spark_logger.info('DONE : Cleaning \"customer_email\" Column')"
   ]
  },
  {
   "cell_type": "code",
   "execution_count": 53,
   "id": "0582cfbc-e717-4e8f-8538-e2a0c8348401",
   "metadata": {
    "execution": {
     "iopub.execute_input": "2024-07-10T07:51:08.598660Z",
     "iopub.status.busy": "2024-07-10T07:51:08.597828Z",
     "iopub.status.idle": "2024-07-10T07:51:09.545794Z",
     "shell.execute_reply": "2024-07-10T07:51:09.546348Z"
    },
    "papermill": {
     "duration": 1.054476,
     "end_time": "2024-07-10T07:51:09.546505",
     "exception": false,
     "start_time": "2024-07-10T07:51:08.492029",
     "status": "completed"
    },
    "tags": []
   },
   "outputs": [],
   "source": [
    "# Check for duplicates\n",
    "if transactions_cleaned.count() > transactions_cleaned.dropDuplicates(['transaction_date', 'transaction_id']).count():\n",
    "    transactions_cleaned = transactions_cleaned.dropDuplicates(['transaction_date', 'transaction_id'])"
   ]
  },
  {
   "cell_type": "code",
   "execution_count": 54,
   "id": "e7a90cde-5e39-49dc-a91b-c286051b48d4",
   "metadata": {
    "execution": {
     "iopub.execute_input": "2024-07-10T07:51:09.762160Z",
     "iopub.status.busy": "2024-07-10T07:51:09.760828Z",
     "iopub.status.idle": "2024-07-10T07:51:09.765409Z",
     "shell.execute_reply": "2024-07-10T07:51:09.764605Z"
    },
    "papermill": {
     "duration": 0.127071,
     "end_time": "2024-07-10T07:51:09.765586",
     "exception": false,
     "start_time": "2024-07-10T07:51:09.638515",
     "status": "completed"
    },
    "tags": []
   },
   "outputs": [],
   "source": [
    "spark_logger.info('DONE : Checking for Duplicates')"
   ]
  },
  {
   "cell_type": "markdown",
   "id": "28ffbe4c-f324-4a5b-b686-ef2d1d7c5142",
   "metadata": {
    "papermill": {
     "duration": 0.107607,
     "end_time": "2024-07-10T07:51:09.988556",
     "exception": false,
     "start_time": "2024-07-10T07:51:09.880949",
     "status": "completed"
    },
    "tags": []
   },
   "source": [
    "### Writing to HDFS"
   ]
  },
  {
   "cell_type": "code",
   "execution_count": 55,
   "id": "697ed3f8-f9cc-410e-a3d6-9532235866af",
   "metadata": {
    "execution": {
     "iopub.execute_input": "2024-07-10T07:51:10.169611Z",
     "iopub.status.busy": "2024-07-10T07:51:10.168606Z",
     "iopub.status.idle": "2024-07-10T07:51:10.889544Z",
     "shell.execute_reply": "2024-07-10T07:51:10.890128Z"
    },
    "papermill": {
     "duration": 0.811599,
     "end_time": "2024-07-10T07:51:10.890329",
     "exception": false,
     "start_time": "2024-07-10T07:51:10.078730",
     "status": "completed"
    },
    "tags": []
   },
   "outputs": [],
   "source": [
    "transactions_cleaned.coalesce(1).write.mode('overwrite').option('header','true').csv(f'{silver_layer_directory_path}/transactions_cleaned.csv')"
   ]
  },
  {
   "cell_type": "code",
   "execution_count": 56,
   "id": "7f98cc77-11f2-4b81-a57d-0969dbb956d0",
   "metadata": {
    "execution": {
     "iopub.execute_input": "2024-07-10T07:51:11.062342Z",
     "iopub.status.busy": "2024-07-10T07:51:11.061671Z",
     "iopub.status.idle": "2024-07-10T07:51:11.064865Z",
     "shell.execute_reply": "2024-07-10T07:51:11.065331Z"
    },
    "papermill": {
     "duration": 0.085529,
     "end_time": "2024-07-10T07:51:11.065467",
     "exception": false,
     "start_time": "2024-07-10T07:51:10.979938",
     "status": "completed"
    },
    "tags": []
   },
   "outputs": [],
   "source": [
    "spark_logger.info('DONE : Writing to HDFS\\n')"
   ]
  },
  {
   "cell_type": "markdown",
   "id": "76567710-4231-496f-9c49-2a9970fe6a85",
   "metadata": {
    "papermill": {
     "duration": 0.069636,
     "end_time": "2024-07-10T07:51:11.207865",
     "exception": false,
     "start_time": "2024-07-10T07:51:11.138229",
     "status": "completed"
    },
    "tags": []
   },
   "source": [
    "---"
   ]
  },
  {
   "cell_type": "markdown",
   "id": "3d68620b-6a2e-4d93-85be-55216c00c411",
   "metadata": {
    "papermill": {
     "duration": 0.08531,
     "end_time": "2024-07-10T07:51:11.377874",
     "exception": false,
     "start_time": "2024-07-10T07:51:11.292564",
     "status": "completed"
    },
    "tags": []
   },
   "source": [
    "## Stop Spark context"
   ]
  },
  {
   "cell_type": "code",
   "execution_count": 57,
   "id": "4755a436-d9be-4033-8bee-80cbb12916fd",
   "metadata": {
    "execution": {
     "iopub.execute_input": "2024-07-10T07:51:11.536891Z",
     "iopub.status.busy": "2024-07-10T07:51:11.533617Z",
     "iopub.status.idle": "2024-07-10T07:51:12.296330Z",
     "shell.execute_reply": "2024-07-10T07:51:12.297374Z"
    },
    "papermill": {
     "duration": 0.844119,
     "end_time": "2024-07-10T07:51:12.297779",
     "exception": false,
     "start_time": "2024-07-10T07:51:11.453660",
     "status": "completed"
    },
    "tags": []
   },
   "outputs": [],
   "source": [
    "spark.stop()"
   ]
  },
  {
   "cell_type": "code",
   "execution_count": 58,
   "id": "b991403b-2090-4b7e-8a52-c993401997d2",
   "metadata": {
    "execution": {
     "iopub.execute_input": "2024-07-10T07:51:12.459629Z",
     "iopub.status.busy": "2024-07-10T07:51:12.457312Z",
     "iopub.status.idle": "2024-07-10T07:51:12.461716Z",
     "shell.execute_reply": "2024-07-10T07:51:12.462327Z"
    },
    "papermill": {
     "duration": 0.085542,
     "end_time": "2024-07-10T07:51:12.462564",
     "exception": false,
     "start_time": "2024-07-10T07:51:12.377022",
     "status": "completed"
    },
    "tags": []
   },
   "outputs": [],
   "source": [
    "spark_logger.info('Spark Session Stopped\\n--------------------------------------------------------------------------------------------------------------------')"
   ]
  },
  {
   "cell_type": "markdown",
   "id": "e94c290f-ab46-40a3-84d2-c55881c78191",
   "metadata": {
    "papermill": {
     "duration": 0.104594,
     "end_time": "2024-07-10T07:51:12.647661",
     "exception": false,
     "start_time": "2024-07-10T07:51:12.543067",
     "status": "completed"
    },
    "tags": []
   },
   "source": [
    "---"
   ]
  }
 ],
 "metadata": {
  "kernelspec": {
   "display_name": "Pyspark 2",
   "language": "python",
   "name": "pyspark2"
  },
  "language_info": {
   "codemirror_mode": {
    "name": "ipython",
    "version": 3
   },
   "file_extension": ".py",
   "mimetype": "text/x-python",
   "name": "python",
   "nbconvert_exporter": "python",
   "pygments_lexer": "ipython3",
   "version": "3.6.9"
  },
  "papermill": {
   "default_parameters": {},
   "duration": 53.469115,
   "end_time": "2024-07-10T07:51:13.172117",
   "environment_variables": {},
   "exception": null,
   "input_path": "cleaning-layer.ipynb",
   "output_path": "cleaning-layer.ipynb",
   "parameters": {},
   "start_time": "2024-07-10T07:50:19.703002",
   "version": "2.3.4"
  }
 },
 "nbformat": 4,
 "nbformat_minor": 5
}