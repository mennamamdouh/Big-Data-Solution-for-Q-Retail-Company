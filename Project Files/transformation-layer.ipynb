{
 "cells": [
  {
   "cell_type": "markdown",
   "id": "7e93b4cd",
   "metadata": {
    "papermill": {
     "duration": 0.07126,
     "end_time": "2024-07-10T07:51:20.703865",
     "exception": false,
     "start_time": "2024-07-10T07:51:20.632605",
     "status": "completed"
    },
    "tags": []
   },
   "source": [
    "### Importing the required libraries"
   ]
  },
  {
   "cell_type": "code",
   "execution_count": 1,
   "id": "16e915de",
   "metadata": {
    "execution": {
     "iopub.execute_input": "2024-07-10T07:51:20.810917Z",
     "iopub.status.busy": "2024-07-10T07:51:20.810263Z",
     "iopub.status.idle": "2024-07-10T07:51:21.142618Z",
     "shell.execute_reply": "2024-07-10T07:51:21.143051Z"
    },
    "papermill": {
     "duration": 0.393399,
     "end_time": "2024-07-10T07:51:21.143203",
     "exception": false,
     "start_time": "2024-07-10T07:51:20.749804",
     "status": "completed"
    },
    "tags": []
   },
   "outputs": [],
   "source": [
    "import re\n",
    "from pyspark.sql.types import *\n",
    "import pyspark.sql.functions as sf\n",
    "from pyspark.sql import Window\n",
    "from pyspark.sql import SparkSession\n",
    "from pyspark.sql.functions import lit, col, max\n",
    "from datetime import date, datetime"
   ]
  },
  {
   "cell_type": "markdown",
   "id": "22adbca0",
   "metadata": {
    "papermill": {
     "duration": 0.048998,
     "end_time": "2024-07-10T07:51:21.239656",
     "exception": false,
     "start_time": "2024-07-10T07:51:21.190658",
     "status": "completed"
    },
    "tags": []
   },
   "source": [
    "### Start Spark Session"
   ]
  },
  {
   "cell_type": "code",
   "execution_count": 2,
   "id": "0420121a",
   "metadata": {
    "execution": {
     "iopub.execute_input": "2024-07-10T07:51:21.338053Z",
     "iopub.status.busy": "2024-07-10T07:51:21.337106Z",
     "iopub.status.idle": "2024-07-10T07:51:26.954218Z",
     "shell.execute_reply": "2024-07-10T07:51:26.954620Z"
    },
    "papermill": {
     "duration": 5.671829,
     "end_time": "2024-07-10T07:51:26.954750",
     "exception": false,
     "start_time": "2024-07-10T07:51:21.282921",
     "status": "completed"
    },
    "tags": []
   },
   "outputs": [],
   "source": [
    "spark = SparkSession\\\n",
    "    .builder\\\n",
    "    .master(\"local[4]\")\\\n",
    "    .appName(\"DataTransformation\")\\\n",
    "    .config(\"spark.eventLog.logBlockUpdates.enabled\", True)\\\n",
    "    .config(\"spark.sql.warehouse.dir\", \"/storage_layer/gold/\")\\\n",
    "    .enableHiveSupport()\\\n",
    "    .getOrCreate()\n",
    "    # .config (\"spark.sql.hive.convertMetastoreOrc\",\"false\")\\\n",
    "\n",
    "sc = spark.sparkContext"
   ]
  },
  {
   "cell_type": "code",
   "execution_count": 3,
   "id": "0dcba4f3",
   "metadata": {
    "execution": {
     "iopub.execute_input": "2024-07-10T07:51:27.046618Z",
     "iopub.status.busy": "2024-07-10T07:51:27.045980Z",
     "iopub.status.idle": "2024-07-10T07:51:27.049562Z",
     "shell.execute_reply": "2024-07-10T07:51:27.048885Z"
    },
    "papermill": {
     "duration": 0.054336,
     "end_time": "2024-07-10T07:51:27.049679",
     "exception": false,
     "start_time": "2024-07-10T07:51:26.995343",
     "status": "completed"
    },
    "tags": []
   },
   "outputs": [],
   "source": [
    "today_date = date.today().isoformat()\n",
    "current_time = datetime.now()\n",
    "\n",
    "# Define the directory of the files, depending on the date and batch's hour\n",
    "silver_layer_directory_path = f'/user/itversity/q-retail-company/silver/{today_date}/hour-{current_time.hour}'\n",
    "\n",
    "# Define the sliver layer directory\n",
    "gold_layer_directory_path = f'/user/itversity/q-retail-company/gold/{today_date}/hour-{current_time.hour}'"
   ]
  },
  {
   "cell_type": "markdown",
   "id": "0989150c",
   "metadata": {
    "papermill": {
     "duration": 0.042445,
     "end_time": "2024-07-10T07:51:27.135660",
     "exception": false,
     "start_time": "2024-07-10T07:51:27.093215",
     "status": "completed"
    },
    "tags": []
   },
   "source": [
    "## Utility Functions\n",
    "---"
   ]
  },
  {
   "cell_type": "markdown",
   "id": "cb098adc",
   "metadata": {
    "papermill": {
     "duration": 0.041611,
     "end_time": "2024-07-10T07:51:27.222164",
     "exception": false,
     "start_time": "2024-07-10T07:51:27.180553",
     "status": "completed"
    },
    "tags": []
   },
   "source": [
    "### Functions for interacting with Hive tables"
   ]
  },
  {
   "cell_type": "code",
   "execution_count": 4,
   "id": "94a1292c",
   "metadata": {
    "execution": {
     "iopub.execute_input": "2024-07-10T07:51:27.313953Z",
     "iopub.status.busy": "2024-07-10T07:51:27.313361Z",
     "iopub.status.idle": "2024-07-10T07:51:27.330673Z",
     "shell.execute_reply": "2024-07-10T07:51:27.331134Z"
    },
    "papermill": {
     "duration": 0.064401,
     "end_time": "2024-07-10T07:51:27.331271",
     "exception": false,
     "start_time": "2024-07-10T07:51:27.266870",
     "status": "completed"
    },
    "tags": []
   },
   "outputs": [],
   "source": [
    "# setting up the database name\n",
    "database_name = \"qcompany\"\n",
    "\n",
    "# a function that reads a df from hive table\n",
    "def get_table_data(database_name, table_name):\n",
    "    spark.sql(\"REFRESH TABLES\")\n",
    "    return spark.table(f\"{database_name}.{table_name}\")\n",
    "\n",
    "# a function that writes a df to a hive external table\n",
    "def write_df_to_table(database_name, table_name, df):\n",
    "    spark.sql(\"REFRESH TABLES\")\n",
    "    df.write.mode(\"overwrite\").saveAsTable(f\"{database_name}.{table_name}\")\n",
    "\n",
    "\n",
    "# a function that takes database and returns an array of the current tables\n",
    "def get_current_tables(database_name):\n",
    "    spark.sql(\"REFRESH TABLES\")\n",
    "    tables_df = spark.sql(f\"SHOW TABLES IN {database_name}\")\n",
    "    table_names = [row.tableName for row in tables_df.collect()]\n",
    "    return table_names\n",
    "\n",
    "# a function that checks if a current table exists in the current tables or not\n",
    "def table_exists(table_name, database_name):\n",
    "    current_tables = get_current_tables(database_name)\n",
    "    if table_name in current_tables:\n",
    "        return True\n",
    "    else:\n",
    "        return False\n",
    "    \n",
    "# a function that writes the current table to a temp table and then insert overwrite the original table\n",
    "def overwriteCurrentTable(final_df_to_write, final_table_name, temp_table_name, database_name):\n",
    "    final_df_to_write.write.mode(\"overwrite\").saveAsTable(f\"{database_name}.{temp_table_name}\")\n",
    "    # Overwrite the original table with the temporary table data\n",
    "    spark.sql(f\"INSERT OVERWRITE TABLE {database_name}.{final_table_name} SELECT * FROM {database_name}.{temp_table_name}\")\n",
    "    # Drop the temporary table if no longer needed\n",
    "    spark.sql(f\"DROP TABLE {database_name}.{temp_table_name}\")"
   ]
  },
  {
   "cell_type": "markdown",
   "id": "b9593f85",
   "metadata": {
    "papermill": {
     "duration": 0.043057,
     "end_time": "2024-07-10T07:51:27.418934",
     "exception": false,
     "start_time": "2024-07-10T07:51:27.375877",
     "status": "completed"
    },
    "tags": []
   },
   "source": [
    "### Some Useful Functions"
   ]
  },
  {
   "cell_type": "code",
   "execution_count": 5,
   "id": "a4cb48f1",
   "metadata": {
    "execution": {
     "iopub.execute_input": "2024-07-10T07:51:27.510392Z",
     "iopub.status.busy": "2024-07-10T07:51:27.509730Z",
     "iopub.status.idle": "2024-07-10T07:51:27.513153Z",
     "shell.execute_reply": "2024-07-10T07:51:27.512573Z"
    },
    "papermill": {
     "duration": 0.050087,
     "end_time": "2024-07-10T07:51:27.513294",
     "exception": false,
     "start_time": "2024-07-10T07:51:27.463207",
     "status": "completed"
    },
    "tags": []
   },
   "outputs": [],
   "source": [
    "# a function that takes a df, sk and id  name and adds the surrogate to the df\n",
    "def add_surrogate_key(df, sk_name, id):\n",
    "    df = df.withColumn(sk_name, sf.row_number().over(Window.orderBy(id)))\n",
    "    return df"
   ]
  },
  {
   "cell_type": "code",
   "execution_count": 6,
   "id": "0bc4310e",
   "metadata": {
    "execution": {
     "iopub.execute_input": "2024-07-10T07:51:27.608273Z",
     "iopub.status.busy": "2024-07-10T07:51:27.605597Z",
     "iopub.status.idle": "2024-07-10T07:51:27.611793Z",
     "shell.execute_reply": "2024-07-10T07:51:27.612230Z"
    },
    "papermill": {
     "duration": 0.056872,
     "end_time": "2024-07-10T07:51:27.612362",
     "exception": false,
     "start_time": "2024-07-10T07:51:27.555490",
     "status": "completed"
    },
    "tags": []
   },
   "outputs": [],
   "source": [
    "# a function that takes 2 dfs and upsert them into 1 df\n",
    "def upsert_dfs(current_df, new_df, common_column=\"id\", surrogate_key=0):\n",
    "    \n",
    "    \"\"\"\n",
    "    The upsertion algorithm:\n",
    "        1- convert the dfs to temp views to use sql on\n",
    "        2- get the currentAsIs \n",
    "        3- get the currentUpdate\n",
    "        4- get the newDataToAdd\n",
    "        5- join the currentAsIs and currentUpdate to get the currentUpdated\n",
    "        6- find the max_branch_key from the current df\n",
    "        7- add row number column under the branch_key to the newDataToAdd\n",
    "        8- add the max_branch_key to the new branch_key column in the newDataToAdd\n",
    "        9- merge by name\n",
    "        10- reordering the columns to make the sk first\n",
    "    \"\"\"\n",
    "\n",
    "    # 1- convert the dfs to temp views to use sql on\n",
    "    current_df.createOrReplaceTempView(\"current_data\")\n",
    "    new_df.createOrReplaceTempView(\"new_data\")\n",
    "    \n",
    "    # 2- get the currentAsIs part\n",
    "    currentAsIsQuery = f\"\"\"\n",
    "        SELECT current.*  \n",
    "        FROM current_data current\n",
    "        LEFT JOIN new_data AS new\n",
    "        ON current.{common_column} = new.{common_column}\n",
    "        WHERE new.{common_column} IS NULL\n",
    "    \"\"\"\n",
    "    currentAsIsDF =         spark.sql(currentAsIsQuery)\n",
    "    # currentAsIsDF.show()\n",
    "\n",
    "    # 3- get the currentUpdate part\n",
    "    currentUpdateQuery = f\"\"\"\n",
    "        SELECT new.*, current.{surrogate_key}\n",
    "        FROM current_data AS current\n",
    "        JOIN new_data AS new\n",
    "            ON current.{common_column} = new.{common_column}\n",
    "    \"\"\"\n",
    "    currentUpdateDF = spark.sql(currentUpdateQuery)\n",
    "    # currentUpdateDF.show()\n",
    "\n",
    "    # 4- get the currentUpdate part\n",
    "    newDataToAddQuery = f\"\"\"\n",
    "        SELECT new.*, current.{surrogate_key}\n",
    "        FROM current_data AS current\n",
    "        RIGHT JOIN new_data AS new\n",
    "            ON current.{common_column} = new.{common_column}\n",
    "        WHERE current.{common_column} IS NULL\n",
    "    \"\"\"\n",
    "    newDataToAddDF = spark.sql(newDataToAddQuery)\n",
    "    # newDataToAddDF.show()\n",
    "    \n",
    "    # 5- join the currentAsIs and currentUpdate to get the currentUpdated\n",
    "    current_updated_df = currentAsIsDF.unionByName(currentUpdateDF)\n",
    "    # current_updated_df.show()\n",
    "\n",
    "    # 6- find the max_surrogate_key from the current df\n",
    "    max_surrogate_key = current_updated_df.select(max(col(f\"{surrogate_key}\"))).collect()[0][0]\n",
    "    # print(max_surrogate_key)\n",
    "\n",
    "    # 7- add row number column under the branch_key to the newDataToAdd\n",
    "    newDataToAddDF = add_surrogate_key(newDataToAddDF, f\"{surrogate_key}\", f\"{common_column}\")\n",
    "    # newDataToAddDF.show()\n",
    "\n",
    "    # 8- add the max_branch_key to the new branch_key column in the newDataToAdd\n",
    "    newDataToAddDF = newDataToAddDF.withColumn(f\"{surrogate_key}\", col(f\"{surrogate_key}\") + max_surrogate_key)\n",
    "    # newDataToAddDF.show()\n",
    "\n",
    "    # 9- return the union  of the current and new\n",
    "    full_data = current_updated_df.unionByName(newDataToAddDF)#.orderBy(f\"{common_column}\")\n",
    "    \n",
    "    # 10- reordering the columns to make the sk first\n",
    "    final_df = full_data.select(f\"{surrogate_key}\", *[col for col in full_data.columns if col != f\"{surrogate_key}\"])\n",
    "    final_df = final_df.orderBy(f\"{surrogate_key}\")\n",
    "    final_df.show()\n",
    "    return final_df\n"
   ]
  },
  {
   "cell_type": "markdown",
   "id": "f666f7c0",
   "metadata": {
    "papermill": {
     "duration": 0.04331,
     "end_time": "2024-07-10T07:51:27.699091",
     "exception": false,
     "start_time": "2024-07-10T07:51:27.655781",
     "status": "completed"
    },
    "tags": []
   },
   "source": [
    "## The Actual Transformation\n",
    "---\n",
    "### The Transformation Main Algorithm:\n",
    "1. define the schema\n",
    "2. read the file using the schema\n",
    "3. check if the table exists [and read it if it exists]\n",
    "4. load the final df to hive"
   ]
  },
  {
   "cell_type": "markdown",
   "id": "f27e8b57",
   "metadata": {
    "papermill": {
     "duration": 0.048271,
     "end_time": "2024-07-10T07:51:27.796244",
     "exception": false,
     "start_time": "2024-07-10T07:51:27.747973",
     "status": "completed"
    },
    "tags": []
   },
   "source": [
    "## Branches File"
   ]
  },
  {
   "cell_type": "markdown",
   "id": "2298c70e",
   "metadata": {
    "papermill": {
     "duration": 0.045252,
     "end_time": "2024-07-10T07:51:27.886312",
     "exception": false,
     "start_time": "2024-07-10T07:51:27.841060",
     "status": "completed"
    },
    "tags": []
   },
   "source": [
    "#### Branch Dimension"
   ]
  },
  {
   "cell_type": "code",
   "execution_count": 7,
   "id": "03daf0ba",
   "metadata": {
    "execution": {
     "iopub.execute_input": "2024-07-10T07:51:27.990772Z",
     "iopub.status.busy": "2024-07-10T07:51:27.990135Z",
     "iopub.status.idle": "2024-07-10T07:51:27.995902Z",
     "shell.execute_reply": "2024-07-10T07:51:27.995277Z"
    },
    "papermill": {
     "duration": 0.067307,
     "end_time": "2024-07-10T07:51:27.996049",
     "exception": false,
     "start_time": "2024-07-10T07:51:27.928742",
     "status": "completed"
    },
    "tags": []
   },
   "outputs": [
    {
     "data": {
      "text/plain": [
       "\"\\n# Define the directory of the files, depending on the date and batch's hour\\nsilver_layer_directory_path = f'/user/itversity/q-retail-company/silver/{today_date}/hour-{current_time.hour}'\\n\\n# Define the sliver layer directory\\ngold_layer_directory_path = f'/user/itversity/q-retail-company/gold/{today_date}/hour-{current_time.hour}'\""
      ]
     },
     "execution_count": 7,
     "metadata": {},
     "output_type": "execute_result"
    }
   ],
   "source": [
    "# Environment variables\n",
    "table = \"branch\"\n",
    "database_name = \"qcompany\"\n",
    "schema = f\"{table}_schema\"\n",
    "dim_name = f\"{table}_dim\"\n",
    "dim_key = f\"{table}_key\"\n",
    "dim_id = f\"{table}_id\"\n",
    "stagging_dim_name = f\"{table}_dim_stagging\"\n",
    "current_dim_df_name = f\"current_{table}_df\" #df from hive\n",
    "final_df_to_write = f\"final_{table}_df\"\n",
    "\n",
    "# read from some sources\n",
    "\n",
    "df1_path = f'{silver_layer_directory_path}/{table}es_cleaned.csv'\n",
    "df2_path = f'{silver_layer_directory_path}/{table}es_cleaned.csv'\n",
    "\n",
    "\"\"\"\n",
    "# Define the directory of the files, depending on the date and batch's hour\n",
    "silver_layer_directory_path = f'/user/itversity/q-retail-company/silver/{today_date}/hour-{current_time.hour}'\n",
    "\n",
    "# Define the sliver layer directory\n",
    "gold_layer_directory_path = f'/user/itversity/q-retail-company/gold/{today_date}/hour-{current_time.hour}'\"\"\""
   ]
  },
  {
   "cell_type": "code",
   "execution_count": 8,
   "id": "9016fd89",
   "metadata": {
    "execution": {
     "iopub.execute_input": "2024-07-10T07:51:28.100377Z",
     "iopub.status.busy": "2024-07-10T07:51:28.097751Z",
     "iopub.status.idle": "2024-07-10T07:51:42.857144Z",
     "shell.execute_reply": "2024-07-10T07:51:42.857654Z"
    },
    "papermill": {
     "duration": 14.812845,
     "end_time": "2024-07-10T07:51:42.857837",
     "exception": false,
     "start_time": "2024-07-10T07:51:28.044992",
     "status": "completed"
    },
    "tags": []
   },
   "outputs": [
    {
     "name": "stdout",
     "output_type": "stream",
     "text": [
      "+----------+---------+---------------+---------------------+------------+\n",
      "|branch_key|branch_id|branch_location|branch_establish_date|branch_class|\n",
      "+----------+---------+---------------+---------------------+------------+\n",
      "|         1|        1|       New York|           2017-01-15|           A|\n",
      "|         2|        2|    Los Angeles|           2016-07-28|           B|\n",
      "|         3|        3|        Chicago|           2015-03-10|           A|\n",
      "|         4|        4|        Houston|           2016-11-05|           D|\n",
      "|         5|        5|        Phoenix|           2017-09-20|           C|\n",
      "|         6|        6|       Oklahoma|           2016-09-20|           A|\n",
      "+----------+---------+---------------+---------------------+------------+\n",
      "\n"
     ]
    },
    {
     "name": "stdout",
     "output_type": "stream",
     "text": [
      "done, with upsertion 😎👌\n"
     ]
    }
   ],
   "source": [
    "# defining the schema \n",
    "schema = StructType([\n",
    "    StructField(\"branch_id\", IntegerType(), nullable=False),\n",
    "    StructField(\"branch_location\", StringType(), nullable=False),\n",
    "    StructField(\"branch_establish_date\", DateType(), nullable=False),\n",
    "    StructField(\"branch_class\", StringType(), nullable=False)\n",
    "])\n",
    "\n",
    "# reading df1\n",
    "df1 = spark.read.csv(df1_path, header=True, schema=schema)\n",
    "\n",
    "# reading df2\n",
    "df2 = spark.read.csv(df2_path, header=True, schema=schema)\n",
    "\n",
    "if table_exists(dim_name, database_name):\n",
    "    current_dim_df_name = get_table_data(database_name, dim_name)\n",
    "    final_df_to_write = upsert_dfs(current_dim_df_name, df2, dim_id, dim_key)\n",
    "    overwriteCurrentTable(final_df_to_write, dim_name, stagging_dim_name, database_name)    \n",
    "    print(\"done, with upsertion 😎👌\")\n",
    "    \n",
    "else:\n",
    "    # add surrogate key\n",
    "    df1 = add_surrogate_key(df1, dim_key, dim_id)\n",
    "    # branch = add_surrogate_key(branch, \"branch_key\", \"branch_id\")\n",
    "\n",
    "\n",
    "    # reorder the columns to match the desired schema\n",
    "    df1 = df1.select(f\"{dim_key}\", *[col for col in df1.columns if col != f\"{dim_key}\"])\n",
    "    write_df_to_table(database_name, dim_name, df1)\n",
    "\n",
    "    print(\"done 😎👌\")"
   ]
  },
  {
   "cell_type": "markdown",
   "id": "d5b89db0",
   "metadata": {
    "papermill": {
     "duration": 0.049648,
     "end_time": "2024-07-10T07:51:42.956499",
     "exception": false,
     "start_time": "2024-07-10T07:51:42.906851",
     "status": "completed"
    },
    "tags": []
   },
   "source": [
    "## Agents File\n"
   ]
  },
  {
   "cell_type": "markdown",
   "id": "9d06770c",
   "metadata": {
    "papermill": {
     "duration": 0.056991,
     "end_time": "2024-07-10T07:51:43.072004",
     "exception": false,
     "start_time": "2024-07-10T07:51:43.015013",
     "status": "completed"
    },
    "tags": []
   },
   "source": [
    "#### Agent Dimension"
   ]
  },
  {
   "cell_type": "code",
   "execution_count": 9,
   "id": "c9f5112d",
   "metadata": {
    "execution": {
     "iopub.execute_input": "2024-07-10T07:51:43.188848Z",
     "iopub.status.busy": "2024-07-10T07:51:43.187870Z",
     "iopub.status.idle": "2024-07-10T07:51:43.190912Z",
     "shell.execute_reply": "2024-07-10T07:51:43.191588Z"
    },
    "papermill": {
     "duration": 0.062698,
     "end_time": "2024-07-10T07:51:43.191843",
     "exception": false,
     "start_time": "2024-07-10T07:51:43.129145",
     "status": "completed"
    },
    "tags": []
   },
   "outputs": [],
   "source": [
    "# Environment variables\n",
    "table = \"agent\"\n",
    "database_name = \"qcompany\"\n",
    "schema = f\"{table}_schema\"\n",
    "dim_name = f\"{table}_dim\"\n",
    "dim_key = f\"{table}_key\"\n",
    "dim_id = f\"{table}_id\"\n",
    "stagging_dim_name = f\"{table}_dim_stagging\"\n",
    "current_dim_df_name = f\"current_{table}_df\" #df from hive\n",
    "final_df_to_write = f\"final_{table}_df\"\n",
    "\n",
    "# read from some sources\n",
    "df1_path = f'{silver_layer_directory_path}/salesAgents_cleaned.csv'\n",
    "df2_path = f'{silver_layer_directory_path}/salesAgents_cleaned.csv'"
   ]
  },
  {
   "cell_type": "code",
   "execution_count": 10,
   "id": "20f7c889",
   "metadata": {
    "execution": {
     "iopub.execute_input": "2024-07-10T07:51:43.309989Z",
     "iopub.status.busy": "2024-07-10T07:51:43.308636Z",
     "iopub.status.idle": "2024-07-10T07:51:46.932326Z",
     "shell.execute_reply": "2024-07-10T07:51:46.931644Z"
    },
    "papermill": {
     "duration": 3.688315,
     "end_time": "2024-07-10T07:51:46.932457",
     "exception": false,
     "start_time": "2024-07-10T07:51:43.244142",
     "status": "completed"
    },
    "tags": []
   },
   "outputs": [
    {
     "name": "stdout",
     "output_type": "stream",
     "text": [
      "+---------+--------+------------------+---------------+\n",
      "|agent_key|agent_id|        agent_name|agent_hire_date|\n",
      "+---------+--------+------------------+---------------+\n",
      "|        1|       1|          John Doe|     2020-06-03|\n",
      "|        2|       2|        Jane Smith|     2018-05-13|\n",
      "|        3|       3|   Michael Johnson|     2021-10-03|\n",
      "|        4|       4|       Emily Brown|     2020-10-25|\n",
      "|        5|       5|      David Wilson|     2021-04-08|\n",
      "|        6|       6|       Emma Taylor|     2019-03-28|\n",
      "|        7|       7|Christopher Miller|     2020-01-11|\n",
      "|        8|       8|      Olivia Davis|     2021-10-24|\n",
      "|        9|       9|   Daniel Martinez|     2018-10-08|\n",
      "|       10|      10|      Sophia Moore|     2019-05-25|\n",
      "|       11|      11|         john wick|     2018-07-10|\n",
      "+---------+--------+------------------+---------------+\n",
      "\n"
     ]
    },
    {
     "name": "stdout",
     "output_type": "stream",
     "text": [
      "done, with upsertion 😎👌\n"
     ]
    }
   ],
   "source": [
    "# defining the schema \n",
    "schema = StructType([\n",
    "    StructField(\"agent_id\", IntegerType(), nullable=False),\n",
    "    StructField(\"agent_name\", StringType(), nullable=False),\n",
    "    StructField(\"agent_hire_date\", DateType(), nullable=False)\n",
    "])\n",
    "\n",
    "# reading df1\n",
    "df1 = spark.read.csv(df1_path, header=True, schema=schema)\n",
    "\n",
    "# reading df2\n",
    "df2 = spark.read.csv(df2_path, header=True, schema=schema)\n",
    "\n",
    "if table_exists(dim_name, database_name):\n",
    "    current_dim_df_name = get_table_data(database_name, dim_name)\n",
    "    final_df_to_write = upsert_dfs(current_dim_df_name, df2, dim_id, dim_key)\n",
    "    overwriteCurrentTable(final_df_to_write, dim_name, stagging_dim_name, database_name)    \n",
    "    print(\"done, with upsertion 😎👌\")\n",
    "    \n",
    "else:\n",
    "    # add surrogate key\n",
    "    df1 = add_surrogate_key(df1, dim_key, dim_id)\n",
    "    # branch = add_surrogate_key(branch, \"branch_key\", \"branch_id\")\n",
    "\n",
    "\n",
    "    # reorder the columns to match the desired schema\n",
    "    df1 = df1.select(f\"{dim_key}\", *[col for col in df1.columns if col != f\"{dim_key}\"])\n",
    "    write_df_to_table(database_name, dim_name, df1)\n",
    "\n",
    "    print(\"done 😎👌\")"
   ]
  },
  {
   "cell_type": "markdown",
   "id": "81c34daa",
   "metadata": {
    "papermill": {
     "duration": 0.059711,
     "end_time": "2024-07-10T07:51:47.049679",
     "exception": false,
     "start_time": "2024-07-10T07:51:46.989968",
     "status": "completed"
    },
    "tags": []
   },
   "source": [
    "## Transactions File\n",
    "---\n",
    "Now this will be a little bit different, as one file has many dimensions\n",
    "so first will need to define the expected file schema to read on, after pulling the file to a df will extract the relevant data to do the trasnformation on and save later to hive"
   ]
  },
  {
   "cell_type": "markdown",
   "id": "d439e670",
   "metadata": {
    "papermill": {
     "duration": 0.04681,
     "end_time": "2024-07-10T07:51:47.150883",
     "exception": false,
     "start_time": "2024-07-10T07:51:47.104073",
     "status": "completed"
    },
    "tags": []
   },
   "source": [
    "The Main df:"
   ]
  },
  {
   "cell_type": "code",
   "execution_count": 11,
   "id": "d800046f",
   "metadata": {
    "execution": {
     "iopub.execute_input": "2024-07-10T07:51:47.262091Z",
     "iopub.status.busy": "2024-07-10T07:51:47.260781Z",
     "iopub.status.idle": "2024-07-10T07:51:47.265502Z",
     "shell.execute_reply": "2024-07-10T07:51:47.266023Z"
    },
    "papermill": {
     "duration": 0.067675,
     "end_time": "2024-07-10T07:51:47.266197",
     "exception": false,
     "start_time": "2024-07-10T07:51:47.198522",
     "status": "completed"
    },
    "tags": []
   },
   "outputs": [],
   "source": [
    "# defining the expected schema\n",
    "main_transactions_schema = StructType([\n",
    "    StructField(\"transaction_date\", DateType(), nullable=False),\n",
    "    StructField(\"transaction_id\", StringType(), nullable=False),\n",
    "    StructField(\"customer_id\", IntegerType(), nullable=False),\n",
    "    StructField(\"customer_fname\", StringType(), nullable=False),\n",
    "    StructField(\"customer_lname\", StringType(), nullable=False),\n",
    "    StructField(\"customer_email\", StringType(), nullable=False),\n",
    "    StructField(\"agent_id\", IntegerType(), nullable=False),\n",
    "    StructField(\"branch_id\", IntegerType(), nullable=False),\n",
    "    StructField(\"product_id\", IntegerType(), nullable=False),\n",
    "    StructField(\"product_name\", StringType(), nullable=False),\n",
    "    StructField(\"product_category\", StringType(), nullable=False),\n",
    "    StructField(\"offer_1\", BooleanType(), nullable=True),\n",
    "    StructField(\"offer_2\", BooleanType(), nullable=True),\n",
    "    StructField(\"offer_3\", BooleanType(), nullable=True),\n",
    "    StructField(\"offer_4\", BooleanType(), nullable=True),\n",
    "    StructField(\"offer_5\", BooleanType(), nullable=True),\n",
    "    StructField(\"units\", IntegerType(), nullable=False),\n",
    "    StructField(\"unit_price\", FloatType(), nullable=False),\n",
    "    StructField(\"is_online\", StringType(), nullable=False),\n",
    "    StructField(\"payment_method\", StringType(), nullable=False),\n",
    "    StructField(\"shipping_address\", StringType(), nullable=True)\n",
    "])"
   ]
  },
  {
   "cell_type": "code",
   "execution_count": 12,
   "id": "c24eafef",
   "metadata": {
    "execution": {
     "iopub.execute_input": "2024-07-10T07:51:47.370063Z",
     "iopub.status.busy": "2024-07-10T07:51:47.369408Z",
     "iopub.status.idle": "2024-07-10T07:51:47.576827Z",
     "shell.execute_reply": "2024-07-10T07:51:47.577729Z"
    },
    "papermill": {
     "duration": 0.260588,
     "end_time": "2024-07-10T07:51:47.577953",
     "exception": false,
     "start_time": "2024-07-10T07:51:47.317365",
     "status": "completed"
    },
    "tags": []
   },
   "outputs": [
    {
     "name": "stdout",
     "output_type": "stream",
     "text": [
      "+----------------+----------------+-----------+--------------+--------------+--------------------+--------+---------+----------+------------+----------------+-------+-------+-------+-------+-------+-----+----------+---------+--------------+----------------+\n",
      "|transaction_date|  transaction_id|customer_id|customer_fname|customer_lname|      customer_email|agent_id|branch_id|product_id|product_name|product_category|offer_1|offer_2|offer_3|offer_4|offer_5|units|unit_price|is_online|payment_method|shipping_address|\n",
      "+----------------+----------------+-----------+--------------+--------------+--------------------+--------+---------+----------+------------+----------------+-------+-------+-------+-------+-------+-----+----------+---------+--------------+----------------+\n",
      "|      2023-05-20|trx-152546429674|      85469|     Alexander|         Brown|alexander.brown@g...|       1|        2|        22|Coffee Maker|      Appliances|   null|   null|   null|   null|   null|   10|     79.99|       no|          Cash|            null|\n",
      "|      2022-10-25|trx-291375327542|      85512|       William|         Brown|william.brown@gma...|       3|        1|        24|     Blender|      Appliances|   null|   null|   null|   true|   null|    5|     49.99|       no|          Cash|            null|\n",
      "+----------------+----------------+-----------+--------------+--------------+--------------------+--------+---------+----------+------------+----------------+-------+-------+-------+-------+-------+-----+----------+---------+--------------+----------------+\n",
      "only showing top 2 rows\n",
      "\n"
     ]
    }
   ],
   "source": [
    "# read the file\n",
    "main_transactions = spark.read.csv(f'{silver_layer_directory_path}/transactions_cleaned.csv', header=True, schema=main_transactions_schema)\n",
    "main_transactions4 = spark.read.csv(f'{silver_layer_directory_path}/transactions_cleaned.csv', header=True, schema=main_transactions_schema)\n",
    "main_transactions.show(2)\n"
   ]
  },
  {
   "cell_type": "markdown",
   "id": "59e679d9",
   "metadata": {
    "papermill": {
     "duration": 0.055481,
     "end_time": "2024-07-10T07:51:47.690739",
     "exception": false,
     "start_time": "2024-07-10T07:51:47.635258",
     "status": "completed"
    },
    "tags": []
   },
   "source": [
    "#### Customer Dimension"
   ]
  },
  {
   "cell_type": "code",
   "execution_count": 13,
   "id": "621a0e6a",
   "metadata": {
    "execution": {
     "iopub.execute_input": "2024-07-10T07:51:47.814377Z",
     "iopub.status.busy": "2024-07-10T07:51:47.813568Z",
     "iopub.status.idle": "2024-07-10T07:51:47.856980Z",
     "shell.execute_reply": "2024-07-10T07:51:47.857441Z"
    },
    "papermill": {
     "duration": 0.110931,
     "end_time": "2024-07-10T07:51:47.857576",
     "exception": false,
     "start_time": "2024-07-10T07:51:47.746645",
     "status": "completed"
    },
    "tags": []
   },
   "outputs": [],
   "source": [
    "# defining the schema \n",
    "customer_schema = StructType([\n",
    "    StructField(\"customer_id\", IntegerType(), nullable=False),\n",
    "    StructField(\"customer_fname\", StringType(), nullable=False),\n",
    "    StructField(\"customer_lname\", StringType(), nullable=False),\n",
    "    StructField(\"customer_email\", StringType(), nullable=False)\n",
    "])\n",
    "\n",
    "customer = main_transactions.select(\"customer_id\", \"customer_fname\", \"customer_lname\", \"customer_email\").distinct()\n",
    "customer4 = main_transactions4.select(\"customer_id\", \"customer_fname\", \"customer_lname\", \"customer_email\").distinct()\n",
    "# customer.show()\n"
   ]
  },
  {
   "cell_type": "code",
   "execution_count": 14,
   "id": "0980faef",
   "metadata": {
    "execution": {
     "iopub.execute_input": "2024-07-10T07:51:47.960634Z",
     "iopub.status.busy": "2024-07-10T07:51:47.959873Z",
     "iopub.status.idle": "2024-07-10T07:51:47.963631Z",
     "shell.execute_reply": "2024-07-10T07:51:47.963073Z"
    },
    "papermill": {
     "duration": 0.057748,
     "end_time": "2024-07-10T07:51:47.963839",
     "exception": false,
     "start_time": "2024-07-10T07:51:47.906091",
     "status": "completed"
    },
    "tags": []
   },
   "outputs": [],
   "source": [
    "# Environment variables\n",
    "table = \"customer\"\n",
    "database_name = \"qcompany\"\n",
    "schema = f\"{table}_schema\"\n",
    "dim_name = f\"{table}_dim\"\n",
    "dim_key = f\"{table}_key\"\n",
    "dim_id = f\"{table}_id\"\n",
    "stagging_dim_name = f\"{table}_dim_stagging\"\n",
    "current_dim_df_name = f\"current_{table}_df\" #df from hive\n",
    "final_df_to_write = f\"final_{table}_df\"\n",
    "df1 = customer\n",
    "df2 = customer4"
   ]
  },
  {
   "cell_type": "code",
   "execution_count": 15,
   "id": "3cfd029f",
   "metadata": {
    "execution": {
     "iopub.execute_input": "2024-07-10T07:51:48.061944Z",
     "iopub.status.busy": "2024-07-10T07:51:48.060935Z",
     "iopub.status.idle": "2024-07-10T07:52:02.636562Z",
     "shell.execute_reply": "2024-07-10T07:52:02.636985Z"
    },
    "papermill": {
     "duration": 14.630317,
     "end_time": "2024-07-10T07:52:02.637117",
     "exception": false,
     "start_time": "2024-07-10T07:51:48.006800",
     "status": "completed"
    },
    "tags": []
   },
   "outputs": [
    {
     "name": "stdout",
     "output_type": "stream",
     "text": [
      "+------------+-----------+--------------+--------------+--------------------+\n",
      "|customer_key|customer_id|customer_fname|customer_lname|      customer_email|\n",
      "+------------+-----------+--------------+--------------+--------------------+\n",
      "|           1|      85462|        Olivia|         Brown|olivia.brown@yaho...|\n",
      "|           2|      85463|           Mia|      Williams|mia.williams@gmai...|\n",
      "|           3|      85464|          Emma|      Williams|emma.williams@out...|\n",
      "|           4|      85465|         James|        Taylor|james.taylor@gmai...|\n",
      "|           5|      85466|       Michael|         Brown|michael.brown@yah...|\n",
      "|           6|      85467|     Alexander|         Jones|alexander.jones@y...|\n",
      "|           7|      85468|       William|         Davis|william.davis@yah...|\n",
      "|           8|      85469|     Alexander|         Brown|alexander.brown@g...|\n",
      "|           9|      85470|           Ava|        Wilson|ava.wilson@hotmai...|\n",
      "|          10|      85471|           Ava|      Williams|ava.williams@outl...|\n",
      "|          11|      85472|           Ava|         Smith|ava.smith@outlook...|\n",
      "|          12|      85473|        Sophia|        Miller|sophia.miller@yah...|\n",
      "|          13|      85474|          Emma|       Johnson|emma.johnson@gmai...|\n",
      "|          14|      85475|         James|       Johnson|james.johnson@gma...|\n",
      "|          15|      85476|         James|         Moore|james.moore@yahoo...|\n",
      "|          16|      85477|     Alexander|      Williams|alexander.william...|\n",
      "|          17|      85478|           Mia|         Davis| mia.davis@gmail.com|\n",
      "|          18|      85479|         James|         Jones|james.jones@outlo...|\n",
      "|          19|      85480|     Alexander|      Williams|alexander.william...|\n",
      "|          20|      85481|       Michael|         Moore|michael.moore@out...|\n",
      "+------------+-----------+--------------+--------------+--------------------+\n",
      "only showing top 20 rows\n",
      "\n"
     ]
    },
    {
     "name": "stdout",
     "output_type": "stream",
     "text": [
      "done, with upsertion 😎👌\n"
     ]
    }
   ],
   "source": [
    "if table_exists(dim_name, database_name):\n",
    "    current_dim_df_name = get_table_data(database_name, dim_name)\n",
    "    final_df_to_write = upsert_dfs(current_dim_df_name, df2, dim_id, dim_key)\n",
    "    overwriteCurrentTable(final_df_to_write, dim_name, stagging_dim_name, database_name)    \n",
    "    print(\"done, with upsertion 😎👌\")\n",
    "    \n",
    "else:\n",
    "    # add surrogate key\n",
    "    df1 = add_surrogate_key(df1, dim_key, dim_id)\n",
    "    # branch = add_surrogate_key(branch, \"branch_key\", \"branch_id\")\n",
    "\n",
    "\n",
    "    # reorder the columns to match the desired schema\n",
    "    df1 = df1.select(f\"{dim_key}\", *[col for col in df1.columns if col != f\"{dim_key}\"])\n",
    "    write_df_to_table(database_name, dim_name, df1)\n",
    "\n",
    "    print(\"done 😎👌\")"
   ]
  },
  {
   "cell_type": "markdown",
   "id": "9580f7b3",
   "metadata": {
    "papermill": {
     "duration": 0.043205,
     "end_time": "2024-07-10T07:52:02.726517",
     "exception": false,
     "start_time": "2024-07-10T07:52:02.683312",
     "status": "completed"
    },
    "tags": []
   },
   "source": [
    "###"
   ]
  },
  {
   "cell_type": "markdown",
   "id": "8f6b6427",
   "metadata": {
    "papermill": {
     "duration": 0.043718,
     "end_time": "2024-07-10T07:52:02.813452",
     "exception": false,
     "start_time": "2024-07-10T07:52:02.769734",
     "status": "completed"
    },
    "tags": []
   },
   "source": [
    "#### Product Dimension"
   ]
  },
  {
   "cell_type": "code",
   "execution_count": 16,
   "id": "f18b4c4f",
   "metadata": {
    "execution": {
     "iopub.execute_input": "2024-07-10T07:52:02.909581Z",
     "iopub.status.busy": "2024-07-10T07:52:02.908829Z",
     "iopub.status.idle": "2024-07-10T07:52:04.690181Z",
     "shell.execute_reply": "2024-07-10T07:52:04.687342Z"
    },
    "papermill": {
     "duration": 1.833113,
     "end_time": "2024-07-10T07:52:04.690470",
     "exception": false,
     "start_time": "2024-07-10T07:52:02.857357",
     "status": "completed"
    },
    "tags": []
   },
   "outputs": [
    {
     "name": "stdout",
     "output_type": "stream",
     "text": [
      "+----------+-----------------+----------+----------------+\n",
      "|product_id|     product_name|unit_price|product_category|\n",
      "+----------+-----------------+----------+----------------+\n",
      "|         1|           Laptop|    999.99|     Electronics|\n",
      "|         2|       Smartphone|    699.99|     Electronics|\n",
      "|         3|           Tablet|    299.99|     Electronics|\n",
      "|         4|       Headphones|     99.99|     Electronics|\n",
      "|         5|          T-Shirt|     19.99|        Clothing|\n",
      "|         6|            Jeans|     49.99|        Clothing|\n",
      "|         7|            Dress|     59.99|        Clothing|\n",
      "|         8|         Sneakers|     79.99|        Footwear|\n",
      "|         9|            Boots|    129.99|        Footwear|\n",
      "|        10|          Sandals|     39.99|        Footwear|\n",
      "|        11|               TV|    899.99|     Electronics|\n",
      "|        12|          Monitor|    299.99|     Electronics|\n",
      "|        13|          Printer|    149.99|     Electronics|\n",
      "|        14|           Camera|    399.99|     Electronics|\n",
      "|        15|           Hoodie|     29.99|        Clothing|\n",
      "|        16|            Skirt|     39.99|        Clothing|\n",
      "|        17|           Blouse|     29.99|        Clothing|\n",
      "|        18|            Boots|    149.99|        Footwear|\n",
      "|        19|          Sandals|     29.99|        Footwear|\n",
      "|        20|            Heels|     59.99|        Footwear|\n",
      "|        21|        Microwave|    129.99|      Appliances|\n",
      "|        22|     Coffee Maker|     79.99|      Appliances|\n",
      "|        23|          Toaster|     39.99|      Appliances|\n",
      "|        24|          Blender|     49.99|      Appliances|\n",
      "|        25|  Washing Machine|    499.99|      Appliances|\n",
      "|        26|   Vacuum Cleaner|    199.99|      Appliances|\n",
      "|        27|             Iron|     29.99|      Appliances|\n",
      "|        28|       Hair Dryer|     19.99|      Appliances|\n",
      "|        29|Hair Straightener|     39.99|      Appliances|\n",
      "|        30|  Electric Kettle|     24.99|      Appliances|\n",
      "+----------+-----------------+----------+----------------+\n",
      "\n"
     ]
    },
    {
     "data": {
      "text/plain": [
       "30"
      ]
     },
     "execution_count": 16,
     "metadata": {},
     "output_type": "execute_result"
    }
   ],
   "source": [
    "# defining the schema \n",
    "product_schema = StructType([\n",
    "    StructField(\"product_id\", IntegerType(), nullable=False),\n",
    "    StructField(\"product_name\", StringType(), nullable=False),\n",
    "    StructField(\"product_price\", DoubleType(), nullable=False),\n",
    "    StructField(\"product_category\", StringType(), nullable=False)\n",
    "])\n",
    "\n",
    "product = main_transactions.select(\"product_id\", \"product_name\", \"unit_price\", \"product_category\").distinct().orderBy(\"product_id\")\n",
    "product4 = main_transactions4.select(\"product_id\", \"product_name\", \"unit_price\", \"product_category\").distinct().orderBy(\"product_id\")\n",
    "product4.show(30)\n",
    "product4.count()\n"
   ]
  },
  {
   "cell_type": "code",
   "execution_count": 17,
   "id": "bfa7e282",
   "metadata": {
    "execution": {
     "iopub.execute_input": "2024-07-10T07:52:04.874302Z",
     "iopub.status.busy": "2024-07-10T07:52:04.873084Z",
     "iopub.status.idle": "2024-07-10T07:52:04.877715Z",
     "shell.execute_reply": "2024-07-10T07:52:04.878781Z"
    },
    "papermill": {
     "duration": 0.092305,
     "end_time": "2024-07-10T07:52:04.879061",
     "exception": false,
     "start_time": "2024-07-10T07:52:04.786756",
     "status": "completed"
    },
    "tags": []
   },
   "outputs": [],
   "source": [
    "# Environment variables\n",
    "table = \"product\"\n",
    "database_name = \"qcompany\"\n",
    "schema = f\"{table}_schema\"\n",
    "dim_name = f\"{table}_dim\"\n",
    "dim_key = f\"{table}_key\"\n",
    "dim_id = f\"{table}_id\"\n",
    "stagging_dim_name = f\"{table}_dim_stagging\"\n",
    "current_dim_df_name = f\"current_{table}_df\" #df from hive\n",
    "final_df_to_write = f\"final_{table}_df\"\n",
    "df1 = product\n",
    "df2 = product4"
   ]
  },
  {
   "cell_type": "code",
   "execution_count": 18,
   "id": "ad45895f",
   "metadata": {
    "execution": {
     "iopub.execute_input": "2024-07-10T07:52:05.056221Z",
     "iopub.status.busy": "2024-07-10T07:52:05.054701Z",
     "iopub.status.idle": "2024-07-10T07:52:16.268566Z",
     "shell.execute_reply": "2024-07-10T07:52:16.269095Z"
    },
    "papermill": {
     "duration": 11.318843,
     "end_time": "2024-07-10T07:52:16.269257",
     "exception": false,
     "start_time": "2024-07-10T07:52:04.950414",
     "status": "completed"
    },
    "tags": []
   },
   "outputs": [
    {
     "name": "stdout",
     "output_type": "stream",
     "text": [
      "+-----------+----------+------------+----------+----------------+\n",
      "|product_key|product_id|product_name|unit_price|product_category|\n",
      "+-----------+----------+------------+----------+----------------+\n",
      "|          1|         1|      Laptop|    999.99|     Electronics|\n",
      "|          2|         2|  Smartphone|    699.99|     Electronics|\n",
      "|          3|         3|      Tablet|    299.99|     Electronics|\n",
      "|          4|         4|  Headphones|     99.99|     Electronics|\n",
      "|          5|         5|     T-Shirt|     19.99|        Clothing|\n",
      "|          6|         6|       Jeans|     49.99|        Clothing|\n",
      "|          7|         7|       Dress|     59.99|        Clothing|\n",
      "|          8|         8|    Sneakers|     79.99|        Footwear|\n",
      "|          9|         9|       Boots|    129.99|        Footwear|\n",
      "|         10|        10|     Sandals|     39.99|        Footwear|\n",
      "|         11|        11|          TV|    899.99|     Electronics|\n",
      "|         12|        12|     Monitor|    299.99|     Electronics|\n",
      "|         13|        13|     Printer|    149.99|     Electronics|\n",
      "|         14|        14|      Camera|    399.99|     Electronics|\n",
      "|         15|        15|      Hoodie|     29.99|        Clothing|\n",
      "|         16|        16|       Skirt|     39.99|        Clothing|\n",
      "|         17|        17|      Blouse|     29.99|        Clothing|\n",
      "|         18|        18|       Boots|    149.99|        Footwear|\n",
      "|         19|        19|     Sandals|     29.99|        Footwear|\n",
      "|         20|        20|       Heels|     59.99|        Footwear|\n",
      "+-----------+----------+------------+----------+----------------+\n",
      "only showing top 20 rows\n",
      "\n"
     ]
    },
    {
     "name": "stdout",
     "output_type": "stream",
     "text": [
      "done, with upsertion 😎👌\n"
     ]
    }
   ],
   "source": [
    "if table_exists(dim_name, database_name):\n",
    "    current_dim_df_name = get_table_data(database_name, dim_name)\n",
    "    final_df_to_write = upsert_dfs(current_dim_df_name, df2, dim_id, dim_key)\n",
    "    overwriteCurrentTable(final_df_to_write, dim_name, stagging_dim_name, database_name)    \n",
    "    print(\"done, with upsertion 😎👌\")\n",
    "    \n",
    "else:\n",
    "    # add surrogate key\n",
    "    df1 = add_surrogate_key(df1, dim_key, dim_id)\n",
    "    # branch = add_surrogate_key(branch, \"branch_key\", \"branch_id\")\n",
    "\n",
    "\n",
    "    # reorder the columns to match the desired schema\n",
    "    df1 = df1.select(f\"{dim_key}\", *[col for col in df1.columns if col != f\"{dim_key}\"])\n",
    "    write_df_to_table(database_name, dim_name, df1)\n",
    "\n",
    "    print(\"done 😎👌\")"
   ]
  },
  {
   "cell_type": "markdown",
   "id": "d78f6729",
   "metadata": {
    "papermill": {
     "duration": 0.082203,
     "end_time": "2024-07-10T07:52:16.431089",
     "exception": false,
     "start_time": "2024-07-10T07:52:16.348886",
     "status": "completed"
    },
    "tags": []
   },
   "source": [
    "#### Transactions Fact"
   ]
  },
  {
   "cell_type": "code",
   "execution_count": 19,
   "id": "9e143d54",
   "metadata": {
    "execution": {
     "iopub.execute_input": "2024-07-10T07:52:16.576668Z",
     "iopub.status.busy": "2024-07-10T07:52:16.575397Z",
     "iopub.status.idle": "2024-07-10T07:52:16.644928Z",
     "shell.execute_reply": "2024-07-10T07:52:16.643955Z"
    },
    "papermill": {
     "duration": 0.128373,
     "end_time": "2024-07-10T07:52:16.645122",
     "exception": false,
     "start_time": "2024-07-10T07:52:16.516749",
     "status": "completed"
    },
    "tags": []
   },
   "outputs": [
    {
     "name": "stdout",
     "output_type": "stream",
     "text": [
      "+----------------+----------------+-----------+--------------+--------------+--------------------+--------+---------+----------+------------+----------------+-------+-------+-------+-------+-------+-----+----------+---------+--------------+----------------+\n",
      "|transaction_date|  transaction_id|customer_id|customer_fname|customer_lname|      customer_email|agent_id|branch_id|product_id|product_name|product_category|offer_1|offer_2|offer_3|offer_4|offer_5|units|unit_price|is_online|payment_method|shipping_address|\n",
      "+----------------+----------------+-----------+--------------+--------------+--------------------+--------+---------+----------+------------+----------------+-------+-------+-------+-------+-------+-----+----------+---------+--------------+----------------+\n",
      "|      2023-05-20|trx-152546429674|      85469|     Alexander|         Brown|alexander.brown@g...|       1|        2|        22|Coffee Maker|      Appliances|   null|   null|   null|   null|   null|   10|     79.99|       no|          Cash|            null|\n",
      "|      2022-10-25|trx-291375327542|      85512|       William|         Brown|william.brown@gma...|       3|        1|        24|     Blender|      Appliances|   null|   null|   null|   true|   null|    5|     49.99|       no|          Cash|            null|\n",
      "+----------------+----------------+-----------+--------------+--------------+--------------------+--------+---------+----------+------------+----------------+-------+-------+-------+-------+-------+-----+----------+---------+--------------+----------------+\n",
      "only showing top 2 rows\n",
      "\n"
     ]
    }
   ],
   "source": [
    "main_transactions.show(2)"
   ]
  },
  {
   "cell_type": "markdown",
   "id": "6548cac6",
   "metadata": {
    "papermill": {
     "duration": 0.050425,
     "end_time": "2024-07-10T07:52:16.750192",
     "exception": false,
     "start_time": "2024-07-10T07:52:16.699767",
     "status": "completed"
    },
    "tags": []
   },
   "source": [
    "#### Feature Engineering \n",
    "---"
   ]
  },
  {
   "cell_type": "code",
   "execution_count": 20,
   "id": "be67b981",
   "metadata": {
    "execution": {
     "iopub.execute_input": "2024-07-10T07:52:16.854720Z",
     "iopub.status.busy": "2024-07-10T07:52:16.853995Z",
     "iopub.status.idle": "2024-07-10T07:52:16.866788Z",
     "shell.execute_reply": "2024-07-10T07:52:16.866288Z"
    },
    "papermill": {
     "duration": 0.06558,
     "end_time": "2024-07-10T07:52:16.866906",
     "exception": false,
     "start_time": "2024-07-10T07:52:16.801326",
     "status": "completed"
    },
    "tags": []
   },
   "outputs": [],
   "source": [
    "main_transactions = main_transactions.drop(\"customer_fname\", \"customer_lname\", \"customer_email\", \"product_name\", \"product_price\", \"product_category\")"
   ]
  },
  {
   "cell_type": "markdown",
   "id": "1071dde9",
   "metadata": {
    "papermill": {
     "duration": 0.046866,
     "end_time": "2024-07-10T07:52:16.963193",
     "exception": false,
     "start_time": "2024-07-10T07:52:16.916327",
     "status": "completed"
    },
    "tags": []
   },
   "source": [
    "#### Offers"
   ]
  },
  {
   "cell_type": "code",
   "execution_count": 21,
   "id": "32ec39fc",
   "metadata": {
    "execution": {
     "iopub.execute_input": "2024-07-10T07:52:17.065413Z",
     "iopub.status.busy": "2024-07-10T07:52:17.064636Z",
     "iopub.status.idle": "2024-07-10T07:52:17.157988Z",
     "shell.execute_reply": "2024-07-10T07:52:17.158430Z"
    },
    "papermill": {
     "duration": 0.147834,
     "end_time": "2024-07-10T07:52:17.158590",
     "exception": false,
     "start_time": "2024-07-10T07:52:17.010756",
     "status": "completed"
    },
    "tags": []
   },
   "outputs": [],
   "source": [
    "# adding the redeemed offer column\n",
    "main_transactions = main_transactions.withColumn(\"offer_redeemed\", \n",
    "                                                 sf.when(sf.col(\"offer_1\") == True, \"offer_1\")\\\n",
    "                                                .when(sf.col(\"offer_2\") == True, \"offer_2\")\\\n",
    "                                                .when(sf.col(\"offer_3\") == True, \"offer_3\")\\\n",
    "                                                .when(sf.col(\"offer_4\") == True, \"offer_4\")\\\n",
    "                                                .when(sf.col(\"offer_5\") == True, \"offer_5\")\\\n",
    "                                                .otherwise(\"NA\")\n",
    ")"
   ]
  },
  {
   "cell_type": "code",
   "execution_count": 22,
   "id": "98b2b344",
   "metadata": {
    "execution": {
     "iopub.execute_input": "2024-07-10T07:52:17.287134Z",
     "iopub.status.busy": "2024-07-10T07:52:17.286367Z",
     "iopub.status.idle": "2024-07-10T07:52:17.365805Z",
     "shell.execute_reply": "2024-07-10T07:52:17.365008Z"
    },
    "papermill": {
     "duration": 0.147172,
     "end_time": "2024-07-10T07:52:17.365992",
     "exception": false,
     "start_time": "2024-07-10T07:52:17.218820",
     "status": "completed"
    },
    "tags": []
   },
   "outputs": [],
   "source": [
    "\n",
    "# adding the offer percentage column\n",
    "main_transactions = main_transactions.withColumn(\"discount_pct\", \n",
    "                                                 sf.when(sf.col(\"offer_redeemed\") == \"offer_1\", 5)\\\n",
    "                                                 .when(sf.col(\"offer_redeemed\") == \"offer_2\", 10)\\\n",
    "                                                 .when(sf.col(\"offer_redeemed\") == \"offer_3\", 15)\\\n",
    "                                                 .when(sf.col(\"offer_redeemed\") == \"offer_4\", 20)\\\n",
    "                                                 .when(sf.col(\"offer_redeemed\") == \"offer_5\", 25)\\\n",
    "                                                .otherwise(0)\n",
    ")\n",
    "\n",
    "# main_transactions.show(5)"
   ]
  },
  {
   "cell_type": "code",
   "execution_count": 23,
   "id": "6c93365e",
   "metadata": {
    "execution": {
     "iopub.execute_input": "2024-07-10T07:52:17.583903Z",
     "iopub.status.busy": "2024-07-10T07:52:17.582576Z",
     "iopub.status.idle": "2024-07-10T07:52:17.592232Z",
     "shell.execute_reply": "2024-07-10T07:52:17.592809Z"
    },
    "papermill": {
     "duration": 0.099929,
     "end_time": "2024-07-10T07:52:17.592965",
     "exception": false,
     "start_time": "2024-07-10T07:52:17.493036",
     "status": "completed"
    },
    "tags": []
   },
   "outputs": [],
   "source": [
    "# dropping the offers(1..5) columns\n",
    "main_transactions = main_transactions.drop(\"offer_1\", \"offer_2\", \"offer_3\", \"offer_4\", \"offer_5\")\n"
   ]
  },
  {
   "cell_type": "markdown",
   "id": "52ee5c9d",
   "metadata": {
    "papermill": {
     "duration": 0.051618,
     "end_time": "2024-07-10T07:52:17.705329",
     "exception": false,
     "start_time": "2024-07-10T07:52:17.653711",
     "status": "completed"
    },
    "tags": []
   },
   "source": [
    "#### Price"
   ]
  },
  {
   "cell_type": "code",
   "execution_count": 24,
   "id": "71a02bae",
   "metadata": {
    "execution": {
     "iopub.execute_input": "2024-07-10T07:52:17.809779Z",
     "iopub.status.busy": "2024-07-10T07:52:17.809071Z",
     "iopub.status.idle": "2024-07-10T07:52:17.827898Z",
     "shell.execute_reply": "2024-07-10T07:52:17.828366Z"
    },
    "papermill": {
     "duration": 0.072438,
     "end_time": "2024-07-10T07:52:17.828521",
     "exception": false,
     "start_time": "2024-07-10T07:52:17.756083",
     "status": "completed"
    },
    "tags": []
   },
   "outputs": [],
   "source": [
    "# adding the total price column\n",
    "main_transactions = main_transactions.withColumn(\"total_price\", sf.col(\"unit_price\") * sf.col(\"units\"))"
   ]
  },
  {
   "cell_type": "code",
   "execution_count": 25,
   "id": "c51cfd83",
   "metadata": {
    "execution": {
     "iopub.execute_input": "2024-07-10T07:52:17.928637Z",
     "iopub.status.busy": "2024-07-10T07:52:17.927718Z",
     "iopub.status.idle": "2024-07-10T07:52:17.965141Z",
     "shell.execute_reply": "2024-07-10T07:52:17.964585Z"
    },
    "papermill": {
     "duration": 0.088956,
     "end_time": "2024-07-10T07:52:17.965252",
     "exception": false,
     "start_time": "2024-07-10T07:52:17.876296",
     "status": "completed"
    },
    "tags": []
   },
   "outputs": [],
   "source": [
    "# adding the final price column\n",
    "main_transactions = main_transactions.withColumn(\"final_price\", sf.round(sf.col(\"total_price\") * (1 - sf.col(\"discount_pct\") / 100), 3))"
   ]
  },
  {
   "cell_type": "markdown",
   "id": "ec30feea",
   "metadata": {
    "papermill": {
     "duration": 0.047976,
     "end_time": "2024-07-10T07:52:18.066765",
     "exception": false,
     "start_time": "2024-07-10T07:52:18.018789",
     "status": "completed"
    },
    "tags": []
   },
   "source": [
    "Now, Separating the Transactions to online and offline"
   ]
  },
  {
   "cell_type": "code",
   "execution_count": 26,
   "id": "02d17f0b",
   "metadata": {
    "execution": {
     "iopub.execute_input": "2024-07-10T07:52:18.191768Z",
     "iopub.status.busy": "2024-07-10T07:52:18.190568Z",
     "iopub.status.idle": "2024-07-10T07:52:18.219668Z",
     "shell.execute_reply": "2024-07-10T07:52:18.217927Z"
    },
    "papermill": {
     "duration": 0.0961,
     "end_time": "2024-07-10T07:52:18.220461",
     "exception": false,
     "start_time": "2024-07-10T07:52:18.124361",
     "status": "completed"
    },
    "tags": []
   },
   "outputs": [],
   "source": [
    "online_transactions = main_transactions.filter(sf.col(\"is_online\") == \"yes\")\n",
    "offline_transactions = main_transactions.filter(sf.col(\"is_online\") == \"no\")"
   ]
  },
  {
   "cell_type": "code",
   "execution_count": 27,
   "id": "9116403e",
   "metadata": {
    "execution": {
     "iopub.execute_input": "2024-07-10T07:52:18.335795Z",
     "iopub.status.busy": "2024-07-10T07:52:18.334917Z",
     "iopub.status.idle": "2024-07-10T07:52:18.341618Z",
     "shell.execute_reply": "2024-07-10T07:52:18.340830Z"
    },
    "papermill": {
     "duration": 0.066923,
     "end_time": "2024-07-10T07:52:18.341913",
     "exception": false,
     "start_time": "2024-07-10T07:52:18.274990",
     "status": "completed"
    },
    "tags": []
   },
   "outputs": [],
   "source": [
    "offline_transactions = offline_transactions.drop(\"shipping_address\")\n",
    "# offline_transactions.show(2)"
   ]
  },
  {
   "cell_type": "code",
   "execution_count": 28,
   "id": "d7f6348c",
   "metadata": {
    "execution": {
     "iopub.execute_input": "2024-07-10T07:52:18.449814Z",
     "iopub.status.busy": "2024-07-10T07:52:18.449100Z",
     "iopub.status.idle": "2024-07-10T07:52:18.457025Z",
     "shell.execute_reply": "2024-07-10T07:52:18.457457Z"
    },
    "papermill": {
     "duration": 0.064312,
     "end_time": "2024-07-10T07:52:18.457618",
     "exception": false,
     "start_time": "2024-07-10T07:52:18.393306",
     "status": "completed"
    },
    "tags": []
   },
   "outputs": [],
   "source": [
    "online_transactions = online_transactions.drop(\"branch_id\", \"agent_id\")\n",
    "# online_transactions.show(2)"
   ]
  },
  {
   "cell_type": "markdown",
   "id": "c1209923",
   "metadata": {
    "papermill": {
     "duration": 0.047368,
     "end_time": "2024-07-10T07:52:18.565647",
     "exception": false,
     "start_time": "2024-07-10T07:52:18.518279",
     "status": "completed"
    },
    "tags": []
   },
   "source": [
    "#### Address"
   ]
  },
  {
   "cell_type": "code",
   "execution_count": 29,
   "id": "05294068",
   "metadata": {
    "execution": {
     "iopub.execute_input": "2024-07-10T07:52:18.720409Z",
     "iopub.status.busy": "2024-07-10T07:52:18.719608Z",
     "iopub.status.idle": "2024-07-10T07:52:18.790902Z",
     "shell.execute_reply": "2024-07-10T07:52:18.791411Z"
    },
    "papermill": {
     "duration": 0.134145,
     "end_time": "2024-07-10T07:52:18.791565",
     "exception": false,
     "start_time": "2024-07-10T07:52:18.657420",
     "status": "completed"
    },
    "tags": []
   },
   "outputs": [],
   "source": [
    "# # online_transactions = \n",
    "online_transactions = online_transactions.withColumn(\"address\", sf.split(online_transactions[\"shipping_address\"], \"/\").getItem(0))\n",
    "online_transactions = online_transactions.withColumn(\"shipping_city\", sf.split(online_transactions[\"shipping_address\"], \"/\").getItem(1))\n",
    "online_transactions = online_transactions.withColumn(\"shipping_state\", sf.split(online_transactions[\"shipping_address\"], \"/\").getItem(2))\n",
    "online_transactions = online_transactions.withColumn(\"shipping_postal_code\", sf.split(online_transactions[\"shipping_address\"], \"/\").getItem(3))\n",
    "# online_transactions.show()\n"
   ]
  },
  {
   "cell_type": "code",
   "execution_count": null,
   "id": "f5f32d9a",
   "metadata": {
    "papermill": {
     "duration": 0.057578,
     "end_time": "2024-07-10T07:52:18.904275",
     "exception": false,
     "start_time": "2024-07-10T07:52:18.846697",
     "status": "completed"
    },
    "tags": []
   },
   "outputs": [],
   "source": []
  },
  {
   "cell_type": "code",
   "execution_count": 30,
   "id": "25ab9ad7",
   "metadata": {
    "execution": {
     "iopub.execute_input": "2024-07-10T07:52:19.043008Z",
     "iopub.status.busy": "2024-07-10T07:52:19.042117Z",
     "iopub.status.idle": "2024-07-10T07:52:19.045724Z",
     "shell.execute_reply": "2024-07-10T07:52:19.046171Z"
    },
    "papermill": {
     "duration": 0.091352,
     "end_time": "2024-07-10T07:52:19.046314",
     "exception": false,
     "start_time": "2024-07-10T07:52:18.954962",
     "status": "completed"
    },
    "tags": []
   },
   "outputs": [],
   "source": [
    "# defining the schema \n",
    "final_transactions_schema = StructType([\n",
    "    StructField(\"transaction_date\", DateType(), nullable=False),\n",
    "    StructField(\"transaction_id\", IntegerType(), nullable=False),\n",
    "    StructField(\"customer_key\", IntegerType(), nullable=False),\n",
    "    StructField(\"product_key\", IntegerType(), nullable=False),\n",
    "    StructField(\"unit_price\", DoubleType(), nullable=False),\n",
    "    StructField(\"quantity\", IntegerType(), nullable=False),\n",
    "    StructField(\"Total_Price\", DoubleType(), nullable=False),\n",
    "    StructField(\"offer_redeemed\", IntegerType(), nullable=False),\n",
    "    StructField(\"discount_pct\", DoubleType(), nullable=False),\n",
    "    StructField(\"final_price\", DoubleType(), nullable=False),\n",
    "    StructField(\"payment_method\", DoubleType(), nullable=False),\n",
    "    StructField(\"branch_key\", IntegerType(), nullable=False),\n",
    "    StructField(\"agent_key\", IntegerType(), nullable=False)\n",
    "])"
   ]
  },
  {
   "cell_type": "code",
   "execution_count": 31,
   "id": "a64b88d4",
   "metadata": {
    "execution": {
     "iopub.execute_input": "2024-07-10T07:52:19.322445Z",
     "iopub.status.busy": "2024-07-10T07:52:19.321242Z",
     "iopub.status.idle": "2024-07-10T07:52:19.328687Z",
     "shell.execute_reply": "2024-07-10T07:52:19.327706Z"
    },
    "papermill": {
     "duration": 0.158802,
     "end_time": "2024-07-10T07:52:19.328968",
     "exception": false,
     "start_time": "2024-07-10T07:52:19.170166",
     "status": "completed"
    },
    "tags": []
   },
   "outputs": [
    {
     "name": "stdout",
     "output_type": "stream",
     "text": [
      "GG\n"
     ]
    }
   ],
   "source": [
    "print(\"GG\")"
   ]
  },
  {
   "cell_type": "code",
   "execution_count": 32,
   "id": "c9bdab9d",
   "metadata": {
    "execution": {
     "iopub.execute_input": "2024-07-10T07:52:19.446683Z",
     "iopub.status.busy": "2024-07-10T07:52:19.445303Z",
     "iopub.status.idle": "2024-07-10T07:52:20.101657Z",
     "shell.execute_reply": "2024-07-10T07:52:20.100055Z"
    },
    "papermill": {
     "duration": 0.71474,
     "end_time": "2024-07-10T07:52:20.101959",
     "exception": false,
     "start_time": "2024-07-10T07:52:19.387219",
     "status": "completed"
    },
    "tags": []
   },
   "outputs": [],
   "source": [
    "spark.stop()"
   ]
  }
 ],
 "metadata": {
  "kernelspec": {
   "display_name": "Pyspark 3",
   "language": "python",
   "name": "pyspark3"
  },
  "language_info": {
   "codemirror_mode": {
    "name": "ipython",
    "version": 3
   },
   "file_extension": ".py",
   "mimetype": "text/x-python",
   "name": "python",
   "nbconvert_exporter": "python",
   "pygments_lexer": "ipython3",
   "version": "3.6.9"
  },
  "papermill": {
   "default_parameters": {},
   "duration": 61.127203,
   "end_time": "2024-07-10T07:52:20.470316",
   "environment_variables": {},
   "exception": null,
   "input_path": "transformation-layer.ipynb",
   "output_path": "transformation-layer.ipynb",
   "parameters": {},
   "start_time": "2024-07-10T07:51:19.343113",
   "version": "2.3.4"
  }
 },
 "nbformat": 4,
 "nbformat_minor": 5
}